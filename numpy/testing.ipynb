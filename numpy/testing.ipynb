{
 "cells": [
  {
   "cell_type": "markdown",
   "id": "260404b8",
   "metadata": {},
   "source": [
    "1. Sales Data Analysis"
   ]
  },
  {
   "cell_type": "code",
   "execution_count": 122,
   "id": "ab5d1089",
   "metadata": {},
   "outputs": [
    {
     "data": {
      "text/plain": [
       "array([['1001', 'C001', 'Alice Johnson', 'Consumer', 'East',\n",
       "        '2025-08-01', 'Furniture', '1200.5', '2', '0.1', '300.12',\n",
       "        'William Clark'],\n",
       "       ['1002', 'C002', 'Bob Smith', 'Corporate', 'West', '2025-08-03',\n",
       "        'Office Supplies', '450.75', '5', '0.05', '90.15',\n",
       "        'Olivia Martinez'],\n",
       "       ['1003', 'C003', 'Carol Lee', 'Home Office', 'Central',\n",
       "        '2025-08-05', 'Technology', '890.0', '1', '0.2', '150.5',\n",
       "        'James Wilson'],\n",
       "       ['1004', 'C004', 'David Kim', 'Consumer', 'South', '2025-08-07',\n",
       "        'Furniture', '670.8', '3', '0.15', '120.3', 'Olivia Martinez'],\n",
       "       ['1005', 'C005', 'Emma Davis', 'Corporate', 'East', '2025-08-09',\n",
       "        'Office Supplies', '310.25', '4', '0.0', '70.4', 'William Clark'],\n",
       "       ['1006', 'C006', 'Frank Wilson', 'Consumer', 'Central',\n",
       "        '2025-08-11', 'Technology', '1500.0', '2', '0.25', '250.0',\n",
       "        'James Wilson'],\n",
       "       ['1007', 'C007', 'Grace Chen', 'Home Office', 'West',\n",
       "        '2025-08-13', 'Furniture', '920.45', '1', '0.05', '200.1',\n",
       "        'Olivia Martinez'],\n",
       "       ['1008', 'C008', 'Henry Patel', 'Consumer', 'East', '2025-08-15',\n",
       "        'Office Supplies', '540.6', '6', '0.1', '130.5', 'William Clark'],\n",
       "       ['1009', 'C009', 'Irene Lopez', 'Corporate', 'South',\n",
       "        '2025-08-17', 'Technology', '720.0', '3', '0.15', '180.0',\n",
       "        'William Clark'],\n",
       "       ['1010', 'C010', 'Jack Brown', 'Consumer', 'Central',\n",
       "        '2025-08-19', 'Furniture', '1100.8', '4', '0.2', '250.0',\n",
       "        'Olivia Martinez']], dtype='<U32')"
      ]
     },
     "execution_count": 122,
     "metadata": {},
     "output_type": "execute_result"
    }
   ],
   "source": [
    "import numpy as np\n",
    "# OrderID\tCustomerID\tCustomerName\tSegment\tRegion\tOrderDate\tProductCategory\tSalesAmount\tQuantity\tDiscount\tProfit salesRep\n",
    "sales_data_np = np.array([\n",
    "    [1001, 'C001', 'Alice Johnson', 'Consumer', 'East', '2025-08-01', 'Furniture', 1200.50, 2, 0.10, 300.12, 'William Clark'],\n",
    "    [1002, 'C002', 'Bob Smith', 'Corporate', 'West', '2025-08-03', 'Office Supplies', 450.75, 5, 0.05, 90.15, 'Olivia Martinez'],\n",
    "    [1003, 'C003', 'Carol Lee', 'Home Office', 'Central', '2025-08-05', 'Technology', 890.00, 1, 0.20, 150.50, 'James Wilson'],\n",
    "    [1004, 'C004', 'David Kim', 'Consumer', 'South', '2025-08-07', 'Furniture', 670.80, 3, 0.15, 120.30, 'Olivia Martinez'],\n",
    "    [1005, 'C005', 'Emma Davis', 'Corporate', 'East', '2025-08-09', 'Office Supplies', 310.25, 4, 0.00, 70.40, 'William Clark'],\n",
    "    [1006, 'C006', 'Frank Wilson', 'Consumer', 'Central', '2025-08-11', 'Technology', 1500.00, 2, 0.25, 250.00, 'James Wilson'],\n",
    "    [1007, 'C007', 'Grace Chen', 'Home Office', 'West', '2025-08-13', 'Furniture', 920.45, 1, 0.05, 200.10, 'Olivia Martinez'],\n",
    "    [1008, 'C008', 'Henry Patel', 'Consumer', 'East', '2025-08-15', 'Office Supplies', 540.60, 6, 0.10, 130.50, 'William Clark'],\n",
    "    [1009, 'C009', 'Irene Lopez', 'Corporate', 'South', '2025-08-17', 'Technology', 720.00, 3, 0.15, 180.00, 'William Clark'],\n",
    "    [1010, 'C010', 'Jack Brown', 'Consumer', 'Central', '2025-08-19', 'Furniture', 1100.80, 4, 0.20, 250.00, 'Olivia Martinez']\n",
    "])\n",
    "sales_data_np"
   ]
  },
  {
   "cell_type": "code",
   "execution_count": 123,
   "id": "7b975226",
   "metadata": {},
   "outputs": [
    {
     "name": "stdout",
     "output_type": "stream",
     "text": [
      "Consumer   5\n",
      "Corporate   3\n",
      "Home Office   2\n"
     ]
    }
   ],
   "source": [
    "cat = np.unique(sales_data_np[:,3])\n",
    "for i in cat:\n",
    "    data = sales_data_np[sales_data_np[:,3]==i]\n",
    "    sales = data[:-2]\n",
    "    print(i,' ',len(data))"
   ]
  },
  {
   "cell_type": "code",
   "execution_count": 124,
   "id": "ad9dfbc4",
   "metadata": {},
   "outputs": [
    {
     "name": "stdout",
     "output_type": "stream",
     "text": [
      "James Wilson   400.5\n",
      "Olivia Martinez   660.55\n",
      "William Clark   681.02\n"
     ]
    }
   ],
   "source": [
    "rep = np.unique(sales_data_np[:,-1])\n",
    "for i in rep:\n",
    "    data = sales_data_np[sales_data_np[:,-1]==i]\n",
    "    sales = np.sum(data[:,-2].astype(float))\n",
    "    print(i,' ',sales)"
   ]
  },
  {
   "cell_type": "code",
   "execution_count": 125,
   "id": "bef5999a",
   "metadata": {},
   "outputs": [
    {
     "name": "stdout",
     "output_type": "stream",
     "text": [
      "Central   1163.6000000000001\n",
      "East   683.7833333333333\n",
      "South   695.4\n",
      "West   685.6\n"
     ]
    }
   ],
   "source": [
    "reg = np.unique(sales_data_np[:,4])\n",
    "# reg\n",
    "for i in reg:\n",
    "    data = sales_data_np[sales_data_np[:,4]==i]\n",
    "    avg = np.mean(data[:,-5].astype(float))\n",
    "    print(i,' ',avg)"
   ]
  },
  {
   "cell_type": "markdown",
   "id": "af8877f0",
   "metadata": {},
   "source": [
    "2. Employee Data Analysis"
   ]
  },
  {
   "cell_type": "code",
   "execution_count": 126,
   "id": "fd2eb7fb",
   "metadata": {},
   "outputs": [],
   "source": [
    "import numpy as np\n",
    "# EmployeeID\tName\tDepartment\tSalary\tPerformanceScore\n",
    "employee_data = np.array([\n",
    "    ['E001', 'Alice Brown', 'HR', 55000, 8.5],\n",
    "    ['E002', 'Bob Smith', 'IT', 72000, 7.2],\n",
    "    ['E003', 'Carol Lee', 'Finance', 68000, 9.0],\n",
    "    ['E004', 'David Kim', 'IT', 75000, 6.5],\n",
    "    ['E005', 'Emma Davis', 'Marketing', 50000, 8.0],\n",
    "    ['E006', 'Frank Wilson', 'HR', 53000, 7.8],\n",
    "    ['E007', 'Grace Chen', 'Finance', 67000, 8.9],\n",
    "    ['E008', 'Henry Patel', 'Marketing', 52000, 7.5],\n",
    "    ['E009', 'Irene Lopez', 'IT', 71000, 9.3],\n",
    "    ['E010', 'Jack Brown', 'HR', 56000, 6.8]\n",
    "])"
   ]
  },
  {
   "cell_type": "code",
   "execution_count": 127,
   "id": "c3ead6ce",
   "metadata": {},
   "outputs": [
    {
     "name": "stdout",
     "output_type": "stream",
     "text": [
      "Finance   2\n",
      "HR   3\n",
      "IT   3\n",
      "Marketing   2\n"
     ]
    }
   ],
   "source": [
    "dep = np.unique(employee_data[:,2])\n",
    "for i in dep:\n",
    "    data = employee_data[employee_data[:,2]==i]\n",
    "    print(i,' ',len(data))"
   ]
  },
  {
   "cell_type": "code",
   "execution_count": 128,
   "id": "ee0aedac",
   "metadata": {},
   "outputs": [
    {
     "data": {
      "text/plain": [
       "array(['E004', 'David Kim', 'IT', '75000', '6.5'], dtype='<U32')"
      ]
     },
     "execution_count": 128,
     "metadata": {},
     "output_type": "execute_result"
    }
   ],
   "source": [
    "employee_data[np.argsort(employee_data[:,-2].astype(float))][len(employee_data)-1]"
   ]
  },
  {
   "cell_type": "code",
   "execution_count": 129,
   "id": "fe7c86db",
   "metadata": {},
   "outputs": [
    {
     "name": "stdout",
     "output_type": "stream",
     "text": [
      "Finance   67500.0\n",
      "HR   54666.666666666664\n",
      "IT   72666.66666666667\n",
      "Marketing   51000.0\n"
     ]
    }
   ],
   "source": [
    "dep = np.unique(employee_data[:,2])\n",
    "for i in dep:\n",
    "    data = employee_data[employee_data[:,2]==i]\n",
    "    avg = np.mean(data[:,-2].astype(float))\n",
    "    print(i,' ',avg)"
   ]
  },
  {
   "cell_type": "code",
   "execution_count": 130,
   "id": "08884df2",
   "metadata": {},
   "outputs": [
    {
     "data": {
      "text/plain": [
       "array([['E004', 'David Kim', 'IT', '75000', '6.5'],\n",
       "       ['E010', 'Jack Brown', 'HR', '56000', '6.8'],\n",
       "       ['E002', 'Bob Smith', 'IT', '72000', '7.2'],\n",
       "       ['E008', 'Henry Patel', 'Marketing', '52000', '7.5'],\n",
       "       ['E006', 'Frank Wilson', 'HR', '53000', '7.8'],\n",
       "       ['E005', 'Emma Davis', 'Marketing', '50000', '8.0'],\n",
       "       ['E001', 'Alice Brown', 'HR', '55000', '8.5'],\n",
       "       ['E007', 'Grace Chen', 'Finance', '67000', '8.9'],\n",
       "       ['E003', 'Carol Lee', 'Finance', '68000', '9.0'],\n",
       "       ['E009', 'Irene Lopez', 'IT', '71000', '9.3']], dtype='<U32')"
      ]
     },
     "execution_count": 130,
     "metadata": {},
     "output_type": "execute_result"
    }
   ],
   "source": [
    "employee_data[np.argsort(employee_data[:,-1])]"
   ]
  },
  {
   "cell_type": "markdown",
   "id": "0758d2da",
   "metadata": {},
   "source": [
    "3. Student Grades Analysis"
   ]
  },
  {
   "cell_type": "code",
   "execution_count": 131,
   "id": "4611c5cf",
   "metadata": {},
   "outputs": [],
   "source": [
    "import numpy as np\n",
    "#StudentID\tName\tMath\tScience\tEnglish\tHistory\n",
    "student_data = np.array([\n",
    "    ['S001', 'Alice Brown', 85, 78, 92, 74],\n",
    "    ['S002', 'Bob Smith', 58, 64, 10, 66],\n",
    "    ['S003', 'Carol Lee', 95, 18, 82, 91],\n",
    "    ['S004', 'David Kim', 76, 85, 20, 79],\n",
    "    ['S005', 'Emma Davis', 66, 72, 68, 70],\n",
    "    ['S006', 'Frank Wilson', 90, 95, 88, 92],\n",
    "    ['S007', 'Grace Chen', 72, 10, 75, 65],\n",
    "    ['S008', 'Henry Patel', 81, 79, 85, 80],\n",
    "    ['S009', 'Irene Lopez', 69, 14, 17, 71],\n",
    "    ['S010', 'Jack Brown', 88, 10, 86, 19]\n",
    "])\n"
   ]
  },
  {
   "cell_type": "code",
   "execution_count": 132,
   "id": "a97e6c61",
   "metadata": {},
   "outputs": [
    {
     "name": "stdout",
     "output_type": "stream",
     "text": [
      "4\n"
     ]
    }
   ],
   "source": [
    "count=0\n",
    "for i in student_data:\n",
    "    marks = i[2:].astype(int)\n",
    "    total = np.sum(marks>20)\n",
    "    if total==4:\n",
    "        count+=1\n",
    "print(count)"
   ]
  },
  {
   "cell_type": "code",
   "execution_count": 133,
   "id": "7a953e07",
   "metadata": {},
   "outputs": [
    {
     "name": "stdout",
     "output_type": "stream",
     "text": [
      "Math   78.0\n",
      "Science   52.5\n",
      "English   62.3\n",
      "History   70.7\n"
     ]
    }
   ],
   "source": [
    "sub=['Math'\t,'Science',\t'English'\t,\"History\"]\n",
    "avg = np.mean(student_data[:,2:].astype(int),axis=0)\n",
    "j=0\n",
    "for i in sub:\n",
    "    print(i,\" \",avg[j])\n",
    "    j+=1"
   ]
  },
  {
   "cell_type": "code",
   "execution_count": 134,
   "id": "3a9ea0f0",
   "metadata": {},
   "outputs": [
    {
     "data": {
      "text/plain": [
       "array(['S006', 'Frank Wilson', '90', '95', '88', '92'], dtype='<U21')"
      ]
     },
     "execution_count": 134,
     "metadata": {},
     "output_type": "execute_result"
    }
   ],
   "source": [
    "student_data[np.argmax(np.sum(student_data[:,2:].astype(int),axis=1))]"
   ]
  },
  {
   "cell_type": "code",
   "execution_count": 135,
   "id": "c1f8c72d",
   "metadata": {},
   "outputs": [
    {
     "data": {
      "text/plain": [
       "array([['S006', 'Frank Wilson', '90', '95', '88', '92'],\n",
       "       ['S001', 'Alice Brown', '85', '78', '92', '74'],\n",
       "       ['S008', 'Henry Patel', '81', '79', '85', '80']], dtype='<U21')"
      ]
     },
     "execution_count": 135,
     "metadata": {},
     "output_type": "execute_result"
    }
   ],
   "source": [
    "student_data[np.argsort(np.mean(student_data[:,2:].astype(int),axis=1))][::-1][0:3]"
   ]
  },
  {
   "cell_type": "markdown",
   "id": "5c7b7faa",
   "metadata": {},
   "source": [
    "4. Weather Data Analysis"
   ]
  },
  {
   "cell_type": "code",
   "execution_count": 136,
   "id": "036e74e3",
   "metadata": {},
   "outputs": [],
   "source": [
    "import numpy as np\n",
    "\n",
    "# WeatherID   Month    Temp(°C)  Rainfall(mm)\n",
    "weather_data = np.array([\n",
    "    ['Winter',   'January',   22,  10],\n",
    "    ['Winter',   'January',   24,   5],\n",
    "    ['Winter',   'January',   20,   8],\n",
    "\n",
    "    ['Winter',   'February',  25,   7],\n",
    "    ['Winter',   'February',  27,  12],\n",
    "    ['Winter',   'February',  23,   9],\n",
    "\n",
    "    ['Spring',   'March',     30,   4],\n",
    "    ['Spring',   'March',     32,   6],\n",
    "    ['Spring',   'March',     28,   5],\n",
    "\n",
    "    ['Summer',   'April',     34,   2],\n",
    "    ['Summer',   'April',     36,   3],\n",
    "    ['Summer',   'April',     35,   1],\n",
    "\n",
    "    ['Summer',   'May',       37,   0],\n",
    "    ['Summer',   'May',       38,   2],\n",
    "    ['Summer',   'May',       39,   1],\n",
    "\n",
    "    ['Monsoon',  'June',      40,  30],\n",
    "    ['Monsoon',  'June',      39,  25],\n",
    "    ['Monsoon',  'June',      41,  28],\n",
    "\n",
    "    ['Monsoon',  'July',      36,  45],\n",
    "    ['Monsoon',  'July',      37,  42],\n",
    "    ['Monsoon',  'July',      35,  50],\n",
    "\n",
    "    ['Monsoon',  'August',    33,  40],\n",
    "    ['Monsoon',  'August',    34,  38],\n",
    "    ['Monsoon',  'August',    35,  35],\n",
    "\n",
    "    ['Autumn',   'September', 32,  25],\n",
    "    ['Autumn',   'September', 31,  28],\n",
    "    ['Autumn',   'September', 33,  22],\n",
    "\n",
    "    ['Autumn',   'October',   28,  15],\n",
    "    ['Autumn',   'October',   27,  18],\n",
    "    ['Autumn',   'October',   29,  12],\n",
    "\n",
    "    ['Winter',   'November',  24,  20],\n",
    "    ['Winter',   'November',  26,  22],\n",
    "    ['Winter',   'November',  23,  18],\n",
    "\n",
    "    ['Winter',   'December',  21,  30],\n",
    "    ['Winter',   'December',  22,  25],\n",
    "    ['Winter',   'December',  20,  28]\n",
    "])\n"
   ]
  },
  {
   "cell_type": "code",
   "execution_count": 137,
   "id": "b845e7e6",
   "metadata": {},
   "outputs": [
    {
     "name": "stdout",
     "output_type": "stream",
     "text": [
      "April   34   36\n",
      "August   33   35\n",
      "December   20   22\n",
      "February   23   27\n",
      "January   20   24\n",
      "July   35   37\n",
      "June   39   41\n",
      "March   28   32\n",
      "May   37   39\n",
      "November   23   26\n",
      "October   27   29\n",
      "September   31   33\n"
     ]
    }
   ],
   "source": [
    "month = np.unique(weather_data[:,1])\n",
    "for i in month:\n",
    "    monthdata = weather_data[weather_data[:,1]==i]\n",
    "    max = monthdata[np.argmax(monthdata[:,2].astype(float))][2]\n",
    "    min = monthdata[np.argmin(monthdata[:,2].astype(float))][2]\n",
    "    print(i,\" \",min,\" \",max)"
   ]
  },
  {
   "cell_type": "code",
   "execution_count": 138,
   "id": "18200add",
   "metadata": {},
   "outputs": [
    {
     "name": "stdout",
     "output_type": "stream",
     "text": [
      "Autumn   20.0\n",
      "Monsoon   37.0\n",
      "Spring   5.0\n",
      "Summer   1.5\n",
      "Winter   16.166666666666668\n"
     ]
    }
   ],
   "source": [
    "sea = np.unique(weather_data[:,0])\n",
    "for i in sea:\n",
    "    seadata = weather_data[weather_data[:,0]==i]\n",
    "    mean_rain = np.mean(seadata[:,-1].astype(float))\n",
    "    print(i,\" \",mean_rain)"
   ]
  },
  {
   "cell_type": "code",
   "execution_count": 139,
   "id": "9d1a4ed9",
   "metadata": {},
   "outputs": [
    {
     "name": "stdout",
     "output_type": "stream",
     "text": [
      "90\n"
     ]
    }
   ],
   "source": [
    "month = np.unique(weather_data[:,1])\n",
    "days = 0\n",
    "for i in month:\n",
    "    monthdata = weather_data[weather_data[:,1]==i]\n",
    "    monttemp = sum(monthdata[:,-2].astype(float)>35)\n",
    "    days+=monttemp*10\n",
    "print(days)"
   ]
  },
  {
   "cell_type": "code",
   "execution_count": 146,
   "id": "80f59222",
   "metadata": {},
   "outputs": [
    {
     "name": "stdout",
     "output_type": "stream",
     "text": [
      "June   40.0\n"
     ]
    }
   ],
   "source": [
    "month = np.unique(weather_data[:,1])\n",
    "temp = []\n",
    "for i in month:\n",
    "    monthdata = weather_data[weather_data[:,1]==i]\n",
    "    monttemp = np.mean(monthdata[:,-2].astype(float))\n",
    "    temp.append(monttemp)\n",
    "print(month[np.argmax(temp)],\" \",temp[np.argmax(temp)])"
   ]
  },
  {
   "cell_type": "markdown",
   "id": "db2bff77",
   "metadata": {},
   "source": [
    "5. Stock Market Data Analysis"
   ]
  },
  {
   "cell_type": "code",
   "execution_count": 148,
   "id": "ce9b068e",
   "metadata": {},
   "outputs": [],
   "source": [
    "import numpy as np\n",
    "\n",
    "# StockID   Date        Company        Price\n",
    "stock_data = np.array([\n",
    "    ['ST001', '2025-01-01', 'AlphaTech',   150],\n",
    "    ['ST002', '2025-01-01', 'BetaCorp',    220],\n",
    "    ['ST003', '2025-01-01', 'GammaLtd',    310],\n",
    "\n",
    "    ['ST004', '2025-01-02', 'AlphaTech',   155],\n",
    "    ['ST005', '2025-01-02', 'BetaCorp',    215],\n",
    "    ['ST006', '2025-01-02', 'GammaLtd',    320],\n",
    "\n",
    "    ['ST007', '2025-01-03', 'AlphaTech',   160],\n",
    "    ['ST008', '2025-01-03', 'BetaCorp',    225],\n",
    "    ['ST009', '2025-01-03', 'GammaLtd',    315],\n",
    "\n",
    "    ['ST010', '2025-01-04', 'AlphaTech',   158],\n",
    "    ['ST011', '2025-01-04', 'BetaCorp',    230],\n",
    "    ['ST012', '2025-01-04', 'GammaLtd',    318],\n",
    "\n",
    "    ['ST013', '2025-01-05', 'AlphaTech',   162],\n",
    "    ['ST014', '2025-01-05', 'BetaCorp',    228],\n",
    "    ['ST015', '2025-01-05', 'GammaLtd',    325],\n",
    "\n",
    "    ['ST016', '2025-01-06', 'AlphaTech',   165],\n",
    "    ['ST017', '2025-01-06', 'BetaCorp',    235],\n",
    "    ['ST018', '2025-01-06', 'GammaLtd',    330]\n",
    "])\n"
   ]
  },
  {
   "cell_type": "code",
   "execution_count": null,
   "id": "b7d8f70f",
   "metadata": {},
   "outputs": [
    {
     "name": "stdout",
     "output_type": "stream",
     "text": [
      "AlphaTech\n",
      "day2 :  0.03333333333333333\n",
      "day3 :  0.03225806451612903\n",
      "day4 :  -0.0125\n",
      "day5 :  0.02531645569620253\n",
      "BetaCorp\n",
      "day2 :  -0.022727272727272728\n",
      "day3 :  0.046511627906976744\n",
      "day4 :  0.022222222222222223\n",
      "day5 :  -0.008695652173913044\n",
      "GammaLtd\n",
      "day2 :  0.03225806451612903\n",
      "day3 :  -0.015625\n",
      "day4 :  0.009523809523809525\n",
      "day5 :  0.0220125786163522\n"
     ]
    }
   ],
   "source": [
    "stock = np.unique(stock_data[:,-2])\n",
    "for i in stock:\n",
    "    stock_ = stock_data[stock_data[:,-2]==i]\n",
    "    price = stock_[:,-1].astype(int)\n",
    "    print(i)\n",
    "    for j in range(1,len(price)-1):\n",
    "        print(f\"day{j+1} : \",(price[j]-price[j-1])/price[j-1])\n"
   ]
  },
  {
   "cell_type": "code",
   "execution_count": null,
   "id": "cd72bbff",
   "metadata": {},
   "outputs": [
    {
     "data": {
      "text/plain": [
       "np.str_('AlphaTech')"
      ]
     },
     "execution_count": 201,
     "metadata": {},
     "output_type": "execute_result"
    }
   ],
   "source": [
    "stock = np.unique(stock_data[:,-2])\n",
    "avg=[]\n",
    "for i in stock:\n",
    "    stock_ = stock_data[stock_data[:,-2]==i]\n",
    "    price = stock_[:,-1].astype(int)\n",
    "    temp_stor=[]\n",
    "    for j in range(1,len(price)-1):\n",
    "        temp_stor.append((price[j]-price[j-1])/price[j-1])\n",
    "    avg.append(np.mean(temp_stor))\n",
    "    \n",
    "stock[np.argmax(avg)]"
   ]
  },
  {
   "cell_type": "code",
   "execution_count": 207,
   "id": "c7bfa8a3",
   "metadata": {},
   "outputs": [
    {
     "name": "stdout",
     "output_type": "stream",
     "text": [
      "AlphaTech 3\n",
      "BetaCorp 2\n",
      "GammaLtd 3\n"
     ]
    }
   ],
   "source": [
    "stock = np.unique(stock_data[:,-2])\n",
    "days = []\n",
    "for i in stock:\n",
    "    count=0\n",
    "    stock_ = stock_data[stock_data[:,-2]==i]\n",
    "    price = stock_[:,-1].astype(int)\n",
    "    for j in range(1,len(price)-1):\n",
    "        if(price[j]-price[j-1])/price[j-1]>=0:\n",
    "            count+=1\n",
    "    days.append(count)\n",
    "\n",
    "for i,j in zip(stock,days):\n",
    "    print(i,j)\n"
   ]
  },
  {
   "cell_type": "code",
   "execution_count": 219,
   "id": "0ca3b25b",
   "metadata": {},
   "outputs": [
    {
     "name": "stdout",
     "output_type": "stream",
     "text": [
      "BetaCorp   0.06923890063424948\n"
     ]
    }
   ],
   "source": [
    "stock = np.unique(stock_data[:,-2])\n",
    "max_drop=[]\n",
    "for i in stock:\n",
    "    stock_ = stock_data[stock_data[:,-2]==i]\n",
    "    price = stock_[:,-1].astype(int)\n",
    "    temp_stor=[]\n",
    "    for j in range(1,len(price)-1):\n",
    "        temp_stor.append((price[j]-price[j-1])/price[j-1])\n",
    "    max = temp_stor[np.argmax(temp_stor)]\n",
    "    min = temp_stor[np.argmin(temp_stor)]\n",
    "    max_drop.append(max-min)\n",
    "    \n",
    "print(stock[np.argmax(max_drop)],\" \",max_drop[np.argmax(max_drop)])"
   ]
  },
  {
   "cell_type": "markdown",
   "id": "2fb70f46",
   "metadata": {},
   "source": [
    "6. Hospital Patient Data Analysis"
   ]
  },
  {
   "cell_type": "code",
   "execution_count": 220,
   "id": "973f1cdd",
   "metadata": {},
   "outputs": [],
   "source": [
    "import numpy as np\n",
    "\n",
    "#patient_id age department disease_category days_stayed\n",
    "patient_data = np.array([\n",
    "    ('P001', 45, 'Cardiology', 'Heart Disease', 7),\n",
    "    ('P002', 30, 'Neurology', 'Stroke', 10),\n",
    "    ('P003', 65, 'Orthopedics', 'Fracture', 5),\n",
    "    ('P004', 50, 'Cardiology', 'Heart Disease', 12),\n",
    "    ('P005', 40, 'Neurology', 'Migraine', 3),\n",
    "    ('P006', 70, 'Cardiology', 'Arrhythmia', 8),\n",
    "    ('P007', 60, 'Orthopedics', 'Arthritis', 15),\n",
    "    ('P008', 55, 'Neurology', 'Stroke', 6),\n",
    "    ('P009', 35, 'Cardiology', 'Heart Disease', 9),\n",
    "    ('P010', 28, 'Orthopedics', 'Fracture', 4)\n",
    "])\n"
   ]
  },
  {
   "cell_type": "markdown",
   "id": "8e6ba3fc",
   "metadata": {},
   "source": [
    "Count the number of patients per disease category.•"
   ]
  },
  {
   "cell_type": "code",
   "execution_count": 238,
   "id": "013b71c7",
   "metadata": {},
   "outputs": [
    {
     "name": "stdout",
     "output_type": "stream",
     "text": [
      "Arrhythmia   1\n",
      "Arthritis   1\n",
      "Fracture   2\n",
      "Heart Disease   3\n",
      "Migraine   1\n",
      "Stroke   2\n"
     ]
    }
   ],
   "source": [
    "cat = np.unique(patient_data[:,-2])\n",
    "for i in cat:\n",
    "    pdata = patient_data[patient_data[:,-2]==i]\n",
    "    print(i,\" \",len(pdata))"
   ]
  },
  {
   "cell_type": "markdown",
   "id": "c2844806",
   "metadata": {},
   "source": [
    "Find the patient with the longest hospital stay.•"
   ]
  },
  {
   "cell_type": "code",
   "execution_count": 231,
   "id": "9928e05d",
   "metadata": {},
   "outputs": [
    {
     "data": {
      "text/plain": [
       "array(['P007', '60', 'Orthopedics', 'Arthritis', '15'], dtype='<U21')"
      ]
     },
     "execution_count": 231,
     "metadata": {},
     "output_type": "execute_result"
    }
   ],
   "source": [
    "patient_data[np.argmax(patient_data[:,-1].astype(int))]"
   ]
  },
  {
   "cell_type": "markdown",
   "id": "77d6725c",
   "metadata": {},
   "source": [
    "Calculate average age of patients per department.•"
   ]
  },
  {
   "cell_type": "code",
   "execution_count": 235,
   "id": "7273f63e",
   "metadata": {},
   "outputs": [
    {
     "name": "stdout",
     "output_type": "stream",
     "text": [
      "Arrhythmia   70.0\n",
      "Arthritis   60.0\n",
      "Fracture   46.5\n",
      "Heart Disease   43.333333333333336\n",
      "Migraine   40.0\n",
      "Stroke   42.5\n"
     ]
    }
   ],
   "source": [
    "dep = np.unique(patient_data[:,-2])\n",
    "avg = []\n",
    "for i in dep:\n",
    "    tempdata = patient_data[patient_data[:,-2]==i]\n",
    "    tempavg = np.mean(tempdata[:,1].astype(float))\n",
    "    avg.append(tempavg)\n",
    "for i,j in zip(dep,avg):\n",
    "    print(i,\" \",j)"
   ]
  },
  {
   "cell_type": "markdown",
   "id": "bc1aa9a7",
   "metadata": {},
   "source": [
    "Identify the most common diagnosis.•"
   ]
  },
  {
   "cell_type": "code",
   "execution_count": 237,
   "id": "6eccc28c",
   "metadata": {},
   "outputs": [
    {
     "data": {
      "text/plain": [
       "np.str_('Heart Disease')"
      ]
     },
     "execution_count": 237,
     "metadata": {},
     "output_type": "execute_result"
    }
   ],
   "source": [
    "cat = np.unique(patient_data[:,-2])\n",
    "count=[]\n",
    "for i in cat:\n",
    "    pdata = patient_data[patient_data[:,-2]==i]\n",
    "    count.append(len(pdata))\n",
    "cat[np.argmax(count)]"
   ]
  },
  {
   "cell_type": "markdown",
   "id": "6184bc09",
   "metadata": {},
   "source": [
    "7. E-commerce Website Traffic Analysis"
   ]
  },
  {
   "cell_type": "code",
   "execution_count": 242,
   "id": "62c76289",
   "metadata": {},
   "outputs": [],
   "source": [
    "import numpy as np\n",
    "\n",
    "# 'visitor_id','date','pages_visited','time_spent',\n",
    "\n",
    "ecom = np.array([\n",
    "    ['V001', '2025-09-01', 5, 12.5],\n",
    "    ['V002', '2025-09-01', 1, 3.0],\n",
    "    ['V003', '2025-09-02', 3, 7.2],\n",
    "    ['V001', '2025-09-02', 2, 6.5],\n",
    "    ['V002', '2025-09-03', 1, 2.0],\n",
    "    ['V003', '2025-09-03', 4, 15.0],\n",
    "    ['V004', '2025-09-04', 3, 20.0],\n",
    "    ['V002', '2025-09-05', 1, 1.5],\n",
    "    ['V003', '2025-09-06', 2, 5.0],\n",
    "    ['V001', '2025-09-07', 3, 10.]\n",
    "])\n"
   ]
  },
  {
   "cell_type": "markdown",
   "id": "cebb12a4",
   "metadata": {},
   "source": [
    "Count the number of visitors per day/week.•"
   ]
  },
  {
   "cell_type": "code",
   "execution_count": 247,
   "id": "ef5252ca",
   "metadata": {},
   "outputs": [
    {
     "name": "stdout",
     "output_type": "stream",
     "text": [
      "2025-09-01   6.0\n",
      "2025-09-02   5.0\n",
      "2025-09-03   5.0\n",
      "2025-09-04   3.0\n",
      "2025-09-05   1.0\n",
      "2025-09-06   2.0\n",
      "2025-09-07   3.0\n"
     ]
    }
   ],
   "source": [
    "day = np.unique(ecom[:,1])\n",
    "visit = []\n",
    "for i in day:\n",
    "    tempdata = ecom[ecom[:,1]==i]\n",
    "    tempvis = np.sum(tempdata[:,-2].astype(float))\n",
    "    visit.append(tempvis)\n",
    "for i,j in zip(day,visit):\n",
    "    print(i,\" \",j)"
   ]
  },
  {
   "cell_type": "markdown",
   "id": "b36dd51d",
   "metadata": {},
   "source": [
    "Find the day with the highest number of visitors.•"
   ]
  },
  {
   "cell_type": "code",
   "execution_count": 249,
   "id": "f4a4a537",
   "metadata": {},
   "outputs": [
    {
     "name": "stdout",
     "output_type": "stream",
     "text": [
      "2025-09-01   6.0\n"
     ]
    }
   ],
   "source": [
    "print(day[np.argmax(visit)],\" \",visit[np.argmax(visit)])"
   ]
  },
  {
   "cell_type": "markdown",
   "id": "0f8bb12f",
   "metadata": {},
   "source": [
    "Calculate average time spent by users on the website.•"
   ]
  },
  {
   "cell_type": "code",
   "execution_count": 250,
   "id": "187b35ec",
   "metadata": {},
   "outputs": [
    {
     "name": "stdout",
     "output_type": "stream",
     "text": [
      "V001   29.0\n",
      "V002   6.5\n",
      "V003   27.2\n",
      "V004   20.0\n"
     ]
    }
   ],
   "source": [
    "user = np.unique(ecom[:,0])\n",
    "time = []\n",
    "for i in user:\n",
    "    tempdata = ecom[ecom[:,0]==i]\n",
    "    temptime = np.sum(tempdata[:,-1].astype(float))\n",
    "    time.append(temptime)\n",
    "for i,j in zip(user,time):\n",
    "    print(i,\" \",j)"
   ]
  },
  {
   "cell_type": "markdown",
   "id": "227b8c0a",
   "metadata": {},
   "source": [
    "Determine bounce rate (users who visited only 1 page).•"
   ]
  },
  {
   "cell_type": "code",
   "execution_count": null,
   "id": "4efddbaa",
   "metadata": {},
   "outputs": [],
   "source": []
  },
  {
   "cell_type": "markdown",
   "id": "3bd4dfa1",
   "metadata": {},
   "source": [
    "-----"
   ]
  },
  {
   "cell_type": "code",
   "execution_count": 262,
   "id": "a5f220a3",
   "metadata": {},
   "outputs": [
    {
     "data": {
      "text/plain": [
       "array([9192, 7309, 4055, 3449, 1967, 1277, 4440, 6952, 8770, 6677, 2089,\n",
       "       9897, 2881, 6302, 9108, 1957, 3563, 2223, 9715, 2347])"
      ]
     },
     "execution_count": 262,
     "metadata": {},
     "output_type": "execute_result"
    }
   ],
   "source": [
    "data = np.array([np.random.randint(1000,10000) for i in range(0,20)])\n",
    "# dna_data = np.array([np.random.randint(0,4) for i in range(0,20)])\n",
    "data"
   ]
  },
  {
   "cell_type": "code",
   "execution_count": 270,
   "id": "4643b091",
   "metadata": {},
   "outputs": [
    {
     "data": {
      "text/plain": [
       "array([[33, -1, 11, -1, 16, -1, 14, -1],\n",
       "       [-1, 59, -1, 26, -1, 31, -1, 27],\n",
       "       [58, -1, 57, -1, 48, -1,  2, -1],\n",
       "       [-1, 17, -1, 59, -1, 16, -1, 19],\n",
       "       [58, -1, 23, -1, 30, -1, 27, -1],\n",
       "       [-1,  1, -1,  6, -1,  1, -1, 26],\n",
       "       [31, -1, 35, -1, 30, -1, 39, -1],\n",
       "       [-1, 62, -1, 25, -1,  5, -1, 26]], dtype=int32)"
      ]
     },
     "execution_count": 270,
     "metadata": {},
     "output_type": "execute_result"
    }
   ],
   "source": [
    "data = np.random.randint(0,63,size=(8,8))\n",
    "data[np.ix_([0,2,4,6],[1,3,5,7])]=-1\n",
    "data[np.ix_([1,3,5,7],[0,2,4,6])]=-1\n",
    "data"
   ]
  },
  {
   "cell_type": "code",
   "execution_count": 272,
   "id": "b0797b54",
   "metadata": {},
   "outputs": [
    {
     "data": {
      "text/plain": [
       "array([0, 9, 1, 9], dtype=int32)"
      ]
     },
     "execution_count": 272,
     "metadata": {},
     "output_type": "execute_result"
    }
   ],
   "source": [
    "data = np.random.randint(0,10,size=(4,3,3))\n",
    "data[:,1,1]"
   ]
  },
  {
   "cell_type": "markdown",
   "id": "c505c105",
   "metadata": {},
   "source": [
    "Problem 14: Sports Team Analytics\n",
    "Create a (5, 6, 4) array → 5 teams, 6 matches, 4 stats each.\n",
    "Extract stats of teams [1, 3, 4] for matches [2, 5].•\n",
    "Problem 15: Movie Ratings\n"
   ]
  },
  {
   "cell_type": "code",
   "execution_count": null,
   "id": "80421054",
   "metadata": {},
   "outputs": [],
   "source": [
    "data = np.random.randint(0,10,size=(5,6,4))\n",
    "data[np.ix_([1,3,4],[2,5])]"
   ]
  },
  {
   "cell_type": "markdown",
   "id": "9d199cf6",
   "metadata": {},
   "source": [
    "Problem 16: IoT Device Monitoring\n",
    "\n",
    "Create a (3, 24, 7) array → 3 devices, 24 hours, 7 days.\n",
    "Extract hourly readings for devices [0, 2] on days [1, 3, 5]"
   ]
  },
  {
   "cell_type": "code",
   "execution_count": 282,
   "id": "6065108b",
   "metadata": {},
   "outputs": [
    {
     "data": {
      "text/plain": [
       "array([ 0,  1,  2,  3,  4,  5,  6,  7,  8,  9, 10, 11, 12, 13, 14, 15, 16,\n",
       "       17, 18, 19, 20, 21, 22, 23])"
      ]
     },
     "execution_count": 282,
     "metadata": {},
     "output_type": "execute_result"
    }
   ],
   "source": [
    "np.arange(data.shape[1])"
   ]
  },
  {
   "cell_type": "code",
   "execution_count": 289,
   "id": "19edd7c3",
   "metadata": {},
   "outputs": [
    {
     "data": {
      "text/plain": [
       "array([[[46, 56, 67],\n",
       "        [84, 32, 79],\n",
       "        [30, 21, 21],\n",
       "        [30, 32, 22],\n",
       "        [ 8, 84, 35],\n",
       "        [15, 96, 77],\n",
       "        [86, 27,  7],\n",
       "        [75, 55, 59],\n",
       "        [85, 45, 82],\n",
       "        [21, 99, 90],\n",
       "        [29, 20, 19],\n",
       "        [44, 62, 90],\n",
       "        [83, 62, 15],\n",
       "        [10, 98, 16],\n",
       "        [ 3, 10, 83],\n",
       "        [81, 28, 67],\n",
       "        [18, 83, 88],\n",
       "        [ 9, 26, 64],\n",
       "        [41, 56, 20],\n",
       "        [24, 74, 70],\n",
       "        [97, 59,  3],\n",
       "        [23, 30, 98],\n",
       "        [78, 26,  0],\n",
       "        [25, 33, 31]],\n",
       "\n",
       "       [[30, 22, 50],\n",
       "        [53, 98, 65],\n",
       "        [82, 81, 80],\n",
       "        [87, 21, 68],\n",
       "        [36, 70, 41],\n",
       "        [43, 77, 75],\n",
       "        [61, 60, 81],\n",
       "        [52, 62, 91],\n",
       "        [65,  7, 69],\n",
       "        [42, 49, 93],\n",
       "        [32, 35, 28],\n",
       "        [ 6, 35, 70],\n",
       "        [39, 53, 99],\n",
       "        [68, 30, 60],\n",
       "        [91, 67, 74],\n",
       "        [73, 21, 71],\n",
       "        [ 3, 44,  6],\n",
       "        [52, 16, 34],\n",
       "        [96,  0, 17],\n",
       "        [72, 81, 16],\n",
       "        [63, 19,  0],\n",
       "        [44, 93, 67],\n",
       "        [ 9, 89, 97],\n",
       "        [30, 84, 32]]], dtype=int32)"
      ]
     },
     "execution_count": 289,
     "metadata": {},
     "output_type": "execute_result"
    }
   ],
   "source": [
    "data = np.random.randint(0,100,size=(3,24,7))\n",
    "data[np.ix_([0,2],np.arange(data.shape[1]),[1,3,5])]\n",
    "# data[np.ix_([0,2],range(24),[1,3,5])]"
   ]
  },
  {
   "cell_type": "code",
   "execution_count": 292,
   "id": "af141458",
   "metadata": {},
   "outputs": [
    {
     "data": {
      "text/plain": [
       "array([[[30, 17, 34],\n",
       "        [27, 91, 57],\n",
       "        [ 8, 95, 64]],\n",
       "\n",
       "       [[28, 17,  3],\n",
       "        [12, 35, 52],\n",
       "        [71, 38, 42]]], dtype=int32)"
      ]
     },
     "execution_count": 292,
     "metadata": {},
     "output_type": "execute_result"
    }
   ],
   "source": [
    "data = np.random.randint(0,100,size=(4,10,6))\n",
    "data[np.ix_([1,3],[2,5,7],[0,2,4])]"
   ]
  },
  {
   "cell_type": "code",
   "execution_count": 295,
   "id": "8cc7130e",
   "metadata": {},
   "outputs": [
    {
     "data": {
      "text/plain": [
       "array([[[ 1, 70],\n",
       "        [82, 73]],\n",
       "\n",
       "       [[40, 66],\n",
       "        [40, 71]],\n",
       "\n",
       "       [[46, 39],\n",
       "        [49,  0]],\n",
       "\n",
       "       [[72, 63],\n",
       "        [31,  2]],\n",
       "\n",
       "       [[91, 10],\n",
       "        [21, 39]]], dtype=int32)"
      ]
     },
     "execution_count": 295,
     "metadata": {},
     "output_type": "execute_result"
    }
   ],
   "source": [
    "data = np.random.randint(0,100,size=(5,28,28))\n",
    "data[np.ix_(np.arange(data.shape[0]),[0,data.shape[1]-1],[0,data.shape[2]-1])]"
   ]
  }
 ],
 "metadata": {
  "kernelspec": {
   "display_name": "PDV",
   "language": "python",
   "name": "python3"
  },
  "language_info": {
   "codemirror_mode": {
    "name": "ipython",
    "version": 3
   },
   "file_extension": ".py",
   "mimetype": "text/x-python",
   "name": "python",
   "nbconvert_exporter": "python",
   "pygments_lexer": "ipython3",
   "version": "3.13.7"
  }
 },
 "nbformat": 4,
 "nbformat_minor": 5
}
