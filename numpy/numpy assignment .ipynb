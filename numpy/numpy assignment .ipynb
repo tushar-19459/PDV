{
 "cells": [
  {
   "cell_type": "code",
   "execution_count": 2,
   "metadata": {
    "executionInfo": {
     "elapsed": 109,
     "status": "ok",
     "timestamp": 1758341212059,
     "user": {
      "displayName": "Tushar Raj",
      "userId": "04399146470560759060"
     },
     "user_tz": -330
    },
    "id": "2Tc3S9nYqXQd"
   },
   "outputs": [],
   "source": [
    "import numpy as np"
   ]
  },
  {
   "cell_type": "markdown",
   "metadata": {
    "id": "qeQ8m6Dxx152"
   },
   "source": [
    "**1. Sales Data Analysis**"
   ]
  },
  {
   "cell_type": "code",
   "execution_count": 2,
   "metadata": {
    "colab": {
     "base_uri": "https://localhost:8080/"
    },
    "collapsed": true,
    "executionInfo": {
     "elapsed": 44,
     "status": "ok",
     "timestamp": 1758341212100,
     "user": {
      "displayName": "Tushar Raj",
      "userId": "04399146470560759060"
     },
     "user_tz": -330
    },
    "id": "6ohOvPykrIYZ",
    "outputId": "99289629-7622-4028-ccb7-428d1956523a"
   },
   "outputs": [
    {
     "data": {
      "text/plain": [
       "array([['1001', 'C001', 'Alice Johnson', 'Consumer', 'East',\n",
       "        '2025-08-01', 'Furniture', '1200.5', '2', '0.1', '300.12',\n",
       "        'William Clark'],\n",
       "       ['1002', 'C002', 'Bob Smith', 'Corporate', 'West', '2025-08-03',\n",
       "        'Office Supplies', '450.75', '5', '0.05', '90.15',\n",
       "        'Olivia Martinez'],\n",
       "       ['1003', 'C003', 'Carol Lee', 'Home Office', 'Central',\n",
       "        '2025-08-05', 'Technology', '890.0', '1', '0.2', '150.5',\n",
       "        'James Wilson'],\n",
       "       ['1004', 'C004', 'David Kim', 'Consumer', 'South', '2025-08-07',\n",
       "        'Furniture', '670.8', '3', '0.15', '120.3', 'Olivia Martinez'],\n",
       "       ['1005', 'C005', 'Emma Davis', 'Corporate', 'East', '2025-08-09',\n",
       "        'Office Supplies', '310.25', '4', '0.0', '70.4', 'William Clark'],\n",
       "       ['1006', 'C006', 'Frank Wilson', 'Consumer', 'Central',\n",
       "        '2025-08-11', 'Technology', '1500.0', '2', '0.25', '250.0',\n",
       "        'James Wilson'],\n",
       "       ['1007', 'C007', 'Grace Chen', 'Home Office', 'West',\n",
       "        '2025-08-13', 'Furniture', '920.45', '1', '0.05', '200.1',\n",
       "        'Olivia Martinez'],\n",
       "       ['1008', 'C008', 'Henry Patel', 'Consumer', 'East', '2025-08-15',\n",
       "        'Office Supplies', '540.6', '6', '0.1', '130.5', 'William Clark'],\n",
       "       ['1009', 'C009', 'Irene Lopez', 'Corporate', 'South',\n",
       "        '2025-08-17', 'Technology', '720.0', '3', '0.15', '180.0',\n",
       "        'William Clark'],\n",
       "       ['1010', 'C010', 'Jack Brown', 'Consumer', 'Central',\n",
       "        '2025-08-19', 'Furniture', '1100.8', '4', '0.2', '250.0',\n",
       "        'Olivia Martinez']], dtype='<U32')"
      ]
     },
     "execution_count": 2,
     "metadata": {},
     "output_type": "execute_result"
    }
   ],
   "source": [
    "# OrderID\tCustomerID\tCustomerName\tSegment\tRegion\tOrderDate\tProductCategory\tSalesAmount\tQuantity\tDiscount\tProfit salesRep\n",
    "sales_data_np = np.array([\n",
    "    [1001, 'C001', 'Alice Johnson', 'Consumer', 'East', '2025-08-01', 'Furniture', 1200.50, 2, 0.10, 300.12, 'William Clark'],\n",
    "    [1002, 'C002', 'Bob Smith', 'Corporate', 'West', '2025-08-03', 'Office Supplies', 450.75, 5, 0.05, 90.15, 'Olivia Martinez'],\n",
    "    [1003, 'C003', 'Carol Lee', 'Home Office', 'Central', '2025-08-05', 'Technology', 890.00, 1, 0.20, 150.50, 'James Wilson'],\n",
    "    [1004, 'C004', 'David Kim', 'Consumer', 'South', '2025-08-07', 'Furniture', 670.80, 3, 0.15, 120.30, 'Olivia Martinez'],\n",
    "    [1005, 'C005', 'Emma Davis', 'Corporate', 'East', '2025-08-09', 'Office Supplies', 310.25, 4, 0.00, 70.40, 'William Clark'],\n",
    "    [1006, 'C006', 'Frank Wilson', 'Consumer', 'Central', '2025-08-11', 'Technology', 1500.00, 2, 0.25, 250.00, 'James Wilson'],\n",
    "    [1007, 'C007', 'Grace Chen', 'Home Office', 'West', '2025-08-13', 'Furniture', 920.45, 1, 0.05, 200.10, 'Olivia Martinez'],\n",
    "    [1008, 'C008', 'Henry Patel', 'Consumer', 'East', '2025-08-15', 'Office Supplies', 540.60, 6, 0.10, 130.50, 'William Clark'],\n",
    "    [1009, 'C009', 'Irene Lopez', 'Corporate', 'South', '2025-08-17', 'Technology', 720.00, 3, 0.15, 180.00, 'William Clark'],\n",
    "    [1010, 'C010', 'Jack Brown', 'Consumer', 'Central', '2025-08-19', 'Furniture', 1100.80, 4, 0.20, 250.00, 'Olivia Martinez']\n",
    "])\n",
    "sales_data_np"
   ]
  },
  {
   "cell_type": "markdown",
   "metadata": {
    "id": "bZuaFqhS-x7K"
   },
   "source": [
    "1 .Count total sales per product category."
   ]
  },
  {
   "cell_type": "code",
   "execution_count": 3,
   "metadata": {
    "colab": {
     "base_uri": "https://localhost:8080/"
    },
    "executionInfo": {
     "elapsed": 21,
     "status": "ok",
     "timestamp": 1758341212122,
     "user": {
      "displayName": "Tushar Raj",
      "userId": "04399146470560759060"
     },
     "user_tz": -330
    },
    "id": "-VvFSgpzt8jg",
    "outputId": "5792c149-e4af-4711-8494-fc37f685393b"
   },
   "outputs": [
    {
     "name": "stdout",
     "output_type": "stream",
     "text": [
      "total number of sales in \"Furniture\" 10\n",
      "total number of sales in \"Office Supplies\" 15\n",
      "total number of sales in \"Technology\" 6\n"
     ]
    }
   ],
   "source": [
    "category = np.unique(sales_data_np[:,-6])\n",
    "for i in category:\n",
    "  category = sales_data_np[:,6]==i\n",
    "  Furniture_data = sales_data_np[category]\n",
    "  quantity_furniture = Furniture_data[:,-4].astype(int)\n",
    "  total_quantity_furniture = np.sum(quantity_furniture)\n",
    "  print(f'total number of sales in \"{i}\"',total_quantity_furniture)"
   ]
  },
  {
   "cell_type": "markdown",
   "metadata": {
    "id": "KSkrCN3l-4bY"
   },
   "source": [
    "2. Calculate the total revenue generated by each sales representative."
   ]
  },
  {
   "cell_type": "code",
   "execution_count": 4,
   "metadata": {
    "colab": {
     "base_uri": "https://localhost:8080/"
    },
    "executionInfo": {
     "elapsed": 17,
     "status": "ok",
     "timestamp": 1758341212140,
     "user": {
      "displayName": "Tushar Raj",
      "userId": "04399146470560759060"
     },
     "user_tz": -330
    },
    "id": "ozZjX86b1kPd",
    "outputId": "7c5442a8-1393-4018-f54c-c71b132dd3ed"
   },
   "outputs": [
    {
     "name": "stdout",
     "output_type": "stream",
     "text": [
      "profites by James Wilson : 400.5\n",
      "profites by Olivia Martinez : 660.55\n",
      "profites by William Clark : 681.02\n"
     ]
    }
   ],
   "source": [
    "representative = np.unique(sales_data_np[:,-1])\n",
    "for i in representative:\n",
    "  profit = sales_data_np[:,-1]==i\n",
    "  profits = sales_data_np[profit][:,-2].astype(float)\n",
    "  total_profit = np.sum(profits)\n",
    "  print(f'profites by {i} :',total_profit)"
   ]
  },
  {
   "cell_type": "markdown",
   "metadata": {
    "id": "s_Sb4a54-8Oh"
   },
   "source": [
    "3. Find the product with the highest sales.\n"
   ]
  },
  {
   "cell_type": "code",
   "execution_count": 5,
   "metadata": {
    "colab": {
     "base_uri": "https://localhost:8080/"
    },
    "executionInfo": {
     "elapsed": 18,
     "status": "ok",
     "timestamp": 1758341212160,
     "user": {
      "displayName": "Tushar Raj",
      "userId": "04399146470560759060"
     },
     "user_tz": -330
    },
    "id": "1khIBRD_3xP8",
    "outputId": "e0cc8020-8ce4-452c-de14-020d58fa4f40"
   },
   "outputs": [
    {
     "name": "stdout",
     "output_type": "stream",
     "text": [
      "product details with highest sales [['1008' 'C008' 'Henry Patel' 'Consumer' 'East' '2025-08-15'\n",
      "  'Office Supplies' '540.6' '6' '0.1' '130.5' 'William Clark']]\n"
     ]
    }
   ],
   "source": [
    "index = sales_data_np[:,-4].astype(float) ==sales_data_np[:,-4].astype(float).max()\n",
    "print(f'product details with highest sales {sales_data_np[index]}')"
   ]
  },
  {
   "cell_type": "markdown",
   "metadata": {
    "id": "ISsxUuX8-_Rh"
   },
   "source": [
    "4. Group data by sales regions and calculate average sales."
   ]
  },
  {
   "cell_type": "code",
   "execution_count": 6,
   "metadata": {
    "colab": {
     "base_uri": "https://localhost:8080/"
    },
    "executionInfo": {
     "elapsed": 18,
     "status": "ok",
     "timestamp": 1758341212179,
     "user": {
      "displayName": "Tushar Raj",
      "userId": "04399146470560759060"
     },
     "user_tz": -330
    },
    "id": "eCAXprw59CTj",
    "outputId": "2c9f0189-fff8-4a97-a238-2f4d46e46f1f"
   },
   "outputs": [
    {
     "name": "stdout",
     "output_type": "stream",
     "text": [
      "average sales in Central : 1163.6000000000001\n",
      "average sales in East : 683.7833333333333\n",
      "average sales in South : 695.4\n",
      "average sales in West : 685.6\n"
     ]
    }
   ],
   "source": [
    "sales_regions = np.unique(sales_data_np[:,4])\n",
    "\n",
    "for i in sales_regions:\n",
    "  index = sales_data_np[:,4]==i\n",
    "  temp = sales_data_np[index]\n",
    "  print(f'average sales in {i} : {np.mean(temp[:,-5].astype(float))}')"
   ]
  },
  {
   "cell_type": "markdown",
   "metadata": {
    "id": "f5tuD4B3_PUX"
   },
   "source": [
    "----------------------------------"
   ]
  },
  {
   "cell_type": "markdown",
   "metadata": {
    "id": "N33-dCgP_RPR"
   },
   "source": [
    "**2. Employee Data Analysis**"
   ]
  },
  {
   "cell_type": "code",
   "execution_count": 7,
   "metadata": {
    "executionInfo": {
     "elapsed": 2,
     "status": "ok",
     "timestamp": 1758341212182,
     "user": {
      "displayName": "Tushar Raj",
      "userId": "04399146470560759060"
     },
     "user_tz": -330
    },
    "id": "bc48TMf8_elJ"
   },
   "outputs": [],
   "source": [
    "import numpy as np\n",
    "# EmployeeID\tName\tDepartment\tSalary\tPerformanceScore\n",
    "employee_data = np.array([\n",
    "    ['E001', 'Alice Brown', 'HR', 55000, 8.5],\n",
    "    ['E002', 'Bob Smith', 'IT', 72000, 7.2],\n",
    "    ['E003', 'Carol Lee', 'Finance', 68000, 9.0],\n",
    "    ['E004', 'David Kim', 'IT', 75000, 6.5],\n",
    "    ['E005', 'Emma Davis', 'Marketing', 50000, 8.0],\n",
    "    ['E006', 'Frank Wilson', 'HR', 53000, 7.8],\n",
    "    ['E007', 'Grace Chen', 'Finance', 67000, 8.9],\n",
    "    ['E008', 'Henry Patel', 'Marketing', 52000, 7.5],\n",
    "    ['E009', 'Irene Lopez', 'IT', 71000, 9.3],\n",
    "    ['E010', 'Jack Brown', 'HR', 56000, 6.8]\n",
    "])"
   ]
  },
  {
   "cell_type": "markdown",
   "metadata": {
    "id": "3CiiE9duBltu"
   },
   "source": [
    "Count the number of employees per department"
   ]
  },
  {
   "cell_type": "code",
   "execution_count": 8,
   "metadata": {
    "colab": {
     "base_uri": "https://localhost:8080/"
    },
    "executionInfo": {
     "elapsed": 16,
     "status": "ok",
     "timestamp": 1758341212199,
     "user": {
      "displayName": "Tushar Raj",
      "userId": "04399146470560759060"
     },
     "user_tz": -330
    },
    "id": "KRPd7iYnAC5A",
    "outputId": "fd552ceb-4a04-40aa-988d-743717d87f99"
   },
   "outputs": [
    {
     "name": "stdout",
     "output_type": "stream",
     "text": [
      "number of employees in Finance : 2\n",
      "number of employees in HR : 3\n",
      "number of employees in IT : 3\n",
      "number of employees in Marketing : 2\n"
     ]
    }
   ],
   "source": [
    "department = np.unique(employee_data[:,-3])\n",
    "for i in department:\n",
    "  print(f'number of employees in {i} : {len(employee_data[employee_data[:,-3]==i])}')"
   ]
  },
  {
   "cell_type": "markdown",
   "metadata": {
    "id": "q9i4GlvqBm6m"
   },
   "source": [
    "Find the employee with the highest salary."
   ]
  },
  {
   "cell_type": "code",
   "execution_count": 9,
   "metadata": {
    "colab": {
     "base_uri": "https://localhost:8080/"
    },
    "executionInfo": {
     "elapsed": 12,
     "status": "ok",
     "timestamp": 1758341212273,
     "user": {
      "displayName": "Tushar Raj",
      "userId": "04399146470560759060"
     },
     "user_tz": -330
    },
    "id": "tSJkUKTCBrRd",
    "outputId": "c1f54590-2472-4838-8055-26860625c483"
   },
   "outputs": [
    {
     "name": "stdout",
     "output_type": "stream",
     "text": [
      "employee with the highest salary.[['E004' 'David Kim' 'IT' '75000' '6.5']]\n"
     ]
    }
   ],
   "source": [
    "max_Salary = employee_data[:,-2]\n",
    "emp = employee_data[employee_data[:,-2] == max(max_Salary)]\n",
    "print(f'employee with the highest salary.{emp}')"
   ]
  },
  {
   "cell_type": "markdown",
   "metadata": {
    "id": "K8Y6y5tNCYAm"
   },
   "source": [
    "Calculate average salary per department."
   ]
  },
  {
   "cell_type": "code",
   "execution_count": 10,
   "metadata": {
    "colab": {
     "base_uri": "https://localhost:8080/"
    },
    "executionInfo": {
     "elapsed": 16,
     "status": "ok",
     "timestamp": 1758341212291,
     "user": {
      "displayName": "Tushar Raj",
      "userId": "04399146470560759060"
     },
     "user_tz": -330
    },
    "id": "-pp8AtZ1AmOI",
    "outputId": "a355d6bf-7aa9-47c5-86a3-0a22ec4ad210"
   },
   "outputs": [
    {
     "name": "stdout",
     "output_type": "stream",
     "text": [
      "average sales in Finance : 67500.0\n",
      "\n",
      "average sales in HR : 54666.666666666664\n",
      "\n",
      "average sales in IT : 72666.66666666667\n",
      "\n",
      "average sales in Marketing : 51000.0\n",
      "\n"
     ]
    }
   ],
   "source": [
    "department = np.unique(employee_data[:,2])\n",
    "# print(department)\n",
    "for i in department:\n",
    "  index = employee_data[:,2]==i\n",
    "  temp = employee_data[index]\n",
    "  print(f'average sales in {i} : {np.mean(temp[:,3].astype(float))}')\n",
    "  print()"
   ]
  },
  {
   "cell_type": "markdown",
   "metadata": {
    "id": "vO01_nroDrdu"
   },
   "source": [
    "Sort employees based on their performance score or salary.\n"
   ]
  },
  {
   "cell_type": "code",
   "execution_count": 11,
   "metadata": {
    "colab": {
     "base_uri": "https://localhost:8080/"
    },
    "executionInfo": {
     "elapsed": 15,
     "status": "ok",
     "timestamp": 1758341212307,
     "user": {
      "displayName": "Tushar Raj",
      "userId": "04399146470560759060"
     },
     "user_tz": -330
    },
    "id": "-LYdg8grDt_F",
    "outputId": "4810ec41-06c0-45d6-bc6e-e3bbc0706ec3"
   },
   "outputs": [
    {
     "name": "stdout",
     "output_type": "stream",
     "text": [
      "sorted data\n"
     ]
    },
    {
     "data": {
      "text/plain": [
       "array([['E004', 'David Kim', 'IT', '75000', '6.5'],\n",
       "       ['E010', 'Jack Brown', 'HR', '56000', '6.8'],\n",
       "       ['E002', 'Bob Smith', 'IT', '72000', '7.2'],\n",
       "       ['E008', 'Henry Patel', 'Marketing', '52000', '7.5'],\n",
       "       ['E006', 'Frank Wilson', 'HR', '53000', '7.8'],\n",
       "       ['E005', 'Emma Davis', 'Marketing', '50000', '8.0'],\n",
       "       ['E001', 'Alice Brown', 'HR', '55000', '8.5'],\n",
       "       ['E007', 'Grace Chen', 'Finance', '67000', '8.9'],\n",
       "       ['E003', 'Carol Lee', 'Finance', '68000', '9.0'],\n",
       "       ['E009', 'Irene Lopez', 'IT', '71000', '9.3']], dtype='<U32')"
      ]
     },
     "execution_count": 11,
     "metadata": {},
     "output_type": "execute_result"
    }
   ],
   "source": [
    "sorted_indices = np.argsort(employee_data[:, -1])\n",
    "sorted_employee_data = employee_data[sorted_indices]\n",
    "print('sorted data')\n",
    "sorted_employee_data"
   ]
  },
  {
   "cell_type": "markdown",
   "metadata": {
    "id": "0WMtjHkNFQhe"
   },
   "source": [
    "---------------------------\n",
    "**3. Student Grades Analysis**\n",
    "---------------------------"
   ]
  },
  {
   "cell_type": "code",
   "execution_count": 1,
   "metadata": {
    "executionInfo": {
     "elapsed": 1,
     "status": "ok",
     "timestamp": 1758341212310,
     "user": {
      "displayName": "Tushar Raj",
      "userId": "04399146470560759060"
     },
     "user_tz": -330
    },
    "id": "MNVMpWLTFZOv"
   },
   "outputs": [],
   "source": [
    "import numpy as np\n",
    "#StudentID\tName\tMath\tScience\tEnglish\tHistory\n",
    "student_data = np.array([\n",
    "    ['S001', 'Alice Brown', 85, 78, 92, 74],\n",
    "    ['S002', 'Bob Smith', 58, 64, 10, 66],\n",
    "    ['S003', 'Carol Lee', 95, 18, 82, 91],\n",
    "    ['S004', 'David Kim', 76, 85, 20, 79],\n",
    "    ['S005', 'Emma Davis', 66, 72, 68, 70],\n",
    "    ['S006', 'Frank Wilson', 90, 95, 88, 92],\n",
    "    ['S007', 'Grace Chen', 72, 10, 75, 65],\n",
    "    ['S008', 'Henry Patel', 81, 79, 85, 80],\n",
    "    ['S009', 'Irene Lopez', 69, 14, 17, 71],\n",
    "    ['S010', 'Jack Brown', 88, 10, 86, 19]\n",
    "])\n"
   ]
  },
  {
   "cell_type": "markdown",
   "metadata": {
    "id": "KBxWjMcbFwYt"
   },
   "source": [
    "1.Count the number of students who passed each subject."
   ]
  },
  {
   "cell_type": "code",
   "execution_count": 2,
   "metadata": {
    "colab": {
     "base_uri": "https://localhost:8080/"
    },
    "executionInfo": {
     "elapsed": 14,
     "status": "ok",
     "timestamp": 1758341212325,
     "user": {
      "displayName": "Tushar Raj",
      "userId": "04399146470560759060"
     },
     "user_tz": -330
    },
    "id": "6lvblXQ_q1_s",
    "outputId": "05c3f234-f8bd-498e-c4e4-c886a04a88aa"
   },
   "outputs": [
    {
     "name": "stdout",
     "output_type": "stream",
     "text": [
      "4\n",
      "the number of students who passed each subject : 4\n"
     ]
    }
   ],
   "source": [
    "count=0\n",
    "for i in student_data:\n",
    "    marks = i[2:].astype(int)\n",
    "    total = np.sum(marks>20)\n",
    "    if total==4:\n",
    "        count+=1\n",
    "print(count)\n",
    "print(f'the number of students who passed each subject : {count}')"
   ]
  },
  {
   "cell_type": "markdown",
   "metadata": {
    "id": "XXbkRZxXF44O"
   },
   "source": [
    "2.Calculate the average marks per subject.\n"
   ]
  },
  {
   "cell_type": "code",
   "execution_count": 14,
   "metadata": {
    "colab": {
     "base_uri": "https://localhost:8080/"
    },
    "executionInfo": {
     "elapsed": 13,
     "status": "ok",
     "timestamp": 1758341212339,
     "user": {
      "displayName": "Tushar Raj",
      "userId": "04399146470560759060"
     },
     "user_tz": -330
    },
    "id": "_faykCT2s1Hh",
    "outputId": "0e677ea0-5f8e-4699-bc90-5e484f2cc77a"
   },
   "outputs": [
    {
     "name": "stdout",
     "output_type": "stream",
     "text": [
      "Math   78.0\n",
      "Science   52.5\n",
      "English   62.3\n",
      "History   70.7\n"
     ]
    }
   ],
   "source": [
    "sub=['Math'\t,'Science',\t'English'\t,\"History\"]\n",
    "avg = np.mean(student_data[:,2:].astype(int),axis=0)\n",
    "j=0\n",
    "for i in sub:\n",
    "    print(i,\" \",avg[j])\n",
    "    j+=1"
   ]
  },
  {
   "cell_type": "markdown",
   "metadata": {
    "id": "9_EMDvtRF8Fl"
   },
   "source": [
    "3.Find the student with the highest total marks"
   ]
  },
  {
   "cell_type": "code",
   "execution_count": 15,
   "metadata": {
    "colab": {
     "base_uri": "https://localhost:8080/"
    },
    "executionInfo": {
     "elapsed": 17,
     "status": "ok",
     "timestamp": 1758341212357,
     "user": {
      "displayName": "Tushar Raj",
      "userId": "04399146470560759060"
     },
     "user_tz": -330
    },
    "id": "Pvw1LyuUK3Cc",
    "outputId": "cf254ee0-c58a-42f1-a514-c649dfd025ff"
   },
   "outputs": [
    {
     "name": "stdout",
     "output_type": "stream",
     "text": [
      "['S006' 'Frank Wilson' '90' '95' '88' '92']\n",
      "Frank Wilson : 365\n"
     ]
    }
   ],
   "source": [
    "\n",
    "print(student_data[np.argmax(np.sum(student_data[:,2:].astype(int),axis=1))])###\n",
    "\n",
    "\n",
    "\n",
    "max_marks = 0\n",
    "name = ''\n",
    "for i in student_data:\n",
    "  marks = i[2:].astype(int)\n",
    "  total = sum(marks)\n",
    "  if max_marks<total:\n",
    "    max_marks = total\n",
    "    name = i[1]\n",
    "print(f'{name} : {max_marks}')\n"
   ]
  },
  {
   "cell_type": "markdown",
   "metadata": {
    "id": "7xaUEh3EGAhc"
   },
   "source": [
    "4.Determine the top 3 students based on average marks."
   ]
  },
  {
   "cell_type": "code",
   "execution_count": 16,
   "metadata": {
    "colab": {
     "base_uri": "https://localhost:8080/"
    },
    "executionInfo": {
     "elapsed": 50,
     "status": "ok",
     "timestamp": 1758341212408,
     "user": {
      "displayName": "Tushar Raj",
      "userId": "04399146470560759060"
     },
     "user_tz": -330
    },
    "id": "oidpyme2uIs6",
    "outputId": "9d83b5ef-512c-43aa-d4f8-ba41ad64e776"
   },
   "outputs": [
    {
     "name": "stdout",
     "output_type": "stream",
     "text": [
      "student 1 : Alice Brown , (Avg Marks) = 82.25\n",
      "student 2 : Henry Patel , (Avg Marks) = 81.25\n",
      "student 3 : Carol Lee , (Avg Marks) = 71.5\n"
     ]
    }
   ],
   "source": [
    "student_data[np.argsort(np.mean(student_data[:,2:].astype(int),axis=1))][::-1][0:3]#####\n",
    "\n",
    "\n",
    "marks = student_data[:,2:].astype(int)\n",
    "mean_marks = np.mean(marks,axis=1)\n",
    "sorted = np.sort(mean_marks)[::-1]\n",
    "for i in range(1,4):\n",
    "  for j in student_data:\n",
    "    marks = j[2:].astype(int)\n",
    "    if np.mean(marks)==sorted[i]:\n",
    "      print(f'student {i} : {j[1]} , (Avg Marks) = {sorted[i]}')"
   ]
  },
  {
   "cell_type": "markdown",
   "metadata": {
    "id": "VUpRGq0QwjDm"
   },
   "source": [
    "______________________________\n",
    "\n",
    "**4. Weather Data Analysis**"
   ]
  },
  {
   "cell_type": "code",
   "execution_count": 17,
   "metadata": {
    "executionInfo": {
     "elapsed": 2,
     "status": "ok",
     "timestamp": 1758341212411,
     "user": {
      "displayName": "Tushar Raj",
      "userId": "04399146470560759060"
     },
     "user_tz": -330
    },
    "id": "bCI0z-asxK2t"
   },
   "outputs": [],
   "source": [
    "import numpy as np\n",
    "\n",
    "# WeatherID   Month    Temp(°C)  Rainfall(mm)\n",
    "weather_data = np.array([\n",
    "    ['W001', 'January',   22,  10],\n",
    "    ['W002', 'January',   24,   5],\n",
    "    ['W003', 'January',   20,   8],\n",
    "\n",
    "    ['W004', 'February',  25,   7],\n",
    "    ['W005', 'February',  27,  12],\n",
    "    ['W006', 'February',  23,   9],\n",
    "\n",
    "    ['W007', 'March',     30,   4],\n",
    "    ['W008', 'March',     32,   6],\n",
    "    ['W009', 'March',     28,   5],\n",
    "\n",
    "    ['W010', 'April',     34,   2],\n",
    "    ['W011', 'April',     36,   3],\n",
    "    ['W012', 'April',     35,   1],\n",
    "\n",
    "    ['W013', 'May',       37,   0],\n",
    "    ['W014', 'May',       38,   2],\n",
    "    ['W015', 'May',       39,   1],\n",
    "\n",
    "    ['W016', 'June',      40,  30],\n",
    "    ['W017', 'June',      39,  25],\n",
    "    ['W018', 'June',      41,  28],\n",
    "\n",
    "    ['W019', 'July',      36,  45],\n",
    "    ['W020', 'July',      37,  42],\n",
    "    ['W021', 'July',      35,  50],\n",
    "\n",
    "    ['W022', 'August',    33,  40],\n",
    "    ['W023', 'August',    34,  38],\n",
    "    ['W024', 'August',    35,  35],\n",
    "\n",
    "    ['W025', 'September', 32,  25],\n",
    "    ['W026', 'September', 31,  28],\n",
    "    ['W027', 'September', 33,  22],\n",
    "\n",
    "    ['W028', 'October',   28,  15],\n",
    "    ['W029', 'October',   27,  18],\n",
    "    ['W030', 'October',   29,  12],\n",
    "\n",
    "    ['W031', 'November',  24,  20],\n",
    "    ['W032', 'November',  26,  22],\n",
    "    ['W033', 'November',  23,  18],\n",
    "\n",
    "    ['W034', 'December',  21,  30],\n",
    "    ['W035', 'December',  22,  25],\n",
    "    ['W036', 'December',  20,  28]\n",
    "])"
   ]
  },
  {
   "cell_type": "markdown",
   "metadata": {
    "id": "nVn5Qd8uwrST"
   },
   "source": [
    "1.Find the maximum and minimum temperature recorded each month."
   ]
  },
  {
   "cell_type": "code",
   "execution_count": 18,
   "metadata": {
    "colab": {
     "base_uri": "https://localhost:8080/"
    },
    "executionInfo": {
     "elapsed": 11,
     "status": "ok",
     "timestamp": 1758341212423,
     "user": {
      "displayName": "Tushar Raj",
      "userId": "04399146470560759060"
     },
     "user_tz": -330
    },
    "id": "40QRcCnew4jf",
    "outputId": "17dd3df0-5c7f-475d-9bf1-f3cf0b9c6abb"
   },
   "outputs": [
    {
     "name": "stdout",
     "output_type": "stream",
     "text": [
      "April   34   36\n",
      "August   33   35\n",
      "December   20   22\n",
      "February   23   27\n",
      "January   20   24\n",
      "July   35   37\n",
      "June   39   41\n",
      "March   28   32\n",
      "May   37   39\n",
      "November   23   26\n",
      "October   27   29\n",
      "September   31   33\n",
      "max temp in the month April : 36 deg\n",
      "min temp in the month April : 34 deg\n",
      "\n",
      "max temp in the month August : 35 deg\n",
      "min temp in the month August : 33 deg\n",
      "\n",
      "max temp in the month December : 22 deg\n",
      "min temp in the month December : 20 deg\n",
      "\n",
      "max temp in the month February : 27 deg\n",
      "min temp in the month February : 23 deg\n",
      "\n",
      "max temp in the month January : 24 deg\n",
      "min temp in the month January : 20 deg\n",
      "\n",
      "max temp in the month July : 37 deg\n",
      "min temp in the month July : 35 deg\n",
      "\n",
      "max temp in the month June : 41 deg\n",
      "min temp in the month June : 39 deg\n",
      "\n",
      "max temp in the month March : 32 deg\n",
      "min temp in the month March : 28 deg\n",
      "\n",
      "max temp in the month May : 39 deg\n",
      "min temp in the month May : 37 deg\n",
      "\n",
      "max temp in the month November : 26 deg\n",
      "min temp in the month November : 23 deg\n",
      "\n",
      "max temp in the month October : 29 deg\n",
      "min temp in the month October : 27 deg\n",
      "\n",
      "max temp in the month September : 33 deg\n",
      "min temp in the month September : 31 deg\n",
      "\n"
     ]
    }
   ],
   "source": [
    "month = np.unique(weather_data[:,1])###\n",
    "for i in month:\n",
    "    monthdata = weather_data[weather_data[:,1]==i]\n",
    "    max = monthdata[np.argmax(monthdata[:,2].astype(float))][2]\n",
    "    min = monthdata[np.argmin(monthdata[:,2].astype(float))][2]\n",
    "    print(i,\" \",min,\" \",max)\n",
    "\n",
    "\n",
    "months = np.unique(weather_data[:,1])\n",
    "for i in months:\n",
    "  index = weather_data[:,1]==i\n",
    "  filtered = weather_data[index]\n",
    "  print(f'max temp in the month {i} : {np.max(filtered[:,2].astype(int))} deg')\n",
    "  print(f'min temp in the month {i} : {np.min(filtered[:,2].astype(int))} deg')\n",
    "  print()"
   ]
  },
  {
   "cell_type": "markdown",
   "metadata": {
    "id": "6HpKKHoSwuyV"
   },
   "source": [
    "2.Calculate average rainfall per season."
   ]
  },
  {
   "cell_type": "code",
   "execution_count": 19,
   "metadata": {
    "colab": {
     "base_uri": "https://localhost:8080/"
    },
    "executionInfo": {
     "elapsed": 14,
     "status": "ok",
     "timestamp": 1758341212439,
     "user": {
      "displayName": "Tushar Raj",
      "userId": "04399146470560759060"
     },
     "user_tz": -330
    },
    "id": "SHkXwPSCw4_1",
    "outputId": "a17434e0-d379-402b-d281-fb45da39112c"
   },
   "outputs": [
    {
     "name": "stdout",
     "output_type": "stream",
     "text": [
      "W001   10.0\n",
      "W002   5.0\n",
      "W003   8.0\n",
      "W004   7.0\n",
      "W005   12.0\n",
      "W006   9.0\n",
      "W007   4.0\n",
      "W008   6.0\n",
      "W009   5.0\n",
      "W010   2.0\n",
      "W011   3.0\n",
      "W012   1.0\n",
      "W013   0.0\n",
      "W014   2.0\n",
      "W015   1.0\n",
      "W016   30.0\n",
      "W017   25.0\n",
      "W018   28.0\n",
      "W019   45.0\n",
      "W020   42.0\n",
      "W021   50.0\n",
      "W022   40.0\n",
      "W023   38.0\n",
      "W024   35.0\n",
      "W025   25.0\n",
      "W026   28.0\n",
      "W027   22.0\n",
      "W028   15.0\n",
      "W029   18.0\n",
      "W030   12.0\n",
      "W031   20.0\n",
      "W032   22.0\n",
      "W033   18.0\n",
      "W034   30.0\n",
      "W035   25.0\n",
      "W036   28.0\n",
      "avg rainfall in winter : 7.666666666666667\n",
      "avg rainfall in Monsoon : 9.333333333333334\n",
      "avg rainfall in autunmn : 5.0\n",
      "avg rainfall in summer : 2.0\n"
     ]
    }
   ],
   "source": [
    "# season = ['Spring','Summer',\"Autumn\",'Winter']\n",
    "season = ['winter','Monsoon',\"autunmn\",'summer']\n",
    "\n",
    "sea = np.unique(weather_data[:,0])###########\n",
    "for i in sea:\n",
    "    seadata = weather_data[weather_data[:,0]==i]\n",
    "    mean_rain = np.mean(seadata[:,-1].astype(float))\n",
    "    print(i,\" \",mean_rain)\n",
    "\n",
    "months = np.unique(weather_data[:,1])\n",
    "count = 0\n",
    "for i in season:\n",
    "  raing_data = weather_data[count:(count+3),-1].astype(int)\n",
    "  print(f'avg rainfall in {i} :',np.mean(raing_data))\n",
    "  count+=3\n"
   ]
  },
  {
   "cell_type": "markdown",
   "metadata": {
    "id": "D4bD3eh2ww81"
   },
   "source": [
    "3.Count how many days had temperature above a threshold (e.g., >35°C)"
   ]
  },
  {
   "cell_type": "code",
   "execution_count": 20,
   "metadata": {
    "colab": {
     "base_uri": "https://localhost:8080/"
    },
    "executionInfo": {
     "elapsed": 33,
     "status": "ok",
     "timestamp": 1758341212474,
     "user": {
      "displayName": "Tushar Raj",
      "userId": "04399146470560759060"
     },
     "user_tz": -330
    },
    "id": "bnb_PXxVw5T2",
    "outputId": "c3d26bc6-66bc-4431-c54b-76dd3156590d"
   },
   "outputs": [
    {
     "name": "stdout",
     "output_type": "stream",
     "text": [
      "days had temperature above a threshold (e.g., >35°C) : 9\n"
     ]
    }
   ],
   "source": [
    "temp = weather_data[:,-2].astype(int)>35\n",
    "print('days had temperature above a threshold (e.g., >35°C) :',sum(temp))"
   ]
  },
  {
   "cell_type": "markdown",
   "metadata": {
    "id": "E4xVxBXEw08G"
   },
   "source": [
    "4.Identify the month with the highest average temperature."
   ]
  },
  {
   "cell_type": "code",
   "execution_count": 21,
   "metadata": {
    "colab": {
     "base_uri": "https://localhost:8080/"
    },
    "executionInfo": {
     "elapsed": 18,
     "status": "ok",
     "timestamp": 1758341212474,
     "user": {
      "displayName": "Tushar Raj",
      "userId": "04399146470560759060"
     },
     "user_tz": -330
    },
    "id": "VL3_PZHYw5y1",
    "outputId": "5b128d0b-f64c-47bf-8750-0fc76df913ac"
   },
   "outputs": [
    {
     "name": "stdout",
     "output_type": "stream",
     "text": [
      "June   40.0\n",
      "highest average temperature \"September\" , avg_temp : 40.0 C\n"
     ]
    }
   ],
   "source": [
    "month = np.unique(weather_data[:,1])#####\n",
    "temp = []\n",
    "for i in month:\n",
    "    monthdata = weather_data[weather_data[:,1]==i]\n",
    "    monttemp = np.mean(monthdata[:,-2].astype(float))\n",
    "    temp.append(monttemp)\n",
    "print(month[np.argmax(temp)],\" \",temp[np.argmax(temp)])\n",
    "\n",
    "\n",
    "months = np.unique(weather_data[:,1])\n",
    "count = 0\n",
    "max_avg_temp=0\n",
    "monthName=''\n",
    "for i in months:\n",
    "  monthdata = weather_data[weather_data[:,1]==i]\n",
    "  if max_avg_temp < np.mean(monthdata[:,-2].astype(int)):\n",
    "    max_avg_temp = np.mean(monthdata[:,-2].astype(int))\n",
    "    monthName = i\n",
    "print(f'highest average temperature \"{i}\" , avg_temp : {max_avg_temp} C')\n"
   ]
  },
  {
   "cell_type": "markdown",
   "metadata": {
    "id": "PyVoDMq34aG9"
   },
   "source": [
    "________________________________\n",
    "**5. Stock Market Data Analysis**"
   ]
  },
  {
   "cell_type": "code",
   "execution_count": 22,
   "metadata": {
    "executionInfo": {
     "elapsed": 3,
     "status": "ok",
     "timestamp": 1758341212475,
     "user": {
      "displayName": "Tushar Raj",
      "userId": "04399146470560759060"
     },
     "user_tz": -330
    },
    "id": "UB6BREDY4gjW"
   },
   "outputs": [],
   "source": [
    "import numpy as np\n",
    "\n",
    "# StockID   Date        Company        Price\n",
    "stock_data = np.array([\n",
    "    ['ST001', '2025-01-01', 'AlphaTech',   150],\n",
    "    ['ST002', '2025-01-01', 'BetaCorp',    220],\n",
    "    ['ST003', '2025-01-01', 'GammaLtd',    310],\n",
    "\n",
    "    ['ST004', '2025-01-02', 'AlphaTech',   155],\n",
    "    ['ST005', '2025-01-02', 'BetaCorp',    215],\n",
    "    ['ST006', '2025-01-02', 'GammaLtd',    320],\n",
    "\n",
    "    ['ST007', '2025-01-03', 'AlphaTech',   160],\n",
    "    ['ST008', '2025-01-03', 'BetaCorp',    225],\n",
    "    ['ST009', '2025-01-03', 'GammaLtd',    315],\n",
    "\n",
    "    ['ST010', '2025-01-04', 'AlphaTech',   158],\n",
    "    ['ST011', '2025-01-04', 'BetaCorp',    230],\n",
    "    ['ST012', '2025-01-04', 'GammaLtd',    318],\n",
    "\n",
    "    ['ST013', '2025-01-05', 'AlphaTech',   162],\n",
    "    ['ST014', '2025-01-05', 'BetaCorp',    228],\n",
    "    ['ST015', '2025-01-05', 'GammaLtd',    325],\n",
    "\n",
    "    ['ST016', '2025-01-06', 'AlphaTech',   165],\n",
    "    ['ST017', '2025-01-06', 'BetaCorp',    235],\n",
    "    ['ST018', '2025-01-06', 'GammaLtd',    330]\n",
    "])\n"
   ]
  },
  {
   "cell_type": "markdown",
   "metadata": {
    "id": "xz65r33i4ilt"
   },
   "source": [
    "1 Calculate daily returns for each stock"
   ]
  },
  {
   "cell_type": "code",
   "execution_count": 23,
   "metadata": {
    "colab": {
     "base_uri": "https://localhost:8080/"
    },
    "executionInfo": {
     "elapsed": 15,
     "status": "ok",
     "timestamp": 1758341212491,
     "user": {
      "displayName": "Tushar Raj",
      "userId": "04399146470560759060"
     },
     "user_tz": -330
    },
    "id": "u_1spX-i4vXN",
    "outputId": "94b6aafa-f5e2-4c87-a134-506a391b7bb9"
   },
   "outputs": [
    {
     "name": "stdout",
     "output_type": "stream",
     "text": [
      "stock  AlphaTech\n",
      "day1 returns 0.03\n",
      "day2 returns 0.03\n",
      "day3 returns -0.01\n",
      "day4 returns 0.03\n",
      "day5 returns 0.02\n",
      "\n",
      "stock  BetaCorp\n",
      "day1 returns -0.02\n",
      "day2 returns 0.05\n",
      "day3 returns 0.02\n",
      "day4 returns -0.01\n",
      "day5 returns 0.03\n",
      "\n",
      "stock  GammaLtd\n",
      "day1 returns 0.03\n",
      "day2 returns -0.02\n",
      "day3 returns 0.01\n",
      "day4 returns 0.02\n",
      "day5 returns 0.02\n",
      "\n"
     ]
    }
   ],
   "source": [
    "stock = np.unique(stock_data[:,2])\n",
    "for i in stock:\n",
    "  temp = stock_data[stock_data[:,2]==i]\n",
    "  print('stock ',i)\n",
    "  for j in range(0,len(temp)-1):\n",
    "    returns = (temp[j+1,-1].astype(int)-temp[j,-1].astype(int))/temp[j,-1].astype(int)\n",
    "    print(f'day{j+1} returns',returns.round(2))\n",
    "  print()\n",
    "\n"
   ]
  },
  {
   "cell_type": "markdown",
   "metadata": {
    "id": "0_9plH4o4mvt"
   },
   "source": [
    "2 Find the stock with the highest average return."
   ]
  },
  {
   "cell_type": "code",
   "execution_count": 24,
   "metadata": {
    "colab": {
     "base_uri": "https://localhost:8080/"
    },
    "executionInfo": {
     "elapsed": 15,
     "status": "ok",
     "timestamp": 1758341212507,
     "user": {
      "displayName": "Tushar Raj",
      "userId": "04399146470560759060"
     },
     "user_tz": -330
    },
    "id": "UY-V8jcj4vv-",
    "outputId": "6dee0ee5-e896-4ea8-f51e-7ddef35b47b0"
   },
   "outputs": [
    {
     "name": "stdout",
     "output_type": "stream",
     "text": [
      "Average daily return of AlphaTech: 0.0194 (1.94%)\n",
      "Average daily return of BetaCorp: 0.0136 (1.36%)\n",
      "Average daily return of GammaLtd: 0.0127 (1.27%)\n"
     ]
    }
   ],
   "source": [
    "\n",
    "for stock in stock:\n",
    "    temp = stock_data[stock_data[:, 2] == stock]\n",
    "    temp = temp[temp[:, 1].argsort()]\n",
    "\n",
    "    prices = temp[:, -1].astype(float)\n",
    "    returns = (prices[1:] - prices[:-1]) / prices[:-1]\n",
    "\n",
    "    avg_return = np.mean(returns)\n",
    "    print(f'Average daily return of {stock}: {avg_return:.4f} ({avg_return*100:.2f}%)')\n"
   ]
  },
  {
   "cell_type": "markdown",
   "metadata": {
    "id": "FT3rqkgy4pAF"
   },
   "source": [
    "3 Count how many days each stock had a positive return."
   ]
  },
  {
   "cell_type": "code",
   "execution_count": 25,
   "metadata": {
    "colab": {
     "base_uri": "https://localhost:8080/"
    },
    "executionInfo": {
     "elapsed": 11,
     "status": "ok",
     "timestamp": 1758341212566,
     "user": {
      "displayName": "Tushar Raj",
      "userId": "04399146470560759060"
     },
     "user_tz": -330
    },
    "id": "s6BU5Ule4v_9",
    "outputId": "3e1a0adb-0b26-404f-d7d0-20ae0515c716"
   },
   "outputs": [
    {
     "name": "stdout",
     "output_type": "stream",
     "text": [
      "AlphaTech has positive return for 4 days\n",
      "\n",
      "BetaCorp has positive return for 3 days\n",
      "\n",
      "GammaLtd has positive return for 4 days\n",
      "\n"
     ]
    }
   ],
   "source": [
    "stock = np.unique(stock_data[:,2])\n",
    "for i in stock:\n",
    "  temp = stock_data[stock_data[:,2]==i]\n",
    "  count=0\n",
    "  for j in range(0,len(temp)-1):\n",
    "    returns = (temp[j+1,-1].astype(int)-temp[j,-1].astype(int))/temp[j,-1].astype(int)\n",
    "    if returns>0:\n",
    "      count+=1\n",
    "  print(f'{i} has positive return for {count} days',)\n",
    "  print()"
   ]
  },
  {
   "cell_type": "markdown",
   "metadata": {
    "id": "G_QfD7DJ4q1u"
   },
   "source": [
    "4 Determine the maximum drawdown (largest fall from peak price)."
   ]
  },
  {
   "cell_type": "code",
   "execution_count": 26,
   "metadata": {
    "colab": {
     "base_uri": "https://localhost:8080/"
    },
    "executionInfo": {
     "elapsed": 11,
     "status": "ok",
     "timestamp": 1758341212579,
     "user": {
      "displayName": "Tushar Raj",
      "userId": "04399146470560759060"
     },
     "user_tz": -330
    },
    "id": "VHnl_v-i4wP3",
    "outputId": "e3004369-a12f-4214-f24d-acb68084ca77"
   },
   "outputs": [
    {
     "name": "stdout",
     "output_type": "stream",
     "text": [
      "max downfall of AlphaTech is  -0.012\n",
      "max downfall of BetaCorp is  -0.023\n",
      "max downfall of GammaLtd is  -0.016\n"
     ]
    }
   ],
   "source": [
    "stock = np.unique(stock_data[:,2])\n",
    "for i in stock:\n",
    "  temp = stock_data[stock_data[:,2]==i]\n",
    "  temp_ret = (temp[0+1,-1].astype(int)-temp[0,-1].astype(int))/temp[0,-1].astype(int)\n",
    "  for j in range(1,len(temp)-1):\n",
    "    returns = (temp[j+1,-1].astype(int)-temp[j,-1].astype(int))/temp[j,-1].astype(int)\n",
    "    if returns<temp_ret:\n",
    "      temp_ret=returns\n",
    "  print(f'max downfall of {i} is ',temp_ret.round(3))\n"
   ]
  },
  {
   "cell_type": "markdown",
   "metadata": {
    "id": "I8U4c93CpjQN"
   },
   "source": [
    "**6. Hospital Patient Data Analysis**"
   ]
  },
  {
   "cell_type": "code",
   "execution_count": 27,
   "metadata": {
    "colab": {
     "base_uri": "https://localhost:8080/"
    },
    "executionInfo": {
     "elapsed": 12,
     "status": "ok",
     "timestamp": 1758341212592,
     "user": {
      "displayName": "Tushar Raj",
      "userId": "04399146470560759060"
     },
     "user_tz": -330
    },
    "id": "g_4H5hEzoHxe",
    "outputId": "d3363178-44de-436f-f332-9cdda757ad5a"
   },
   "outputs": [
    {
     "data": {
      "text/plain": [
       "(10, 5)"
      ]
     },
     "execution_count": 27,
     "metadata": {},
     "output_type": "execute_result"
    }
   ],
   "source": [
    "import numpy as np\n",
    "\n",
    "#patient_id age department disease_category days_stayed\n",
    "data = np.array([\n",
    "    ('P001', 45, 'Cardiology', 'Heart Disease', 7),\n",
    "    ('P002', 30, 'Neurology', 'Stroke', 10),\n",
    "    ('P003', 65, 'Orthopedics', 'Fracture', 5),\n",
    "    ('P004', 50, 'Cardiology', 'Heart Disease', 12),\n",
    "    ('P005', 40, 'Neurology', 'Migraine', 3),\n",
    "    ('P006', 70, 'Cardiology', 'Arrhythmia', 8),\n",
    "    ('P007', 60, 'Orthopedics', 'Arthritis', 15),\n",
    "    ('P008', 55, 'Neurology', 'Stroke', 6),\n",
    "    ('P009', 35, 'Cardiology', 'Heart Disease', 9),\n",
    "    ('P010', 28, 'Orthopedics', 'Fracture', 4)\n",
    "])\n",
    "data.shape"
   ]
  },
  {
   "cell_type": "markdown",
   "metadata": {
    "id": "AP_IbM2Npgg2"
   },
   "source": [
    "1 Count the number of patients per disease category."
   ]
  },
  {
   "cell_type": "code",
   "execution_count": 28,
   "metadata": {
    "colab": {
     "base_uri": "https://localhost:8080/"
    },
    "executionInfo": {
     "elapsed": 11,
     "status": "ok",
     "timestamp": 1758341212605,
     "user": {
      "displayName": "Tushar Raj",
      "userId": "04399146470560759060"
     },
     "user_tz": -330
    },
    "id": "4pL7xEXfoRx-",
    "outputId": "f230cfc9-557c-4c9b-ad1f-8c9fa12b958b"
   },
   "outputs": [
    {
     "name": "stdout",
     "output_type": "stream",
     "text": [
      "No of patients in Arrhythmia :1\n",
      "\n",
      "No of patients in Arthritis :1\n",
      "\n",
      "No of patients in Fracture :2\n",
      "\n",
      "No of patients in Heart Disease :3\n",
      "\n",
      "No of patients in Migraine :1\n",
      "\n",
      "No of patients in Stroke :2\n",
      "\n"
     ]
    }
   ],
   "source": [
    "category = np.unique(data[:,-2])\n",
    "for i in category :\n",
    "  patients = data[data[:,-2]==i]\n",
    "  # print(patients)\n",
    "  print(f'No of patients in {i} :{len(patients)}')\n",
    "  print()"
   ]
  },
  {
   "cell_type": "markdown",
   "metadata": {
    "id": "jG6hnp2EpoLV"
   },
   "source": [
    "2 Find the patient with the longest hospital stay."
   ]
  },
  {
   "cell_type": "code",
   "execution_count": 29,
   "metadata": {
    "colab": {
     "base_uri": "https://localhost:8080/"
    },
    "executionInfo": {
     "elapsed": 11,
     "status": "ok",
     "timestamp": 1758341212618,
     "user": {
      "displayName": "Tushar Raj",
      "userId": "04399146470560759060"
     },
     "user_tz": -330
    },
    "id": "ddoHaEIeouze",
    "outputId": "9f3e0816-e2ef-409f-f369-b7b40bab731c"
   },
   "outputs": [
    {
     "name": "stdout",
     "output_type": "stream",
     "text": [
      "patient with the longest hospital stay : ['P007' '60' 'Orthopedics' 'Arthritis' '15']\n"
     ]
    }
   ],
   "source": [
    "sortedData = np.argsort(data[:,-1].astype(int))\n",
    "sorted_patients = data[sortedData]\n",
    "print(f'patient with the longest hospital stay : {sorted_patients[-1]}')"
   ]
  },
  {
   "cell_type": "markdown",
   "metadata": {
    "id": "z_GKU5ea0m_D"
   },
   "source": [
    "3 Calculate average age of patients per department."
   ]
  },
  {
   "cell_type": "code",
   "execution_count": 30,
   "metadata": {
    "colab": {
     "base_uri": "https://localhost:8080/"
    },
    "executionInfo": {
     "elapsed": 10,
     "status": "ok",
     "timestamp": 1758341212630,
     "user": {
      "displayName": "Tushar Raj",
      "userId": "04399146470560759060"
     },
     "user_tz": -330
    },
    "id": "gQoVlTRXzeNi",
    "outputId": "fb6e1883-b3de-4ae5-9d29-a43c5b8d9913"
   },
   "outputs": [
    {
     "name": "stdout",
     "output_type": "stream",
     "text": [
      "average age of patients in department Cardiology :  50.0\n",
      "average age of patients in department Neurology :  41.666666666666664\n",
      "average age of patients in department Orthopedics :  51.0\n"
     ]
    }
   ],
   "source": [
    "department = np.unique(data[:,2])\n",
    "for i in department:\n",
    "  info = data[data[:,2]==i]\n",
    "  avg = np.mean(info[:,1].astype(int))\n",
    "  print(f'average age of patients in department {i} : ',avg)\n"
   ]
  },
  {
   "cell_type": "markdown",
   "metadata": {
    "id": "wwbHl07l0tjx"
   },
   "source": [
    "4 Identify the most common diagnosis."
   ]
  },
  {
   "cell_type": "code",
   "execution_count": 31,
   "metadata": {
    "colab": {
     "base_uri": "https://localhost:8080/"
    },
    "executionInfo": {
     "elapsed": 12,
     "status": "ok",
     "timestamp": 1758341212643,
     "user": {
      "displayName": "Tushar Raj",
      "userId": "04399146470560759060"
     },
     "user_tz": -330
    },
    "id": "2Qnl7mjzzu6b",
    "outputId": "f17b860c-0d51-45f5-85df-6483cc2d26c8"
   },
   "outputs": [
    {
     "name": "stdout",
     "output_type": "stream",
     "text": [
      " most common diagnosis \"Heart Disease\"\n"
     ]
    }
   ],
   "source": [
    "category = np.unique(data[:,-2])\n",
    "name = \"\"\n",
    "temp = 0\n",
    "for i in category :\n",
    "  patients = data[data[:,-2]==i]\n",
    "  if len(patients)>temp:\n",
    "    name=i\n",
    "    temp=len(patients)\n",
    "print(f' most common diagnosis \"{name}\"')"
   ]
  },
  {
   "cell_type": "markdown",
   "metadata": {
    "id": "F4Vu-q7Y17YJ"
   },
   "source": [
    "**7 E-commerce Website Traffic Analysis**"
   ]
  },
  {
   "cell_type": "code",
   "execution_count": 32,
   "metadata": {
    "executionInfo": {
     "elapsed": 1,
     "status": "ok",
     "timestamp": 1758341212645,
     "user": {
      "displayName": "Tushar Raj",
      "userId": "04399146470560759060"
     },
     "user_tz": -330
    },
    "id": "BZB6uTAi174q"
   },
   "outputs": [],
   "source": [
    "import numpy as np\n",
    "\n",
    "# 'visitor_id','date','pages_visited','time_spent',\n",
    "\n",
    "data = np.array([\n",
    "    ['V001', '2025-09-01', 5, 12.5],\n",
    "    ['V002', '2025-09-01', 1, 3.0],\n",
    "    ['V003', '2025-09-02', 3, 7.2],\n",
    "    ['V001', '2025-09-02', 2, 6.5],\n",
    "    ['V002', '2025-09-03', 1, 2.0],\n",
    "    ['V003', '2025-09-03', 4, 15.0],\n",
    "    ['V004', '2025-09-04', 3, 20.0],\n",
    "    ['V002', '2025-09-05', 1, 1.5],\n",
    "    ['V003', '2025-09-06', 2, 5.0],\n",
    "    ['V001', '2025-09-07', 3, 10.]\n",
    "])\n"
   ]
  },
  {
   "cell_type": "markdown",
   "metadata": {
    "id": "m-dIXfZzjHwY"
   },
   "source": [
    "1.Count the number of visitors per day/week."
   ]
  },
  {
   "cell_type": "code",
   "execution_count": 33,
   "metadata": {
    "colab": {
     "base_uri": "https://localhost:8080/"
    },
    "executionInfo": {
     "elapsed": 48,
     "status": "ok",
     "timestamp": 1758341212695,
     "user": {
      "displayName": "Tushar Raj",
      "userId": "04399146470560759060"
     },
     "user_tz": -330
    },
    "id": "h_jG2jCmjHeP",
    "outputId": "8036fa6e-d5ed-405c-9994-b7fd616701fd"
   },
   "outputs": [
    {
     "name": "stdout",
     "output_type": "stream",
     "text": [
      " visitors on date 2025-09-01 : 6\n",
      " visitors on date 2025-09-02 : 5\n",
      " visitors on date 2025-09-03 : 5\n",
      " visitors on date 2025-09-04 : 3\n",
      " visitors on date 2025-09-05 : 1\n",
      " visitors on date 2025-09-06 : 2\n",
      " visitors on date 2025-09-07 : 3\n"
     ]
    }
   ],
   "source": [
    "uniqure_dates = np.unique(data[:,1])\n",
    "for i in uniqure_dates:\n",
    "  date = data[data[:,1]==i]\n",
    "  visitors = np.sum(date[:,2].astype(int))\n",
    "  print(f' visitors on date {i} :',visitors)"
   ]
  },
  {
   "cell_type": "markdown",
   "metadata": {
    "id": "-hNSjmmVlqe-"
   },
   "source": [
    "2.Find the day with the highest number of visitors."
   ]
  },
  {
   "cell_type": "code",
   "execution_count": 34,
   "metadata": {
    "colab": {
     "base_uri": "https://localhost:8080/"
    },
    "executionInfo": {
     "elapsed": 70,
     "status": "ok",
     "timestamp": 1758341212766,
     "user": {
      "displayName": "Tushar Raj",
      "userId": "04399146470560759060"
     },
     "user_tz": -330
    },
    "id": "I2lz5Q1WlqOl",
    "outputId": "8bcb0b5c-54ea-4541-9783-43052ce4f429"
   },
   "outputs": [
    {
     "name": "stdout",
     "output_type": "stream",
     "text": [
      "day with the highest number of visitors : 2025-09-01 (6)\n"
     ]
    }
   ],
   "source": [
    "temp = 0\n",
    "day = ''\n",
    "uniqure_dates = np.unique(data[:,1])\n",
    "for i in uniqure_dates:\n",
    "  date = data[data[:,1]==i]\n",
    "  visitors = np.sum(date[:,2].astype(int))\n",
    "  if visitors>temp:\n",
    "    temp=visitors\n",
    "    day=i\n",
    "print('day with the highest number of visitors :',day,f'({temp})')"
   ]
  },
  {
   "cell_type": "markdown",
   "metadata": {
    "id": "lKavDH3PnQtR"
   },
   "source": [
    "3 Calculate average time spent by users on the website."
   ]
  },
  {
   "cell_type": "code",
   "execution_count": 35,
   "metadata": {
    "colab": {
     "base_uri": "https://localhost:8080/"
    },
    "executionInfo": {
     "elapsed": 10,
     "status": "ok",
     "timestamp": 1758341212777,
     "user": {
      "displayName": "Tushar Raj",
      "userId": "04399146470560759060"
     },
     "user_tz": -330
    },
    "id": "6RqhNRyfnUwq",
    "outputId": "90033d51-05c6-43d4-ac4c-2d6ae5b47da0"
   },
   "outputs": [
    {
     "name": "stdout",
     "output_type": "stream",
     "text": [
      "avg time spent by user (V001) : 3.3333333333333335\n",
      "avg time spent by user (V002) : 1.0\n",
      "avg time spent by user (V003) : 3.0\n",
      "avg time spent by user (V004) : 3.0\n"
     ]
    }
   ],
   "source": [
    "uniqure_users = np.unique(data[:,0])\n",
    "for i in uniqure_users:\n",
    "  user = data[data[:,0]==i]\n",
    "  avg_time = np.mean(user[:,-2].astype(int))\n",
    "  print(f'avg time spent by user ({i}) : {avg_time}')"
   ]
  },
  {
   "cell_type": "markdown",
   "metadata": {
    "id": "zSdB7ZivqKSu"
   },
   "source": [
    "4 Determine bounce rate (users who visited only 1 page).\n",
    "\n"
   ]
  },
  {
   "cell_type": "code",
   "execution_count": 36,
   "metadata": {
    "colab": {
     "base_uri": "https://localhost:8080/"
    },
    "executionInfo": {
     "elapsed": 55,
     "status": "ok",
     "timestamp": 1758341212833,
     "user": {
      "displayName": "Tushar Raj",
      "userId": "04399146470560759060"
     },
     "user_tz": -330
    },
    "id": "wca5rEmTqQUH",
    "outputId": "bbe36648-21ae-49b4-ec62-5e4636cc522f"
   },
   "outputs": [
    {
     "name": "stdout",
     "output_type": "stream",
     "text": [
      "bounce rate 30.0 %\n"
     ]
    }
   ],
   "source": [
    "page_Visits = data[:,2].astype(int)\n",
    "One_page_Visits = np.sum(page_Visits==1)\n",
    "bounceRate = (One_page_Visits/len(page_Visits))*100\n",
    "print('bounce rate',bounceRate,'%')"
   ]
  },
  {
   "cell_type": "markdown",
   "metadata": {
    "id": "TVuMrNdusy2O"
   },
   "source": [
    "**Transportation Data Analysis**"
   ]
  },
  {
   "cell_type": "code",
   "execution_count": 37,
   "metadata": {
    "executionInfo": {
     "elapsed": 2,
     "status": "ok",
     "timestamp": 1758341212836,
     "user": {
      "displayName": "Tushar Raj",
      "userId": "04399146470560759060"
     },
     "user_tz": -330
    },
    "id": "g_pCiBs1s4x7"
   },
   "outputs": [],
   "source": [
    "import numpy as np\n",
    "\n",
    "# Columns: [RouteID, VehicleID, Timestamp, PassengersOnBoard, Capacity]\n",
    "data = np.array([\n",
    "    ['R001', 'B001', '2025-09-01 07:15', 30, 50],\n",
    "    ['R001', 'B002', '2025-09-01 19:30', 45, 50],\n",
    "    ['R002', 'B003', '2025-09-01 07:45', 20, 40],\n",
    "    ['R002', 'B004', '2025-09-01 19:00', 35, 40],\n",
    "    ['R003', 'B005', '2025-09-01 08:00', 50, 60],\n",
    "    ['R003', 'B006', '2025-09-01 19:30', 55, 60],\n",
    "    ['R001', 'B007', '2025-09-01 19:00', 40, 50],\n",
    "    ['R002', 'B008', '2025-09-01 18:30', 38, 40],\n",
    "    ['R003', 'B009', '2025-09-01 19:00', 60, 60],\n",
    "    ['R001', 'B010', '2025-09-01 19:30', 35, 50]\n",
    "], dtype=object)\n"
   ]
  },
  {
   "cell_type": "markdown",
   "metadata": {
    "id": "y3mfNEXptnDm"
   },
   "source": [
    "1 Count the number of passengers per route."
   ]
  },
  {
   "cell_type": "code",
   "execution_count": 38,
   "metadata": {
    "colab": {
     "base_uri": "https://localhost:8080/"
    },
    "executionInfo": {
     "elapsed": 21,
     "status": "ok",
     "timestamp": 1758341212858,
     "user": {
      "displayName": "Tushar Raj",
      "userId": "04399146470560759060"
     },
     "user_tz": -330
    },
    "id": "B4L37rvjtoNC",
    "outputId": "52e7d081-0dd4-47aa-d626-f68c9218ab30"
   },
   "outputs": [
    {
     "name": "stdout",
     "output_type": "stream",
     "text": [
      "total number of passengers in route R001 :  150\n",
      "total number of passengers in route R002 :  93\n",
      "total number of passengers in route R003 :  165\n"
     ]
    }
   ],
   "source": [
    "routes = np.unique(data[:,0])\n",
    "for i in routes:\n",
    "  transportData = data[data[:,0]==i]\n",
    "  passengers = np.sum(transportData[:,-2].astype(int))\n",
    "  print(f'total number of passengers in route {i} : ',passengers)"
   ]
  },
  {
   "cell_type": "markdown",
   "metadata": {
    "id": "C6EvCtluuf-k"
   },
   "source": [
    "2 Calculate average occupancy per bus/train."
   ]
  },
  {
   "cell_type": "code",
   "execution_count": 39,
   "metadata": {
    "colab": {
     "base_uri": "https://localhost:8080/"
    },
    "executionInfo": {
     "elapsed": 22,
     "status": "ok",
     "timestamp": 1758341212882,
     "user": {
      "displayName": "Tushar Raj",
      "userId": "04399146470560759060"
     },
     "user_tz": -330
    },
    "id": "KHeriAJgt2Ip",
    "outputId": "47260bf3-d3ba-43ab-acfc-ccd797d5f2f3"
   },
   "outputs": [
    {
     "name": "stdout",
     "output_type": "stream",
     "text": [
      "avg occupancey per bus in rout R001 : 0.75\n",
      "avg occupancey per bus in rout R002 : 0.78\n",
      "avg occupancey per bus in rout R003 : 0.92\n"
     ]
    }
   ],
   "source": [
    "routes = np.unique(data[:,0])\n",
    "for i in routes:\n",
    "  transportData = data[data[:,0]==i]\n",
    "  passengers = np.sum(transportData[:,-2].astype(int))\n",
    "  capacity = np.sum(transportData[:,-1].astype(float))\n",
    "  print(f'avg occupancey per bus in rout {i} :',(np.round(passengers/capacity,2)))\n"
   ]
  },
  {
   "cell_type": "markdown",
   "metadata": {
    "id": "onQjad5fyTEX"
   },
   "source": [
    "3 Find the route with maximum passengers."
   ]
  },
  {
   "cell_type": "code",
   "execution_count": 40,
   "metadata": {
    "colab": {
     "base_uri": "https://localhost:8080/"
    },
    "executionInfo": {
     "elapsed": 36,
     "status": "ok",
     "timestamp": 1758341212920,
     "user": {
      "displayName": "Tushar Raj",
      "userId": "04399146470560759060"
     },
     "user_tz": -330
    },
    "id": "drFEbHWHyUtT",
    "outputId": "cb7ad163-253d-4203-d3be-bd9a5d55ded0"
   },
   "outputs": [
    {
     "name": "stdout",
     "output_type": "stream",
     "text": [
      "route R003 maximum passengers :  165\n"
     ]
    }
   ],
   "source": [
    "rount_name=''\n",
    "total_passengers = 0\n",
    "routes = np.unique(data[:,0])\n",
    "for i in routes:\n",
    "  transportData = data[data[:,0]==i]\n",
    "  passengers = np.sum(transportData[:,-2].astype(int))\n",
    "  if total_passengers<passengers:\n",
    "    total_passengers = passengers\n",
    "    rount_name = i\n",
    "print(f'route {rount_name} maximum passengers : ',total_passengers)"
   ]
  },
  {
   "cell_type": "markdown",
   "metadata": {
    "id": "14ZnwyHuZ9om"
   },
   "source": [
    "Identify peak hours of usage.\n"
   ]
  },
  {
   "cell_type": "code",
   "execution_count": 41,
   "metadata": {
    "colab": {
     "base_uri": "https://localhost:8080/"
    },
    "executionInfo": {
     "elapsed": 43,
     "status": "ok",
     "timestamp": 1758341212965,
     "user": {
      "displayName": "Tushar Raj",
      "userId": "04399146470560759060"
     },
     "user_tz": -330
    },
    "id": "bhQkijW3Z8rK",
    "outputId": "92abaec6-a83e-427d-bd92-77e2555f059c"
   },
   "outputs": [
    {
     "name": "stdout",
     "output_type": "stream",
     "text": [
      "peak hours of usage : 19:00\n"
     ]
    }
   ],
   "source": [
    "time = data[:,2]\n",
    "time = [int(i[10:13]) for i in time]\n",
    "value=0\n",
    "count=0\n",
    "for i in time :\n",
    "  if time.count(i)>count:\n",
    "    value = i\n",
    "    count=time.count(i)\n",
    "print(f'peak hours of usage : {value}:00')"
   ]
  },
  {
   "cell_type": "markdown",
   "metadata": {
    "id": "tDQS1QYIZ9Hw"
   },
   "source": [
    "**9. Retail Store Inventory Analysis**"
   ]
  },
  {
   "cell_type": "code",
   "execution_count": 42,
   "metadata": {
    "executionInfo": {
     "elapsed": 1,
     "status": "ok",
     "timestamp": 1758341212968,
     "user": {
      "displayName": "Tushar Raj",
      "userId": "04399146470560759060"
     },
     "user_tz": -330
    },
    "id": "7XddmVZEeYRH"
   },
   "outputs": [],
   "source": [
    "import numpy as np\n",
    "\n",
    "# Columns: [ProductID, Category, ProductName, StockLevel, ReorderThreshold]\n",
    "inventory_data = np.array([\n",
    "    ['P001', 'Beverages', 'Cola 500ml', 120, 50],\n",
    "    ['P002', 'Beverages', 'Orange Juice 1L', 45, 60],\n",
    "    ['P003', 'Snacks', 'Potato Chips 200g', 80, 40],\n",
    "    ['P004', 'Snacks', 'Chocolate Bar 50g', 25, 30],\n",
    "    ['P005', 'Dairy', 'Milk 1L', 60, 40],\n",
    "    ['P006', 'Dairy', 'Cheddar Cheese 200g', 15, 20],\n",
    "    ['P007', 'Bakery', 'Whole Wheat Bread', 35, 25],\n",
    "    ['P008', 'Bakery', 'Croissant Pack (4)', 10, 15],\n",
    "    ['P009', 'Household', 'Laundry Detergent 2kg', 90, 30],\n",
    "    ['P010', 'Household', 'Dish Soap 500ml', 50, 20]\n",
    "], dtype=object)\n"
   ]
  },
  {
   "cell_type": "markdown",
   "metadata": {
    "id": "zmR_A8D2eeyO"
   },
   "source": [
    "1.Count the total number of products in stock.\n"
   ]
  },
  {
   "cell_type": "code",
   "execution_count": 43,
   "metadata": {
    "colab": {
     "base_uri": "https://localhost:8080/"
    },
    "executionInfo": {
     "elapsed": 27,
     "status": "ok",
     "timestamp": 1758341212996,
     "user": {
      "displayName": "Tushar Raj",
      "userId": "04399146470560759060"
     },
     "user_tz": -330
    },
    "id": "ryKq2H_TehX4",
    "outputId": "83db5cd2-6991-4279-f035-0f3cb749cadb"
   },
   "outputs": [
    {
     "name": "stdout",
     "output_type": "stream",
     "text": [
      "total number of products in stock 10\n"
     ]
    }
   ],
   "source": [
    "stock = inventory_data[:,-1]\n",
    "print(f'total number of products in stock',sum(stock>0))"
   ]
  },
  {
   "cell_type": "markdown",
   "metadata": {
    "id": "Hh_hUfWJgNeU"
   },
   "source": [
    "2.Find the product with the lowest inventory.\n"
   ]
  },
  {
   "cell_type": "code",
   "execution_count": 44,
   "metadata": {
    "colab": {
     "base_uri": "https://localhost:8080/"
    },
    "executionInfo": {
     "elapsed": 15,
     "status": "ok",
     "timestamp": 1758341213029,
     "user": {
      "displayName": "Tushar Raj",
      "userId": "04399146470560759060"
     },
     "user_tz": -330
    },
    "id": "4e36QWtLgU6S",
    "outputId": "1ea53147-727d-4a31-f492-41aa0a4b5c39"
   },
   "outputs": [
    {
     "name": "stdout",
     "output_type": "stream",
     "text": [
      "product wiht lowest inventory Bakery\n"
     ]
    }
   ],
   "source": [
    "sorted_data = inventory_data[np.argsort(inventory_data[:,-2])]\n",
    "print(f'product wiht lowest inventory {sorted_data[0][1]}')"
   ]
  },
  {
   "cell_type": "markdown",
   "metadata": {
    "id": "pA0QdkPthlIz"
   },
   "source": [
    "3.Calculate average stock per product category.\n"
   ]
  },
  {
   "cell_type": "code",
   "execution_count": 45,
   "metadata": {
    "colab": {
     "base_uri": "https://localhost:8080/"
    },
    "executionInfo": {
     "elapsed": 19,
     "status": "ok",
     "timestamp": 1758341213049,
     "user": {
      "displayName": "Tushar Raj",
      "userId": "04399146470560759060"
     },
     "user_tz": -330
    },
    "id": "DWHtC767hoVQ",
    "outputId": "ea586150-8a0d-41e2-e7dc-1a59756e94a6"
   },
   "outputs": [
    {
     "name": "stdout",
     "output_type": "stream",
     "text": [
      "average stock in Bakery : 22.5\n",
      "average stock in Beverages : 82.5\n",
      "average stock in Dairy : 37.5\n",
      "average stock in Household : 70.0\n",
      "average stock in Snacks : 52.5\n"
     ]
    }
   ],
   "source": [
    "category = np.unique(inventory_data[:,1])\n",
    "for i in category:\n",
    "  temp = inventory_data[inventory_data[:,1]==i]\n",
    "  avg = np.mean(temp[:,-2])\n",
    "  print(f'average stock in {i} : {avg}')"
   ]
  },
  {
   "cell_type": "markdown",
   "metadata": {
    "id": "Zn4gzEAhjDHz"
   },
   "source": [
    "4 Identify products that need restocking (below threshold)."
   ]
  },
  {
   "cell_type": "code",
   "execution_count": 46,
   "metadata": {
    "colab": {
     "base_uri": "https://localhost:8080/"
    },
    "executionInfo": {
     "elapsed": 46,
     "status": "ok",
     "timestamp": 1758341213096,
     "user": {
      "displayName": "Tushar Raj",
      "userId": "04399146470560759060"
     },
     "user_tz": -330
    },
    "id": "M5nCiP8sjJf5",
    "outputId": "ec98350f-a582-4467-e2d6-9ac76f8d168b"
   },
   "outputs": [
    {
     "name": "stdout",
     "output_type": "stream",
     "text": [
      "product that need restocking :\n",
      "Croissant Pack (4)\n",
      "Cheddar Cheese 200g\n",
      "Chocolate Bar 50g\n"
     ]
    }
   ],
   "source": [
    "product = sorted_data[:3,:][:,2]\n",
    "print('product that need restocking :')\n",
    "for i in product:\n",
    "  print(i)"
   ]
  },
  {
   "cell_type": "markdown",
   "metadata": {
    "id": "uHEewkKlkM5n"
   },
   "source": [
    "**10 Sports Team Performance Analysis**"
   ]
  },
  {
   "cell_type": "markdown",
   "metadata": {
    "id": "NkJ0dSBBkRyU"
   },
   "source": [
    "1 Count the number of wins per team"
   ]
  },
  {
   "cell_type": "code",
   "execution_count": 47,
   "metadata": {
    "executionInfo": {
     "elapsed": 2,
     "status": "ok",
     "timestamp": 1758341213099,
     "user": {
      "displayName": "Tushar Raj",
      "userId": "04399146470560759060"
     },
     "user_tz": -330
    },
    "id": "ZhnX7jQdkU1l"
   },
   "outputs": [],
   "source": [
    "import numpy as np\n",
    "\n",
    "# Columns: [MatchID, Team, Player, PointsScored, Result]\n",
    "sports_data = np.array([\n",
    "    ['M001', 'Tigers', 'Alice', 20, 'Win'],\n",
    "    ['M001', 'Lions', 'Bob', 15, 'Loss'],\n",
    "    ['M002', 'Tigers', 'Charlie', 18, 'Loss'],\n",
    "    ['M002', 'Lions', 'David', 25, 'Win'],\n",
    "    ['M003', 'Eagles', 'Eve', 30, 'Win'],\n",
    "    ['M003', 'Tigers', 'Alice', 22, 'Loss'],\n",
    "    ['M004', 'Eagles', 'Frank', 28, 'Loss'],\n",
    "    ['M004', 'Lions', 'Bob', 32, 'Win'],\n",
    "    ['M005', 'Tigers', 'Charlie', 24, 'Win'],\n",
    "    ['M005', 'Eagles', 'Eve', 20, 'Loss'],\n",
    "    ['M006', 'Lions', 'David', 18, 'Loss'],\n",
    "    ['M006', 'Eagles', 'Frank', 26, 'Win'],\n",
    "    ['M007', 'Tigers', 'Alice', 30, 'Win'],\n",
    "    ['M007', 'Lions', 'Bob', 12, 'Loss'],\n",
    "    ['M008', 'Eagles', 'Eve', 27, 'Win'],\n",
    "    ['M008', 'Tigers', 'Charlie', 21, 'Loss']\n",
    "], dtype=object)\n"
   ]
  },
  {
   "cell_type": "markdown",
   "metadata": {
    "id": "2hBHc2eUkt50"
   },
   "source": [
    "1 Count the number of wins per team."
   ]
  },
  {
   "cell_type": "code",
   "execution_count": 48,
   "metadata": {
    "colab": {
     "base_uri": "https://localhost:8080/"
    },
    "executionInfo": {
     "elapsed": 51,
     "status": "ok",
     "timestamp": 1758341213152,
     "user": {
      "displayName": "Tushar Raj",
      "userId": "04399146470560759060"
     },
     "user_tz": -330
    },
    "id": "9ZgulY2Tktgk",
    "outputId": "d7975a6c-75cd-4058-bcdb-432c852e3fcc"
   },
   "outputs": [
    {
     "name": "stdout",
     "output_type": "stream",
     "text": [
      "Eagles wins  3\n",
      "Lions wins  2\n",
      "Tigers wins  3\n"
     ]
    }
   ],
   "source": [
    "teams = np.unique(sports_data[:,1])\n",
    "for i in teams:\n",
    "  wins = sports_data[(sports_data[:,1]==i) & (sports_data[:,-1]=='Win')]\n",
    "  print(f'{i} wins ',len(wins))"
   ]
  },
  {
   "cell_type": "markdown",
   "metadata": {
    "id": "ym7SiQtOmCrg"
   },
   "source": [
    "2 Find the player with the highest average score"
   ]
  },
  {
   "cell_type": "code",
   "execution_count": 49,
   "metadata": {
    "colab": {
     "base_uri": "https://localhost:8080/"
    },
    "executionInfo": {
     "elapsed": 28,
     "status": "ok",
     "timestamp": 1758341213182,
     "user": {
      "displayName": "Tushar Raj",
      "userId": "04399146470560759060"
     },
     "user_tz": -330
    },
    "id": "8tybJnBemHxV",
    "outputId": "3bc4ab03-f727-47d2-c566-c16652e3bd0d"
   },
   "outputs": [
    {
     "name": "stdout",
     "output_type": "stream",
     "text": [
      "player whith highest avg score : Frank (27.0)\n"
     ]
    }
   ],
   "source": [
    "player = np.unique(sports_data[:,2])\n",
    "temp = 0\n",
    "player_name = \"\"\n",
    "for i in player:\n",
    "  player_data = sports_data[sports_data[:,2]==i]\n",
    "  avg = np.mean(player_data[:,-2])\n",
    "  if avg>temp:\n",
    "    temp = avg\n",
    "    player_name = i\n",
    "print(f'player whith highest avg score : {player_name} ({temp})')"
   ]
  },
  {
   "cell_type": "markdown",
   "metadata": {
    "id": "AB_Z7RAanT4T"
   },
   "source": [
    "3 Calculate total goals/runs/points scored by each team."
   ]
  },
  {
   "cell_type": "code",
   "execution_count": 50,
   "metadata": {
    "colab": {
     "base_uri": "https://localhost:8080/"
    },
    "executionInfo": {
     "elapsed": 54,
     "status": "ok",
     "timestamp": 1758341213237,
     "user": {
      "displayName": "Tushar Raj",
      "userId": "04399146470560759060"
     },
     "user_tz": -330
    },
    "id": "Ye3V9kcjnW3b",
    "outputId": "ecdc4c61-d254-4235-c81c-e049b625deac"
   },
   "outputs": [
    {
     "name": "stdout",
     "output_type": "stream",
     "text": [
      "total points scored by Eagles : 131\n",
      "total points scored by Lions : 102\n",
      "total points scored by Tigers : 135\n"
     ]
    }
   ],
   "source": [
    "teams = np.unique(sports_data[:,1])\n",
    "for i in teams:\n",
    "  team_data = sports_data[(sports_data[:,1]==i)]\n",
    "  total = sum(team_data[:,-2])\n",
    "  print(f'total points scored by {i} : {total}')"
   ]
  },
  {
   "cell_type": "markdown",
   "metadata": {
    "id": "TMMeQhCQnznT"
   },
   "source": [
    "4 Determine the most consistent performer based on statistics"
   ]
  },
  {
   "cell_type": "code",
   "execution_count": 51,
   "metadata": {
    "colab": {
     "base_uri": "https://localhost:8080/"
    },
    "executionInfo": {
     "elapsed": 13,
     "status": "ok",
     "timestamp": 1758341213252,
     "user": {
      "displayName": "Tushar Raj",
      "userId": "04399146470560759060"
     },
     "user_tz": -330
    },
    "id": "tQf-W5P8n0qO",
    "outputId": "7f11c66c-23a8-405e-83a1-a65bbf0d2dac"
   },
   "outputs": [
    {
     "name": "stdout",
     "output_type": "stream",
     "text": [
      "most consistent team \"Eagles\" avg points 26.2\n"
     ]
    }
   ],
   "source": [
    "teams = np.unique(sports_data[:,1])\n",
    "name =\"\"\n",
    "temp =0\n",
    "for i in teams:\n",
    "  team_data = sports_data[(sports_data[:,1]==i)]\n",
    "  avg = np.mean(team_data[:,-2])\n",
    "  if avg>temp:\n",
    "    temp = avg\n",
    "    name = i\n",
    "\n",
    "print(f'most consistent team \"{name}\" avg points {temp}')"
   ]
  },
  {
   "cell_type": "markdown",
   "metadata": {
    "id": "xGJaC8fAO7lE"
   },
   "source": [
    "---\n",
    "**NumPy 3D Array Transpose – Easy Problems**"
   ]
  },
  {
   "cell_type": "markdown",
   "metadata": {
    "id": "HhMM22iKRqa8"
   },
   "source": [
    "Problem 1: Full Axis Permutation\n",
    "Create a 3D array of shape (2, 3, 4)."
   ]
  },
  {
   "cell_type": "code",
   "execution_count": 52,
   "metadata": {
    "colab": {
     "base_uri": "https://localhost:8080/"
    },
    "executionInfo": {
     "elapsed": 34,
     "status": "ok",
     "timestamp": 1758341213288,
     "user": {
      "displayName": "Tushar Raj",
      "userId": "04399146470560759060"
     },
     "user_tz": -330
    },
    "id": "X3Qgz9p4O7at",
    "outputId": "ff8025a5-023f-4ef3-8bfb-4df4834eb5a9"
   },
   "outputs": [
    {
     "name": "stdout",
     "output_type": "stream",
     "text": [
      "[[[ 1  2  3  4]\n",
      "  [ 5  6  7  8]\n",
      "  [ 9 10 11 12]]\n",
      "\n",
      " [[13 14 15 16]\n",
      "  [17 18 19 20]\n",
      "  [21 22 23 24]]]\n",
      "(2, 3, 4)\n"
     ]
    }
   ],
   "source": [
    "import numpy as np\n",
    "data = np.array([\n",
    "    [[1,2,3,4],[5,6,7,8],[9,10,11,12]],\n",
    "    [[13,14,15,16],[17,18,19,20],[21,22,23,24]],\n",
    "])\n",
    "print(data)\n",
    "print(data.shape)\n"
   ]
  },
  {
   "cell_type": "markdown",
   "metadata": {
    "id": "5noGw9o_Rw3L"
   },
   "source": [
    "Transpose it so that the shape becomes (4, 2, 3)."
   ]
  },
  {
   "cell_type": "code",
   "execution_count": 53,
   "metadata": {
    "colab": {
     "base_uri": "https://localhost:8080/"
    },
    "executionInfo": {
     "elapsed": 26,
     "status": "ok",
     "timestamp": 1758341213315,
     "user": {
      "displayName": "Tushar Raj",
      "userId": "04399146470560759060"
     },
     "user_tz": -330
    },
    "id": "AM9VPikcRweb",
    "outputId": "2c422c32-d254-4304-9f0a-13a6687af5ad"
   },
   "outputs": [
    {
     "name": "stdout",
     "output_type": "stream",
     "text": [
      "[[[ 1 13]\n",
      "  [ 5 17]\n",
      "  [ 9 21]]\n",
      "\n",
      " [[ 2 14]\n",
      "  [ 6 18]\n",
      "  [10 22]]\n",
      "\n",
      " [[ 3 15]\n",
      "  [ 7 19]\n",
      "  [11 23]]\n",
      "\n",
      " [[ 4 16]\n",
      "  [ 8 20]\n",
      "  [12 24]]]\n"
     ]
    },
    {
     "data": {
      "text/plain": [
       "(4, 3, 2)"
      ]
     },
     "execution_count": 53,
     "metadata": {},
     "output_type": "execute_result"
    }
   ],
   "source": [
    "temp = data.transpose(2,1,0)\n",
    "print(temp)\n",
    "temp.shape"
   ]
  },
  {
   "cell_type": "code",
   "execution_count": 54,
   "metadata": {
    "colab": {
     "base_uri": "https://localhost:8080/"
    },
    "executionInfo": {
     "elapsed": 51,
     "status": "ok",
     "timestamp": 1758341213368,
     "user": {
      "displayName": "Tushar Raj",
      "userId": "04399146470560759060"
     },
     "user_tz": -330
    },
    "id": "3TuvLGMdoRAU",
    "outputId": "599e06ae-69ff-4211-bda4-35ae4414c6ce"
   },
   "outputs": [
    {
     "name": "stdout",
     "output_type": "stream",
     "text": [
      "original\n",
      "[[[ 1  2  3  4]\n",
      "  [ 5  6  7  8]\n",
      "  [ 9 10 11 12]]\n",
      "\n",
      " [[13 14 15 16]\n",
      "  [17 18 19 20]\n",
      "  [21 22 23 24]]]\n",
      "-------\n",
      "transposed\n",
      "[[[ 1 13]\n",
      "  [ 5 17]\n",
      "  [ 9 21]]\n",
      "\n",
      " [[ 2 14]\n",
      "  [ 6 18]\n",
      "  [10 22]]\n",
      "\n",
      " [[ 3 15]\n",
      "  [ 7 19]\n",
      "  [11 23]]\n",
      "\n",
      " [[ 4 16]\n",
      "  [ 8 20]\n",
      "  [12 24]]]\n"
     ]
    }
   ],
   "source": [
    "print('original')\n",
    "print(data)\n",
    "print('-------')\n",
    "print('transposed')\n",
    "print(temp)"
   ]
  },
  {
   "cell_type": "code",
   "execution_count": 55,
   "metadata": {
    "colab": {
     "base_uri": "https://localhost:8080/"
    },
    "executionInfo": {
     "elapsed": 18,
     "status": "ok",
     "timestamp": 1758341213388,
     "user": {
      "displayName": "Tushar Raj",
      "userId": "04399146470560759060"
     },
     "user_tz": -330
    },
    "id": "Jt0avvkDnTls",
    "outputId": "4bb75bd3-342c-40eb-a6ae-de8c0c96de2d"
   },
   "outputs": [
    {
     "name": "stdout",
     "output_type": "stream",
     "text": [
      "13\n",
      "(2, 3, 4)\n",
      "(4, 3, 2)\n",
      "13\n"
     ]
    }
   ],
   "source": [
    "print(data[1,0,0])\n",
    "print(data.shape)\n",
    "print(temp.shape)\n",
    "print(temp[0,0,1])"
   ]
  },
  {
   "cell_type": "markdown",
   "metadata": {
    "id": "VKyGQHG5pEI0"
   },
   "source": [
    "---\n",
    "**Problem 2: From (Batch, Channels, Height, Width) → (Batch, Height,\n",
    "Width, Channels)**"
   ]
  },
  {
   "cell_type": "markdown",
   "metadata": {
    "id": "fpjniaklqshy"
   },
   "source": [
    "In deep learning, images are often stored as (2, 3, 28, 28) → 2 images, 3 channels, 28×28 pixels.\n"
   ]
  },
  {
   "cell_type": "code",
   "execution_count": 56,
   "metadata": {
    "colab": {
     "base_uri": "https://localhost:8080/"
    },
    "executionInfo": {
     "elapsed": 14,
     "status": "ok",
     "timestamp": 1758341213404,
     "user": {
      "displayName": "Tushar Raj",
      "userId": "04399146470560759060"
     },
     "user_tz": -330
    },
    "id": "3k0clZG9pLjT",
    "outputId": "60330d61-62c4-4673-b654-d0f0b3ba1ff4"
   },
   "outputs": [
    {
     "data": {
      "text/plain": [
       "(2, 3, 28, 28)"
      ]
     },
     "execution_count": 56,
     "metadata": {},
     "output_type": "execute_result"
    }
   ],
   "source": [
    "data = np.random.rand(2,3,28,28)\n",
    "data.shape"
   ]
  },
  {
   "cell_type": "markdown",
   "metadata": {
    "id": "nl_AstOFqwNy"
   },
   "source": [
    "• Transpose it to shape (2, 28, 28, 3)."
   ]
  },
  {
   "cell_type": "code",
   "execution_count": 57,
   "metadata": {
    "colab": {
     "base_uri": "https://localhost:8080/"
    },
    "executionInfo": {
     "elapsed": 14,
     "status": "ok",
     "timestamp": 1758341213420,
     "user": {
      "displayName": "Tushar Raj",
      "userId": "04399146470560759060"
     },
     "user_tz": -330
    },
    "id": "Dha_ZM13qXZD",
    "outputId": "193a3911-e111-4a6c-dfb3-14edee83b250"
   },
   "outputs": [
    {
     "data": {
      "text/plain": [
       "(2, 28, 28, 3)"
      ]
     },
     "execution_count": 57,
     "metadata": {},
     "output_type": "execute_result"
    }
   ],
   "source": [
    "temp = data.transpose(0,2,3,1)\n",
    "temp.shape"
   ]
  },
  {
   "cell_type": "markdown",
   "metadata": {
    "id": "cU7o0tjIvXfw"
   },
   "source": [
    "Confirm that element [1, 0, 10, 15] in original moves to [1, 10, 15, 0] in transposed."
   ]
  },
  {
   "cell_type": "code",
   "execution_count": 58,
   "metadata": {
    "colab": {
     "base_uri": "https://localhost:8080/"
    },
    "executionInfo": {
     "elapsed": 22,
     "status": "ok",
     "timestamp": 1758341213444,
     "user": {
      "displayName": "Tushar Raj",
      "userId": "04399146470560759060"
     },
     "user_tz": -330
    },
    "id": "KhfAI4CMvWaK",
    "outputId": "051baca7-1cac-46b2-a5f5-ed08963c38d2"
   },
   "outputs": [
    {
     "name": "stdout",
     "output_type": "stream",
     "text": [
      "0.3941385394304323\n",
      "0.3941385394304323\n",
      "True\n"
     ]
    }
   ],
   "source": [
    "print(data[1,0,10,15])\n",
    "print(temp[1,10,15,0])\n",
    "print(np.equal(data[1,0,10,15],temp[1,10,15,0]))"
   ]
  },
  {
   "cell_type": "markdown",
   "metadata": {
    "id": "uHBOK7gCqx0y"
   },
   "source": [
    "---\n",
    "**Problem 3: Transpose Twice**"
   ]
  },
  {
   "cell_type": "markdown",
   "metadata": {
    "id": "Z26bVP5grA37"
   },
   "source": [
    "Create a 3D array of shape (3, 4, 5)."
   ]
  },
  {
   "cell_type": "code",
   "execution_count": 59,
   "metadata": {
    "colab": {
     "base_uri": "https://localhost:8080/"
    },
    "executionInfo": {
     "elapsed": 59,
     "status": "ok",
     "timestamp": 1758341213505,
     "user": {
      "displayName": "Tushar Raj",
      "userId": "04399146470560759060"
     },
     "user_tz": -330
    },
    "id": "3EmHlL5xrAWa",
    "outputId": "547d8293-a5d2-4c41-9df9-9579c4e6526b"
   },
   "outputs": [
    {
     "data": {
      "text/plain": [
       "(3, 4, 5)"
      ]
     },
     "execution_count": 59,
     "metadata": {},
     "output_type": "execute_result"
    }
   ],
   "source": [
    "data = np.array([\n",
    "    [[1,2,3,4,10],[5,6,7,8,10],[9,10,11,12,10],[9,10,11,12,10]],\n",
    "    [[13,14,15,16,10],[17,18,19,20,10],[21,22,23,24,10],[9,10,11,12,10]],\n",
    "    [[25,26,27,28,10],[29,30,31,32,10],[33,34,35,36,10],[9,10,11,12,10]],\n",
    "])\n",
    "data.shape"
   ]
  },
  {
   "cell_type": "markdown",
   "metadata": {
    "id": "s8PLXwXorq3B"
   },
   "source": [
    "• First, transpose it to (5, 3, 4)."
   ]
  },
  {
   "cell_type": "code",
   "execution_count": 60,
   "metadata": {
    "colab": {
     "base_uri": "https://localhost:8080/"
    },
    "executionInfo": {
     "elapsed": 41,
     "status": "ok",
     "timestamp": 1758341213547,
     "user": {
      "displayName": "Tushar Raj",
      "userId": "04399146470560759060"
     },
     "user_tz": -330
    },
    "id": "jbZzAbsmrpWa",
    "outputId": "381dacf1-4fc5-4a0c-d743-69e08fa047c5"
   },
   "outputs": [
    {
     "data": {
      "text/plain": [
       "(5, 3, 4)"
      ]
     },
     "execution_count": 60,
     "metadata": {},
     "output_type": "execute_result"
    }
   ],
   "source": [
    "temp = data.transpose(2,0,1)\n",
    "temp.shape"
   ]
  },
  {
   "cell_type": "markdown",
   "metadata": {
    "id": "qJpe1SjGr5pa"
   },
   "source": [
    "Then transpose the result back to (3, 4, 5) using another transpose."
   ]
  },
  {
   "cell_type": "code",
   "execution_count": 61,
   "metadata": {
    "colab": {
     "base_uri": "https://localhost:8080/"
    },
    "executionInfo": {
     "elapsed": 14,
     "status": "ok",
     "timestamp": 1758341213563,
     "user": {
      "displayName": "Tushar Raj",
      "userId": "04399146470560759060"
     },
     "user_tz": -330
    },
    "id": "rmaRCy1Kr3ya",
    "outputId": "e7238552-ca6b-4f5b-8712-80ff791f2f8f"
   },
   "outputs": [
    {
     "data": {
      "text/plain": [
       "(3, 4, 5)"
      ]
     },
     "execution_count": 61,
     "metadata": {},
     "output_type": "execute_result"
    }
   ],
   "source": [
    "ans = temp.transpose(1,2,0)\n",
    "ans.shape"
   ]
  },
  {
   "cell_type": "code",
   "execution_count": 62,
   "metadata": {
    "colab": {
     "base_uri": "https://localhost:8080/"
    },
    "executionInfo": {
     "elapsed": 21,
     "status": "ok",
     "timestamp": 1758341213599,
     "user": {
      "displayName": "Tushar Raj",
      "userId": "04399146470560759060"
     },
     "user_tz": -330
    },
    "id": "jswABGG_t4CK",
    "outputId": "e8f5e8be-6ef7-4e04-e126-eae304839bef"
   },
   "outputs": [
    {
     "name": "stdout",
     "output_type": "stream",
     "text": [
      "original and transpsed array are equal -> True\n"
     ]
    }
   ],
   "source": [
    "print(f'original and transpsed array are equal -> {np.array_equal(ans,data)}')"
   ]
  },
  {
   "cell_type": "markdown",
   "metadata": {
    "id": "0B1CdNBWuMTS"
   },
   "source": [
    "---\n",
    "Problem 4: Multi-Step Swap"
   ]
  },
  {
   "cell_type": "code",
   "execution_count": 63,
   "metadata": {
    "colab": {
     "base_uri": "https://localhost:8080/"
    },
    "collapsed": true,
    "executionInfo": {
     "elapsed": 24,
     "status": "ok",
     "timestamp": 1758341213680,
     "user": {
      "displayName": "Tushar Raj",
      "userId": "04399146470560759060"
     },
     "user_tz": -330
    },
    "id": "as1R6uEduWK0",
    "outputId": "d207cf6f-e1ca-44bc-9a3f-6bf18bcab3dc"
   },
   "outputs": [
    {
     "data": {
      "text/plain": [
       "array([[[9.46413611e-01, 2.11448841e-01, 3.27798389e-01, 8.38825236e-02,\n",
       "         5.80968374e-01, 5.68923380e-01, 5.55048283e-02, 1.28689430e-01,\n",
       "         3.80120349e-01, 2.50215457e-01, 1.77735048e-01, 9.46754722e-01,\n",
       "         1.28578959e-01, 8.64203198e-01, 1.05502773e-01, 2.62087377e-01,\n",
       "         5.03336066e-01, 1.73569439e-01, 3.33200880e-01, 3.51251531e-01,\n",
       "         3.81568638e-01, 1.81738458e-01, 2.53735651e-01, 2.42649727e-01,\n",
       "         2.75932628e-01, 1.98155066e-01, 9.60869093e-01, 1.19462952e-01,\n",
       "         4.28573257e-01, 2.41987802e-01],\n",
       "        [9.70826713e-01, 4.86662864e-01, 1.66749791e-01, 1.48725642e-01,\n",
       "         5.84951948e-01, 4.64218486e-01, 8.65450913e-01, 2.06882750e-01,\n",
       "         3.04705924e-01, 6.04393638e-01, 6.77832669e-01, 3.20715226e-01,\n",
       "         4.65671801e-01, 4.45992797e-02, 8.92790976e-01, 7.32102563e-01,\n",
       "         2.35874661e-01, 8.31478513e-01, 5.02093268e-01, 4.25901962e-01,\n",
       "         9.26952932e-01, 2.95889089e-01, 8.17843640e-01, 6.60838552e-01,\n",
       "         2.72750688e-01, 8.91248276e-03, 8.46926944e-01, 4.40207674e-01,\n",
       "         3.75314982e-02, 1.70555717e-01],\n",
       "        [9.69724335e-01, 7.33693658e-01, 9.54350201e-01, 9.16293318e-01,\n",
       "         2.67326651e-02, 6.45004699e-01, 6.18261501e-02, 9.51766767e-01,\n",
       "         2.83767385e-01, 6.25267156e-01, 7.27761014e-01, 9.23277281e-01,\n",
       "         1.31779465e-01, 5.69047967e-01, 8.85367528e-01, 9.44160582e-01,\n",
       "         5.12347814e-03, 4.34256293e-01, 6.49857080e-01, 6.60197386e-01,\n",
       "         8.74519729e-02, 9.93994511e-01, 3.94441288e-01, 1.78937131e-01,\n",
       "         1.75680421e-01, 3.54499410e-01, 1.07626823e-01, 4.72774280e-01,\n",
       "         1.43432795e-01, 7.42723136e-01],\n",
       "        [3.24101132e-01, 1.10402475e-01, 1.32930135e-01, 7.51954005e-01,\n",
       "         4.27553862e-01, 1.46333992e-01, 6.43883432e-02, 8.56600125e-01,\n",
       "         6.64768979e-01, 1.19986848e-01, 2.18425884e-01, 2.45134273e-01,\n",
       "         7.25764310e-01, 9.97535483e-01, 9.66923463e-01, 6.84244937e-01,\n",
       "         9.14379035e-01, 2.30138648e-01, 8.87222283e-03, 5.58894284e-01,\n",
       "         9.14729633e-01, 4.88965877e-01, 5.41346232e-01, 2.19624824e-02,\n",
       "         6.89802036e-01, 2.56014490e-01, 5.50335351e-01, 8.70788157e-01,\n",
       "         6.08816350e-01, 9.72241294e-01],\n",
       "        [7.46305787e-01, 8.18608561e-01, 4.43945205e-01, 6.64172897e-01,\n",
       "         5.15437613e-01, 1.03335460e-01, 8.15494887e-01, 1.78843918e-01,\n",
       "         3.94034417e-01, 3.82020036e-01, 1.80725728e-01, 6.88281096e-01,\n",
       "         4.05447138e-01, 3.96095480e-01, 7.27736264e-01, 9.09172286e-01,\n",
       "         9.41395558e-02, 9.42649406e-01, 4.02961031e-01, 3.21593094e-01,\n",
       "         4.42325059e-01, 5.81297292e-01, 7.58695986e-01, 1.68866584e-01,\n",
       "         9.93975704e-01, 5.29535912e-02, 1.17391591e-01, 7.88306343e-01,\n",
       "         7.31203694e-01, 3.78289724e-01],\n",
       "        [8.19721943e-01, 9.89469067e-01, 9.74466395e-01, 6.25008347e-01,\n",
       "         2.35392473e-01, 5.60674999e-01, 6.92715689e-01, 7.13961843e-01,\n",
       "         9.19142041e-01, 7.16450089e-02, 9.19052773e-02, 6.32640594e-01,\n",
       "         8.03145173e-01, 8.92032251e-01, 9.36518015e-01, 7.29750126e-01,\n",
       "         8.18742283e-01, 9.61082704e-01, 8.69774285e-01, 5.25724779e-01,\n",
       "         8.98611899e-01, 2.43633625e-03, 1.33205714e-01, 9.41540931e-01,\n",
       "         2.13960441e-01, 6.57058517e-01, 9.83403009e-01, 3.79339178e-01,\n",
       "         4.50176872e-01, 5.07204312e-01],\n",
       "        [8.02957081e-01, 5.51657964e-01, 5.82727666e-02, 9.55646943e-01,\n",
       "         8.15972259e-01, 1.07658234e-01, 6.57128871e-01, 8.12248788e-01,\n",
       "         7.21446896e-01, 1.11251329e-01, 1.41322638e-01, 7.23644963e-02,\n",
       "         4.76391014e-01, 5.72554315e-01, 8.70981926e-01, 8.13359479e-01,\n",
       "         7.58271343e-01, 4.25399003e-01, 6.24431930e-01, 1.15936683e-01,\n",
       "         1.01216598e-01, 7.53671867e-01, 4.37146929e-01, 2.17053658e-01,\n",
       "         6.96167844e-01, 4.13868172e-01, 6.45646407e-01, 9.44992810e-01,\n",
       "         5.95569111e-01, 4.51534896e-01],\n",
       "        [8.18749623e-01, 6.19628724e-01, 3.18213158e-01, 6.30369428e-01,\n",
       "         3.39331285e-01, 2.53691136e-01, 1.46911844e-01, 5.46204782e-01,\n",
       "         9.37352464e-01, 1.86978355e-01, 2.23517940e-01, 5.05713395e-01,\n",
       "         1.59669552e-01, 8.60752184e-01, 3.24837317e-01, 4.75860225e-01,\n",
       "         4.98058825e-01, 3.52712861e-01, 7.87860594e-01, 8.72929826e-01,\n",
       "         1.03688855e-01, 5.99442822e-01, 7.81121402e-02, 1.14604413e-01,\n",
       "         1.49227430e-01, 5.16260160e-01, 2.30918751e-01, 8.16648202e-01,\n",
       "         1.82420655e-02, 2.15951853e-01],\n",
       "        [4.06638229e-01, 4.20238987e-01, 7.04592002e-01, 2.26097676e-01,\n",
       "         9.80114425e-01, 8.30933271e-01, 2.83597250e-01, 3.90699346e-01,\n",
       "         8.12075543e-01, 6.58080727e-01, 8.49249735e-01, 8.42298417e-01,\n",
       "         2.71009559e-01, 5.92355004e-01, 2.81330545e-01, 1.27589525e-02,\n",
       "         7.72402872e-05, 9.57419753e-01, 7.43559455e-01, 1.36275451e-01,\n",
       "         4.22832268e-01, 9.79025260e-01, 5.93524655e-01, 9.59631039e-01,\n",
       "         6.30503078e-01, 6.02518411e-01, 7.03032064e-02, 1.49032762e-01,\n",
       "         4.82860368e-01, 7.79382642e-01],\n",
       "        [7.76316807e-01, 2.46180212e-01, 2.69384152e-01, 2.65907943e-01,\n",
       "         3.42604789e-04, 1.52477093e-01, 3.83436252e-01, 5.56162577e-02,\n",
       "         7.59597693e-01, 1.10121052e-01, 3.82614265e-01, 8.90420699e-01,\n",
       "         4.61938994e-01, 9.74130167e-01, 6.21940561e-01, 9.61553355e-01,\n",
       "         5.90850490e-02, 7.80618595e-01, 8.22030379e-01, 4.19127315e-02,\n",
       "         8.79223446e-01, 3.97077670e-01, 4.10530794e-01, 1.15927485e-01,\n",
       "         8.59288542e-02, 9.55975977e-01, 3.98863760e-01, 9.44576178e-01,\n",
       "         1.07014723e-02, 2.67619738e-01],\n",
       "        [5.74683524e-01, 8.57275071e-01, 6.22655240e-01, 6.03924333e-01,\n",
       "         8.86293567e-01, 8.71236221e-01, 7.31937636e-01, 5.81939424e-01,\n",
       "         1.79591103e-02, 9.15401784e-01, 5.54784941e-01, 3.02151715e-01,\n",
       "         3.09813140e-01, 8.64835229e-02, 3.15723607e-01, 6.05935782e-02,\n",
       "         9.24441774e-01, 6.25337613e-01, 5.35626572e-01, 4.07629001e-01,\n",
       "         7.08425410e-01, 6.50391551e-01, 6.60739975e-01, 9.50559257e-01,\n",
       "         1.88247129e-01, 2.28068343e-01, 4.91061907e-01, 2.47094523e-01,\n",
       "         5.60369934e-01, 4.78912738e-01],\n",
       "        [2.70324555e-01, 3.73614631e-01, 3.30221983e-01, 1.41880673e-01,\n",
       "         6.50573750e-01, 1.93140692e-01, 1.83019744e-01, 6.96031579e-01,\n",
       "         7.81317991e-01, 2.79793387e-01, 6.81582440e-02, 4.03846926e-01,\n",
       "         7.79702759e-01, 7.71139634e-02, 2.13714405e-01, 6.69891363e-01,\n",
       "         8.89045974e-01, 7.04223051e-01, 5.74077315e-01, 6.19646661e-01,\n",
       "         6.37217221e-01, 6.59342867e-01, 4.96357675e-01, 4.30212969e-01,\n",
       "         6.93214895e-01, 3.94720139e-01, 9.74405209e-01, 5.66143060e-01,\n",
       "         1.94644747e-01, 8.66774526e-01]],\n",
       "\n",
       "       [[5.21047920e-01, 1.63849399e-02, 6.16945532e-01, 5.25256868e-01,\n",
       "         7.36552338e-01, 8.55028138e-01, 1.90620851e-01, 1.66851597e-01,\n",
       "         9.54460059e-01, 1.82191825e-01, 9.31012835e-02, 2.33036322e-01,\n",
       "         8.83630305e-01, 6.59819546e-01, 1.73192583e-02, 1.57254736e-01,\n",
       "         5.86684873e-01, 5.86200526e-01, 2.76206350e-01, 6.02762571e-02,\n",
       "         7.56135169e-01, 2.74328121e-01, 7.86387729e-01, 7.80334924e-01,\n",
       "         2.08896099e-01, 9.36764482e-01, 9.04728474e-01, 1.59481308e-01,\n",
       "         3.91004398e-01, 6.14831764e-01],\n",
       "        [8.28539317e-01, 2.71341474e-01, 1.79722017e-01, 1.61364132e-01,\n",
       "         7.83709863e-01, 9.21839754e-02, 2.13780100e-01, 3.18915163e-01,\n",
       "         9.69637157e-01, 5.19250841e-01, 5.31242464e-03, 5.56119436e-01,\n",
       "         9.60039766e-01, 9.28011418e-01, 5.85886465e-01, 3.29438447e-02,\n",
       "         2.79755448e-01, 2.46824473e-01, 7.44731121e-01, 8.17768202e-01,\n",
       "         6.13229738e-01, 9.52678413e-01, 4.76545375e-01, 8.05666870e-01,\n",
       "         9.30232241e-01, 1.55408098e-01, 7.07849464e-01, 5.07660876e-02,\n",
       "         5.87403503e-01, 7.51083698e-02],\n",
       "        [6.79551554e-01, 9.90528867e-01, 6.35998740e-02, 9.21007175e-02,\n",
       "         1.35022850e-01, 1.44561281e-01, 8.90671700e-01, 2.79735560e-02,\n",
       "         2.52192063e-01, 3.32948853e-01, 4.30728391e-01, 3.17576182e-01,\n",
       "         9.76048635e-02, 2.74596017e-01, 7.02065674e-01, 8.85316190e-01,\n",
       "         2.89896057e-01, 7.64514165e-02, 5.98217606e-01, 5.22711435e-01,\n",
       "         5.74602103e-01, 4.34086311e-01, 5.78968183e-01, 8.93049704e-02,\n",
       "         7.13499131e-01, 5.37888736e-01, 5.00794948e-01, 7.66967722e-01,\n",
       "         3.56153403e-01, 4.14286738e-02],\n",
       "        [7.14579902e-02, 9.43873617e-01, 2.31645777e-01, 5.92831621e-01,\n",
       "         8.72364189e-01, 7.57695053e-01, 8.75981233e-01, 1.94515041e-01,\n",
       "         2.62937172e-01, 4.70661420e-03, 7.01235319e-01, 2.72712432e-01,\n",
       "         9.05065555e-01, 6.67938831e-01, 5.86662148e-01, 4.36948213e-01,\n",
       "         5.78985902e-01, 3.08468020e-01, 7.22987523e-01, 2.56813695e-01,\n",
       "         6.07058143e-01, 8.49528101e-01, 5.63339842e-01, 8.65580975e-01,\n",
       "         4.65304455e-01, 4.13645653e-01, 6.03187629e-01, 4.26346217e-01,\n",
       "         4.71753522e-01, 4.14982040e-01],\n",
       "        [3.26113343e-01, 9.05814760e-01, 5.92405310e-01, 7.51048610e-01,\n",
       "         7.41864663e-01, 2.79624693e-01, 9.22473736e-01, 5.48715256e-01,\n",
       "         5.04539742e-01, 2.61845870e-01, 7.51224592e-01, 8.29962123e-01,\n",
       "         1.38670328e-01, 5.79855378e-01, 9.84261784e-01, 7.91777984e-01,\n",
       "         8.99132092e-01, 5.88690140e-01, 6.26291836e-01, 9.15096812e-01,\n",
       "         4.28706778e-01, 5.72916908e-02, 9.32945943e-01, 1.57845400e-01,\n",
       "         7.63090414e-01, 4.79489862e-01, 2.53007433e-01, 8.62721024e-01,\n",
       "         8.49972839e-01, 8.60014274e-03],\n",
       "        [6.15107435e-01, 3.03835928e-01, 5.05460610e-01, 4.96849492e-01,\n",
       "         7.48789921e-01, 4.15746521e-01, 2.52128667e-01, 5.39742848e-03,\n",
       "         7.04093465e-01, 5.32904971e-01, 7.27761695e-01, 2.20200065e-02,\n",
       "         6.35546335e-01, 6.16678706e-01, 5.13645472e-02, 3.48891719e-01,\n",
       "         6.42116552e-03, 7.12969725e-01, 8.08007049e-01, 7.55527198e-01,\n",
       "         4.38800397e-01, 7.09617989e-01, 9.53042569e-01, 2.25685667e-01,\n",
       "         2.55896835e-01, 9.32937554e-01, 8.90367006e-01, 7.98707716e-01,\n",
       "         9.79083061e-01, 7.35788791e-01],\n",
       "        [7.45683587e-01, 9.00971994e-01, 9.36768646e-01, 1.98291741e-01,\n",
       "         3.64263738e-01, 9.95893819e-01, 8.39306320e-01, 1.49629627e-01,\n",
       "         3.01813346e-01, 2.28431715e-01, 7.74396740e-01, 8.29431937e-01,\n",
       "         3.85530924e-01, 8.58959621e-01, 5.12164322e-01, 1.84774385e-01,\n",
       "         9.00860699e-01, 6.31594318e-02, 9.68438308e-03, 5.98252962e-01,\n",
       "         1.21926608e-01, 6.87826879e-01, 7.97141023e-01, 8.88373778e-01,\n",
       "         1.44115396e-01, 8.76690130e-01, 1.78720674e-01, 1.78338629e-01,\n",
       "         4.38483226e-02, 5.49618501e-01],\n",
       "        [2.15858014e-01, 3.94109263e-01, 3.08058756e-01, 5.50706862e-01,\n",
       "         6.66161937e-01, 1.76780008e-02, 3.64505425e-01, 1.16887060e-01,\n",
       "         3.01912860e-01, 7.78531649e-01, 6.28205471e-01, 5.91146578e-01,\n",
       "         3.98747441e-01, 6.07807790e-01, 6.51415363e-02, 7.93233164e-01,\n",
       "         2.26487962e-01, 4.69020113e-01, 8.94205157e-01, 6.30545188e-01,\n",
       "         3.01963698e-01, 3.88500118e-02, 7.98599962e-01, 8.82355187e-01,\n",
       "         9.82823827e-01, 1.46554779e-01, 1.10778327e-01, 9.11625276e-01,\n",
       "         7.91466692e-01, 8.27474949e-01],\n",
       "        [6.68446483e-01, 8.57189615e-01, 9.30166108e-01, 5.72262216e-01,\n",
       "         6.85363542e-01, 5.50478476e-01, 8.36126167e-01, 2.52595728e-01,\n",
       "         2.28921056e-01, 3.76993811e-02, 6.25206846e-01, 8.00205896e-01,\n",
       "         7.09283041e-01, 9.31398087e-02, 3.08306043e-02, 6.56516329e-01,\n",
       "         1.41867936e-01, 4.95766610e-01, 3.59337242e-01, 6.45486744e-01,\n",
       "         3.76823571e-01, 8.15402019e-01, 4.17929898e-01, 8.03649893e-01,\n",
       "         7.61110732e-01, 9.49223671e-01, 6.70280572e-01, 1.05060384e-01,\n",
       "         2.92343771e-01, 2.37268738e-01],\n",
       "        [5.60266070e-01, 1.09294078e-01, 4.05859067e-02, 3.46508641e-01,\n",
       "         6.92877711e-01, 7.98215510e-01, 2.16300561e-01, 6.32549816e-01,\n",
       "         1.90474620e-02, 7.96824235e-01, 6.26090014e-01, 1.13444259e-01,\n",
       "         5.66902416e-01, 7.38445023e-02, 9.80665500e-01, 3.06890110e-01,\n",
       "         6.80087228e-01, 1.64510629e-01, 4.32691774e-01, 3.36325696e-01,\n",
       "         4.05195788e-01, 6.66825896e-01, 7.88096400e-01, 7.53270793e-01,\n",
       "         8.20592342e-01, 6.08624278e-01, 9.23219872e-01, 8.87520477e-01,\n",
       "         5.32398775e-01, 1.10144988e-01],\n",
       "        [4.52551297e-01, 2.85166160e-01, 2.59888595e-01, 3.04788657e-01,\n",
       "         8.55216095e-01, 9.94511033e-01, 1.89379206e-01, 3.19336580e-01,\n",
       "         7.78786230e-02, 7.73548436e-01, 9.42744078e-01, 7.11452129e-01,\n",
       "         3.60001977e-01, 4.59690902e-01, 9.03742145e-01, 9.31236127e-01,\n",
       "         7.34127799e-01, 7.34123908e-02, 8.62677078e-01, 1.74849087e-01,\n",
       "         1.73551928e-01, 1.28587315e-01, 4.05481151e-01, 3.71232451e-01,\n",
       "         8.56503460e-01, 1.66023922e-01, 1.75292535e-01, 8.50041230e-01,\n",
       "         4.56636961e-01, 1.05120818e-01],\n",
       "        [9.29354028e-01, 5.76824685e-01, 6.93730496e-01, 9.10595592e-01,\n",
       "         9.97586769e-01, 4.18583886e-01, 1.10676633e-02, 2.47002791e-01,\n",
       "         2.79273843e-01, 1.65231247e-01, 2.37474330e-01, 5.59988218e-03,\n",
       "         5.32604137e-01, 9.82001938e-02, 2.15024216e-01, 2.64813931e-01,\n",
       "         4.34909516e-02, 9.27697313e-01, 4.43597757e-01, 4.24104807e-01,\n",
       "         9.58306468e-01, 1.18421878e-01, 6.64974240e-01, 5.15086368e-01,\n",
       "         1.97000716e-01, 3.41561050e-01, 3.13679712e-01, 7.94845715e-01,\n",
       "         3.13209534e-01, 5.72612139e-01]]])"
      ]
     },
     "execution_count": 63,
     "metadata": {},
     "output_type": "execute_result"
    }
   ],
   "source": [
    "weather_data = np.random.rand(2, 12, 30)\n",
    "weather_data"
   ]
  },
  {
   "cell_type": "markdown",
   "metadata": {
    "id": "t8EKmd5PwaSZ"
   },
   "source": [
    "• Transpose it so that the shape becomes (30, 12, 2) → days first, years last."
   ]
  },
  {
   "cell_type": "code",
   "execution_count": 64,
   "metadata": {
    "colab": {
     "base_uri": "https://localhost:8080/"
    },
    "executionInfo": {
     "elapsed": 53,
     "status": "ok",
     "timestamp": 1758341213735,
     "user": {
      "displayName": "Tushar Raj",
      "userId": "04399146470560759060"
     },
     "user_tz": -330
    },
    "id": "OzEsmhf2vvHa",
    "outputId": "3eed2263-451a-4332-aab6-70b66a271e00"
   },
   "outputs": [
    {
     "name": "stdout",
     "output_type": "stream",
     "text": [
      "(30, 12, 2)\n"
     ]
    }
   ],
   "source": [
    "temp = weather_data.transpose(2,1,0)\n",
    "print(temp.shape)"
   ]
  },
  {
   "cell_type": "markdown",
   "metadata": {
    "id": "urNq9DdewWyD"
   },
   "source": [
    "Find the value at [year=1, month=5, day=10] in the original and confirm its new position in the\n",
    "transposed array."
   ]
  },
  {
   "cell_type": "code",
   "execution_count": 65,
   "metadata": {
    "colab": {
     "base_uri": "https://localhost:8080/"
    },
    "executionInfo": {
     "elapsed": 9,
     "status": "ok",
     "timestamp": 1758341213745,
     "user": {
      "displayName": "Tushar Raj",
      "userId": "04399146470560759060"
     },
     "user_tz": -330
    },
    "id": "XE2XdhXQv9OQ",
    "outputId": "8449c441-da10-486f-e20a-0816e1eb3640"
   },
   "outputs": [
    {
     "name": "stdout",
     "output_type": "stream",
     "text": [
      "0.727761695014577\n",
      "0.727761695014577\n",
      "True\n"
     ]
    }
   ],
   "source": [
    "print(weather_data[1,5,10])\n",
    "print(temp[10,5,1])\n",
    "print(np.equal(weather_data[1,5,10],temp[10,5,1]))"
   ]
  },
  {
   "cell_type": "markdown",
   "metadata": {
    "id": "JEijs13PwbUZ"
   },
   "source": [
    "---\n",
    "Problem 5: Combining Transpose with Reshape"
   ]
  },
  {
   "cell_type": "markdown",
   "metadata": {
    "id": "rsyacoG7woaY"
   },
   "source": [
    "Create a 3D array of shape (2, 3, 4)."
   ]
  },
  {
   "cell_type": "code",
   "execution_count": 66,
   "metadata": {
    "colab": {
     "base_uri": "https://localhost:8080/"
    },
    "executionInfo": {
     "elapsed": 22,
     "status": "ok",
     "timestamp": 1758341213809,
     "user": {
      "displayName": "Tushar Raj",
      "userId": "04399146470560759060"
     },
     "user_tz": -330
    },
    "id": "xQhf02TOwbGx",
    "outputId": "66a650c6-b702-4dc4-e453-7c4a758698a1"
   },
   "outputs": [
    {
     "data": {
      "text/plain": [
       "(2, 3, 4)"
      ]
     },
     "execution_count": 66,
     "metadata": {},
     "output_type": "execute_result"
    }
   ],
   "source": [
    "data = np.random.rand(2, 3, 4)\n",
    "data.shape"
   ]
  },
  {
   "cell_type": "markdown",
   "metadata": {
    "id": "mRASFE55wqtB"
   },
   "source": [
    "• First, transpose it to (3, 2, 4)."
   ]
  },
  {
   "cell_type": "code",
   "execution_count": 67,
   "metadata": {
    "colab": {
     "base_uri": "https://localhost:8080/"
    },
    "executionInfo": {
     "elapsed": 23,
     "status": "ok",
     "timestamp": 1758341213834,
     "user": {
      "displayName": "Tushar Raj",
      "userId": "04399146470560759060"
     },
     "user_tz": -330
    },
    "id": "BFQKoBGIwsai",
    "outputId": "2a46d0f9-9000-4ff6-bbc8-74d90495ac23"
   },
   "outputs": [
    {
     "data": {
      "text/plain": [
       "(3, 2, 4)"
      ]
     },
     "execution_count": 67,
     "metadata": {},
     "output_type": "execute_result"
    }
   ],
   "source": [
    "temp = data.transpose(1,0,2)\n",
    "temp.shape"
   ]
  },
  {
   "cell_type": "markdown",
   "metadata": {
    "id": "aylR2KwFypfH"
   },
   "source": [
    "Then reshape the result into a 2D array of shape (6, 4)."
   ]
  },
  {
   "cell_type": "code",
   "execution_count": 68,
   "metadata": {
    "executionInfo": {
     "elapsed": 2,
     "status": "ok",
     "timestamp": 1758341213838,
     "user": {
      "displayName": "Tushar Raj",
      "userId": "04399146470560759060"
     },
     "user_tz": -330
    },
    "id": "scuGkhGXykmP"
   },
   "outputs": [],
   "source": [
    "reshaped_data = temp.reshape(6,4)"
   ]
  },
  {
   "cell_type": "markdown",
   "metadata": {
    "id": "0rkZF9PTyqZh"
   },
   "source": [
    "Print both intermediate and final shapes."
   ]
  },
  {
   "cell_type": "code",
   "execution_count": 69,
   "metadata": {
    "colab": {
     "base_uri": "https://localhost:8080/"
    },
    "executionInfo": {
     "elapsed": 36,
     "status": "ok",
     "timestamp": 1758341213875,
     "user": {
      "displayName": "Tushar Raj",
      "userId": "04399146470560759060"
     },
     "user_tz": -330
    },
    "id": "1C1MkJ4jy0tf",
    "outputId": "307d868d-d461-4b65-90de-b367485a40b5"
   },
   "outputs": [
    {
     "name": "stdout",
     "output_type": "stream",
     "text": [
      "(2, 3, 4)\n",
      "(3, 2, 4)\n",
      "(6, 4)\n"
     ]
    }
   ],
   "source": [
    "print(data.shape)\n",
    "print(temp.shape)\n",
    "print(reshaped_data.shape)"
   ]
  },
  {
   "cell_type": "markdown",
   "metadata": {
    "id": "W_ujjnuPzA7Q"
   },
   "source": [
    "Verify that the reshaping preserves the total number of elements."
   ]
  },
  {
   "cell_type": "code",
   "execution_count": 70,
   "metadata": {
    "colab": {
     "base_uri": "https://localhost:8080/"
    },
    "executionInfo": {
     "elapsed": 63,
     "status": "ok",
     "timestamp": 1758341213940,
     "user": {
      "displayName": "Tushar Raj",
      "userId": "04399146470560759060"
     },
     "user_tz": -330
    },
    "id": "vg2omz2SzAkB",
    "outputId": "86587887-7117-4545-e068-46874ba2f697"
   },
   "outputs": [
    {
     "name": "stdout",
     "output_type": "stream",
     "text": [
      "total number of ele in original data 24\n",
      "total number of ele after reshape 24\n"
     ]
    }
   ],
   "source": [
    "print(f'total number of ele in original data {np.prod(data.shape)}')\n",
    "print(f'total number of ele after reshape {np.prod(reshaped_data.shape)}')"
   ]
  },
  {
   "cell_type": "markdown",
   "metadata": {
    "id": "n-11mP2n1tem"
   },
   "source": [
    "---\n",
    "**NumPy Transpose Problems with 3D Arrays (Use\n",
    "Case Based)**"
   ]
  },
  {
   "cell_type": "markdown",
   "metadata": {
    "id": "onIuk2Gt1xt_"
   },
   "source": [
    " **Problem 1: Medical Imaging**"
   ]
  },
  {
   "cell_type": "markdown",
   "metadata": {
    "id": "y93uxeHJ2cF3"
   },
   "source": [
    "A hospital stores MRI scans in the format(patients, slices, pixels).\n",
    "\n",
    "Create a NumPy array of shape (2, 4, 5) representing 2 patients, each with 4 slices of size 5\n",
    "pixels."
   ]
  },
  {
   "cell_type": "code",
   "execution_count": 71,
   "metadata": {
    "colab": {
     "base_uri": "https://localhost:8080/"
    },
    "executionInfo": {
     "elapsed": 12,
     "status": "ok",
     "timestamp": 1758341213954,
     "user": {
      "displayName": "Tushar Raj",
      "userId": "04399146470560759060"
     },
     "user_tz": -330
    },
    "id": "NXlZNFmx1wZf",
    "outputId": "fa14ad2a-7d92-4d71-f5e4-3c2fe62c85b0"
   },
   "outputs": [
    {
     "data": {
      "text/plain": [
       "(2, 4, 5)"
      ]
     },
     "execution_count": 71,
     "metadata": {},
     "output_type": "execute_result"
    }
   ],
   "source": [
    "patient_data = np.random.rand(2,4,5)\n",
    "patient_data.shape"
   ]
  },
  {
   "cell_type": "markdown",
   "metadata": {
    "id": "5tlL2WR422Ff"
   },
   "source": [
    "Transpose the data so that the shape becomes (4, 2, 5) → now each slice groups data from both\n",
    "patients."
   ]
  },
  {
   "cell_type": "code",
   "execution_count": 72,
   "metadata": {
    "colab": {
     "base_uri": "https://localhost:8080/"
    },
    "executionInfo": {
     "elapsed": 20,
     "status": "ok",
     "timestamp": 1758341213976,
     "user": {
      "displayName": "Tushar Raj",
      "userId": "04399146470560759060"
     },
     "user_tz": -330
    },
    "id": "Ehcp4nWG2222",
    "outputId": "681163a9-af29-4f38-be6c-088a575519e0"
   },
   "outputs": [
    {
     "data": {
      "text/plain": [
       "(4, 2, 5)"
      ]
     },
     "execution_count": 72,
     "metadata": {},
     "output_type": "execute_result"
    }
   ],
   "source": [
    "transpose_data = patient_data.transpose(1,0,2)\n",
    "transpose_data.shape"
   ]
  },
  {
   "cell_type": "markdown",
   "metadata": {
    "id": "e6ReLAp63EfO"
   },
   "source": [
    "Verify the new shape and check where element [patient=1, slice=2, pixel=3] is located in the\n",
    "new layout."
   ]
  },
  {
   "cell_type": "code",
   "execution_count": 73,
   "metadata": {
    "colab": {
     "base_uri": "https://localhost:8080/"
    },
    "executionInfo": {
     "elapsed": 32,
     "status": "ok",
     "timestamp": 1758341214009,
     "user": {
      "displayName": "Tushar Raj",
      "userId": "04399146470560759060"
     },
     "user_tz": -330
    },
    "id": "EujnpakR3DX2",
    "outputId": "d627c154-72da-4fd6-ae10-81bbfd938424"
   },
   "outputs": [
    {
     "name": "stdout",
     "output_type": "stream",
     "text": [
      "0.8699835308974054\n",
      "0.8699835308974054\n"
     ]
    }
   ],
   "source": [
    "print(patient_data[1,2,3])\n",
    "print(transpose_data[2,1,3])"
   ]
  },
  {
   "cell_type": "markdown",
   "metadata": {
    "id": "krLm0u7h4BCP"
   },
   "source": [
    "\n",
    "**Problem 2: Video Frame**"
   ]
  },
  {
   "cell_type": "markdown",
   "metadata": {
    "id": "hSOsupjM4sgP"
   },
   "source": [
    "A video dataset is stored in the format (frames, height, width).\n",
    "• Create a NumPy array of shape (6, 3, 4) → 6 frames, each with 3x4 pixels."
   ]
  },
  {
   "cell_type": "code",
   "execution_count": 74,
   "metadata": {
    "colab": {
     "base_uri": "https://localhost:8080/"
    },
    "executionInfo": {
     "elapsed": 41,
     "status": "ok",
     "timestamp": 1758341214051,
     "user": {
      "displayName": "Tushar Raj",
      "userId": "04399146470560759060"
     },
     "user_tz": -330
    },
    "id": "vSiXVzkv4tHX",
    "outputId": "579a7b85-f98d-4b95-ad16-858f1c226b09"
   },
   "outputs": [
    {
     "data": {
      "text/plain": [
       "(6, 3, 4)"
      ]
     },
     "execution_count": 74,
     "metadata": {},
     "output_type": "execute_result"
    }
   ],
   "source": [
    "viddata = np.random.rand(6,3,4)\n",
    "viddata.shape"
   ]
  },
  {
   "cell_type": "markdown",
   "metadata": {
    "id": "tKVB31jL41K_"
   },
   "source": [
    "• Transpose it to (3, 4, 6) → now each pixel position shows its value across all frames."
   ]
  },
  {
   "cell_type": "code",
   "execution_count": 75,
   "metadata": {
    "colab": {
     "base_uri": "https://localhost:8080/"
    },
    "executionInfo": {
     "elapsed": 48,
     "status": "ok",
     "timestamp": 1758341214101,
     "user": {
      "displayName": "Tushar Raj",
      "userId": "04399146470560759060"
     },
     "user_tz": -330
    },
    "id": "3wi5oYqA413W",
    "outputId": "c26d587c-490d-4392-b29d-98097bcbf493"
   },
   "outputs": [
    {
     "data": {
      "text/plain": [
       "(3, 4, 6)"
      ]
     },
     "execution_count": 75,
     "metadata": {},
     "output_type": "execute_result"
    }
   ],
   "source": [
    "temp = viddata.transpose(1,2,0)\n",
    "temp.shape"
   ]
  },
  {
   "cell_type": "markdown",
   "metadata": {
    "id": "po3XPRO_7mSV"
   },
   "source": [
    "Verify that frame-wise data is correctly rearranged by checking positions before and after transpose."
   ]
  },
  {
   "cell_type": "code",
   "execution_count": 76,
   "metadata": {
    "colab": {
     "base_uri": "https://localhost:8080/"
    },
    "executionInfo": {
     "elapsed": 48,
     "status": "ok",
     "timestamp": 1758341214150,
     "user": {
      "displayName": "Tushar Raj",
      "userId": "04399146470560759060"
     },
     "user_tz": -330
    },
    "id": "wHAXIw2_7nAU",
    "outputId": "9e557057-64ae-4a7d-fd9f-824d61b198d5"
   },
   "outputs": [
    {
     "name": "stdout",
     "output_type": "stream",
     "text": [
      "before transpose \n",
      "[[[0.95684433 0.52670484 0.47400549 0.94137746]\n",
      "  [0.32424461 0.5783409  0.07314901 0.24796806]\n",
      "  [0.60439248 0.33203433 0.6536909  0.53733342]]\n",
      "\n",
      " [[0.03119057 0.94996018 0.43070433 0.28810453]\n",
      "  [0.47335802 0.85285063 0.13090207 0.85620752]\n",
      "  [0.89387495 0.42434798 0.83148328 0.70586971]]\n",
      "\n",
      " [[0.59876468 0.79146249 0.71794082 0.4042117 ]\n",
      "  [0.77313836 0.45781905 0.71349025 0.65115422]\n",
      "  [0.26567345 0.16423109 0.01529036 0.46505264]]\n",
      "\n",
      " [[0.33385513 0.756957   0.95425774 0.32820351]\n",
      "  [0.43875951 0.88024835 0.75701261 0.03331265]\n",
      "  [0.1100988  0.53971539 0.46354597 0.37478288]]\n",
      "\n",
      " [[0.39671189 0.46068379 0.69389435 0.17283731]\n",
      "  [0.87563975 0.91144696 0.62248811 0.88785738]\n",
      "  [0.12022111 0.19817473 0.31284942 0.02019472]]\n",
      "\n",
      " [[0.34883212 0.52137648 0.63668201 0.94313214]\n",
      "  [0.97060042 0.46511144 0.351453   0.17785365]\n",
      "  [0.45236883 0.56096331 0.33242305 0.86262352]]]\n",
      "----------------------\n",
      "after transpose \n",
      "[[[0.95684433 0.03119057 0.59876468 0.33385513 0.39671189 0.34883212]\n",
      "  [0.52670484 0.94996018 0.79146249 0.756957   0.46068379 0.52137648]\n",
      "  [0.47400549 0.43070433 0.71794082 0.95425774 0.69389435 0.63668201]\n",
      "  [0.94137746 0.28810453 0.4042117  0.32820351 0.17283731 0.94313214]]\n",
      "\n",
      " [[0.32424461 0.47335802 0.77313836 0.43875951 0.87563975 0.97060042]\n",
      "  [0.5783409  0.85285063 0.45781905 0.88024835 0.91144696 0.46511144]\n",
      "  [0.07314901 0.13090207 0.71349025 0.75701261 0.62248811 0.351453  ]\n",
      "  [0.24796806 0.85620752 0.65115422 0.03331265 0.88785738 0.17785365]]\n",
      "\n",
      " [[0.60439248 0.89387495 0.26567345 0.1100988  0.12022111 0.45236883]\n",
      "  [0.33203433 0.42434798 0.16423109 0.53971539 0.19817473 0.56096331]\n",
      "  [0.6536909  0.83148328 0.01529036 0.46354597 0.31284942 0.33242305]\n",
      "  [0.53733342 0.70586971 0.46505264 0.37478288 0.02019472 0.86262352]]]\n"
     ]
    }
   ],
   "source": [
    "print('before transpose ')\n",
    "print(viddata)\n",
    "print('----------------------\\nafter transpose ')\n",
    "print(temp)"
   ]
  },
  {
   "cell_type": "markdown",
   "metadata": {
    "id": "m2siWRYB8H-u"
   },
   "source": [
    "----\n",
    "**Problem 3: IoT Sensor Data**\n",
    "\n",
    "A smart building records temperature with 3 sensors every hour for 2 days. Data is stored as (days, hours,sensors)"
   ]
  },
  {
   "cell_type": "code",
   "execution_count": 77,
   "metadata": {
    "colab": {
     "base_uri": "https://localhost:8080/"
    },
    "executionInfo": {
     "elapsed": 11,
     "status": "ok",
     "timestamp": 1758341214202,
     "user": {
      "displayName": "Tushar Raj",
      "userId": "04399146470560759060"
     },
     "user_tz": -330
    },
    "id": "s7kUsLyu8dDW",
    "outputId": "9fb8937a-c476-4ef9-fdfd-f24ca62f4c64"
   },
   "outputs": [
    {
     "data": {
      "text/plain": [
       "array([[[0.84945161, 0.00656569, 0.60914517],\n",
       "        [0.40810821, 0.69546172, 0.31712279],\n",
       "        [0.04758536, 0.01584585, 0.79597018],\n",
       "        [0.54057145, 0.16605209, 0.06817555]],\n",
       "\n",
       "       [[0.14001736, 0.00201103, 0.51646771],\n",
       "        [0.12919749, 0.40981199, 0.5698615 ],\n",
       "        [0.14861898, 0.91666637, 0.45160758],\n",
       "        [0.35518867, 0.83605289, 0.19218508]]])"
      ]
     },
     "execution_count": 77,
     "metadata": {},
     "output_type": "execute_result"
    }
   ],
   "source": [
    "iot_data = np.random.rand(2,4,3)\n",
    "iot_data"
   ]
  },
  {
   "cell_type": "markdown",
   "metadata": {
    "id": "FiXdoKJF-BGd"
   },
   "source": [
    "Transpose it to (3, 2, 4) so that the first axis corresponds to sensors, making analysis sensor-wise."
   ]
  },
  {
   "cell_type": "code",
   "execution_count": 78,
   "metadata": {
    "colab": {
     "base_uri": "https://localhost:8080/"
    },
    "executionInfo": {
     "elapsed": 18,
     "status": "ok",
     "timestamp": 1758341214235,
     "user": {
      "displayName": "Tushar Raj",
      "userId": "04399146470560759060"
     },
     "user_tz": -330
    },
    "id": "DM_TsmyG9Tz-",
    "outputId": "c1cc6276-d8a2-40d3-8a7c-e19f10a66a34"
   },
   "outputs": [
    {
     "data": {
      "text/plain": [
       "array([[[0.84945161, 0.40810821, 0.04758536, 0.54057145],\n",
       "        [0.14001736, 0.12919749, 0.14861898, 0.35518867]],\n",
       "\n",
       "       [[0.00656569, 0.69546172, 0.01584585, 0.16605209],\n",
       "        [0.00201103, 0.40981199, 0.91666637, 0.83605289]],\n",
       "\n",
       "       [[0.60914517, 0.31712279, 0.79597018, 0.06817555],\n",
       "        [0.51646771, 0.5698615 , 0.45160758, 0.19218508]]])"
      ]
     },
     "execution_count": 78,
     "metadata": {},
     "output_type": "execute_result"
    }
   ],
   "source": [
    "transpose_data = iot_data.transpose(2,0,1)\n",
    "transpose_data"
   ]
  },
  {
   "cell_type": "markdown",
   "metadata": {
    "id": "W7DKlJXR-Bqd"
   },
   "source": [
    "Verify the mapping of element [day=1, hour=2, sensor=0]."
   ]
  },
  {
   "cell_type": "code",
   "execution_count": 79,
   "metadata": {
    "colab": {
     "base_uri": "https://localhost:8080/"
    },
    "executionInfo": {
     "elapsed": 27,
     "status": "ok",
     "timestamp": 1758341214264,
     "user": {
      "displayName": "Tushar Raj",
      "userId": "04399146470560759060"
     },
     "user_tz": -330
    },
    "id": "NZVSz1AM-C9V",
    "outputId": "c67c707c-399c-468a-f159-1a81e488d11e"
   },
   "outputs": [
    {
     "name": "stdout",
     "output_type": "stream",
     "text": [
      "0.14861897988389616\n",
      "0.14861897988389616\n"
     ]
    }
   ],
   "source": [
    "print(iot_data[1,2,0])\n",
    "print(transpose_data[0,1,2])"
   ]
  },
  {
   "cell_type": "markdown",
   "metadata": {
    "id": "u3lct6H1-7DU"
   },
   "source": [
    "---\n",
    "**Problem 4: Sports Team Performance**\n",
    "\n",
    "A league records match statistics for 2 teams across 3 matches, tracking 4 performance metrics per match.\n",
    "Data is stored as (teams, matches, metrics).\n",
    "\n",
    "Create a NumPy array of shape (2, 3, 4)."
   ]
  },
  {
   "cell_type": "code",
   "execution_count": 80,
   "metadata": {
    "colab": {
     "base_uri": "https://localhost:8080/"
    },
    "executionInfo": {
     "elapsed": 55,
     "status": "ok",
     "timestamp": 1758341214320,
     "user": {
      "displayName": "Tushar Raj",
      "userId": "04399146470560759060"
     },
     "user_tz": -330
    },
    "id": "mHF0t5md_Fz9",
    "outputId": "00a47320-9427-45dd-9baf-d5a0af4b9cec"
   },
   "outputs": [
    {
     "data": {
      "text/plain": [
       "(2, 3, 4)"
      ]
     },
     "execution_count": 80,
     "metadata": {},
     "output_type": "execute_result"
    }
   ],
   "source": [
    "sports_data = np.random.rand(2,3,4)\n",
    "sports_data.shape"
   ]
  },
  {
   "cell_type": "markdown",
   "metadata": {
    "id": "vfleKnVTABp1"
   },
   "source": [
    "Transpose it to (3, 2, 4) → now each match groups the performance of both teams."
   ]
  },
  {
   "cell_type": "code",
   "execution_count": 81,
   "metadata": {
    "colab": {
     "base_uri": "https://localhost:8080/"
    },
    "executionInfo": {
     "elapsed": 20,
     "status": "ok",
     "timestamp": 1758341214342,
     "user": {
      "displayName": "Tushar Raj",
      "userId": "04399146470560759060"
     },
     "user_tz": -330
    },
    "id": "7O-POEL8_tBN",
    "outputId": "0727ea54-398b-41ad-e6d5-1eaa39256704"
   },
   "outputs": [
    {
     "data": {
      "text/plain": [
       "(3, 2, 4)"
      ]
     },
     "execution_count": 81,
     "metadata": {},
     "output_type": "execute_result"
    }
   ],
   "source": [
    "temp = sports_data.transpose(1,0,2)\n",
    "temp.shape"
   ]
  },
  {
   "cell_type": "markdown",
   "metadata": {
    "id": "Rvui9eEVADLc"
   },
   "source": [
    "Confirm where the stats of Team 1, Match 2, Metric 3 go in the new layout."
   ]
  },
  {
   "cell_type": "code",
   "execution_count": 82,
   "metadata": {
    "colab": {
     "base_uri": "https://localhost:8080/"
    },
    "executionInfo": {
     "elapsed": 10,
     "status": "ok",
     "timestamp": 1758341214373,
     "user": {
      "displayName": "Tushar Raj",
      "userId": "04399146470560759060"
     },
     "user_tz": -330
    },
    "id": "IUgW94XCAAwd",
    "outputId": "c2a4572a-e180-47c3-848a-2700bc5c7591"
   },
   "outputs": [
    {
     "name": "stdout",
     "output_type": "stream",
     "text": [
      "0.7234122470837022\n",
      "0.7234122470837022\n"
     ]
    }
   ],
   "source": [
    "print(sports_data[1,2,3])\n",
    "print(temp[2,1,3])"
   ]
  },
  {
   "cell_type": "markdown",
   "metadata": {
    "id": "wTLuGMh_APd8"
   },
   "source": [
    "---\n",
    "**Problem 5: Climate Data**\n",
    "\n",
    "A research project stores temperature readings for 2 years, each with 3 months, and 5 cities. Format: (years,\n",
    "months, cities).\n",
    "\n",
    "• Create a NumPy array of shape (2, 3, 5)."
   ]
  },
  {
   "cell_type": "code",
   "execution_count": 83,
   "metadata": {
    "colab": {
     "base_uri": "https://localhost:8080/"
    },
    "executionInfo": {
     "elapsed": 26,
     "status": "ok",
     "timestamp": 1758341214401,
     "user": {
      "displayName": "Tushar Raj",
      "userId": "04399146470560759060"
     },
     "user_tz": -330
    },
    "id": "9vYp06kFAVOD",
    "outputId": "9918c4f8-9344-44cb-82b8-0ba069dc6a43"
   },
   "outputs": [
    {
     "data": {
      "text/plain": [
       "(2, 3, 5)"
      ]
     },
     "execution_count": 83,
     "metadata": {},
     "output_type": "execute_result"
    }
   ],
   "source": [
    "climate_data = np.random.rand(2,3,5)\n",
    "climate_data.shape"
   ]
  },
  {
   "cell_type": "markdown",
   "metadata": {
    "id": "zCA-vF7kAadd"
   },
   "source": [
    "Transpose it to (5, 2, 3) → so each city has its own block of data across years and months."
   ]
  },
  {
   "cell_type": "code",
   "execution_count": 84,
   "metadata": {
    "colab": {
     "base_uri": "https://localhost:8080/"
    },
    "executionInfo": {
     "elapsed": 88,
     "status": "ok",
     "timestamp": 1758341214491,
     "user": {
      "displayName": "Tushar Raj",
      "userId": "04399146470560759060"
     },
     "user_tz": -330
    },
    "id": "arx52dvPAb30",
    "outputId": "9c50dd3e-aae4-4a0b-b20e-676e8eb7ba6c"
   },
   "outputs": [
    {
     "data": {
      "text/plain": [
       "(5, 2, 3)"
      ]
     },
     "execution_count": 84,
     "metadata": {},
     "output_type": "execute_result"
    }
   ],
   "source": [
    "temp = climate_data.transpose(2,0,1)\n",
    "temp.shape"
   ]
  },
  {
   "cell_type": "markdown",
   "metadata": {
    "id": "kkIrknOJAiTd"
   },
   "source": [
    "Check that the total number of elements remains the same after transpose."
   ]
  },
  {
   "cell_type": "code",
   "execution_count": 85,
   "metadata": {
    "colab": {
     "base_uri": "https://localhost:8080/"
    },
    "executionInfo": {
     "elapsed": 16,
     "status": "ok",
     "timestamp": 1758341214508,
     "user": {
      "displayName": "Tushar Raj",
      "userId": "04399146470560759060"
     },
     "user_tz": -330
    },
    "id": "QeerMTb7AlAk",
    "outputId": "049beba9-1cd3-4050-b09e-6971bdbab396"
   },
   "outputs": [
    {
     "name": "stdout",
     "output_type": "stream",
     "text": [
      "ele in transpose data  30\n",
      "ele in original data  30\n"
     ]
    }
   ],
   "source": [
    "ele_temp = np.prod(temp.shape)\n",
    "ele_data = np.prod(climate_data.shape)\n",
    "print('ele in transpose data ',ele_temp)\n",
    "print('ele in original data ',ele_data)"
   ]
  },
  {
   "cell_type": "markdown",
   "metadata": {
    "id": "KGsU-rewB0sc"
   },
   "source": [
    "---\n",
    "**NumPy Fancy Indexing Problems (1D, 2D, 3D)\n",
    "1D Array Use Cases**\n",
    "\n",
    "Problem 1: Stock Prices\n",
    "\n",
    "Create a 1D NumPy array of 30 stock prices."
   ]
  },
  {
   "cell_type": "code",
   "execution_count": 86,
   "metadata": {
    "colab": {
     "base_uri": "https://localhost:8080/"
    },
    "executionInfo": {
     "elapsed": 19,
     "status": "ok",
     "timestamp": 1758341214529,
     "user": {
      "displayName": "Tushar Raj",
      "userId": "04399146470560759060"
     },
     "user_tz": -330
    },
    "id": "Ys2Kqh0BB88U",
    "outputId": "01ccb9d8-442a-403b-bd4d-2f46c45c427d"
   },
   "outputs": [
    {
     "data": {
      "text/plain": [
       "array([0.27588448, 0.87572967, 0.82234062, 0.55783864, 0.59002789,\n",
       "       0.12919435, 0.09005362, 0.93698801, 0.60734082, 0.34386974,\n",
       "       0.6782397 , 0.8057669 , 0.89223913, 0.89263919, 0.78217548,\n",
       "       0.03724315, 0.20857466, 0.66920333, 0.93893148, 0.38204597,\n",
       "       0.45741631, 0.20852425, 0.52563375, 0.18577634, 0.57920881,\n",
       "       0.6113708 , 0.05893964, 0.98754471, 0.41923802, 0.67824325])"
      ]
     },
     "execution_count": 86,
     "metadata": {},
     "output_type": "execute_result"
    }
   ],
   "source": [
    "stock_price = np.random.rand(30)\n",
    "stock_price"
   ]
  },
  {
   "cell_type": "markdown",
   "metadata": {
    "id": "fO_ODNCyCg6j"
   },
   "source": [
    "Extract the prices on prime-numbered days."
   ]
  },
  {
   "cell_type": "code",
   "execution_count": null,
   "metadata": {
    "colab": {
     "base_uri": "https://localhost:8080/"
    },
    "executionInfo": {
     "elapsed": 51,
     "status": "ok",
     "timestamp": 1758341214592,
     "user": {
      "displayName": "Tushar Raj",
      "userId": "04399146470560759060"
     },
     "user_tz": -330
    },
    "id": "IdlaiN5uCj2M",
    "outputId": "8246209c-dd36-4991-f5ce-7ed1c27035f6"
   },
   "outputs": [
    {
     "name": "stdout",
     "output_type": "stream",
     "text": [
      "price on day 2 : 0.8757296654750479\n",
      "price on day 3 : 0.8223406243645556\n",
      "price on day 5 : 0.5900278894019422\n",
      "price on day 7 : 0.09005361871202866\n",
      "price on day 11 : 0.6782396962242341\n",
      "price on day 13 : 0.8922391293667962\n",
      "price on day 17 : 0.2085746579448593\n",
      "price on day 19 : 0.9389314825554633\n",
      "price on day 23 : 0.5256337482765507\n",
      "price on day 29 : 0.41923802326155446\n"
     ]
    }
   ],
   "source": [
    "def isprime(num):\n",
    "    if num==2:\n",
    "        return True\n",
    "    for i in range(2,int((num**0.5)+1)):\n",
    "        if num%i==0:\n",
    "            return False\n",
    "    return True\n",
    "data = np.random.rand(30)\n",
    "primeindex = np.array([i for i in range(len(data)) if isprime(i)])\n",
    "data[primeindex]\n"
   ]
  },
  {
   "cell_type": "markdown",
   "metadata": {
    "id": "eOazY3RSFfBj"
   },
   "source": [
    "Find the top 5 highest prices using fancy indexing."
   ]
  },
  {
   "cell_type": "code",
   "execution_count": null,
   "metadata": {
    "colab": {
     "base_uri": "https://localhost:8080/"
    },
    "executionInfo": {
     "elapsed": 26,
     "status": "ok",
     "timestamp": 1758341214619,
     "user": {
      "displayName": "Tushar Raj",
      "userId": "04399146470560759060"
     },
     "user_tz": -330
    },
    "id": "yYxGAZv9Ff27",
    "outputId": "6a2d3864-fade-4986-81a3-a9724995d12d"
   },
   "outputs": [
    {
     "name": "stdout",
     "output_type": "stream",
     "text": [
      "top 1->0.8757296654750479\n",
      "top 2->0.8922391293667962\n",
      "top 3->0.8926391899629286\n",
      "top 4->0.9369880079899705\n",
      "top 5->0.9389314825554633\n"
     ]
    }
   ],
   "source": [
    "data[np.argsort(data)[-5:]]"
   ]
  },
  {
   "cell_type": "markdown",
   "metadata": {
    "id": "sT08UZIhGg6q"
   },
   "source": [
    "---\n",
    "**Problem 2: Exam Scores**\n",
    "\n",
    "Generate a 1D array of 50 student scores (0–100).\n",
    "• Extract the scores of the top 10 students (highest scores)."
   ]
  },
  {
   "cell_type": "code",
   "execution_count": 89,
   "metadata": {
    "executionInfo": {
     "elapsed": 18,
     "status": "ok",
     "timestamp": 1758341214638,
     "user": {
      "displayName": "Tushar Raj",
      "userId": "04399146470560759060"
     },
     "user_tz": -330
    },
    "id": "UX0zg3rHGnCr"
   },
   "outputs": [
    {
     "data": {
      "text/plain": [
       "50"
      ]
     },
     "execution_count": 89,
     "metadata": {},
     "output_type": "execute_result"
    }
   ],
   "source": [
    "student_marks = np.array([np.random.randint(0,100) for i in range(50)])\n",
    "len(student_marks)\n"
   ]
  },
  {
   "cell_type": "markdown",
   "metadata": {
    "id": "cYgdvc-SHWjD"
   },
   "source": [
    "Extract the scores of the top 10 students (highest scores)."
   ]
  },
  {
   "cell_type": "code",
   "execution_count": 3,
   "metadata": {
    "colab": {
     "base_uri": "https://localhost:8080/"
    },
    "executionInfo": {
     "elapsed": 17,
     "status": "ok",
     "timestamp": 1758341214672,
     "user": {
      "displayName": "Tushar Raj",
      "userId": "04399146470560759060"
     },
     "user_tz": -330
    },
    "id": "wBaA2dybHlFj",
    "outputId": "76f185db-6a6a-4ea7-a977-4f3709b41b6b"
   },
   "outputs": [
    {
     "data": {
      "text/plain": [
       "array([76, 80, 81, 86, 87, 88, 88, 94, 96, 97], dtype=int32)"
      ]
     },
     "execution_count": 3,
     "metadata": {},
     "output_type": "execute_result"
    }
   ],
   "source": [
    "data = np.random.randint(0,100,size=(50))\n",
    "data[np.argsort(data)[-10:]]"
   ]
  },
  {
   "cell_type": "code",
   "execution_count": 91,
   "metadata": {
    "colab": {
     "base_uri": "https://localhost:8080/"
    },
    "executionInfo": {
     "elapsed": 94,
     "status": "ok",
     "timestamp": 1758341214767,
     "user": {
      "displayName": "Tushar Raj",
      "userId": "04399146470560759060"
     },
     "user_tz": -330
    },
    "id": "W2NDBCbZIXDS",
    "outputId": "010d29c9-71d5-4fe9-d24d-b9d4f5f36575"
   },
   "outputs": [
    {
     "name": "stdout",
     "output_type": "stream",
     "text": [
      "[84 -1 -1 83 -1 86 81 80 43 -1 62 51 -1 72 -1 -1 -1 66 -1 76 49 -1 -1 56\n",
      " 44 89 -1 88 91 95 -1 99 45 -1 58 -1 -1 82 -1 -1 -1 -1 72 67 79 -1 82 81\n",
      " -1 76]\n"
     ]
    }
   ],
   "source": [
    "student_marks[student_marks<40]=-1\n",
    "print(student_marks)"
   ]
  },
  {
   "cell_type": "markdown",
   "metadata": {
    "id": "-K5MraQkI8VR"
   },
   "source": [
    "---\n",
    "**Problem 3: Sensor Fault Detection**\n",
    "\n",
    "Create a 1D array of 100 sensor readings (random floats).\n",
    "\n",
    "• Find all indices where values are above mean + 1 std deviation."
   ]
  },
  {
   "cell_type": "code",
   "execution_count": 4,
   "metadata": {
    "executionInfo": {
     "elapsed": 3,
     "status": "ok",
     "timestamp": 1758341214773,
     "user": {
      "displayName": "Tushar Raj",
      "userId": "04399146470560759060"
     },
     "user_tz": -330
    },
    "id": "IPeCn4EzJzeh"
   },
   "outputs": [],
   "source": [
    "sensor_data = np.random.rand(100)"
   ]
  },
  {
   "cell_type": "code",
   "execution_count": 5,
   "metadata": {
    "colab": {
     "base_uri": "https://localhost:8080/"
    },
    "executionInfo": {
     "elapsed": 28,
     "status": "ok",
     "timestamp": 1758341214803,
     "user": {
      "displayName": "Tushar Raj",
      "userId": "04399146470560759060"
     },
     "user_tz": -330
    },
    "id": "e4ZcAd1QJAAC",
    "outputId": "7b69394f-f639-4275-b915-ea27132083a8"
   },
   "outputs": [
    {
     "data": {
      "text/plain": [
       "array([0.83773219, 0.99143221, 0.95459351, 0.95678945, 0.86940263,\n",
       "       0.82845303, 0.92774815, 0.98794613, 0.79436691, 0.95537715,\n",
       "       0.94330225, 0.9229034 , 0.96945486, 0.83006933, 0.85314861,\n",
       "       0.89890581, 0.92698024, 0.886998  , 0.83593526, 0.88642929,\n",
       "       0.89632659, 0.81697103, 0.84832516])"
      ]
     },
     "execution_count": 5,
     "metadata": {},
     "output_type": "execute_result"
    }
   ],
   "source": [
    "# data = np.random.rand(100)\n",
    "std = np.std(sensor_data)\n",
    "mean = np.mean(sensor_data)\n",
    "# data[data>(mean+std)]\n",
    "index = np.where(sensor_data>(mean+std))\n",
    "sensor_data[index]"
   ]
  },
  {
   "cell_type": "code",
   "execution_count": 94,
   "metadata": {
    "colab": {
     "base_uri": "https://localhost:8080/"
    },
    "executionInfo": {
     "elapsed": 10,
     "status": "ok",
     "timestamp": 1758341214814,
     "user": {
      "displayName": "Tushar Raj",
      "userId": "04399146470560759060"
     },
     "user_tz": -330
    },
    "id": "iJsLM2yLKfJa",
    "outputId": "c46806c5-f312-40c0-fdea-c3a3a95e557c"
   },
   "outputs": [
    {
     "name": "stdout",
     "output_type": "stream",
     "text": [
      "sensor data that are above std \n",
      " [0.66618946 0.67109688 0.96577733 0.330898   0.34579434 0.55872165\n",
      " 0.96206246 0.49587527 0.38914076 0.70322173 0.47569322 0.48061841\n",
      " 0.53574522 0.70738536 0.63441122 0.62197638 0.46482772 0.81078657\n",
      " 0.30724505 0.32034222 0.45472172 0.6474288  0.57623568 0.61020948\n",
      " 0.76598498 0.42005674 0.4366548  0.31050359 0.50249663 0.6808978\n",
      " 0.54180138 0.86916017 0.84348863 0.66457128 0.50158193 0.88435642\n",
      " 0.93344309 0.55941802 0.67482359 0.57345314 0.42486018 0.38126566\n",
      " 0.57359943 0.78389263 0.63276553 0.30338325 0.75593457 0.962462\n",
      " 0.85836743 0.33455331 0.28306752 0.7131895  0.89866105 0.62997479\n",
      " 0.41681359 0.39688594 0.77578796 0.47469523 0.98547508 0.51150964\n",
      " 0.32074794 0.72389115 0.66079598 0.81418851 0.40736409 0.30583688\n",
      " 0.84285456 0.5814204  0.45174435 0.83411065 0.54317138 0.8257\n",
      " 0.71194692]\n"
     ]
    }
   ],
   "source": [
    "\n",
    "print('sensor data that are above std \\n',sensor_data[sensor_data!=0])"
   ]
  },
  {
   "cell_type": "markdown",
   "metadata": {
    "id": "KhUwSvYRKwj4"
   },
   "source": [
    "---\n",
    "**Problem 4: DNA Sequence Encoding**\n",
    "\n",
    "Represent a DNA sequence (A=0, C=1, G=2, T=3) as a 1D NumPy array of length 20.\n",
    "\n",
    "• Extract all occurrences of G and T."
   ]
  },
  {
   "cell_type": "code",
   "execution_count": 95,
   "metadata": {
    "colab": {
     "base_uri": "https://localhost:8080/"
    },
    "executionInfo": {
     "elapsed": 11,
     "status": "ok",
     "timestamp": 1758341214826,
     "user": {
      "displayName": "Tushar Raj",
      "userId": "04399146470560759060"
     },
     "user_tz": -330
    },
    "id": "f5FUxInkK1O6",
    "outputId": "467a4dbc-700c-4b02-b6cc-4c5a2f82eaba"
   },
   "outputs": [
    {
     "data": {
      "text/plain": [
       "array([1, 2, 0, 3, 2, 1, 1, 0, 1, 3, 2, 1, 0, 3, 2, 0, 2, 0, 1, 1])"
      ]
     },
     "execution_count": 95,
     "metadata": {},
     "output_type": "execute_result"
    }
   ],
   "source": [
    "dna_data = np.array([np.random.randint(0,4) for i in range(0,20)])\n",
    "dna_data"
   ]
  },
  {
   "cell_type": "markdown",
   "metadata": {
    "id": "fwZQimUnL895"
   },
   "source": [
    "• Extract all occurrences of G and T."
   ]
  },
  {
   "cell_type": "code",
   "execution_count": 96,
   "metadata": {
    "colab": {
     "base_uri": "https://localhost:8080/"
    },
    "executionInfo": {
     "elapsed": 10,
     "status": "ok",
     "timestamp": 1758341214838,
     "user": {
      "displayName": "Tushar Raj",
      "userId": "04399146470560759060"
     },
     "user_tz": -330
    },
    "id": "5I1OXH9mLboZ",
    "outputId": "faff46c1-ee06-4546-97e5-98a945336f87"
   },
   "outputs": [
    {
     "data": {
      "text/plain": [
       "array([2, 3, 2, 3, 2, 3, 2, 2])"
      ]
     },
     "execution_count": 96,
     "metadata": {},
     "output_type": "execute_result"
    }
   ],
   "source": [
    "gt = dna_data[dna_data>1]\n",
    "gt"
   ]
  },
  {
   "cell_type": "markdown",
   "metadata": {
    "id": "DU9G21pXL_wC"
   },
   "source": [
    "• Replace all A with -1 using fancy indexing."
   ]
  },
  {
   "cell_type": "code",
   "execution_count": 97,
   "metadata": {
    "colab": {
     "base_uri": "https://localhost:8080/"
    },
    "executionInfo": {
     "elapsed": 51,
     "status": "ok",
     "timestamp": 1758341214890,
     "user": {
      "displayName": "Tushar Raj",
      "userId": "04399146470560759060"
     },
     "user_tz": -330
    },
    "id": "i_Fw_UheL9hk",
    "outputId": "e16913fb-483e-4afe-df8e-7d7a9014e9b1"
   },
   "outputs": [
    {
     "data": {
      "text/plain": [
       "array([ 1,  2, -1,  3,  2,  1,  1, -1,  1,  3,  2,  1, -1,  3,  2, -1,  2,\n",
       "       -1,  1,  1])"
      ]
     },
     "execution_count": 97,
     "metadata": {},
     "output_type": "execute_result"
    }
   ],
   "source": [
    "dna_data[dna_data==0]=-1\n",
    "dna_data"
   ]
  },
  {
   "cell_type": "markdown",
   "metadata": {
    "id": "BViJ7SVDMJ34"
   },
   "source": [
    "---\n",
    "**Problem 5: Employee Salaries**\n",
    "\n",
    "Create a 1D array of 20 salaries."
   ]
  },
  {
   "cell_type": "code",
   "execution_count": 98,
   "metadata": {
    "executionInfo": {
     "elapsed": 2,
     "status": "ok",
     "timestamp": 1758341214906,
     "user": {
      "displayName": "Tushar Raj",
      "userId": "04399146470560759060"
     },
     "user_tz": -330
    },
    "id": "38k_iwx5MMOQ"
   },
   "outputs": [],
   "source": [
    "salaries_data = np.array([np.random.randint(10000,100000) for i in range(0,20)])"
   ]
  },
  {
   "cell_type": "markdown",
   "metadata": {
    "id": "tHlVQduaAPVb"
   },
   "source": [
    "Extract salaries of employees whose index is in [2, 5, 7, 11, 15]."
   ]
  },
  {
   "cell_type": "code",
   "execution_count": 99,
   "metadata": {
    "colab": {
     "base_uri": "https://localhost:8080/"
    },
    "executionInfo": {
     "elapsed": 16,
     "status": "ok",
     "timestamp": 1758341214924,
     "user": {
      "displayName": "Tushar Raj",
      "userId": "04399146470560759060"
     },
     "user_tz": -330
    },
    "id": "XHtA-F1r2Ojb",
    "outputId": "1a223da3-3abf-4f0d-826e-d54bdba57804"
   },
   "outputs": [
    {
     "data": {
      "text/plain": [
       "array([35214, 51807, 54212, 90591, 61684])"
      ]
     },
     "execution_count": 99,
     "metadata": {},
     "output_type": "execute_result"
    }
   ],
   "source": [
    "salaries_data[[2, 5, 7, 11, 15]]"
   ]
  },
  {
   "cell_type": "markdown",
   "metadata": {
    "id": "dtcP7wW9ARhI"
   },
   "source": [
    "Give a 10% raise only to these extracted salaries using fancy indexing."
   ]
  },
  {
   "cell_type": "code",
   "execution_count": 100,
   "metadata": {
    "colab": {
     "base_uri": "https://localhost:8080/"
    },
    "executionInfo": {
     "elapsed": 31,
     "status": "ok",
     "timestamp": 1758341214973,
     "user": {
      "displayName": "Tushar Raj",
      "userId": "04399146470560759060"
     },
     "user_tz": -330
    },
    "id": "MbSdnwC44_Yg",
    "outputId": "642d5cde-861b-40b9-b2af-a0ac3d52eb00"
   },
   "outputs": [
    {
     "data": {
      "text/plain": [
       "array([38735, 56987, 59633, 99650, 67852])"
      ]
     },
     "execution_count": 100,
     "metadata": {},
     "output_type": "execute_result"
    }
   ],
   "source": [
    "salaries_data[[2, 5, 7, 11, 15]] = salaries_data[[2, 5, 7, 11, 15]]*1.1\n",
    "salaries_data[[2, 5, 7, 11, 15]]"
   ]
  },
  {
   "cell_type": "markdown",
   "metadata": {
    "id": "cDqAgLzI4_Qf"
   },
   "source": [
    "---\n",
    "**2D Array Use Cases\n",
    "Problem 6: Matrix Row/Column Extraction**"
   ]
  },
  {
   "cell_type": "markdown",
   "metadata": {
    "id": "akWwrBxdBgo5"
   },
   "source": [
    "Create a 6x6 matrix of integers from 1 to 36."
   ]
  },
  {
   "cell_type": "code",
   "execution_count": 101,
   "metadata": {
    "colab": {
     "base_uri": "https://localhost:8080/"
    },
    "executionInfo": {
     "elapsed": 10,
     "status": "ok",
     "timestamp": 1758341215022,
     "user": {
      "displayName": "Tushar Raj",
      "userId": "04399146470560759060"
     },
     "user_tz": -330
    },
    "id": "MVwokMg8BjFH",
    "outputId": "25f39ace-0286-4d3a-c31e-95fb32ed5366"
   },
   "outputs": [
    {
     "data": {
      "text/plain": [
       "array([[ 2, 17, 17,  5, 17, 22],\n",
       "       [35, 24, 28, 26, 24, 11],\n",
       "       [33, 29, 10,  8, 12,  5],\n",
       "       [ 1, 10, 15, 34, 22,  7],\n",
       "       [21, 32, 24,  7, 22, 26],\n",
       "       [14, 21, 22,  8, 14, 27]], dtype=int32)"
      ]
     },
     "execution_count": 101,
     "metadata": {},
     "output_type": "execute_result"
    }
   ],
   "source": [
    "data = np.random.randint(1,36,size=(6,6))\n",
    "data"
   ]
  },
  {
   "cell_type": "markdown",
   "metadata": {
    "id": "p_txrNlfCBf2"
   },
   "source": [
    "Extract all elements from rows [1, 3, 5] and columns [0, 2, 4] using fancy indexing."
   ]
  },
  {
   "cell_type": "code",
   "execution_count": 102,
   "metadata": {
    "colab": {
     "base_uri": "https://localhost:8080/"
    },
    "executionInfo": {
     "elapsed": 14,
     "status": "ok",
     "timestamp": 1758341215037,
     "user": {
      "displayName": "Tushar Raj",
      "userId": "04399146470560759060"
     },
     "user_tz": -330
    },
    "id": "CZ4J87JdCAtd",
    "outputId": "0d836ed0-d5ca-4f06-abb7-922541700dea"
   },
   "outputs": [
    {
     "data": {
      "text/plain": [
       "array([35, 15, 14], dtype=int32)"
      ]
     },
     "execution_count": 102,
     "metadata": {},
     "output_type": "execute_result"
    }
   ],
   "source": [
    "data[[1,3,5],[0,2,4]]"
   ]
  },
  {
   "cell_type": "markdown",
   "metadata": {
    "id": "b0mAPlBaCOaV"
   },
   "source": [
    "---\n",
    "**Problem 7: Student Marks Table**\n",
    "\n",
    "Generate a 10x5 array representing 10 students and 5 subjects."
   ]
  },
  {
   "cell_type": "code",
   "execution_count": 103,
   "metadata": {
    "colab": {
     "base_uri": "https://localhost:8080/"
    },
    "executionInfo": {
     "elapsed": 11,
     "status": "ok",
     "timestamp": 1758341215059,
     "user": {
      "displayName": "Tushar Raj",
      "userId": "04399146470560759060"
     },
     "user_tz": -330
    },
    "id": "k4RPngAKCTf3",
    "outputId": "efbfff64-3ce0-4ef5-c946-51fa535dedf6"
   },
   "outputs": [
    {
     "data": {
      "text/plain": [
       "(10, 5)"
      ]
     },
     "execution_count": 103,
     "metadata": {},
     "output_type": "execute_result"
    }
   ],
   "source": [
    "data = np.random.randint(0,100,size=(10,5))\n",
    "data.shape"
   ]
  },
  {
   "cell_type": "markdown",
   "metadata": {
    "id": "ydzQgUqmDQTl"
   },
   "source": [
    "• Extract marks of students [2, 4, 6, 8] in subjects [1, 3]."
   ]
  },
  {
   "cell_type": "code",
   "execution_count": 104,
   "metadata": {
    "colab": {
     "base_uri": "https://localhost:8080/"
    },
    "executionInfo": {
     "elapsed": 36,
     "status": "ok",
     "timestamp": 1758341215096,
     "user": {
      "displayName": "Tushar Raj",
      "userId": "04399146470560759060"
     },
     "user_tz": -330
    },
    "id": "JKefjG57DTIe",
    "outputId": "45abd66d-f349-4846-b152-ed8edebb31c5"
   },
   "outputs": [
    {
     "data": {
      "text/plain": [
       "array([[14,  0],\n",
       "       [25, 68],\n",
       "       [66, 24],\n",
       "       [68,  9]], dtype=int32)"
      ]
     },
     "execution_count": 104,
     "metadata": {},
     "output_type": "execute_result"
    }
   ],
   "source": [
    "data[np.ix_([2,4,6,8],[1,3])]"
   ]
  },
  {
   "cell_type": "markdown",
   "metadata": {
    "id": "vLSIkf3MEblr"
   },
   "source": [
    "Replace all marks below 30 with 0 for these students."
   ]
  },
  {
   "cell_type": "code",
   "execution_count": 105,
   "metadata": {
    "colab": {
     "base_uri": "https://localhost:8080/"
    },
    "executionInfo": {
     "elapsed": 50,
     "status": "ok",
     "timestamp": 1758341215147,
     "user": {
      "displayName": "Tushar Raj",
      "userId": "04399146470560759060"
     },
     "user_tz": -330
    },
    "id": "B0kJMmkQEcKb",
    "outputId": "78281071-3f11-4bfc-b5e9-c800ba7f1a73"
   },
   "outputs": [
    {
     "data": {
      "text/plain": [
       "array([[96, 49,  0, 84,  0],\n",
       "       [47,  0,  0, 34,  0],\n",
       "       [ 0,  0, 45,  0,  0],\n",
       "       [ 0,  0, 66, 43, 81],\n",
       "       [64,  0, 56, 68,  0],\n",
       "       [ 0,  0, 88, 59, 61],\n",
       "       [63, 66, 53,  0, 39],\n",
       "       [ 0, 96,  0, 43,  0],\n",
       "       [87, 68,  0,  0, 47],\n",
       "       [80, 85,  0,  0, 50]], dtype=int32)"
      ]
     },
     "execution_count": 105,
     "metadata": {},
     "output_type": "execute_result"
    }
   ],
   "source": [
    "data[data<30]=0\n",
    "data"
   ]
  },
  {
   "cell_type": "markdown",
   "metadata": {
    "id": "vmXqxj2SEiot"
   },
   "source": [
    "---\n",
    "**Problem 8: Airline Seat Booking**\n",
    "\n",
    "Create a 12x6 seating matrix (rows × columns)."
   ]
  },
  {
   "cell_type": "code",
   "execution_count": 106,
   "metadata": {
    "colab": {
     "base_uri": "https://localhost:8080/"
    },
    "executionInfo": {
     "elapsed": 18,
     "status": "ok",
     "timestamp": 1758341215166,
     "user": {
      "displayName": "Tushar Raj",
      "userId": "04399146470560759060"
     },
     "user_tz": -330
    },
    "id": "wkoqI7wjEosl",
    "outputId": "565de00d-f937-48b1-e068-393e4af8215d"
   },
   "outputs": [
    {
     "data": {
      "text/plain": [
       "(12, 6)"
      ]
     },
     "execution_count": 106,
     "metadata": {},
     "output_type": "execute_result"
    }
   ],
   "source": [
    "data = np.random.randint(0,2,size=(12,6))\n",
    "data.shape"
   ]
  },
  {
   "cell_type": "code",
   "execution_count": 107,
   "metadata": {
    "colab": {
     "base_uri": "https://localhost:8080/"
    },
    "executionInfo": {
     "elapsed": 20,
     "status": "ok",
     "timestamp": 1758341215187,
     "user": {
      "displayName": "Tushar Raj",
      "userId": "04399146470560759060"
     },
     "user_tz": -330
    },
    "id": "5rH0kdx6FHTb",
    "outputId": "3be208be-bc08-4547-e286-1e321cef2e73"
   },
   "outputs": [
    {
     "data": {
      "text/plain": [
       "array([[1, 0, 1, 0, 1, 0],\n",
       "       [0, 0, 0, 1, 1, 1],\n",
       "       [1, 1, 1, 1, 1, 1],\n",
       "       [1, 1, 0, 1, 1, 1],\n",
       "       [1, 0, 1, 0, 1, 0],\n",
       "       [1, 0, 0, 1, 1, 1],\n",
       "       [0, 0, 0, 0, 1, 0],\n",
       "       [1, 0, 0, 0, 1, 0],\n",
       "       [1, 1, 1, 0, 0, 1],\n",
       "       [0, 1, 0, 1, 1, 1],\n",
       "       [0, 0, 0, 0, 1, 0],\n",
       "       [1, 0, 0, 1, 1, 1]], dtype=int32)"
      ]
     },
     "execution_count": 107,
     "metadata": {},
     "output_type": "execute_result"
    }
   ],
   "source": [
    "data"
   ]
  },
  {
   "cell_type": "markdown",
   "metadata": {
    "id": "o-DihSHkEoA7"
   },
   "source": [
    "• Extract all aisle seats (first and last column)."
   ]
  },
  {
   "cell_type": "code",
   "execution_count": 108,
   "metadata": {
    "colab": {
     "base_uri": "https://localhost:8080/"
    },
    "executionInfo": {
     "elapsed": 41,
     "status": "ok",
     "timestamp": 1758341215229,
     "user": {
      "displayName": "Tushar Raj",
      "userId": "04399146470560759060"
     },
     "user_tz": -330
    },
    "id": "cCzu92doE8VL",
    "outputId": "9fb337a5-0975-4fd1-d51b-aa16ad7cd766"
   },
   "outputs": [
    {
     "data": {
      "text/plain": [
       "array([[1, 0],\n",
       "       [0, 1],\n",
       "       [1, 1],\n",
       "       [1, 1],\n",
       "       [1, 0],\n",
       "       [1, 1],\n",
       "       [0, 0],\n",
       "       [1, 0],\n",
       "       [1, 1],\n",
       "       [0, 1],\n",
       "       [0, 0],\n",
       "       [1, 1]], dtype=int32)"
      ]
     },
     "execution_count": 108,
     "metadata": {},
     "output_type": "execute_result"
    }
   ],
   "source": [
    "data[:,[0,-1]]"
   ]
  },
  {
   "cell_type": "markdown",
   "metadata": {
    "id": "DgVMAbG4FJMK"
   },
   "source": [
    "Mark seats [row=2, cols=[1,2,4]] as booked (-1) using fancy indexing."
   ]
  },
  {
   "cell_type": "code",
   "execution_count": 109,
   "metadata": {
    "colab": {
     "base_uri": "https://localhost:8080/"
    },
    "executionInfo": {
     "elapsed": 42,
     "status": "ok",
     "timestamp": 1758341215284,
     "user": {
      "displayName": "Tushar Raj",
      "userId": "04399146470560759060"
     },
     "user_tz": -330
    },
    "id": "tojqIorqFLIC",
    "outputId": "61c633ef-4530-4d67-c5ce-9d16bd4a8e46"
   },
   "outputs": [
    {
     "data": {
      "text/plain": [
       "array([[ 1,  0,  1,  0,  1,  0],\n",
       "       [ 0,  0,  0,  1,  1,  1],\n",
       "       [ 1, -1, -1,  1, -1,  1],\n",
       "       [ 1,  1,  0,  1,  1,  1],\n",
       "       [ 1,  0,  1,  0,  1,  0],\n",
       "       [ 1,  0,  0,  1,  1,  1],\n",
       "       [ 0,  0,  0,  0,  1,  0],\n",
       "       [ 1,  0,  0,  0,  1,  0],\n",
       "       [ 1,  1,  1,  0,  0,  1],\n",
       "       [ 0,  1,  0,  1,  1,  1],\n",
       "       [ 0,  0,  0,  0,  1,  0],\n",
       "       [ 1,  0,  0,  1,  1,  1]], dtype=int32)"
      ]
     },
     "execution_count": 109,
     "metadata": {},
     "output_type": "execute_result"
    }
   ],
   "source": [
    "data[2,[1,2,4]]=-1\n",
    "data"
   ]
  },
  {
   "cell_type": "markdown",
   "metadata": {
    "id": "rdWxU184GONi"
   },
   "source": [
    "---\n",
    "**Problem 9: Chessboard Pattern**\n",
    "\n",
    "Create an 8x8 matrix with values from 0–63."
   ]
  },
  {
   "cell_type": "code",
   "execution_count": 110,
   "metadata": {
    "colab": {
     "base_uri": "https://localhost:8080/"
    },
    "executionInfo": {
     "elapsed": 22,
     "status": "ok",
     "timestamp": 1758341215308,
     "user": {
      "displayName": "Tushar Raj",
      "userId": "04399146470560759060"
     },
     "user_tz": -330
    },
    "id": "iCZZRNQDGTKD",
    "outputId": "63706dbe-07a5-4f5d-8d0a-b042cf226352"
   },
   "outputs": [
    {
     "data": {
      "text/plain": [
       "array([[24,  2, 30, 24,  9,  8, 16, 18],\n",
       "       [ 4,  1,  9,  9, 34, 22,  0, 23],\n",
       "       [ 3, 32, 12, 10,  2, 19, 23, 19],\n",
       "       [25, 16, 16, 10, 23,  9,  1,  7],\n",
       "       [29, 17,  1,  0, 32, 14,  4,  0],\n",
       "       [33, 30,  2, 30, 19, 22,  0,  9],\n",
       "       [11, 11, 12, 28, 12, 28, 23, 27],\n",
       "       [21, 33, 23,  1, 25, 21, 26,  9]], dtype=int32)"
      ]
     },
     "execution_count": 110,
     "metadata": {},
     "output_type": "execute_result"
    }
   ],
   "source": [
    "data = np.random.randint(0,36,size=(8,8))\n",
    "data"
   ]
  },
  {
   "cell_type": "markdown",
   "metadata": {
    "id": "12NtivedGcTK"
   },
   "source": [
    "Extract all black squares (even row + odd column, odd row + even column)."
   ]
  },
  {
   "cell_type": "code",
   "execution_count": 111,
   "metadata": {
    "colab": {
     "base_uri": "https://localhost:8080/"
    },
    "executionInfo": {
     "elapsed": 25,
     "status": "ok",
     "timestamp": 1758341215334,
     "user": {
      "displayName": "Tushar Raj",
      "userId": "04399146470560759060"
     },
     "user_tz": -330
    },
    "id": "QEuZKbJIGbv5",
    "outputId": "fded0eca-363c-4535-9bd2-b8bd2b6549fe"
   },
   "outputs": [
    {
     "data": {
      "text/plain": [
       "array([[ 4,  9, 34,  0],\n",
       "       [25, 16, 23,  1],\n",
       "       [33,  2, 19,  0],\n",
       "       [21, 23, 25, 26]], dtype=int32)"
      ]
     },
     "execution_count": 111,
     "metadata": {},
     "output_type": "execute_result"
    }
   ],
   "source": [
    "temp = data[np.ix_([1,3,5,7],[0,2,4,6])]\n",
    "temp"
   ]
  },
  {
   "cell_type": "code",
   "execution_count": 112,
   "metadata": {
    "colab": {
     "base_uri": "https://localhost:8080/"
    },
    "executionInfo": {
     "elapsed": 13,
     "status": "ok",
     "timestamp": 1758341215349,
     "user": {
      "displayName": "Tushar Raj",
      "userId": "04399146470560759060"
     },
     "user_tz": -330
    },
    "id": "W08QQCRmHesj",
    "outputId": "af990a40-2b9f-4c18-97cd-59f62858bbc3"
   },
   "outputs": [
    {
     "data": {
      "text/plain": [
       "array([[24, -1, 30, -1,  9, -1, 16, -1],\n",
       "       [-1,  1, -1,  9, -1, 22, -1, 23],\n",
       "       [ 3, -1, 12, -1,  2, -1, 23, -1],\n",
       "       [-1, 16, -1, 10, -1,  9, -1,  7],\n",
       "       [29, -1,  1, -1, 32, -1,  4, -1],\n",
       "       [-1, 30, -1, 30, -1, 22, -1,  9],\n",
       "       [11, -1, 12, -1, 12, -1, 23, -1],\n",
       "       [-1, 33, -1,  1, -1, 21, -1,  9]], dtype=int32)"
      ]
     },
     "execution_count": 112,
     "metadata": {},
     "output_type": "execute_result"
    }
   ],
   "source": [
    "data[np.ix_([0,2,4,6],[1,3,5,7])] = -1\n",
    "data[np.ix_([1,3,5,7],[0,2,4,6])] = -1\n",
    "data"
   ]
  },
  {
   "cell_type": "markdown",
   "metadata": {
    "id": "6u4DD6RyH3O6"
   },
   "source": [
    "---\n",
    "**Problem 10: Product Sales Data**\n",
    "\n",
    "Create a 5x7 array representing sales of 5 products over 7 days."
   ]
  },
  {
   "cell_type": "code",
   "execution_count": 113,
   "metadata": {
    "colab": {
     "base_uri": "https://localhost:8080/"
    },
    "executionInfo": {
     "elapsed": 15,
     "status": "ok",
     "timestamp": 1758341215366,
     "user": {
      "displayName": "Tushar Raj",
      "userId": "04399146470560759060"
     },
     "user_tz": -330
    },
    "id": "Cpda-f4IH9th",
    "outputId": "eb4c7d40-61e5-45be-9191-ab07dd64a48d"
   },
   "outputs": [
    {
     "data": {
      "text/plain": [
       "array([[450, 201, 341, 508, 790, 142, 951],\n",
       "       [345, 845, 423, 522, 982, 244, 441],\n",
       "       [723, 159, 701, 157, 397, 149, 324],\n",
       "       [811, 451, 386, 744, 839, 726, 965],\n",
       "       [633, 322, 288, 572, 283, 170, 304]], dtype=int32)"
      ]
     },
     "execution_count": 113,
     "metadata": {},
     "output_type": "execute_result"
    }
   ],
   "source": [
    "data = np.random.randint(100,1000,size=(5,7))\n",
    "data"
   ]
  },
  {
   "cell_type": "markdown",
   "metadata": {
    "id": "BBH3aWwhILrP"
   },
   "source": [
    "Extract sales of products [1, 3] on days [2, 4, 6]."
   ]
  },
  {
   "cell_type": "code",
   "execution_count": 114,
   "metadata": {
    "colab": {
     "base_uri": "https://localhost:8080/"
    },
    "executionInfo": {
     "elapsed": 53,
     "status": "ok",
     "timestamp": 1758341215421,
     "user": {
      "displayName": "Tushar Raj",
      "userId": "04399146470560759060"
     },
     "user_tz": -330
    },
    "id": "NVSNrh7XILD3",
    "outputId": "c2f6cebd-ef77-4735-cf28-12b72d292f54"
   },
   "outputs": [
    {
     "data": {
      "text/plain": [
       "array([[423, 982, 441],\n",
       "       [701, 397, 324]], dtype=int32)"
      ]
     },
     "execution_count": 114,
     "metadata": {},
     "output_type": "execute_result"
    }
   ],
   "source": [
    "data[np.ix_([1,2],[2,4,6])]"
   ]
  },
  {
   "cell_type": "markdown",
   "metadata": {
    "id": "V6UuCqCtIN0R"
   },
   "source": [
    "Increase those extracted values by 20%."
   ]
  },
  {
   "cell_type": "code",
   "execution_count": 115,
   "metadata": {
    "colab": {
     "base_uri": "https://localhost:8080/"
    },
    "executionInfo": {
     "elapsed": 12,
     "status": "ok",
     "timestamp": 1758341215435,
     "user": {
      "displayName": "Tushar Raj",
      "userId": "04399146470560759060"
     },
     "user_tz": -330
    },
    "id": "H_xeLQlaIPgA",
    "outputId": "40c2a037-9452-4174-cbd8-fe3ec1a19a4b"
   },
   "outputs": [
    {
     "data": {
      "text/plain": [
       "array([[ 450,  201,  341,  508,  790,  142,  951],\n",
       "       [ 345,  845,  930,  522, 2160,  244,  970],\n",
       "       [ 723,  159, 1542,  157,  873,  149,  712],\n",
       "       [ 811,  451,  386,  744,  839,  726,  965],\n",
       "       [ 633,  322,  288,  572,  283,  170,  304]], dtype=int32)"
      ]
     },
     "execution_count": 115,
     "metadata": {},
     "output_type": "execute_result"
    }
   ],
   "source": [
    "data[np.ix_([1,2],[2,4,6])] = (data[np.ix_([1,2],[2,4,6])] *2.2).astype(int)\n",
    "data"
   ]
  },
  {
   "cell_type": "markdown",
   "metadata": {
    "id": "AGJ3KNh9JA6H"
   },
   "source": [
    "---\n",
    "**3D Array Use Cases**\n",
    "\n",
    "**Problem 11:\n",
    "Video Frames (RGB)**\n",
    "\n",
    "Create a 4x3x3 array representing 4 frames, each 3x3 pixel."
   ]
  },
  {
   "cell_type": "code",
   "execution_count": 116,
   "metadata": {
    "colab": {
     "base_uri": "https://localhost:8080/"
    },
    "executionInfo": {
     "elapsed": 17,
     "status": "ok",
     "timestamp": 1758341215453,
     "user": {
      "displayName": "Tushar Raj",
      "userId": "04399146470560759060"
     },
     "user_tz": -330
    },
    "id": "GBuNroB8JSuu",
    "outputId": "e6c33f75-1c36-4537-9a0c-9ffcf34070a5"
   },
   "outputs": [
    {
     "data": {
      "text/plain": [
       "array([[[2, 8, 2],\n",
       "        [7, 2, 0],\n",
       "        [7, 4, 0]],\n",
       "\n",
       "       [[7, 7, 2],\n",
       "        [7, 0, 9],\n",
       "        [4, 8, 2]],\n",
       "\n",
       "       [[0, 4, 1],\n",
       "        [3, 8, 4],\n",
       "        [8, 7, 1]],\n",
       "\n",
       "       [[1, 1, 4],\n",
       "        [9, 0, 8],\n",
       "        [5, 7, 3]]], dtype=int32)"
      ]
     },
     "execution_count": 116,
     "metadata": {},
     "output_type": "execute_result"
    }
   ],
   "source": [
    "data = np.random.randint(0,10,size=(4,3,3))\n",
    "data"
   ]
  },
  {
   "cell_type": "markdown",
   "metadata": {
    "id": "337zZKFyJRr-"
   },
   "source": [
    "Extract the center pixel from each frame using fancy indexing."
   ]
  },
  {
   "cell_type": "code",
   "execution_count": 117,
   "metadata": {
    "colab": {
     "base_uri": "https://localhost:8080/"
    },
    "executionInfo": {
     "elapsed": 15,
     "status": "ok",
     "timestamp": 1758341215479,
     "user": {
      "displayName": "Tushar Raj",
      "userId": "04399146470560759060"
     },
     "user_tz": -330
    },
    "id": "4EaMDPgnJROI",
    "outputId": "86042ad7-e0aa-42fb-8da0-861f6deec7ca"
   },
   "outputs": [
    {
     "data": {
      "text/plain": [
       "array([2, 0, 8, 0], dtype=int32)"
      ]
     },
     "execution_count": 117,
     "metadata": {},
     "output_type": "execute_result"
    }
   ],
   "source": [
    "data[:,1,1]"
   ]
  },
  {
   "cell_type": "markdown",
   "metadata": {
    "id": "kzSHW_oQJyLP"
   },
   "source": [
    "---\n",
    "**Problem 12: Weather Data**\n",
    "\n",
    "Create a (2, 12, 30) array → 2 years, 12 months, 30 days."
   ]
  },
  {
   "cell_type": "code",
   "execution_count": 118,
   "metadata": {
    "colab": {
     "base_uri": "https://localhost:8080/"
    },
    "executionInfo": {
     "elapsed": 64,
     "status": "ok",
     "timestamp": 1758341215544,
     "user": {
      "displayName": "Tushar Raj",
      "userId": "04399146470560759060"
     },
     "user_tz": -330
    },
    "id": "-3cXRwygJz5W",
    "outputId": "3eb5b378-0935-4ee7-8ff0-694ea426eaf6"
   },
   "outputs": [
    {
     "data": {
      "text/plain": [
       "(2, 12, 30)"
      ]
     },
     "execution_count": 118,
     "metadata": {},
     "output_type": "execute_result"
    }
   ],
   "source": [
    "data = np.random.randint(0,10,size=(2,12,30))\n",
    "data.shape\n"
   ]
  },
  {
   "cell_type": "markdown",
   "metadata": {
    "id": "3X0VNUjWJ3I4"
   },
   "source": [
    "Extract temperatures of months [0, 5, 11] for year 1 on days [10, 20]."
   ]
  },
  {
   "cell_type": "code",
   "execution_count": 119,
   "metadata": {
    "colab": {
     "base_uri": "https://localhost:8080/"
    },
    "executionInfo": {
     "elapsed": 40,
     "status": "ok",
     "timestamp": 1758341215585,
     "user": {
      "displayName": "Tushar Raj",
      "userId": "04399146470560759060"
     },
     "user_tz": -330
    },
    "id": "yuDE9XjUJ4T_",
    "outputId": "d607d928-7883-44af-d2d1-397f34dfc37b"
   },
   "outputs": [
    {
     "data": {
      "text/plain": [
       "array([[[5, 1],\n",
       "        [7, 3],\n",
       "        [3, 6]]], dtype=int32)"
      ]
     },
     "execution_count": 119,
     "metadata": {},
     "output_type": "execute_result"
    }
   ],
   "source": [
    "data[np.ix_([0],[0,5,11],[10,20])]"
   ]
  },
  {
   "cell_type": "markdown",
   "metadata": {
    "id": "wcTJVXIa5DIW"
   },
   "source": [
    "---\n",
    "**Problem 13: Hospital Patient Records**\n",
    "\n",
    "Create a (3, 4, 5) array → 3 patients, 4 days, 5 test results/day.\n"
   ]
  },
  {
   "cell_type": "code",
   "execution_count": 120,
   "metadata": {
    "colab": {
     "base_uri": "https://localhost:8080/"
    },
    "executionInfo": {
     "elapsed": 20,
     "status": "ok",
     "timestamp": 1758341215606,
     "user": {
      "displayName": "Tushar Raj",
      "userId": "04399146470560759060"
     },
     "user_tz": -330
    },
    "id": "f7SWSAf85bfm",
    "outputId": "58561628-4088-4052-df49-7d57f6bffa16"
   },
   "outputs": [
    {
     "data": {
      "text/plain": [
       "array([[[16, 16,  9, 11, 23],\n",
       "        [21, 15, 19, 21, 10],\n",
       "        [18, 26, 13, 27, 19],\n",
       "        [22,  2,  8, 25,  8]],\n",
       "\n",
       "       [[19, 10, 15, 16, 24],\n",
       "        [ 2,  2,  3, 13, 19],\n",
       "        [12, 19, 29, 20, 26],\n",
       "        [ 9, 25,  7,  7,  4]],\n",
       "\n",
       "       [[18,  3, 18, 23,  6],\n",
       "        [ 7, 11,  7,  1,  8],\n",
       "        [17, 21, 25,  8, 20],\n",
       "        [ 7, 14, 18,  2,  7]]], dtype=int32)"
      ]
     },
     "execution_count": 120,
     "metadata": {},
     "output_type": "execute_result"
    }
   ],
   "source": [
    "data = np.random.randint(1,30,size=(3,4,5))\n",
    "data"
   ]
  },
  {
   "cell_type": "markdown",
   "metadata": {
    "id": "TloPWldm5b8u"
   },
   "source": [
    "\n",
    "• Extract test results of patients [0, 2] on day 3 for tests [1, 3]."
   ]
  },
  {
   "cell_type": "code",
   "execution_count": 121,
   "metadata": {
    "colab": {
     "base_uri": "https://localhost:8080/"
    },
    "executionInfo": {
     "elapsed": 9,
     "status": "ok",
     "timestamp": 1758341215623,
     "user": {
      "displayName": "Tushar Raj",
      "userId": "04399146470560759060"
     },
     "user_tz": -330
    },
    "id": "HhfbpQdv5vrW",
    "outputId": "a9fcba1f-48fc-46e3-a68a-b3c9e8e77893"
   },
   "outputs": [
    {
     "data": {
      "text/plain": [
       "array([[[18, 13]],\n",
       "\n",
       "       [[17, 25]]], dtype=int32)"
      ]
     },
     "execution_count": 121,
     "metadata": {},
     "output_type": "execute_result"
    }
   ],
   "source": [
    "ans = data[np.ix_([0,2],[2],[0,2])]\n",
    "ans"
   ]
  },
  {
   "cell_type": "markdown",
   "metadata": {
    "id": "cGbG_4ZABJN0"
   },
   "source": [
    "---\n",
    "**Problem 14: Sports Team Analytics**\n",
    "\n",
    "Create a (5, 6, 4) array → 5 teams, 6 matches, 4 stats each."
   ]
  },
  {
   "cell_type": "code",
   "execution_count": 122,
   "metadata": {
    "colab": {
     "base_uri": "https://localhost:8080/"
    },
    "executionInfo": {
     "elapsed": 20,
     "status": "ok",
     "timestamp": 1758341215682,
     "user": {
      "displayName": "Tushar Raj",
      "userId": "04399146470560759060"
     },
     "user_tz": -330
    },
    "id": "GViO_x2bBS2D",
    "outputId": "eb818518-4e69-4bb1-8ef2-21e1a8319709"
   },
   "outputs": [
    {
     "data": {
      "text/plain": [
       "array([[[19, 14, 26, 28],\n",
       "        [19, 23, 13, 20],\n",
       "        [18, 12, 27, 20],\n",
       "        [16, 10, 11, 22],\n",
       "        [19, 27, 12, 11],\n",
       "        [14, 17, 18, 21]],\n",
       "\n",
       "       [[26, 17, 26, 29],\n",
       "        [26, 24, 26, 19],\n",
       "        [15, 18, 14, 11],\n",
       "        [16, 13, 21, 21],\n",
       "        [27, 24, 15, 24],\n",
       "        [11, 19, 23, 15]],\n",
       "\n",
       "       [[20, 14, 23, 28],\n",
       "        [21, 28, 27, 15],\n",
       "        [29, 13, 22, 25],\n",
       "        [20, 10, 12, 16],\n",
       "        [28, 18, 22, 22],\n",
       "        [13, 22, 16, 24]],\n",
       "\n",
       "       [[11, 22, 27, 10],\n",
       "        [12, 29, 11, 19],\n",
       "        [15, 15, 16, 23],\n",
       "        [16, 29, 15, 18],\n",
       "        [27, 17, 26, 27],\n",
       "        [26, 25, 18, 18]],\n",
       "\n",
       "       [[18, 24, 17, 23],\n",
       "        [22, 28, 21, 12],\n",
       "        [14, 22, 19, 24],\n",
       "        [26, 20, 21, 14],\n",
       "        [20, 15, 20, 23],\n",
       "        [22, 13, 11, 26]]], dtype=int32)"
      ]
     },
     "execution_count": 122,
     "metadata": {},
     "output_type": "execute_result"
    }
   ],
   "source": [
    "data = np.random.randint(10,30,size=(5,6,4))\n",
    "data"
   ]
  },
  {
   "cell_type": "markdown",
   "metadata": {
    "id": "gziVLXENBkIz"
   },
   "source": [
    "• Extract stats of teams [1, 3, 4] for matches [2, 5]."
   ]
  },
  {
   "cell_type": "code",
   "execution_count": 123,
   "metadata": {
    "colab": {
     "base_uri": "https://localhost:8080/"
    },
    "executionInfo": {
     "elapsed": 21,
     "status": "ok",
     "timestamp": 1758341215704,
     "user": {
      "displayName": "Tushar Raj",
      "userId": "04399146470560759060"
     },
     "user_tz": -330
    },
    "id": "a9DMeXXzBmlz",
    "outputId": "7ab1c2b8-9816-4b65-bd4e-6b6f461213a1"
   },
   "outputs": [
    {
     "data": {
      "text/plain": [
       "array([[[19, 23, 13, 20],\n",
       "        [19, 27, 12, 11]],\n",
       "\n",
       "       [[21, 28, 27, 15],\n",
       "        [28, 18, 22, 22]],\n",
       "\n",
       "       [[12, 29, 11, 19],\n",
       "        [27, 17, 26, 27]]], dtype=int32)"
      ]
     },
     "execution_count": 123,
     "metadata": {},
     "output_type": "execute_result"
    }
   ],
   "source": [
    "data[np.ix_([0,2,3],[1,4])]"
   ]
  },
  {
   "cell_type": "markdown",
   "metadata": {
    "id": "cmx5hHwrCMzs"
   },
   "source": [
    "---\n",
    "**Problem 15: Movie Ratings**\n",
    "\n",
    "Create a (10, 5, 4) array → 10 movies, 5 critics, 4 rating categories."
   ]
  },
  {
   "cell_type": "code",
   "execution_count": 124,
   "metadata": {
    "colab": {
     "base_uri": "https://localhost:8080/"
    },
    "executionInfo": {
     "elapsed": 17,
     "status": "ok",
     "timestamp": 1758341215732,
     "user": {
      "displayName": "Tushar Raj",
      "userId": "04399146470560759060"
     },
     "user_tz": -330
    },
    "id": "ExbtpnuMCSkD",
    "outputId": "fead411b-6c5e-48e1-ef4a-d0b7c9d73f9d"
   },
   "outputs": [
    {
     "data": {
      "text/plain": [
       "array([[[27, 28, 14, 21],\n",
       "        [13, 16, 22, 27],\n",
       "        [28, 21, 22, 29],\n",
       "        [26, 29, 26, 24],\n",
       "        [12, 25, 22, 20]],\n",
       "\n",
       "       [[11, 19, 18, 15],\n",
       "        [20, 13, 27, 22],\n",
       "        [19, 22, 25, 28],\n",
       "        [22, 17, 22, 22],\n",
       "        [15, 25, 11, 11]],\n",
       "\n",
       "       [[28, 13, 10, 19],\n",
       "        [27, 10, 28, 21],\n",
       "        [13, 11, 21, 16],\n",
       "        [13, 17, 29, 15],\n",
       "        [12, 22, 14, 23]],\n",
       "\n",
       "       [[27, 24, 17, 12],\n",
       "        [14, 25, 16, 26],\n",
       "        [24, 26, 26, 10],\n",
       "        [20, 16, 19, 26],\n",
       "        [17, 15, 19, 23]],\n",
       "\n",
       "       [[27, 15, 23, 13],\n",
       "        [27, 28, 20, 16],\n",
       "        [16, 17, 14, 15],\n",
       "        [20, 10, 20, 18],\n",
       "        [18, 23, 29, 28]],\n",
       "\n",
       "       [[12, 26, 29, 19],\n",
       "        [20, 25, 20, 23],\n",
       "        [22, 17, 28, 23],\n",
       "        [24, 26, 13, 22],\n",
       "        [13, 21, 28, 29]],\n",
       "\n",
       "       [[23, 15, 24, 19],\n",
       "        [19, 23, 25, 29],\n",
       "        [24, 13, 10, 22],\n",
       "        [29, 26, 10, 14],\n",
       "        [23, 22, 20, 22]],\n",
       "\n",
       "       [[25, 19, 24, 17],\n",
       "        [17, 27, 17, 26],\n",
       "        [15, 15, 10, 18],\n",
       "        [22, 10, 29, 15],\n",
       "        [17, 20, 26, 23]],\n",
       "\n",
       "       [[26, 10, 13, 21],\n",
       "        [23, 20, 12, 17],\n",
       "        [21, 11, 14, 11],\n",
       "        [17, 23, 28, 29],\n",
       "        [28, 10, 16, 14]],\n",
       "\n",
       "       [[15, 25, 28, 27],\n",
       "        [11, 27, 14, 11],\n",
       "        [10, 18, 22, 21],\n",
       "        [19, 13, 29, 20],\n",
       "        [23, 18, 23, 16]]], dtype=int32)"
      ]
     },
     "execution_count": 124,
     "metadata": {},
     "output_type": "execute_result"
    }
   ],
   "source": [
    "data = np.random.randint(10,30,size=(10,5,4))\n",
    "data"
   ]
  },
  {
   "cell_type": "markdown",
   "metadata": {
    "id": "n4avejOJCSzD"
   },
   "source": [
    "Extract ratings of movies [2, 4, 7] by critics [1, 3] in categories [0, 2]."
   ]
  },
  {
   "cell_type": "code",
   "execution_count": 125,
   "metadata": {
    "colab": {
     "base_uri": "https://localhost:8080/"
    },
    "executionInfo": {
     "elapsed": 22,
     "status": "ok",
     "timestamp": 1758341215755,
     "user": {
      "displayName": "Tushar Raj",
      "userId": "04399146470560759060"
     },
     "user_tz": -330
    },
    "id": "dYGK503GCTPD",
    "outputId": "59340078-fb12-4243-e598-bd59d4586eb0"
   },
   "outputs": [
    {
     "data": {
      "text/plain": [
       "array([[[27, 28],\n",
       "        [13, 29]],\n",
       "\n",
       "       [[27, 20],\n",
       "        [20, 20]],\n",
       "\n",
       "       [[17, 17],\n",
       "        [22, 29]]], dtype=int32)"
      ]
     },
     "execution_count": 125,
     "metadata": {},
     "output_type": "execute_result"
    }
   ],
   "source": [
    "data[np.ix_([2,4,7],[1,3],[0,2])]"
   ]
  },
  {
   "cell_type": "markdown",
   "metadata": {
    "id": "Uzi2nkXuDDj8"
   },
   "source": [
    "---\n",
    "**Problem 16: IoT Device Monitoring**\n",
    "\n",
    "Create a (3, 24, 7) array → 3 devices, 24 hours, 7 days."
   ]
  },
  {
   "cell_type": "code",
   "execution_count": 126,
   "metadata": {
    "colab": {
     "base_uri": "https://localhost:8080/"
    },
    "executionInfo": {
     "elapsed": 44,
     "status": "ok",
     "timestamp": 1758341215801,
     "user": {
      "displayName": "Tushar Raj",
      "userId": "04399146470560759060"
     },
     "user_tz": -330
    },
    "id": "ufdASXPyDMwa",
    "outputId": "35374762-5588-416a-f051-bde83ad13da1"
   },
   "outputs": [
    {
     "data": {
      "text/plain": [
       "array([[[12, 20, 15, 25, 28, 26, 22],\n",
       "        [16, 13, 16, 14, 17, 13, 18],\n",
       "        [24, 24, 18, 28, 21, 18, 22],\n",
       "        [29, 16, 23, 27, 27, 16, 19],\n",
       "        [16, 28, 27, 20, 18, 21, 11],\n",
       "        [14, 24, 29, 10, 22, 21, 26],\n",
       "        [23, 12, 12, 14, 27, 25, 27],\n",
       "        [17, 18, 28, 22, 26, 23, 18],\n",
       "        [15, 10, 13, 26, 23, 25, 27],\n",
       "        [16, 12, 26, 11, 12, 14, 17],\n",
       "        [24, 11, 26, 12, 28, 10, 26],\n",
       "        [10, 12, 17, 13, 28, 24, 11],\n",
       "        [24, 18, 18, 15, 10, 19, 18],\n",
       "        [28, 12, 24, 12, 25, 16, 11],\n",
       "        [28, 20, 18, 10, 23, 18, 22],\n",
       "        [13, 20, 12, 10, 17, 15, 17],\n",
       "        [13, 11, 17, 24, 21, 10, 14],\n",
       "        [28, 22, 21, 14, 29, 25, 12],\n",
       "        [17, 19, 22, 28, 20, 28, 13],\n",
       "        [24, 16, 28, 20, 21, 28, 22],\n",
       "        [12, 24, 26, 16, 10, 12, 16],\n",
       "        [15, 12, 22, 10, 10, 17, 19],\n",
       "        [21, 19, 14, 20, 18, 23, 14],\n",
       "        [22, 16, 26, 15, 28, 14, 29]],\n",
       "\n",
       "       [[24, 13, 16, 16, 22, 16, 13],\n",
       "        [23, 26, 27, 29, 22, 18, 29],\n",
       "        [15, 18, 21, 16, 14, 29, 26],\n",
       "        [15, 15, 14, 27, 10, 25, 28],\n",
       "        [18, 29, 25, 11, 18, 22, 16],\n",
       "        [20, 18, 29, 26, 10, 18, 24],\n",
       "        [12, 18, 25, 22, 20, 11, 14],\n",
       "        [18, 23, 17, 17, 26, 14, 10],\n",
       "        [20, 17, 16, 19, 11, 10, 21],\n",
       "        [28, 22, 25, 22, 25, 22, 12],\n",
       "        [15, 25, 15, 21, 16, 26, 29],\n",
       "        [19, 25, 25, 21, 19, 16, 19],\n",
       "        [12, 18, 28, 20, 16, 15, 24],\n",
       "        [23, 21, 19, 20, 22, 28, 11],\n",
       "        [11, 14, 19, 21, 17, 12, 20],\n",
       "        [17, 13, 25, 28, 14, 12, 14],\n",
       "        [27, 13, 24, 26, 15, 23, 18],\n",
       "        [24, 17, 25, 24, 13, 25, 11],\n",
       "        [19, 21, 25, 26, 26, 11, 15],\n",
       "        [20, 12, 12, 28, 21, 15, 21],\n",
       "        [12, 27, 20, 25, 25, 21, 21],\n",
       "        [15, 28, 10, 25, 14, 26, 11],\n",
       "        [17, 14, 26, 28, 22, 27, 10],\n",
       "        [16, 27, 10, 11, 22, 23, 18]],\n",
       "\n",
       "       [[23, 17, 26, 10, 21, 28, 28],\n",
       "        [21, 28, 29, 11, 11, 15, 24],\n",
       "        [22, 18, 13, 14, 14, 24, 27],\n",
       "        [29, 27, 13, 25, 29, 15, 13],\n",
       "        [15, 24, 28, 26, 29, 18, 18],\n",
       "        [15, 16, 20, 22, 20, 16, 26],\n",
       "        [11, 14, 29, 19, 19, 12, 28],\n",
       "        [18, 27, 17, 15, 16, 16, 17],\n",
       "        [21, 12, 25, 11, 14, 24, 22],\n",
       "        [23, 23, 17, 12, 12, 21, 18],\n",
       "        [24, 11, 23, 25, 19, 28, 15],\n",
       "        [18, 25, 16, 14, 17, 27, 21],\n",
       "        [27, 26, 18, 18, 21, 17, 28],\n",
       "        [21, 13, 10, 24, 23, 21, 12],\n",
       "        [12, 24, 17, 10, 17, 21, 16],\n",
       "        [16, 27, 15, 16, 10, 15, 18],\n",
       "        [13, 28, 14, 17, 15, 12, 15],\n",
       "        [20, 19, 13, 22, 17, 16, 21],\n",
       "        [26, 24, 11, 21, 12, 15, 16],\n",
       "        [13, 26, 29, 19, 28, 29, 19],\n",
       "        [22, 16, 20, 27, 22, 16, 28],\n",
       "        [10, 22, 11, 14, 16, 12, 16],\n",
       "        [13, 20, 16, 19, 19, 29, 20],\n",
       "        [29, 24, 17, 12, 22, 26, 14]]], dtype=int32)"
      ]
     },
     "execution_count": 126,
     "metadata": {},
     "output_type": "execute_result"
    }
   ],
   "source": [
    "data = np.random.randint(10,30,size=(3,24,7))\n",
    "data"
   ]
  },
  {
   "cell_type": "markdown",
   "metadata": {
    "id": "PUr1jcMjDW4a"
   },
   "source": [
    "• Extract hourly readings for devices [0, 2] on days [1, 3, 5]."
   ]
  },
  {
   "cell_type": "code",
   "execution_count": 127,
   "metadata": {
    "colab": {
     "base_uri": "https://localhost:8080/"
    },
    "executionInfo": {
     "elapsed": 24,
     "status": "ok",
     "timestamp": 1758341215839,
     "user": {
      "displayName": "Tushar Raj",
      "userId": "04399146470560759060"
     },
     "user_tz": -330
    },
    "id": "0QgFGrsyDWVy",
    "outputId": "2b71a7ff-616b-4ec9-bb4d-5971eb0c960c"
   },
   "outputs": [
    {
     "data": {
      "text/plain": [
       "array([[[20, 25, 26],\n",
       "        [13, 14, 13],\n",
       "        [24, 28, 18],\n",
       "        [16, 27, 16],\n",
       "        [28, 20, 21],\n",
       "        [24, 10, 21],\n",
       "        [12, 14, 25],\n",
       "        [18, 22, 23],\n",
       "        [10, 26, 25],\n",
       "        [12, 11, 14],\n",
       "        [11, 12, 10],\n",
       "        [12, 13, 24],\n",
       "        [18, 15, 19],\n",
       "        [12, 12, 16],\n",
       "        [20, 10, 18],\n",
       "        [20, 10, 15],\n",
       "        [11, 24, 10],\n",
       "        [22, 14, 25],\n",
       "        [19, 28, 28],\n",
       "        [16, 20, 28],\n",
       "        [24, 16, 12],\n",
       "        [12, 10, 17],\n",
       "        [19, 20, 23],\n",
       "        [16, 15, 14]],\n",
       "\n",
       "       [[17, 10, 28],\n",
       "        [28, 11, 15],\n",
       "        [18, 14, 24],\n",
       "        [27, 25, 15],\n",
       "        [24, 26, 18],\n",
       "        [16, 22, 16],\n",
       "        [14, 19, 12],\n",
       "        [27, 15, 16],\n",
       "        [12, 11, 24],\n",
       "        [23, 12, 21],\n",
       "        [11, 25, 28],\n",
       "        [25, 14, 27],\n",
       "        [26, 18, 17],\n",
       "        [13, 24, 21],\n",
       "        [24, 10, 21],\n",
       "        [27, 16, 15],\n",
       "        [28, 17, 12],\n",
       "        [19, 22, 16],\n",
       "        [24, 21, 15],\n",
       "        [26, 19, 29],\n",
       "        [16, 27, 16],\n",
       "        [22, 14, 12],\n",
       "        [20, 19, 29],\n",
       "        [24, 12, 26]]], dtype=int32)"
      ]
     },
     "execution_count": 127,
     "metadata": {},
     "output_type": "execute_result"
    }
   ],
   "source": [
    "data[np.ix_([0,2],np.arange(data.shape[1]),[1,3,5])]"
   ]
  },
  {
   "cell_type": "markdown",
   "metadata": {
    "id": "VC7vLNy2IU7S"
   },
   "source": [
    "---\n",
    "**Problem 17: Retail Store Inventory**\n",
    "\n",
    "Create a (4, 10, 6) array → 4 stores, 10 products, 6 months.\n"
   ]
  },
  {
   "cell_type": "code",
   "execution_count": 128,
   "metadata": {
    "colab": {
     "base_uri": "https://localhost:8080/"
    },
    "executionInfo": {
     "elapsed": 20,
     "status": "ok",
     "timestamp": 1758341215861,
     "user": {
      "displayName": "Tushar Raj",
      "userId": "04399146470560759060"
     },
     "user_tz": -330
    },
    "id": "JpnbQiOPIanK",
    "outputId": "4ae33035-61ad-400b-c131-6ed41b203c73"
   },
   "outputs": [
    {
     "data": {
      "text/plain": [
       "array([[[29, 18, 10, 28, 18, 21],\n",
       "        [11, 24, 27, 15, 11, 12],\n",
       "        [22, 28, 12, 24, 28, 12],\n",
       "        [27, 20, 14, 11, 25, 17],\n",
       "        [20, 14, 13, 16, 27, 12],\n",
       "        [16, 10, 15, 29, 14, 15],\n",
       "        [18, 14, 16, 11, 13, 16],\n",
       "        [19, 18, 26, 22, 27, 11],\n",
       "        [28, 15, 29, 21, 22, 15],\n",
       "        [25, 11, 24, 24, 25, 23]],\n",
       "\n",
       "       [[19, 17, 27, 29, 21, 14],\n",
       "        [13, 26, 18, 16, 18, 29],\n",
       "        [18, 12, 17, 22, 18, 19],\n",
       "        [26, 19, 19, 16, 20, 25],\n",
       "        [18, 29, 15, 11, 13, 29],\n",
       "        [26, 17, 15, 21, 25, 29],\n",
       "        [23, 15, 13, 18, 25, 22],\n",
       "        [26, 11, 23, 10, 14, 13],\n",
       "        [25, 29, 25, 24, 29, 19],\n",
       "        [14, 29, 26, 29, 21, 10]],\n",
       "\n",
       "       [[19, 18, 10, 29, 13, 14],\n",
       "        [21, 27, 10, 12, 27, 13],\n",
       "        [19, 15, 25, 11, 27, 13],\n",
       "        [25, 27, 18, 12, 29, 18],\n",
       "        [26, 26, 19, 26, 24, 24],\n",
       "        [13, 16, 21, 13, 24, 23],\n",
       "        [26, 12, 27, 14, 21, 27],\n",
       "        [21, 18, 18, 22, 24, 13],\n",
       "        [12, 15, 21, 23, 17, 20],\n",
       "        [18, 24, 10, 28, 21, 27]],\n",
       "\n",
       "       [[18, 28, 24, 20, 20, 28],\n",
       "        [22, 19, 12, 19, 26, 20],\n",
       "        [26, 27, 19, 18, 25, 26],\n",
       "        [13, 25, 23, 29, 29, 12],\n",
       "        [19, 20, 15, 24, 16, 21],\n",
       "        [10, 28, 18, 22, 22, 13],\n",
       "        [28, 27, 27, 21, 22, 14],\n",
       "        [12, 13, 17, 10, 24, 12],\n",
       "        [12, 11, 17, 21, 11, 21],\n",
       "        [25, 29, 16, 25, 11, 14]]], dtype=int32)"
      ]
     },
     "execution_count": 128,
     "metadata": {},
     "output_type": "execute_result"
    }
   ],
   "source": [
    "data = np.random.randint(10,30,size=(4,10,6))\n",
    "data"
   ]
  },
  {
   "cell_type": "markdown",
   "metadata": {
    "id": "1BMiL5ztIl-6"
   },
   "source": [
    "Extract data for stores [1, 3], products [2, 5, 7], and months [0, 2, 4]."
   ]
  },
  {
   "cell_type": "code",
   "execution_count": 129,
   "metadata": {
    "colab": {
     "base_uri": "https://localhost:8080/"
    },
    "executionInfo": {
     "elapsed": 56,
     "status": "ok",
     "timestamp": 1758341215918,
     "user": {
      "displayName": "Tushar Raj",
      "userId": "04399146470560759060"
     },
     "user_tz": -330
    },
    "id": "1uG5GxrzIocB",
    "outputId": "5081b7ad-396a-47aa-ec8d-bda8d9fe3d40"
   },
   "outputs": [
    {
     "data": {
      "text/plain": [
       "array([[[18, 17, 18],\n",
       "        [26, 15, 25],\n",
       "        [26, 23, 14]],\n",
       "\n",
       "       [[26, 19, 25],\n",
       "        [10, 18, 22],\n",
       "        [12, 17, 24]]], dtype=int32)"
      ]
     },
     "execution_count": 129,
     "metadata": {},
     "output_type": "execute_result"
    }
   ],
   "source": [
    "data[np.ix_([1,3],[2,5,7],[0,2,4])]"
   ]
  },
  {
   "cell_type": "markdown",
   "metadata": {
    "id": "41s2d23iJL_i"
   },
   "source": [
    "---\n",
    "**Problem 18: Scientific Experiment**\n",
    "\n",
    "Create a (2, 5, 8) array → 2 trials, 5 experiments, 8 observations each.\n"
   ]
  },
  {
   "cell_type": "code",
   "execution_count": 130,
   "metadata": {
    "colab": {
     "base_uri": "https://localhost:8080/"
    },
    "executionInfo": {
     "elapsed": 19,
     "status": "ok",
     "timestamp": 1758341215938,
     "user": {
      "displayName": "Tushar Raj",
      "userId": "04399146470560759060"
     },
     "user_tz": -330
    },
    "id": "HpH6FD8TJTl5",
    "outputId": "319d25e1-ff47-423a-885d-c7241b7a604c"
   },
   "outputs": [
    {
     "data": {
      "text/plain": [
       "array([[[22, 25, 24, 22, 28, 28, 17, 23],\n",
       "        [29, 23, 13, 14, 15, 24, 16, 20],\n",
       "        [16, 13, 24, 29, 27, 25, 25, 17],\n",
       "        [17, 13, 19, 25, 29, 10, 21, 12],\n",
       "        [22, 17, 16, 26, 26, 20, 16, 12]],\n",
       "\n",
       "       [[20, 23, 11, 18, 28, 24, 23, 22],\n",
       "        [15, 12, 17, 15, 16, 15, 17, 18],\n",
       "        [23, 20, 24, 13, 24, 18, 16, 26],\n",
       "        [10, 13, 12, 13, 15, 11, 28, 15],\n",
       "        [23, 27, 17, 12, 10, 12, 22, 10]]], dtype=int32)"
      ]
     },
     "execution_count": 130,
     "metadata": {},
     "output_type": "execute_result"
    }
   ],
   "source": [
    "data = np.random.randint(10,30,size=(2,5,8))\n",
    "data"
   ]
  },
  {
   "cell_type": "markdown",
   "metadata": {
    "id": "I0csF_VnJYHy"
   },
   "source": [
    "Extract trial 1 results for experiments [1, 4] at observations [2, 5, 7]."
   ]
  },
  {
   "cell_type": "code",
   "execution_count": 131,
   "metadata": {
    "colab": {
     "base_uri": "https://localhost:8080/"
    },
    "executionInfo": {
     "elapsed": 44,
     "status": "ok",
     "timestamp": 1758341215984,
     "user": {
      "displayName": "Tushar Raj",
      "userId": "04399146470560759060"
     },
     "user_tz": -330
    },
    "id": "xtbv3twRJZ0p",
    "outputId": "e9576f3c-2aa3-43df-8fc9-14fe64e176e0"
   },
   "outputs": [
    {
     "data": {
      "text/plain": [
       "array([[[13, 24, 20],\n",
       "        [16, 20, 12]],\n",
       "\n",
       "       [[17, 15, 18],\n",
       "        [17, 12, 10]]], dtype=int32)"
      ]
     },
     "execution_count": 131,
     "metadata": {},
     "output_type": "execute_result"
    }
   ],
   "source": [
    "data[np.ix_(np.arange(data.shape[0]),[1,4],[2,5,7])]"
   ]
  },
  {
   "cell_type": "markdown",
   "metadata": {
    "id": "BHn6oaWWJ4lr"
   },
   "source": [
    "---\n",
    "**Problem 19: E-commerce Orders**\n",
    "\n",
    "Create a (6, 4, 3) array → 6 customers, 4 orders each, 3 features/order."
   ]
  },
  {
   "cell_type": "code",
   "execution_count": 132,
   "metadata": {
    "colab": {
     "base_uri": "https://localhost:8080/"
    },
    "executionInfo": {
     "elapsed": 19,
     "status": "ok",
     "timestamp": 1758341216010,
     "user": {
      "displayName": "Tushar Raj",
      "userId": "04399146470560759060"
     },
     "user_tz": -330
    },
    "id": "zd7bQnInKn9Z",
    "outputId": "7a9137ee-8212-483e-94a5-226510f220aa"
   },
   "outputs": [
    {
     "data": {
      "text/plain": [
       "array([[[26, 28, 24],\n",
       "        [27, 20, 10],\n",
       "        [20, 13, 12],\n",
       "        [23, 29, 28]],\n",
       "\n",
       "       [[21, 27, 26],\n",
       "        [26, 24, 20],\n",
       "        [22, 14, 22],\n",
       "        [27, 26, 25]],\n",
       "\n",
       "       [[20, 22, 22],\n",
       "        [12, 22, 24],\n",
       "        [10, 20, 24],\n",
       "        [21, 23, 29]],\n",
       "\n",
       "       [[17, 23, 27],\n",
       "        [16, 28, 23],\n",
       "        [19, 18, 12],\n",
       "        [22, 24, 21]],\n",
       "\n",
       "       [[25, 16, 17],\n",
       "        [17, 16, 26],\n",
       "        [28, 25, 11],\n",
       "        [24, 19, 15]],\n",
       "\n",
       "       [[10, 14, 26],\n",
       "        [14, 18, 10],\n",
       "        [15, 17, 27],\n",
       "        [29, 22, 25]]], dtype=int32)"
      ]
     },
     "execution_count": 132,
     "metadata": {},
     "output_type": "execute_result"
    }
   ],
   "source": [
    "data = np.random.randint(10,30,size=(6,4,3))\n",
    "data"
   ]
  },
  {
   "cell_type": "markdown",
   "metadata": {
    "id": "qQXtSZwEKqTy"
   },
   "source": [
    "Extract features of customers [0, 2, 5] for orders [1, 3]."
   ]
  },
  {
   "cell_type": "code",
   "execution_count": 133,
   "metadata": {
    "colab": {
     "base_uri": "https://localhost:8080/"
    },
    "executionInfo": {
     "elapsed": 46,
     "status": "ok",
     "timestamp": 1758341216057,
     "user": {
      "displayName": "Tushar Raj",
      "userId": "04399146470560759060"
     },
     "user_tz": -330
    },
    "id": "MnBoF1ZfKrxp",
    "outputId": "8fd4a8da-e4bc-4580-e51e-dc6ba359b3bd"
   },
   "outputs": [
    {
     "data": {
      "text/plain": [
       "array([[[26, 24],\n",
       "        [27, 10],\n",
       "        [20, 12],\n",
       "        [23, 28]],\n",
       "\n",
       "       [[20, 22],\n",
       "        [12, 24],\n",
       "        [10, 24],\n",
       "        [21, 29]],\n",
       "\n",
       "       [[10, 26],\n",
       "        [14, 10],\n",
       "        [15, 27],\n",
       "        [29, 25]]], dtype=int32)"
      ]
     },
     "execution_count": 133,
     "metadata": {},
     "output_type": "execute_result"
    }
   ],
   "source": [
    "data[np.ix_([0,2,5],np.arange(data.shape[1]),[0,2])]"
   ]
  },
  {
   "cell_type": "markdown",
   "metadata": {
    "id": "vgYibGmuLJSo"
   },
   "source": [
    "---\n",
    "**Problem 20: Image Dataset**\n",
    "\n",
    "Create a (5, 28, 28) array → 5 grayscale images of 28×28 pixels."
   ]
  },
  {
   "cell_type": "code",
   "execution_count": 134,
   "metadata": {
    "colab": {
     "base_uri": "https://localhost:8080/"
    },
    "executionInfo": {
     "elapsed": 9,
     "status": "ok",
     "timestamp": 1758341216079,
     "user": {
      "displayName": "Tushar Raj",
      "userId": "04399146470560759060"
     },
     "user_tz": -330
    },
    "id": "wYCwuxp6LOHZ",
    "outputId": "5607a02d-9e51-432b-e7d9-f3b5353d3c58"
   },
   "outputs": [
    {
     "data": {
      "text/plain": [
       "array([[[13, 27, 17, ..., 12, 15, 17],\n",
       "        [14, 20, 11, ..., 10, 12, 16],\n",
       "        [26, 25, 24, ..., 15, 21, 22],\n",
       "        ...,\n",
       "        [25, 12, 20, ..., 23, 29, 26],\n",
       "        [21, 13, 26, ..., 14, 12, 23],\n",
       "        [15, 20, 27, ..., 17, 29, 18]],\n",
       "\n",
       "       [[26, 12, 20, ..., 22, 13, 27],\n",
       "        [25, 25, 23, ..., 22, 17, 27],\n",
       "        [10, 11, 24, ..., 22, 27, 23],\n",
       "        ...,\n",
       "        [21, 16, 26, ..., 13, 28, 26],\n",
       "        [11, 22, 27, ..., 13, 12, 18],\n",
       "        [28, 21, 12, ..., 26, 28, 12]]], shape=(2, 28, 28), dtype=int32)"
      ]
     },
     "execution_count": 134,
     "metadata": {},
     "output_type": "execute_result"
    }
   ],
   "source": [
    "data = np.random.randint(10,30,size=(2,28,28))\n",
    "data"
   ]
  },
  {
   "cell_type": "markdown",
   "metadata": {
    "id": "hKz4_vrALOSh"
   },
   "source": [
    "Extract the corner pixels (top-left, top-right, bottom-left, bottom-right) from each image using fancy\n",
    "indexing."
   ]
  },
  {
   "cell_type": "code",
   "execution_count": 135,
   "metadata": {
    "colab": {
     "base_uri": "https://localhost:8080/"
    },
    "executionInfo": {
     "elapsed": 21,
     "status": "ok",
     "timestamp": 1758341216102,
     "user": {
      "displayName": "Tushar Raj",
      "userId": "04399146470560759060"
     },
     "user_tz": -330
    },
    "id": "K-aTtCEmMm6J",
    "outputId": "31703207-4bc9-4441-e059-e0907dab5888"
   },
   "outputs": [
    {
     "data": {
      "text/plain": [
       "2"
      ]
     },
     "execution_count": 135,
     "metadata": {},
     "output_type": "execute_result"
    }
   ],
   "source": [
    "data.shape[0]"
   ]
  },
  {
   "cell_type": "code",
   "execution_count": 136,
   "metadata": {
    "colab": {
     "base_uri": "https://localhost:8080/"
    },
    "executionInfo": {
     "elapsed": 19,
     "status": "ok",
     "timestamp": 1758341216122,
     "user": {
      "displayName": "Tushar Raj",
      "userId": "04399146470560759060"
     },
     "user_tz": -330
    },
    "id": "LE36HqgnLdKZ",
    "outputId": "32146bd0-19d7-468b-ed8b-c5e1c63499df"
   },
   "outputs": [
    {
     "data": {
      "text/plain": [
       "array([[[13, 17],\n",
       "        [15, 18]],\n",
       "\n",
       "       [[26, 27],\n",
       "        [28, 12]]], dtype=int32)"
      ]
     },
     "execution_count": 136,
     "metadata": {},
     "output_type": "execute_result"
    }
   ],
   "source": [
    "data[np.ix_(\n",
    "    np.arange(data.shape[0]),\n",
    "     [0,data.shape[1]-1],\n",
    "      [0,data.shape[2]-1])]"
   ]
  },
  {
   "cell_type": "markdown",
   "metadata": {
    "id": "y_vtOEDyQ_2P"
   },
   "source": [
    "---\n",
    "**Detective Case Study: The Mystery of the Stolen\n",
    "Diamonds**\n",
    "\n",
    "**Scene 1: The Crime Scene**"
   ]
  },
  {
   "cell_type": "markdown",
   "metadata": {
    "id": "7oaVqLzkRLlg"
   },
   "source": [
    "Detective Arjun Mehta arrives at a jewelry store in Mumbai where diamonds have been stolen.\n",
    "The store CCTV captured 100 frames of data, each containing sensor readings.\n",
    "\n",
    "• Create a 1D NumPy array of 100 integers (0–9) representing sensor triggers."
   ]
  },
  {
   "cell_type": "code",
   "execution_count": 137,
   "metadata": {
    "colab": {
     "base_uri": "https://localhost:8080/"
    },
    "executionInfo": {
     "elapsed": 18,
     "status": "ok",
     "timestamp": 1758341216141,
     "user": {
      "displayName": "Tushar Raj",
      "userId": "04399146470560759060"
     },
     "user_tz": -330
    },
    "id": "ucH34nNgRkxn",
    "outputId": "d859bc81-cd33-4bfa-d3e9-3e5409545b97"
   },
   "outputs": [
    {
     "data": {
      "text/plain": [
       "array([8, 8, 4, 7, 2, 2, 6, 6, 4, 3, 7, 6, 7, 0, 0, 1, 1, 0, 2, 7, 7, 4,\n",
       "       6, 2, 2, 6, 8, 1, 0, 1, 4, 8, 8, 0, 6, 7, 0, 6, 4, 8, 8, 2, 4, 6,\n",
       "       4, 4, 3, 0, 6, 8, 0, 4, 6, 4, 2, 6, 3, 6, 4, 4, 0, 6, 7, 2, 8, 2,\n",
       "       6, 0, 1, 8, 5, 7, 7, 3, 3, 0, 4, 8, 7, 3, 3, 8, 5, 7, 6, 6, 7, 0,\n",
       "       6, 0, 6, 6, 2, 4, 6, 6, 0, 6, 3, 4], dtype=int32)"
      ]
     },
     "execution_count": 137,
     "metadata": {},
     "output_type": "execute_result"
    }
   ],
   "source": [
    "data = np.random.randint(0,9,size=(100))\n",
    "data"
   ]
  },
  {
   "cell_type": "markdown",
   "metadata": {
    "id": "AwN-qCV4Rim3"
   },
   "source": [
    "• Find out how many times the sensor detected activity (value > 5)."
   ]
  },
  {
   "cell_type": "code",
   "execution_count": 138,
   "metadata": {
    "colab": {
     "base_uri": "https://localhost:8080/"
    },
    "executionInfo": {
     "elapsed": 25,
     "status": "ok",
     "timestamp": 1758341216203,
     "user": {
      "displayName": "Tushar Raj",
      "userId": "04399146470560759060"
     },
     "user_tz": -330
    },
    "id": "XxgdAS6mRHdn",
    "outputId": "980e164c-c3c5-4d17-8200-a53052777179"
   },
   "outputs": [
    {
     "data": {
      "text/plain": [
       "46"
      ]
     },
     "execution_count": 138,
     "metadata": {},
     "output_type": "execute_result"
    }
   ],
   "source": [
    "len(data[data>5])"
   ]
  },
  {
   "cell_type": "markdown",
   "metadata": {
    "id": "3zyA5WXoR1O3"
   },
   "source": [
    "---\n",
    "**Scene 2: Suspect List**\n",
    "\n",
    "Inspector Rani Sharma provides a list of 20 suspects with their ages.\n",
    "Ages are randomly assigned.\n",
    "\n",
    "Task:\n",
    "• Create a 1D array of 20 ages."
   ]
  },
  {
   "cell_type": "code",
   "execution_count": 139,
   "metadata": {
    "colab": {
     "base_uri": "https://localhost:8080/"
    },
    "executionInfo": {
     "elapsed": 10,
     "status": "ok",
     "timestamp": 1758341216214,
     "user": {
      "displayName": "Tushar Raj",
      "userId": "04399146470560759060"
     },
     "user_tz": -330
    },
    "id": "MdlzkPiwR6H5",
    "outputId": "797ee3ce-1bd9-4491-fb7e-b898dc09609c"
   },
   "outputs": [
    {
     "data": {
      "text/plain": [
       "array([63, 10, 52, 32,  0, 12,  9, 58, 46, 20, 34, 27, 23, 57, 46, 69, 33,\n",
       "       23, 77, 40], dtype=int32)"
      ]
     },
     "execution_count": 139,
     "metadata": {},
     "output_type": "execute_result"
    }
   ],
   "source": [
    "data = np.random.randint(0,85,size=(20))\n",
    "data"
   ]
  },
  {
   "cell_type": "markdown",
   "metadata": {
    "id": "nDSXpv3sSHZH"
   },
   "source": [
    "Use fancy indexing to extract the ages of suspects with even indices."
   ]
  },
  {
   "cell_type": "code",
   "execution_count": 140,
   "metadata": {
    "colab": {
     "base_uri": "https://localhost:8080/"
    },
    "executionInfo": {
     "elapsed": 19,
     "status": "ok",
     "timestamp": 1758341216234,
     "user": {
      "displayName": "Tushar Raj",
      "userId": "04399146470560759060"
     },
     "user_tz": -330
    },
    "id": "UiT6p5ZHSEsn",
    "outputId": "b72e023a-8d44-42fb-dddb-5c5cb5bc9b20"
   },
   "outputs": [
    {
     "data": {
      "text/plain": [
       "array([10, 32, 12, 58, 20, 27, 57, 69, 23, 40], dtype=int32)"
      ]
     },
     "execution_count": 140,
     "metadata": {},
     "output_type": "execute_result"
    }
   ],
   "source": [
    "evenIndex = [i+1 for i in range(0,len(data)) if i%2==0]\n",
    "data[evenIndex]"
   ]
  },
  {
   "cell_type": "markdown",
   "metadata": {
    "id": "1wz-soY1Sh2w"
   },
   "source": [
    "Find the youngest and oldest suspects."
   ]
  },
  {
   "cell_type": "code",
   "execution_count": 141,
   "metadata": {
    "colab": {
     "base_uri": "https://localhost:8080/"
    },
    "executionInfo": {
     "elapsed": 16,
     "status": "ok",
     "timestamp": 1758341216261,
     "user": {
      "displayName": "Tushar Raj",
      "userId": "04399146470560759060"
     },
     "user_tz": -330
    },
    "id": "bIkuXKz7Sj7_",
    "outputId": "ef70b6ce-b6bd-4cba-b413-b7542f920117"
   },
   "outputs": [
    {
     "name": "stdout",
     "output_type": "stream",
     "text": [
      "highest age  77\n",
      "youngest age  0\n"
     ]
    }
   ],
   "source": [
    "print('highest age ',data.max())\n",
    "print('youngest age ',data.min())"
   ]
  },
  {
   "cell_type": "markdown",
   "metadata": {
    "id": "i4SgVFkwSwOn"
   },
   "source": [
    "---\n",
    "**Scene 3: Witness Statement**\n",
    "\n",
    "A witness says: “I saw 5 people entering the store in pairs.”\n",
    "\n",
    "CCTV logs show movements stored as a 10x2 matrix (10 rows, 2 values each: entry time and exit time).\n",
    "\n",
    "Task:\n",
    "• Create a 2D NumPy array of shape (10, 2) representing entry and exit times."
   ]
  },
  {
   "cell_type": "code",
   "execution_count": 142,
   "metadata": {
    "colab": {
     "base_uri": "https://localhost:8080/"
    },
    "executionInfo": {
     "elapsed": 41,
     "status": "ok",
     "timestamp": 1758341216313,
     "user": {
      "displayName": "Tushar Raj",
      "userId": "04399146470560759060"
     },
     "user_tz": -330
    },
    "id": "4OS3P5QpS21H",
    "outputId": "b57dde0a-f0d3-4aa7-f407-21b8c9d970f4"
   },
   "outputs": [
    {
     "data": {
      "text/plain": [
       "array([[18, 14],\n",
       "       [32, 27],\n",
       "       [36, 29],\n",
       "       [24, 20],\n",
       "       [20, 29],\n",
       "       [36, 37],\n",
       "       [19, 38],\n",
       "       [14, 18],\n",
       "       [28, 16],\n",
       "       [37, 28]], dtype=int32)"
      ]
     },
     "execution_count": 142,
     "metadata": {},
     "output_type": "execute_result"
    }
   ],
   "source": [
    "data = np.random.randint(10,40,size=(10,2))\n",
    "data"
   ]
  },
  {
   "cell_type": "markdown",
   "metadata": {
    "id": "p0-jcQO2Tm3-"
   },
   "source": [
    "• Find the average entry time."
   ]
  },
  {
   "cell_type": "code",
   "execution_count": 143,
   "metadata": {
    "colab": {
     "base_uri": "https://localhost:8080/"
    },
    "executionInfo": {
     "elapsed": 24,
     "status": "ok",
     "timestamp": 1758341216339,
     "user": {
      "displayName": "Tushar Raj",
      "userId": "04399146470560759060"
     },
     "user_tz": -330
    },
    "id": "zntwthoXTl3-",
    "outputId": "1c2b0e4a-ba49-43d1-cad3-2f91082040ed"
   },
   "outputs": [
    {
     "data": {
      "text/plain": [
       "np.float64(26.4)"
      ]
     },
     "execution_count": 143,
     "metadata": {},
     "output_type": "execute_result"
    }
   ],
   "source": [
    "np.mean(data[:,0])"
   ]
  },
  {
   "cell_type": "markdown",
   "metadata": {
    "id": "sJehUsT_TsIX"
   },
   "source": [
    "Extract all rows where exit time < entry time + 5 minutes (suspicious quick visits)."
   ]
  },
  {
   "cell_type": "code",
   "execution_count": 144,
   "metadata": {
    "colab": {
     "base_uri": "https://localhost:8080/"
    },
    "executionInfo": {
     "elapsed": 38,
     "status": "ok",
     "timestamp": 1758341216379,
     "user": {
      "displayName": "Tushar Raj",
      "userId": "04399146470560759060"
     },
     "user_tz": -330
    },
    "id": "RqbOBliuTtk_",
    "outputId": "47341c15-a688-45da-a5f8-5083ef15173e"
   },
   "outputs": [
    {
     "data": {
      "text/plain": [
       "array([[18, 14],\n",
       "       [24, 20],\n",
       "       [20, 29],\n",
       "       [36, 37],\n",
       "       [19, 38],\n",
       "       [14, 18]], dtype=int32)"
      ]
     },
     "execution_count": 144,
     "metadata": {},
     "output_type": "execute_result"
    }
   ],
   "source": [
    "data[data[:,0]<data[:,1]+5]"
   ]
  },
  {
   "cell_type": "markdown",
   "metadata": {
    "id": "MKCXpe7lT8xP"
   },
   "source": [
    "---\n",
    "**Scene 4: Car Parking Data**\n",
    "\n",
    "Outside the store, parking lot cameras recorded cars over 7 days and 5 time slots per day.\n",
    "\n",
    "Task:\n",
    "• Create a 2D array of shape (7, 5) representing number of cars."
   ]
  },
  {
   "cell_type": "code",
   "execution_count": 145,
   "metadata": {
    "colab": {
     "base_uri": "https://localhost:8080/"
    },
    "executionInfo": {
     "elapsed": 29,
     "status": "ok",
     "timestamp": 1758341216409,
     "user": {
      "displayName": "Tushar Raj",
      "userId": "04399146470560759060"
     },
     "user_tz": -330
    },
    "id": "GYfW9s3bUBOu",
    "outputId": "d55874da-b3b4-4f18-b316-21c9dfcccd55"
   },
   "outputs": [
    {
     "data": {
      "text/plain": [
       "array([[47, 28, 21, 33, 35],\n",
       "       [33, 11, 46, 15, 14],\n",
       "       [45, 35, 16, 22, 21],\n",
       "       [12, 17, 21, 44, 15],\n",
       "       [19, 23, 25, 11, 49],\n",
       "       [35, 43, 48, 47, 15],\n",
       "       [25, 34, 32, 13, 44]], dtype=int32)"
      ]
     },
     "execution_count": 145,
     "metadata": {},
     "output_type": "execute_result"
    }
   ],
   "source": [
    "data = np.random.randint(10,50,size=(7,5))\n",
    "data"
   ]
  },
  {
   "cell_type": "markdown",
   "metadata": {
    "id": "KmsPxrv2ULg-"
   },
   "source": [
    "Find the day with maximum car traffic."
   ]
  },
  {
   "cell_type": "code",
   "execution_count": 146,
   "metadata": {
    "colab": {
     "base_uri": "https://localhost:8080/"
    },
    "executionInfo": {
     "elapsed": 41,
     "status": "ok",
     "timestamp": 1758341216451,
     "user": {
      "displayName": "Tushar Raj",
      "userId": "04399146470560759060"
     },
     "user_tz": -330
    },
    "id": "1X39diQyUQXv",
    "outputId": "8812dc53-64b5-4701-d467-7af1e092f8a7"
   },
   "outputs": [
    {
     "name": "stdout",
     "output_type": "stream",
     "text": [
      "day whith max traffic : 5\n"
     ]
    }
   ],
   "source": [
    "sumarray = np.sum(data,axis=1)\n",
    "print('day whith max traffic :',sumarray.argmax())"
   ]
  },
  {
   "cell_type": "markdown",
   "metadata": {
    "id": "1fylmeoVU-zP"
   },
   "source": [
    "Extract car counts for days [2, 4, 6] and time slots [1, 3] using fancy indexing."
   ]
  },
  {
   "cell_type": "code",
   "execution_count": 147,
   "metadata": {
    "colab": {
     "base_uri": "https://localhost:8080/"
    },
    "executionInfo": {
     "elapsed": 19,
     "status": "ok",
     "timestamp": 1758341216472,
     "user": {
      "displayName": "Tushar Raj",
      "userId": "04399146470560759060"
     },
     "user_tz": -330
    },
    "id": "gkgn5-KkU_d-",
    "outputId": "92ef7abf-efac-4052-e00b-16a3c03c1e89"
   },
   "outputs": [
    {
     "data": {
      "text/plain": [
       "array([[35, 22],\n",
       "       [23, 11],\n",
       "       [34, 13]], dtype=int32)"
      ]
     },
     "execution_count": 147,
     "metadata": {},
     "output_type": "execute_result"
    }
   ],
   "source": [
    "data[np.ix_([2,4,6],[1,3])]"
   ]
  },
  {
   "cell_type": "markdown",
   "metadata": {
    "id": "9cKIwjL0VGWm"
   },
   "source": [
    "---\n",
    "**Scene 5: Suspect Movements**\n",
    "\n",
    "Detective Arjun obtains GPS coordinates of 3 suspects over 4 days, with 2 readings/day.\n",
    "Task:\n",
    "\n",
    "• Create a 3D array of shape (3, 4, 2) → (suspects, days, coordinates).\n"
   ]
  },
  {
   "cell_type": "code",
   "execution_count": 148,
   "metadata": {
    "colab": {
     "base_uri": "https://localhost:8080/"
    },
    "collapsed": true,
    "executionInfo": {
     "elapsed": 32,
     "status": "ok",
     "timestamp": 1758341216505,
     "user": {
      "displayName": "Tushar Raj",
      "userId": "04399146470560759060"
     },
     "user_tz": -330
    },
    "id": "MMD8Tjv9VMmm",
    "outputId": "342a2f38-e571-4427-b14e-ef1e715a0b8c"
   },
   "outputs": [
    {
     "data": {
      "text/plain": [
       "array([[[27, 11, 19, 40, 20],\n",
       "        [18, 48, 47, 45, 27],\n",
       "        [27, 31, 46, 19, 32],\n",
       "        [25, 31, 23, 33, 35]],\n",
       "\n",
       "       [[42, 49, 48, 24, 11],\n",
       "        [47, 47, 43, 16, 42],\n",
       "        [24, 36, 37, 26, 38],\n",
       "        [17, 19, 24, 16, 23]],\n",
       "\n",
       "       [[44, 49, 34, 34, 26],\n",
       "        [18, 47, 28, 18, 37],\n",
       "        [24, 38, 16, 48, 43],\n",
       "        [22, 37, 10, 45, 26]]], dtype=int32)"
      ]
     },
     "execution_count": 148,
     "metadata": {},
     "output_type": "execute_result"
    }
   ],
   "source": [
    "data = np.random.randint(10,50,size=(3,4,5))\n",
    "data"
   ]
  },
  {
   "cell_type": "markdown",
   "metadata": {
    "id": "aXDu60ntWo1U"
   },
   "source": [
    "Transpose it to (4, 3, 2) to compare suspects day-wise."
   ]
  },
  {
   "cell_type": "code",
   "execution_count": 149,
   "metadata": {
    "colab": {
     "base_uri": "https://localhost:8080/"
    },
    "executionInfo": {
     "elapsed": 23,
     "status": "ok",
     "timestamp": 1758341216530,
     "user": {
      "displayName": "Tushar Raj",
      "userId": "04399146470560759060"
     },
     "user_tz": -330
    },
    "id": "APwBGUEwWpeu",
    "outputId": "5729fb1e-272a-4e0c-fcb5-051cc4985ad6"
   },
   "outputs": [
    {
     "data": {
      "text/plain": [
       "array([[[27, 11, 19, 40, 20],\n",
       "        [42, 49, 48, 24, 11],\n",
       "        [44, 49, 34, 34, 26]],\n",
       "\n",
       "       [[18, 48, 47, 45, 27],\n",
       "        [47, 47, 43, 16, 42],\n",
       "        [18, 47, 28, 18, 37]],\n",
       "\n",
       "       [[27, 31, 46, 19, 32],\n",
       "        [24, 36, 37, 26, 38],\n",
       "        [24, 38, 16, 48, 43]],\n",
       "\n",
       "       [[25, 31, 23, 33, 35],\n",
       "        [17, 19, 24, 16, 23],\n",
       "        [22, 37, 10, 45, 26]]], dtype=int32)"
      ]
     },
     "execution_count": 149,
     "metadata": {},
     "output_type": "execute_result"
    }
   ],
   "source": [
    "transpose_data = data.transpose(1,0,2)\n",
    "transpose_data"
   ]
  },
  {
   "cell_type": "markdown",
   "metadata": {
    "id": "VGQKCrI8Wso2"
   },
   "source": [
    "Extract locations of suspect 2 on days [1, 3]."
   ]
  },
  {
   "cell_type": "code",
   "execution_count": 150,
   "metadata": {
    "colab": {
     "base_uri": "https://localhost:8080/"
    },
    "executionInfo": {
     "elapsed": 11,
     "status": "ok",
     "timestamp": 1758341216543,
     "user": {
      "displayName": "Tushar Raj",
      "userId": "04399146470560759060"
     },
     "user_tz": -330
    },
    "id": "BxVCSTlPWtHm",
    "outputId": "0ecfc2d9-f4a2-4d80-ada6-2be7407c78db"
   },
   "outputs": [
    {
     "data": {
      "text/plain": [
       "array([[[18, 47, 28, 18, 37]],\n",
       "\n",
       "       [[22, 37, 10, 45, 26]]], dtype=int32)"
      ]
     },
     "execution_count": 150,
     "metadata": {},
     "output_type": "execute_result"
    }
   ],
   "source": [
    "transpose_data[np.ix_([1,3],[2],np.arange(transpose_data.shape[2]))]"
   ]
  },
  {
   "cell_type": "markdown",
   "metadata": {
    "id": "2BsoPYFrHZtC"
   },
   "source": [
    "----\n",
    "**Scene 6: Hidden Transactions**\n",
    "\n",
    "Rani uncovers financial records of 5 suspects, each with 6 months of transactions.\n",
    "\n",
    "Task:\n",
    "\n",
    "Create a 2D array of shape (5, 6)."
   ]
  },
  {
   "cell_type": "code",
   "execution_count": 151,
   "metadata": {
    "colab": {
     "base_uri": "https://localhost:8080/"
    },
    "executionInfo": {
     "elapsed": 32,
     "status": "ok",
     "timestamp": 1758341216606,
     "user": {
      "displayName": "Tushar Raj",
      "userId": "04399146470560759060"
     },
     "user_tz": -330
    },
    "id": "v9rF6W-OHn-G",
    "outputId": "c0402e91-1d75-4be8-8320-c612e490b530"
   },
   "outputs": [
    {
     "data": {
      "text/plain": [
       "array([[70491, 71364, 12484, 30494, 13658, 77436],\n",
       "       [39960, 48673, 68901, 23064, 29732, 70741],\n",
       "       [77258, 72140, 64521, 10560, 12708, 50139],\n",
       "       [72945, 77858, 19316, 44566, 63925, 32539],\n",
       "       [37872, 70687, 59251, 15214, 72921, 70943]], dtype=int32)"
      ]
     },
     "execution_count": 151,
     "metadata": {},
     "output_type": "execute_result"
    }
   ],
   "source": [
    "data = np.random.randint(10000,80000,size=(5,6))\n",
    "data"
   ]
  },
  {
   "cell_type": "markdown",
   "metadata": {
    "id": "Lmj6y74gHp1n"
   },
   "source": [
    "Find suspects whose average monthly spending > 50,000."
   ]
  },
  {
   "cell_type": "code",
   "execution_count": 152,
   "metadata": {
    "colab": {
     "base_uri": "https://localhost:8080/"
    },
    "executionInfo": {
     "elapsed": 11,
     "status": "ok",
     "timestamp": 1758341216619,
     "user": {
      "displayName": "Tushar Raj",
      "userId": "04399146470560759060"
     },
     "user_tz": -330
    },
    "id": "uN4dgfjcHskF",
    "outputId": "5dc34041-3cc0-4ede-ebfd-d6efa012c43e"
   },
   "outputs": [
    {
     "name": "stdout",
     "output_type": "stream",
     "text": [
      "suspects :  [3 4]\n"
     ]
    }
   ],
   "source": [
    "indecis = np.where(np.mean(data,axis=1)>50000)[0]\n",
    "print(\"suspects : \",indecis)"
   ]
  },
  {
   "cell_type": "markdown",
   "metadata": {
    "id": "pvMkWHasHs_Z"
   },
   "source": [
    "Extract transactions of suspects [1, 3] in months [2, 4]."
   ]
  },
  {
   "cell_type": "code",
   "execution_count": 153,
   "metadata": {
    "colab": {
     "base_uri": "https://localhost:8080/"
    },
    "executionInfo": {
     "elapsed": 24,
     "status": "ok",
     "timestamp": 1758341216644,
     "user": {
      "displayName": "Tushar Raj",
      "userId": "04399146470560759060"
     },
     "user_tz": -330
    },
    "id": "CQT8zI5VHtys",
    "outputId": "301bde54-9aec-4674-a614-e1ab2005fe52"
   },
   "outputs": [
    {
     "data": {
      "text/plain": [
       "array([[68901, 29732],\n",
       "       [19316, 63925]], dtype=int32)"
      ]
     },
     "execution_count": 153,
     "metadata": {},
     "output_type": "execute_result"
    }
   ],
   "source": [
    "data[np.ix_([1,3],[2,4])]"
   ]
  },
  {
   "cell_type": "markdown",
   "metadata": {
    "id": "BIWDhzN-JcEq"
   },
   "source": [
    "---\n",
    "**Scene 7: Fingerprint Evidence**\n",
    "\n",
    "At the scene, police collected 3 fingerprint scans, each stored as a 4x4 pixel grayscale image.\n",
    "\n",
    "Task:\n",
    "\n",
    "• Create a 3D array of shape (3, 4, 4)."
   ]
  },
  {
   "cell_type": "code",
   "execution_count": 154,
   "metadata": {
    "colab": {
     "base_uri": "https://localhost:8080/"
    },
    "executionInfo": {
     "elapsed": 16,
     "status": "ok",
     "timestamp": 1758341216670,
     "user": {
      "displayName": "Tushar Raj",
      "userId": "04399146470560759060"
     },
     "user_tz": -330
    },
    "id": "6TQfI-FKJj3V",
    "outputId": "e8442ff3-82d0-44af-dede-cf13fd1ba5e2"
   },
   "outputs": [
    {
     "data": {
      "text/plain": [
       "array([[[401, 263, 292, 284],\n",
       "        [239, 236, 397, 435],\n",
       "        [304,  22, 163, 320],\n",
       "        [199, 206,  44,  93]],\n",
       "\n",
       "       [[375, 293, 140, 446],\n",
       "        [ 87, 244, 447, 166],\n",
       "        [493, 191, 464, 278],\n",
       "        [369, 288, 309, 375]],\n",
       "\n",
       "       [[218, 362, 212,  46],\n",
       "        [  4, 433, 201, 183],\n",
       "        [204, 263, 262, 458],\n",
       "        [237,  49,  61, 388]]], dtype=int32)"
      ]
     },
     "execution_count": 154,
     "metadata": {},
     "output_type": "execute_result"
    }
   ],
   "source": [
    "data = np.random.randint(0,500,size=(3,4,4))\n",
    "data\n"
   ]
  },
  {
   "cell_type": "markdown",
   "metadata": {
    "id": "ZIeo-fWxJxqp"
   },
   "source": [
    "• Extract the center 2x2 region of each image."
   ]
  },
  {
   "cell_type": "code",
   "execution_count": 155,
   "metadata": {
    "colab": {
     "base_uri": "https://localhost:8080/"
    },
    "executionInfo": {
     "elapsed": 34,
     "status": "ok",
     "timestamp": 1758341216705,
     "user": {
      "displayName": "Tushar Raj",
      "userId": "04399146470560759060"
     },
     "user_tz": -330
    },
    "id": "uEYIwtJeJuI1",
    "outputId": "a35a02ae-9ed3-45a9-e5d6-40c897e7fe9c"
   },
   "outputs": [
    {
     "data": {
      "text/plain": [
       "array([[[236, 397],\n",
       "        [ 22, 163]],\n",
       "\n",
       "       [[244, 447],\n",
       "        [191, 464]],\n",
       "\n",
       "       [[433, 201],\n",
       "        [263, 262]]], dtype=int32)"
      ]
     },
     "execution_count": 155,
     "metadata": {},
     "output_type": "execute_result"
    }
   ],
   "source": [
    "data[np.ix_(np.arange(data.shape[0]),[1,2],[1,2])]"
   ]
  },
  {
   "cell_type": "markdown",
   "metadata": {
    "id": "NFc6qCbkJtcp"
   },
   "source": [
    "Replace all pixel values < 100 with 0 (noise removal)."
   ]
  },
  {
   "cell_type": "code",
   "execution_count": 156,
   "metadata": {
    "colab": {
     "base_uri": "https://localhost:8080/"
    },
    "executionInfo": {
     "elapsed": 20,
     "status": "ok",
     "timestamp": 1758341216726,
     "user": {
      "displayName": "Tushar Raj",
      "userId": "04399146470560759060"
     },
     "user_tz": -330
    },
    "id": "mGnFKK08J8yV",
    "outputId": "119a37fa-156a-4133-afe6-8ced67451549"
   },
   "outputs": [
    {
     "data": {
      "text/plain": [
       "array([[[401, 263, 292, 284],\n",
       "        [239, 236, 397, 435],\n",
       "        [304,  -1, 163, 320],\n",
       "        [199, 206,  -1,  -1]],\n",
       "\n",
       "       [[375, 293, 140, 446],\n",
       "        [ -1, 244, 447, 166],\n",
       "        [493, 191, 464, 278],\n",
       "        [369, 288, 309, 375]],\n",
       "\n",
       "       [[218, 362, 212,  -1],\n",
       "        [ -1, 433, 201, 183],\n",
       "        [204, 263, 262, 458],\n",
       "        [237,  -1,  -1, 388]]], dtype=int32)"
      ]
     },
     "execution_count": 156,
     "metadata": {},
     "output_type": "execute_result"
    }
   ],
   "source": [
    "data[data<100]=-1\n",
    "data"
   ]
  },
  {
   "cell_type": "markdown",
   "metadata": {
    "id": "FvvN4AqMKf8X"
   },
   "source": [
    "---\n",
    "**Scene 8: Decoding the Cipher**\n",
    "\n",
    "The thieves left a coded message as numbers [65, 66, 67, 68, 69].\n",
    "It maps to ASCII letters.\n",
    "\n",
    "Task:\n",
    "• Create a 1D array of ASCII values.\n"
   ]
  },
  {
   "cell_type": "code",
   "execution_count": 157,
   "metadata": {
    "colab": {
     "base_uri": "https://localhost:8080/"
    },
    "executionInfo": {
     "elapsed": 17,
     "status": "ok",
     "timestamp": 1758341216745,
     "user": {
      "displayName": "Tushar Raj",
      "userId": "04399146470560759060"
     },
     "user_tz": -330
    },
    "id": "LjHPbs-4KnCe",
    "outputId": "94904f40-c977-415e-adf6-73a956ebec41"
   },
   "outputs": [
    {
     "data": {
      "text/plain": [
       "array([65, 66, 67, 68, 69, 70, 71, 72, 73, 74, 75, 76, 77, 78, 79, 80, 81,\n",
       "       82, 83, 84, 85, 86, 87, 88, 89, 90])"
      ]
     },
     "execution_count": 157,
     "metadata": {},
     "output_type": "execute_result"
    }
   ],
   "source": [
    "code = np.array([65,66,67,68,69])\n",
    "data = np.arange(65,91)\n",
    "data"
   ]
  },
  {
   "cell_type": "code",
   "execution_count": 158,
   "metadata": {
    "colab": {
     "base_uri": "https://localhost:8080/"
    },
    "executionInfo": {
     "elapsed": 35,
     "status": "ok",
     "timestamp": 1758341216781,
     "user": {
      "displayName": "Tushar Raj",
      "userId": "04399146470560759060"
     },
     "user_tz": -330
    },
    "id": "o3SXRJhDLOYq",
    "outputId": "c88ae5e7-d9d1-44f9-dafb-2bcc2f046c33"
   },
   "outputs": [
    {
     "data": {
      "text/plain": [
       "array(['A', 'B', 'C', 'D', 'E', 'F', 'G', 'H', 'I', 'J', 'K', 'L', 'M',\n",
       "       'N', 'O', 'P', 'Q', 'R', 'S', 'T', 'U', 'V', 'W', 'X', 'Y', 'Z'],\n",
       "      dtype='<U1')"
      ]
     },
     "execution_count": 158,
     "metadata": {},
     "output_type": "execute_result"
    }
   ],
   "source": [
    "data = np.vectorize(chr)(data)\n",
    "data"
   ]
  },
  {
   "cell_type": "code",
   "execution_count": 159,
   "metadata": {
    "colab": {
     "base_uri": "https://localhost:8080/"
    },
    "executionInfo": {
     "elapsed": 12,
     "status": "ok",
     "timestamp": 1758341216795,
     "user": {
      "displayName": "Tushar Raj",
      "userId": "04399146470560759060"
     },
     "user_tz": -330
    },
    "id": "BL6ReiXq3skc",
    "outputId": "a85489c4-f4dc-4659-e723-ade047e5e034"
   },
   "outputs": [
    {
     "data": {
      "text/plain": [
       "array(['A', 'B', 'C', 'D', 'E'], dtype='<U1')"
      ]
     },
     "execution_count": 159,
     "metadata": {},
     "output_type": "execute_result"
    }
   ],
   "source": [
    "code = np.vectorize(chr)(code)\n",
    "code"
   ]
  },
  {
   "cell_type": "markdown",
   "metadata": {
    "id": "b2X3JyWE4Ub0"
   },
   "source": [
    "---\n",
    "\n",
    "**Scene 9: Narrowing the Suspects**\n",
    "\n",
    "Based on data, only 4 suspects remain.\n",
    "Their data includes height, weight, and age, stored in a 4x3 matrix.\n",
    "\n",
    "Task:\n",
    "• Create the array and label columns as [Height, Weight, Age]"
   ]
  },
  {
   "cell_type": "code",
   "execution_count": 160,
   "metadata": {
    "executionInfo": {
     "elapsed": 1,
     "status": "ok",
     "timestamp": 1758341216798,
     "user": {
      "displayName": "Tushar Raj",
      "userId": "04399146470560759060"
     },
     "user_tz": -330
    },
    "id": "CRkGBVTJ4iOU"
   },
   "outputs": [],
   "source": [
    "data = np.array(\n",
    "      [[65, 76, 24],\n",
    "       [53, 26, 47],\n",
    "       [30, 24, 25],\n",
    "       [77, 83, 38]])"
   ]
  },
  {
   "cell_type": "code",
   "execution_count": 161,
   "metadata": {
    "colab": {
     "base_uri": "https://localhost:8080/",
     "height": 175
    },
    "executionInfo": {
     "elapsed": 81,
     "status": "ok",
     "timestamp": 1758341216880,
     "user": {
      "displayName": "Tushar Raj",
      "userId": "04399146470560759060"
     },
     "user_tz": -330
    },
    "id": "yAWbCJWL6vKC",
    "outputId": "db55c90c-4649-43da-f958-961520dca603"
   },
   "outputs": [
    {
     "data": {
      "text/html": [
       "<div>\n",
       "<style scoped>\n",
       "    .dataframe tbody tr th:only-of-type {\n",
       "        vertical-align: middle;\n",
       "    }\n",
       "\n",
       "    .dataframe tbody tr th {\n",
       "        vertical-align: top;\n",
       "    }\n",
       "\n",
       "    .dataframe thead th {\n",
       "        text-align: right;\n",
       "    }\n",
       "</style>\n",
       "<table border=\"1\" class=\"dataframe\">\n",
       "  <thead>\n",
       "    <tr style=\"text-align: right;\">\n",
       "      <th></th>\n",
       "      <th>Height</th>\n",
       "      <th>Weight</th>\n",
       "      <th>Age</th>\n",
       "    </tr>\n",
       "  </thead>\n",
       "  <tbody>\n",
       "    <tr>\n",
       "      <th>0</th>\n",
       "      <td>65</td>\n",
       "      <td>76</td>\n",
       "      <td>24</td>\n",
       "    </tr>\n",
       "    <tr>\n",
       "      <th>1</th>\n",
       "      <td>53</td>\n",
       "      <td>26</td>\n",
       "      <td>47</td>\n",
       "    </tr>\n",
       "    <tr>\n",
       "      <th>2</th>\n",
       "      <td>30</td>\n",
       "      <td>24</td>\n",
       "      <td>25</td>\n",
       "    </tr>\n",
       "    <tr>\n",
       "      <th>3</th>\n",
       "      <td>77</td>\n",
       "      <td>83</td>\n",
       "      <td>38</td>\n",
       "    </tr>\n",
       "  </tbody>\n",
       "</table>\n",
       "</div>"
      ],
      "text/plain": [
       "   Height  Weight  Age\n",
       "0      65      76   24\n",
       "1      53      26   47\n",
       "2      30      24   25\n",
       "3      77      83   38"
      ]
     },
     "execution_count": 161,
     "metadata": {},
     "output_type": "execute_result"
    }
   ],
   "source": [
    "import pandas as pd\n",
    "\n",
    "df = pd.DataFrame(data,columns=['Height','Weight','Age'])\n",
    "df"
   ]
  },
  {
   "cell_type": "markdown",
   "metadata": {
    "id": "ho9SBPB07Q_x"
   },
   "source": [
    "• Extract suspects with weight > 70 and age < 30."
   ]
  },
  {
   "cell_type": "code",
   "execution_count": 162,
   "metadata": {
    "colab": {
     "base_uri": "https://localhost:8080/"
    },
    "executionInfo": {
     "elapsed": 18,
     "status": "ok",
     "timestamp": 1758341216900,
     "user": {
      "displayName": "Tushar Raj",
      "userId": "04399146470560759060"
     },
     "user_tz": -330
    },
    "id": "fbL1w9aW5NnC",
    "outputId": "403a10be-6a8f-4815-fa48-ead6341443e5"
   },
   "outputs": [
    {
     "data": {
      "text/plain": [
       "array([[65, 76, 24]])"
      ]
     },
     "execution_count": 162,
     "metadata": {},
     "output_type": "execute_result"
    }
   ],
   "source": [
    "data[(data[:,1]>70) & (data[:,-1]<30)]"
   ]
  },
  {
   "cell_type": "markdown",
   "metadata": {
    "id": "7nFsOxh67SM_"
   },
   "source": [
    "---\n",
    "**Scene 10: The Final Chase**\n",
    "\n",
    "CCTV confirms that 2 cars were used in the escape, tracked every 3 hours for 2 days.\n",
    "\n",
    "Task:\n",
    "• Create a 3D array of shape (2, 2, 8) → (cars, days, 8 time slots)."
   ]
  },
  {
   "cell_type": "code",
   "execution_count": 163,
   "metadata": {
    "colab": {
     "base_uri": "https://localhost:8080/"
    },
    "executionInfo": {
     "elapsed": 15,
     "status": "ok",
     "timestamp": 1758341216927,
     "user": {
      "displayName": "Tushar Raj",
      "userId": "04399146470560759060"
     },
     "user_tz": -330
    },
    "id": "MQ5NPBJ37YJ4",
    "outputId": "8ad103e7-bccb-494e-81e9-5bba18312302"
   },
   "outputs": [
    {
     "data": {
      "text/plain": [
       "[array([1, 4]), array([7, 4])]"
      ]
     },
     "execution_count": 163,
     "metadata": {},
     "output_type": "execute_result"
    }
   ],
   "source": [
    "data = np.array(\n",
    "    [[[7, 1, 7, 2, 5, 7, 5, 7],\n",
    "        [3, 4, 4, 4, 3, 4, 1, 9]],\n",
    "\n",
    "       [[6, 1, 2, 1, 8, 7, 7, 6],\n",
    "        [1, 4, 2, 3, 6, 4, 6, 3]]])\n",
    "temp = data.transpose(0,2,1)\n",
    "temp.shape\n",
    "ans = []\n",
    "for i in range(temp.shape[1]):\n",
    "  if np.array_equal(temp[0,i],temp[1,i]):\n",
    "    ans.append(temp[0,i])\n",
    "ans"
   ]
  },
  {
   "cell_type": "markdown",
   "metadata": {
    "id": "xx8qx72m70z-"
   },
   "source": [
    " Transpose it to (2, 8, 2) → (cars, time slots, days)."
   ]
  },
  {
   "cell_type": "code",
   "execution_count": 164,
   "metadata": {
    "colab": {
     "base_uri": "https://localhost:8080/"
    },
    "executionInfo": {
     "elapsed": 11,
     "status": "ok",
     "timestamp": 1758341216977,
     "user": {
      "displayName": "Tushar Raj",
      "userId": "04399146470560759060"
     },
     "user_tz": -330
    },
    "id": "NuR40lor717g",
    "outputId": "235a4d9b-25d0-4958-ed91-07edd1a8fb29"
   },
   "outputs": [
    {
     "data": {
      "text/plain": [
       "(2, 8, 2)"
      ]
     },
     "execution_count": 164,
     "metadata": {},
     "output_type": "execute_result"
    }
   ],
   "source": [
    "temp = data.transpose(0,2,1)\n",
    "temp.shape"
   ]
  },
  {
   "cell_type": "markdown",
   "metadata": {
    "id": "o_C8ZoPy8DlO"
   },
   "source": [
    "Find at which time slot both cars were parked at the same location"
   ]
  },
  {
   "cell_type": "code",
   "execution_count": 165,
   "metadata": {
    "colab": {
     "base_uri": "https://localhost:8080/"
    },
    "executionInfo": {
     "elapsed": 32,
     "status": "ok",
     "timestamp": 1758341217011,
     "user": {
      "displayName": "Tushar Raj",
      "userId": "04399146470560759060"
     },
     "user_tz": -330
    },
    "id": "s283WERj9Pet",
    "outputId": "fb0ed06e-40f6-4f66-a543-6130f05715ea"
   },
   "outputs": [
    {
     "data": {
      "text/plain": [
       "[array([1, 4]), array([7, 4])]"
      ]
     },
     "execution_count": 165,
     "metadata": {},
     "output_type": "execute_result"
    }
   ],
   "source": [
    "ans = []\n",
    "for i in range(temp.shape[1]):\n",
    "  if np.array_equal(temp[0,i],temp[1,i]):\n",
    "    ans.append(temp[0,i])\n",
    "ans"
   ]
  },
  {
   "cell_type": "markdown",
   "metadata": {
    "id": "wBgcmGV3DhQ-"
   },
   "source": [
    "**Detective Story:** **The Mystery of the Stolen Diamonds**\n",
    "\n",
    "**Author: Detective Training Exercise**\n",
    "\n",
    "**Goal: Practice all major NumPy operations through a fun mystery case**.\n"
   ]
  },
  {
   "cell_type": "code",
   "execution_count": 166,
   "metadata": {
    "colab": {
     "base_uri": "https://localhost:8080/"
    },
    "executionInfo": {
     "elapsed": 23,
     "status": "ok",
     "timestamp": 1758341217035,
     "user": {
      "displayName": "Tushar Raj",
      "userId": "04399146470560759060"
     },
     "user_tz": -330
    },
    "id": "rA1hucN2Bhew",
    "outputId": "21f165c0-649d-4d0c-a086-e1487c91b29a"
   },
   "outputs": [
    {
     "name": "stdout",
     "output_type": "stream",
     "text": [
      "️ Scene 1: The Crime Scene\n",
      "Detective Arjun Mehta arrives at a jewelry store in Mumbai. Diamonds have been stolen!\n",
      "The CCTV captured 100 sensor readings (values 0–9).\n",
      "\n",
      "Scene 1 Result → High activity count: 20\n"
     ]
    }
   ],
   "source": [
    "import numpy as np\n",
    "print(\"️ Scene 1: The Crime Scene\")\n",
    "print(\"Detective Arjun Mehta arrives at a jewelry store in Mumbai. Diamonds have been stolen!\")\n",
    "print(\"The CCTV captured 100 sensor readings (values 0–9).\")\n",
    "sensor_data = np.random.randint(0, 10, size=100)\n",
    "high_activity_count = sum(sensor_data>7)\n",
    "print(\"\\nScene 1 Result → High activity count:\",high_activity_count)"
   ]
  },
  {
   "cell_type": "code",
   "execution_count": 167,
   "metadata": {
    "colab": {
     "base_uri": "https://localhost:8080/"
    },
    "executionInfo": {
     "elapsed": 16,
     "status": "ok",
     "timestamp": 1758341217052,
     "user": {
      "displayName": "Tushar Raj",
      "userId": "04399146470560759060"
     },
     "user_tz": -330
    },
    "id": "mh_va3YdCEZ3",
    "outputId": "2857578e-9f6a-4fec-d5ae-7f4bd787fa28"
   },
   "outputs": [
    {
     "name": "stdout",
     "output_type": "stream",
     "text": [
      "\n",
      " Scene 2: Suspect List\n",
      "\n",
      "Inspector Rani Sharma provides a list of 20 suspects with their ages.\n",
      "age in even index  [2, 4, 6, 8, 10, 12, 14, 16, 18, 20]\n",
      "\n",
      "Scene 2 Result → Youngest: 19 Oldest: 59\n"
     ]
    }
   ],
   "source": [
    "print(\"\\n Scene 2: Suspect List\\n\")\n",
    "print(\"Inspector Rani Sharma provides a list of 20 suspects with their ages.\")\n",
    "ages = np.random.randint(18, 60, size=20)\n",
    "even_index_ages = [i for i in range(1,len(ages)+1) if i%2==0]\n",
    "print('age in even index ',even_index_ages)\n",
    "oldest = ages.max()\n",
    "youngest = ages.min()\n",
    "print(\"\\nScene 2 Result → Youngest:\", youngest, \"Oldest:\",oldest)"
   ]
  },
  {
   "cell_type": "markdown",
   "metadata": {
    "id": "unTFnejxDzpD"
   },
   "source": [
    "---"
   ]
  },
  {
   "cell_type": "code",
   "execution_count": 168,
   "metadata": {
    "colab": {
     "base_uri": "https://localhost:8080/"
    },
    "executionInfo": {
     "elapsed": 43,
     "status": "ok",
     "timestamp": 1758341217097,
     "user": {
      "displayName": "Tushar Raj",
      "userId": "04399146470560759060"
     },
     "user_tz": -330
    },
    "id": "3pFgmguKDwoA",
    "outputId": "12c28685-4a28-47ac-dd6e-ba5126e8039e"
   },
   "outputs": [
    {
     "name": "stdout",
     "output_type": "stream",
     "text": [
      "\n",
      " Scene 3: Witness Statement\n",
      "Witness says: 'I saw 5 people entering the store in pairs.'\n",
      "CCTV logs are stored as a 10x2 matrix (entry, exit times).\n"
     ]
    }
   ],
   "source": [
    "print(\"\\n Scene 3: Witness Statement\")\n",
    "print(\"Witness says: 'I saw 5 people entering the store in pairs.'\")\n",
    "print(\"CCTV logs are stored as a 10x2 matrix (entry, exit times).\")\n",
    "cctv_logs = np.random.randint(0, 24, size=(10, 2))\n",
    "\n"
   ]
  },
  {
   "cell_type": "code",
   "execution_count": 169,
   "metadata": {
    "colab": {
     "base_uri": "https://localhost:8080/"
    },
    "executionInfo": {
     "elapsed": 10,
     "status": "ok",
     "timestamp": 1758341217108,
     "user": {
      "displayName": "Tushar Raj",
      "userId": "04399146470560759060"
     },
     "user_tz": -330
    },
    "id": "UhFV7QeTE6Tc",
    "outputId": "8bbb2fbb-876f-4368-f836-c3462a35c9ad"
   },
   "outputs": [
    {
     "name": "stdout",
     "output_type": "stream",
     "text": [
      "avg_entry = 12.6\n",
      "\n",
      "Scene 3 Result → Suspicious visits:\n",
      " [[19  8]\n",
      " [22  9]\n",
      " [12 12]\n",
      " [19 13]\n",
      " [22  4]\n",
      " [10  1]]\n"
     ]
    }
   ],
   "source": [
    "avg_entry = np.mean(cctv_logs[:,0])\n",
    "print('avg_entry =',avg_entry)\n",
    "quick_visits = cctv_logs[cctv_logs[:,1]< (cctv_logs[:,0]+5)]\n",
    "print(\"\\nScene 3 Result → Suspicious visits:\\n\",quick_visits)"
   ]
  },
  {
   "cell_type": "markdown",
   "metadata": {
    "id": "jcNWUG08DvXg"
   },
   "source": [
    "---"
   ]
  },
  {
   "cell_type": "code",
   "execution_count": 170,
   "metadata": {
    "colab": {
     "base_uri": "https://localhost:8080/"
    },
    "executionInfo": {
     "elapsed": 21,
     "status": "ok",
     "timestamp": 1758341217131,
     "user": {
      "displayName": "Tushar Raj",
      "userId": "04399146470560759060"
     },
     "user_tz": -330
    },
    "id": "lSFFIt4_FXBs",
    "outputId": "247f28df-2d46-4313-ccb6-769af35880cf"
   },
   "outputs": [
    {
     "name": "stdout",
     "output_type": "stream",
     "text": [
      "\n",
      " Scene 4: Car Parking Data\n",
      "Parking lot cameras recorded cars for 7 days, 5 time slots each.\n"
     ]
    }
   ],
   "source": [
    "print(\"\\n Scene 4: Car Parking Data\")\n",
    "print(\"Parking lot cameras recorded cars for 7 days, 5 time slots each.\")\n",
    "cars = np.random.randint(0, 20, size=(7, 5))"
   ]
  },
  {
   "cell_type": "code",
   "execution_count": 171,
   "metadata": {
    "executionInfo": {
     "elapsed": 2,
     "status": "ok",
     "timestamp": 1758341217135,
     "user": {
      "displayName": "Tushar Raj",
      "userId": "04399146470560759060"
     },
     "user_tz": -330
    },
    "id": "zp8Lh5dsFbHb"
   },
   "outputs": [],
   "source": [
    "day_sum=cars.sum(axis=1)\n",
    "max_day = day_sum.max()"
   ]
  },
  {
   "cell_type": "markdown",
   "metadata": {
    "id": "hV0mQW6CF3kD"
   },
   "source": [
    "**TODO: Extract traffic for days [2,4,6] and time slots [1,3]**\n"
   ]
  },
  {
   "cell_type": "code",
   "execution_count": 172,
   "metadata": {
    "colab": {
     "base_uri": "https://localhost:8080/"
    },
    "executionInfo": {
     "elapsed": 27,
     "status": "ok",
     "timestamp": 1758341217164,
     "user": {
      "displayName": "Tushar Raj",
      "userId": "04399146470560759060"
     },
     "user_tz": -330
    },
    "id": "GForSxHLFzcc",
    "outputId": "d68208dd-43d6-4e4a-e8b6-54c5f0e12497"
   },
   "outputs": [
    {
     "name": "stdout",
     "output_type": "stream",
     "text": [
      "\n",
      "Scene 4 Result → Max traffic day: [[19  3]\n",
      " [13  3]\n",
      " [15  0]]\n"
     ]
    }
   ],
   "source": [
    "subset_traffic = cars[np.ix_([2,4,6],[1,3])]\n",
    "print(\"\\nScene 4 Result → Max traffic day:\",subset_traffic)\n"
   ]
  },
  {
   "cell_type": "markdown",
   "metadata": {
    "id": "HshmNGsHGV_D"
   },
   "source": [
    "---"
   ]
  },
  {
   "cell_type": "code",
   "execution_count": 173,
   "metadata": {
    "colab": {
     "base_uri": "https://localhost:8080/"
    },
    "executionInfo": {
     "elapsed": 16,
     "status": "ok",
     "timestamp": 1758341217187,
     "user": {
      "displayName": "Tushar Raj",
      "userId": "04399146470560759060"
     },
     "user_tz": -330
    },
    "id": "9tkt6cg7GXti",
    "outputId": "6e5d3baf-96c4-489c-dd84-c273838173ad"
   },
   "outputs": [
    {
     "name": "stdout",
     "output_type": "stream",
     "text": [
      "\n",
      " Scene 5: Suspect Movements\n",
      "GPS coordinates of 3 suspects, 4 days, 2 coords/day.\n"
     ]
    }
   ],
   "source": [
    "print(\"\\n Scene 5: Suspect Movements\")\n",
    "print(\"GPS coordinates of 3 suspects, 4 days, 2 coords/day.\")\n",
    "gps = np.random.randint(0, 100, size=(3, 4, 2))"
   ]
  },
  {
   "cell_type": "markdown",
   "metadata": {
    "id": "LLJnHFuCGpiM"
   },
   "source": [
    "TODO: Transpose to (4,3,2)"
   ]
  },
  {
   "cell_type": "code",
   "execution_count": 174,
   "metadata": {
    "colab": {
     "base_uri": "https://localhost:8080/"
    },
    "executionInfo": {
     "elapsed": 41,
     "status": "ok",
     "timestamp": 1758341217229,
     "user": {
      "displayName": "Tushar Raj",
      "userId": "04399146470560759060"
     },
     "user_tz": -330
    },
    "id": "i7yeDC3bGqLK",
    "outputId": "66f4ac7a-5cd4-4f63-bd0c-c59d4a674f28"
   },
   "outputs": [
    {
     "data": {
      "text/plain": [
       "array([[[12, 34],\n",
       "        [ 2, 71],\n",
       "        [18, 88]],\n",
       "\n",
       "       [[36, 41],\n",
       "        [56, 93],\n",
       "        [67, 83]],\n",
       "\n",
       "       [[12,  4],\n",
       "        [48,  2],\n",
       "        [71, 35]],\n",
       "\n",
       "       [[35, 78],\n",
       "        [31, 13],\n",
       "        [ 9, 73]]], dtype=int32)"
      ]
     },
     "execution_count": 174,
     "metadata": {},
     "output_type": "execute_result"
    }
   ],
   "source": [
    "gps_transposed = gps.transpose(1,0,2)\n",
    "gps_transposed"
   ]
  },
  {
   "cell_type": "markdown",
   "metadata": {
    "id": "ig-PHhkOGxos"
   },
   "source": [
    "TODO: Extract suspect 2 on days [1,3]"
   ]
  },
  {
   "cell_type": "code",
   "execution_count": 175,
   "metadata": {
    "colab": {
     "base_uri": "https://localhost:8080/"
    },
    "executionInfo": {
     "elapsed": 24,
     "status": "ok",
     "timestamp": 1758341217255,
     "user": {
      "displayName": "Tushar Raj",
      "userId": "04399146470560759060"
     },
     "user_tz": -330
    },
    "id": "aVphW_vxGyPj",
    "outputId": "32167615-8d40-462d-f8e0-2eac1c482508"
   },
   "outputs": [
    {
     "name": "stdout",
     "output_type": "stream",
     "text": [
      "\n",
      "Scene 5 Result → Movements of suspect 2:\n",
      " [[[67 83]]\n",
      "\n",
      " [[ 9 73]]]\n"
     ]
    }
   ],
   "source": [
    "suspect2_movements = gps_transposed[np.ix_(\n",
    "    [1,3],\n",
    "     [2],\n",
    "    np.arange(gps_transposed.shape[2])\n",
    "    )]\n",
    "print(\"\\nScene 5 Result → Movements of suspect 2:\\n\",suspect2_movements)"
   ]
  },
  {
   "cell_type": "markdown",
   "metadata": {
    "id": "qIxIvq8QJqm6"
   },
   "source": [
    "---"
   ]
  },
  {
   "cell_type": "code",
   "execution_count": 176,
   "metadata": {
    "colab": {
     "base_uri": "https://localhost:8080/"
    },
    "executionInfo": {
     "elapsed": 17,
     "status": "ok",
     "timestamp": 1758341217283,
     "user": {
      "displayName": "Tushar Raj",
      "userId": "04399146470560759060"
     },
     "user_tz": -330
    },
    "id": "ETrrrhn_Jrkz",
    "outputId": "027fea35-34e7-4f3a-d6e8-d215cc2c002d"
   },
   "outputs": [
    {
     "name": "stdout",
     "output_type": "stream",
     "text": [
      "\n",
      "️ Scene 6: Hidden Transactions\n",
      "Financial records of 5 suspects, 6 months.\n"
     ]
    },
    {
     "data": {
      "text/plain": [
       "array([[25547, 95266, 74847, 91699, 28854, 44241],\n",
       "       [23079, 23003, 95062, 77148, 89317, 45166],\n",
       "       [45281, 87788, 77616, 20288, 76928, 58584],\n",
       "       [83386, 72710, 88883, 93350, 53431, 88429],\n",
       "       [53184, 27532, 42486, 88213, 49581, 34970]], dtype=int32)"
      ]
     },
     "execution_count": 176,
     "metadata": {},
     "output_type": "execute_result"
    }
   ],
   "source": [
    "print(\"\\n️ Scene 6: Hidden Transactions\")\n",
    "print(\"Financial records of 5 suspects, 6 months.\")\n",
    "transactions = np.random.randint(20000, 100000, size=(5, 6))\n",
    "transactions"
   ]
  },
  {
   "cell_type": "markdown",
   "metadata": {
    "id": "GDWXJ686JwGH"
   },
   "source": [
    "TODO: Find suspects with avg spending > 50,000"
   ]
  },
  {
   "cell_type": "code",
   "execution_count": 177,
   "metadata": {
    "colab": {
     "base_uri": "https://localhost:8080/"
    },
    "executionInfo": {
     "elapsed": 27,
     "status": "ok",
     "timestamp": 1758341217311,
     "user": {
      "displayName": "Tushar Raj",
      "userId": "04399146470560759060"
     },
     "user_tz": -330
    },
    "id": "DB5Zi4NHJyRp",
    "outputId": "c74581e8-1ee3-4c6f-f11c-843cbfbb717b"
   },
   "outputs": [
    {
     "name": "stdout",
     "output_type": "stream",
     "text": [
      "\n",
      "Scene 6 Result → Big spenders:\n",
      " [[25547 95266 74847 91699 28854 44241]\n",
      " [23079 23003 95062 77148 89317 45166]\n",
      " [45281 87788 77616 20288 76928 58584]\n",
      " [83386 72710 88883 93350 53431 88429]]\n"
     ]
    }
   ],
   "source": [
    "big_spenders = transactions[transactions.mean(axis=1)>50000,:]\n",
    "print(\"\\nScene 6 Result → Big spenders:\\n\", big_spenders)"
   ]
  },
  {
   "cell_type": "markdown",
   "metadata": {
    "id": "oYsYR-q3NJZ8"
   },
   "source": [
    "TODO: Extract suspects [1,3] months [2,4]"
   ]
  },
  {
   "cell_type": "code",
   "execution_count": 178,
   "metadata": {
    "executionInfo": {
     "elapsed": 1,
     "status": "ok",
     "timestamp": 1758341217368,
     "user": {
      "displayName": "Tushar Raj",
      "userId": "04399146470560759060"
     },
     "user_tz": -330
    },
    "id": "fOq-trEANJ_5"
   },
   "outputs": [],
   "source": [
    "special_tx = transactions[np.ix_([1,3],[2,4])]"
   ]
  },
  {
   "cell_type": "markdown",
   "metadata": {
    "id": "lIE-iLRTLF26"
   },
   "source": [
    "---"
   ]
  },
  {
   "cell_type": "code",
   "execution_count": 179,
   "metadata": {
    "colab": {
     "base_uri": "https://localhost:8080/"
    },
    "executionInfo": {
     "elapsed": 19,
     "status": "ok",
     "timestamp": 1758341217389,
     "user": {
      "displayName": "Tushar Raj",
      "userId": "04399146470560759060"
     },
     "user_tz": -330
    },
    "id": "2g4SUXRaJyPd",
    "outputId": "98486091-cd9e-49cd-b2f4-e5e13cb77e1c"
   },
   "outputs": [
    {
     "name": "stdout",
     "output_type": "stream",
     "text": [
      "\n",
      " Scene 7: Fingerprint Evidence\n"
     ]
    },
    {
     "data": {
      "text/plain": [
       "array([[[171, 179, 190,  29],\n",
       "        [ 77,  19, 236,  57],\n",
       "        [ 69,  77, 147, 111],\n",
       "        [ 94,  84, 201, 104]],\n",
       "\n",
       "       [[166,  94, 181,  17],\n",
       "        [164,  58,  52,   5],\n",
       "        [200, 237, 122, 101],\n",
       "        [252, 113, 103,  80]],\n",
       "\n",
       "       [[162,   2,  51, 106],\n",
       "        [199, 209,  36,  99],\n",
       "        [ 63, 190, 197,  39],\n",
       "        [ 39,  94,  35, 213]]], dtype=int32)"
      ]
     },
     "execution_count": 179,
     "metadata": {},
     "output_type": "execute_result"
    }
   ],
   "source": [
    "print(\"\\n Scene 7: Fingerprint Evidence\")\n",
    "(\"3 fingerprint scans as 4x4 images.\")\n",
    "fingerprints = np.random.randint(0, 255, size=(3, 4, 4))\n",
    "fingerprints"
   ]
  },
  {
   "cell_type": "markdown",
   "metadata": {
    "id": "KNAWuu1jNgBd"
   },
   "source": [
    "TODO: Extract center 2x2 region of each image"
   ]
  },
  {
   "cell_type": "code",
   "execution_count": 180,
   "metadata": {
    "colab": {
     "base_uri": "https://localhost:8080/"
    },
    "executionInfo": {
     "elapsed": 19,
     "status": "ok",
     "timestamp": 1758341217409,
     "user": {
      "displayName": "Tushar Raj",
      "userId": "04399146470560759060"
     },
     "user_tz": -330
    },
    "id": "fM8GUjoZOezY",
    "outputId": "3ec311a2-0f16-4bec-8ff3-44d33dc943d5"
   },
   "outputs": [
    {
     "data": {
      "text/plain": [
       "array([[[ 19, 236],\n",
       "        [ 77, 147]],\n",
       "\n",
       "       [[ 58,  52],\n",
       "        [237, 122]],\n",
       "\n",
       "       [[209,  36],\n",
       "        [190, 197]]], dtype=int32)"
      ]
     },
     "execution_count": 180,
     "metadata": {},
     "output_type": "execute_result"
    }
   ],
   "source": [
    "centers = fingerprints[np.ix_(np.arange(fingerprints.shape[0]),[1,2],[1,2])]\n",
    "centers"
   ]
  },
  {
   "cell_type": "code",
   "execution_count": 181,
   "metadata": {
    "colab": {
     "base_uri": "https://localhost:8080/"
    },
    "executionInfo": {
     "elapsed": 19,
     "status": "ok",
     "timestamp": 1758341217429,
     "user": {
      "displayName": "Tushar Raj",
      "userId": "04399146470560759060"
     },
     "user_tz": -330
    },
    "id": "TFLY5TpcNgkq",
    "outputId": "d74eb63b-4f83-473c-ae19-5bd43f267867"
   },
   "outputs": [
    {
     "data": {
      "text/plain": [
       "array([[[171, 179, 190,   0],\n",
       "        [  0,   0, 236,   0],\n",
       "        [  0,   0, 147, 111],\n",
       "        [  0,   0, 201, 104]],\n",
       "\n",
       "       [[166,   0, 181,   0],\n",
       "        [164,   0,   0,   0],\n",
       "        [200, 237, 122, 101],\n",
       "        [252, 113, 103,   0]],\n",
       "\n",
       "       [[162,   0,   0, 106],\n",
       "        [199, 209,   0,   0],\n",
       "        [  0, 190, 197,   0],\n",
       "        [  0,   0,   0, 213]]], dtype=int32)"
      ]
     },
     "execution_count": 181,
     "metadata": {},
     "output_type": "execute_result"
    }
   ],
   "source": [
    "centers = fingerprints[np.ix_(np.arange(fingerprints.shape[0]),[1,2],[1,2])]\n",
    "fingerprints[fingerprints<100] = 0\n",
    "cleaned_fingerprints = fingerprints\n",
    "cleaned_fingerprints"
   ]
  },
  {
   "cell_type": "markdown",
   "metadata": {
    "id": "qiijjq07Om3A"
   },
   "source": [
    "---\n"
   ]
  },
  {
   "cell_type": "code",
   "execution_count": 182,
   "metadata": {
    "colab": {
     "base_uri": "https://localhost:8080/"
    },
    "executionInfo": {
     "elapsed": 15,
     "status": "ok",
     "timestamp": 1758341217445,
     "user": {
      "displayName": "Tushar Raj",
      "userId": "04399146470560759060"
     },
     "user_tz": -330
    },
    "id": "BVon9QOvOoYq",
    "outputId": "bdfe8e90-3a46-40f7-9b2f-1ee503c6962a"
   },
   "outputs": [
    {
     "name": "stdout",
     "output_type": "stream",
     "text": [
      "\n",
      " Scene 8: Decoding the Cipher\n",
      "A coded message: [65, 66, 67, 68, 69]\n"
     ]
    }
   ],
   "source": [
    "print(\"\\n Scene 8: Decoding the Cipher\")\n",
    "print(\"A coded message: [65, 66, 67, 68, 69]\")\n",
    "cipher = np.array([65, 66, 67, 68, 69])\n"
   ]
  },
  {
   "cell_type": "markdown",
   "metadata": {
    "id": "pTrgs0boOs_i"
   },
   "source": [
    "TODO: Convert to characters\n"
   ]
  },
  {
   "cell_type": "code",
   "execution_count": 183,
   "metadata": {
    "colab": {
     "base_uri": "https://localhost:8080/"
    },
    "executionInfo": {
     "elapsed": 11,
     "status": "ok",
     "timestamp": 1758341217458,
     "user": {
      "displayName": "Tushar Raj",
      "userId": "04399146470560759060"
     },
     "user_tz": -330
    },
    "id": "-Nh0DsH3Or6h",
    "outputId": "2cceb97d-0ddd-48b9-b8b0-25c957b91e58"
   },
   "outputs": [
    {
     "name": "stdout",
     "output_type": "stream",
     "text": [
      "\n",
      "Scene 8 Result → Secret message: ['A' 'B' 'C' 'D' 'E']\n"
     ]
    }
   ],
   "source": [
    "message = np.vectorize(chr)(cipher)\n",
    "print(\"\\nScene 8 Result → Secret message:\",message)"
   ]
  },
  {
   "cell_type": "markdown",
   "metadata": {
    "id": "sDW-kTCiO2aC"
   },
   "source": [
    "---\n"
   ]
  },
  {
   "cell_type": "code",
   "execution_count": 184,
   "metadata": {
    "colab": {
     "base_uri": "https://localhost:8080/"
    },
    "executionInfo": {
     "elapsed": 57,
     "status": "ok",
     "timestamp": 1758341217517,
     "user": {
      "displayName": "Tushar Raj",
      "userId": "04399146470560759060"
     },
     "user_tz": -330
    },
    "id": "0i-rqk9dO4Qi",
    "outputId": "5d3cac14-6118-4aae-e596-e2443a9d8709"
   },
   "outputs": [
    {
     "name": "stdout",
     "output_type": "stream",
     "text": [
      "\n",
      " Scene 9: Narrowing the Suspects\n",
      "Remaining 4 suspects: Height, Weight, Age\n"
     ]
    },
    {
     "data": {
      "text/plain": [
       "array([[69, 88, 41],\n",
       "       [42, 86, 89],\n",
       "       [96, 87, 90],\n",
       "       [64, 43, 71]], dtype=int32)"
      ]
     },
     "execution_count": 184,
     "metadata": {},
     "output_type": "execute_result"
    }
   ],
   "source": [
    "print(\"\\n Scene 9: Narrowing the Suspects\")\n",
    "print(\"Remaining 4 suspects: Height, Weight, Age\")\n",
    "suspects_data = np.random.randint(20, 100, size=(4, 3))\n",
    "suspects_data"
   ]
  },
  {
   "cell_type": "markdown",
   "metadata": {
    "id": "nYVeLkgFO8Od"
   },
   "source": [
    "TODO: Extract suspects with weight > 70 and age < 30\n"
   ]
  },
  {
   "cell_type": "code",
   "execution_count": 185,
   "metadata": {
    "colab": {
     "base_uri": "https://localhost:8080/"
    },
    "executionInfo": {
     "elapsed": 26,
     "status": "ok",
     "timestamp": 1758341217544,
     "user": {
      "displayName": "Tushar Raj",
      "userId": "04399146470560759060"
     },
     "user_tz": -330
    },
    "id": "jZxL6AIpPTnB",
    "outputId": "ef4b0eaf-4fb9-448d-bb5d-b5b45c3a55c8"
   },
   "outputs": [
    {
     "name": "stdout",
     "output_type": "stream",
     "text": [
      "\n",
      "Scene 9 Result → Filtered suspects:\n",
      " []\n"
     ]
    }
   ],
   "source": [
    "filtered_suspects = suspects_data[(suspects_data[:,1]>70)&(suspects_data[:,2]<30)]\n",
    "print(\"\\nScene 9 Result → Filtered suspects:\\n\", filtered_suspects)"
   ]
  },
  {
   "cell_type": "markdown",
   "metadata": {
    "id": "eSFQmiY9Pu4g"
   },
   "source": [
    "---"
   ]
  },
  {
   "cell_type": "code",
   "execution_count": 186,
   "metadata": {
    "colab": {
     "base_uri": "https://localhost:8080/"
    },
    "executionInfo": {
     "elapsed": 28,
     "status": "ok",
     "timestamp": 1758341217574,
     "user": {
      "displayName": "Tushar Raj",
      "userId": "04399146470560759060"
     },
     "user_tz": -330
    },
    "id": "JOm7bgMhO7La",
    "outputId": "f6a83917-c7c9-4846-bd73-73bd0413ba42"
   },
   "outputs": [
    {
     "name": "stdout",
     "output_type": "stream",
     "text": [
      "\n",
      "️ Scene 10: The Final Chase\n",
      "2 cars tracked every 3 hours for 2 days → shape (2,2,8)\n"
     ]
    }
   ],
   "source": [
    "print(\"\\n️ Scene 10: The Final Chase\")\n",
    "print(\"2 cars tracked every 3 hours for 2 days → shape (2,2,8)\")\n",
    "cars_tracking = np.random.randint(0, 50, size=(2, 2, 8))\n"
   ]
  },
  {
   "cell_type": "markdown",
   "metadata": {
    "id": "iS4g3q9CP1vE"
   },
   "source": [
    "TODO: Transpose to (2,8,2)\n"
   ]
  },
  {
   "cell_type": "code",
   "execution_count": 187,
   "metadata": {
    "colab": {
     "base_uri": "https://localhost:8080/"
    },
    "executionInfo": {
     "elapsed": 45,
     "status": "ok",
     "timestamp": 1758341217620,
     "user": {
      "displayName": "Tushar Raj",
      "userId": "04399146470560759060"
     },
     "user_tz": -330
    },
    "id": "vLobTYs5P2Uf",
    "outputId": "184ab0ba-003d-4ae4-9b88-0ff3f3b3fa1f"
   },
   "outputs": [
    {
     "data": {
      "text/plain": [
       "(2, 2, 8)"
      ]
     },
     "execution_count": 187,
     "metadata": {},
     "output_type": "execute_result"
    }
   ],
   "source": [
    "cars_transposed = cars_tracking.transpose(0,2,1)\n",
    "cars_tracking.shape\n"
   ]
  },
  {
   "cell_type": "code",
   "execution_count": 188,
   "metadata": {
    "colab": {
     "base_uri": "https://localhost:8080/"
    },
    "executionInfo": {
     "elapsed": 10,
     "status": "ok",
     "timestamp": 1758341217631,
     "user": {
      "displayName": "Tushar Raj",
      "userId": "04399146470560759060"
     },
     "user_tz": -330
    },
    "id": "x9-9rGBWQVew",
    "outputId": "5eae3fab-f319-4ccc-df13-6cc75d16893b"
   },
   "outputs": [
    {
     "name": "stdout",
     "output_type": "stream",
     "text": [
      "\n",
      "Scene 10 Result → Same location times: [np.int64(4), np.int64(4)]\n"
     ]
    }
   ],
   "source": [
    "same_location_times = []\n",
    "for i in range(temp.shape[1]):\n",
    "  if np.array_equal(temp[0,i],temp[1,i]):\n",
    "    same_location_times.append(temp[0,i][1])\n",
    "\n",
    "print(\"\\nScene 10 Result → Same location times:\", same_location_times)"
   ]
  },
  {
   "cell_type": "markdown",
   "metadata": {
    "id": "rz9id1KcQ7lH"
   },
   "source": [
    "---\n"
   ]
  },
  {
   "cell_type": "code",
   "execution_count": 189,
   "metadata": {
    "colab": {
     "base_uri": "https://localhost:8080/"
    },
    "executionInfo": {
     "elapsed": 30,
     "status": "ok",
     "timestamp": 1758341217662,
     "user": {
      "displayName": "Tushar Raj",
      "userId": "04399146470560759060"
     },
     "user_tz": -330
    },
    "id": "IwrGwYNFQ-Ha",
    "outputId": "769b4b0a-253c-4586-86fe-f59a270d6b8c"
   },
   "outputs": [
    {
     "name": "stdout",
     "output_type": "stream",
     "text": [
      "\n",
      "️ Final Verdict\n",
      "Combine results to reveal the PRIME SUSPECT!\n"
     ]
    }
   ],
   "source": [
    "print(\"\\n️ Final Verdict\")\n",
    "print(\"Combine results to reveal the PRIME SUSPECT!\")"
   ]
  },
  {
   "cell_type": "markdown",
   "metadata": {
    "id": "dPzfYmYTQ9gr"
   },
   "source": [
    "# ️ The Verdict\n",
    "\n",
    "After all the analysis, Detective Arjun Mehta and Inspector Rani Sharma discover the mastermind:\n",
    "\n",
    "• The suspect whose sensor activity matched,\n",
    "\n",
    "• Car movement aligned, and\n",
    "\n",
    "• Financial transactions spiked abnormally.\n",
    "\n",
    "Final Task:\n",
    "• Combine your extracted suspects’ data across all arrays and print the prime suspect ID."
   ]
  },
  {
   "cell_type": "code",
   "execution_count": 1,
   "metadata": {
    "colab": {
     "base_uri": "https://localhost:8080/"
    },
    "executionInfo": {
     "elapsed": 22,
     "status": "ok",
     "timestamp": 1758341217685,
     "user": {
      "displayName": "Tushar Raj",
      "userId": "04399146470560759060"
     },
     "user_tz": -330
    },
    "id": "k1-H5FTmRMDv",
    "outputId": "7efef115-0322-4569-eee0-f711e23a66a0"
   },
   "outputs": [
    {
     "name": "stdout",
     "output_type": "stream",
     "text": [
      "Scene 1 - Sensor Suspect ID: 1\n",
      "Scene 6 - Big Spenders IDs: [2 3 4]\n",
      "Scene 10 - Car Suspect ID: 1\n",
      "Final Verdict - Prime Suspect ID: 1\n"
     ]
    }
   ],
   "source": [
    "import numpy as np\n",
    "\n",
    "# --- Scene 1: Sensor Activity ---\n",
    "sensor_data = np.random.randint(0, 10, 100)\n",
    "sensor_suspect = np.argmax(sensor_data) % 5   # map to suspect ID (0-4)\n",
    "\n",
    "# --- Scene 6: Transactions ---\n",
    "transactions = np.random.randint(20000, 100000, (5, 6))\n",
    "avg_spending = transactions.mean(axis=1)\n",
    "big_spenders = np.where(avg_spending > 50000)[0]\n",
    "\n",
    "# --- Scene 10: Car Chase ---\n",
    "cars = np.random.randint(0, 5, (2, 2, 8))   # locations\n",
    "cars_transposed = cars.transpose(0, 2, 1)\n",
    "matches = []\n",
    "for t in range(8):\n",
    "    if np.array_equal(cars_transposed[0, t], cars_transposed[1, t]):\n",
    "        matches.append(t)\n",
    "\n",
    "car_suspect = len(matches) % 5   # map matches to a suspect ID\n",
    "\n",
    "# --- Combine Evidence ---\n",
    "possible_suspects = set([sensor_suspect]) & set(big_spenders) | set([car_suspect])\n",
    "\n",
    "if len(possible_suspects) == 1:\n",
    "    prime_suspect = list(possible_suspects)[0]\n",
    "else:\n",
    "    prime_suspect = list(possible_suspects)[0]  # pick first if multiple\n",
    "\n",
    "print(\"Scene 1 - Sensor Suspect ID:\", sensor_suspect)\n",
    "print(\"Scene 6 - Big Spenders IDs:\", big_spenders)\n",
    "print(\"Scene 10 - Car Suspect ID:\", car_suspect)\n",
    "print(\"Final Verdict - Prime Suspect ID:\", prime_suspect)\n"
   ]
  }
 ],
 "metadata": {
  "colab": {
   "authorship_tag": "ABX9TyM+ZwDQAFztAZpz71bb1I3B",
   "provenance": []
  },
  "kernelspec": {
   "display_name": "PDV",
   "language": "python",
   "name": "python3"
  },
  "language_info": {
   "codemirror_mode": {
    "name": "ipython",
    "version": 3
   },
   "file_extension": ".py",
   "mimetype": "text/x-python",
   "name": "python",
   "nbconvert_exporter": "python",
   "pygments_lexer": "ipython3",
   "version": "3.13.7"
  }
 },
 "nbformat": 4,
 "nbformat_minor": 0
}
