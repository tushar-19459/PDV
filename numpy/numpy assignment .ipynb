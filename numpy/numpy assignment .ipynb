{
 "cells": [
  {
   "cell_type": "code",
   "execution_count": 787,
   "metadata": {
    "executionInfo": {
     "elapsed": 109,
     "status": "ok",
     "timestamp": 1758341212059,
     "user": {
      "displayName": "Tushar Raj",
      "userId": "04399146470560759060"
     },
     "user_tz": -330
    },
    "id": "2Tc3S9nYqXQd"
   },
   "outputs": [],
   "source": [
    "import numpy as np"
   ]
  },
  {
   "cell_type": "markdown",
   "metadata": {
    "id": "qeQ8m6Dxx152"
   },
   "source": [
    "**1. Sales Data Analysis**"
   ]
  },
  {
   "cell_type": "code",
   "execution_count": 788,
   "metadata": {
    "colab": {
     "base_uri": "https://localhost:8080/"
    },
    "collapsed": true,
    "executionInfo": {
     "elapsed": 44,
     "status": "ok",
     "timestamp": 1758341212100,
     "user": {
      "displayName": "Tushar Raj",
      "userId": "04399146470560759060"
     },
     "user_tz": -330
    },
    "id": "6ohOvPykrIYZ",
    "outputId": "99289629-7622-4028-ccb7-428d1956523a"
   },
   "outputs": [
    {
     "data": {
      "text/plain": [
       "array([['1001', 'C001', 'Alice Johnson', 'Consumer', 'East',\n",
       "        '2025-08-01', 'Furniture', '1200.5', '2', '0.1', '300.12',\n",
       "        'William Clark'],\n",
       "       ['1002', 'C002', 'Bob Smith', 'Corporate', 'West', '2025-08-03',\n",
       "        'Office Supplies', '450.75', '5', '0.05', '90.15',\n",
       "        'Olivia Martinez'],\n",
       "       ['1003', 'C003', 'Carol Lee', 'Home Office', 'Central',\n",
       "        '2025-08-05', 'Technology', '890.0', '1', '0.2', '150.5',\n",
       "        'James Wilson'],\n",
       "       ['1004', 'C004', 'David Kim', 'Consumer', 'South', '2025-08-07',\n",
       "        'Furniture', '670.8', '3', '0.15', '120.3', 'Olivia Martinez'],\n",
       "       ['1005', 'C005', 'Emma Davis', 'Corporate', 'East', '2025-08-09',\n",
       "        'Office Supplies', '310.25', '4', '0.0', '70.4', 'William Clark'],\n",
       "       ['1006', 'C006', 'Frank Wilson', 'Consumer', 'Central',\n",
       "        '2025-08-11', 'Technology', '1500.0', '2', '0.25', '250.0',\n",
       "        'James Wilson'],\n",
       "       ['1007', 'C007', 'Grace Chen', 'Home Office', 'West',\n",
       "        '2025-08-13', 'Furniture', '920.45', '1', '0.05', '200.1',\n",
       "        'Olivia Martinez'],\n",
       "       ['1008', 'C008', 'Henry Patel', 'Consumer', 'East', '2025-08-15',\n",
       "        'Office Supplies', '540.6', '6', '0.1', '130.5', 'William Clark'],\n",
       "       ['1009', 'C009', 'Irene Lopez', 'Corporate', 'South',\n",
       "        '2025-08-17', 'Technology', '720.0', '3', '0.15', '180.0',\n",
       "        'William Clark'],\n",
       "       ['1010', 'C010', 'Jack Brown', 'Consumer', 'Central',\n",
       "        '2025-08-19', 'Furniture', '1100.8', '4', '0.2', '250.0',\n",
       "        'Olivia Martinez']], dtype='<U32')"
      ]
     },
     "execution_count": 788,
     "metadata": {},
     "output_type": "execute_result"
    }
   ],
   "source": [
    "# OrderID\tCustomerID\tCustomerName\tSegment\tRegion\tOrderDate\tProductCategory\tSalesAmount\tQuantity\tDiscount\tProfit salesRep\n",
    "sales_data_np = np.array([\n",
    "    [1001, 'C001', 'Alice Johnson', 'Consumer', 'East', '2025-08-01', 'Furniture', 1200.50, 2, 0.10, 300.12, 'William Clark'],\n",
    "    [1002, 'C002', 'Bob Smith', 'Corporate', 'West', '2025-08-03', 'Office Supplies', 450.75, 5, 0.05, 90.15, 'Olivia Martinez'],\n",
    "    [1003, 'C003', 'Carol Lee', 'Home Office', 'Central', '2025-08-05', 'Technology', 890.00, 1, 0.20, 150.50, 'James Wilson'],\n",
    "    [1004, 'C004', 'David Kim', 'Consumer', 'South', '2025-08-07', 'Furniture', 670.80, 3, 0.15, 120.30, 'Olivia Martinez'],\n",
    "    [1005, 'C005', 'Emma Davis', 'Corporate', 'East', '2025-08-09', 'Office Supplies', 310.25, 4, 0.00, 70.40, 'William Clark'],\n",
    "    [1006, 'C006', 'Frank Wilson', 'Consumer', 'Central', '2025-08-11', 'Technology', 1500.00, 2, 0.25, 250.00, 'James Wilson'],\n",
    "    [1007, 'C007', 'Grace Chen', 'Home Office', 'West', '2025-08-13', 'Furniture', 920.45, 1, 0.05, 200.10, 'Olivia Martinez'],\n",
    "    [1008, 'C008', 'Henry Patel', 'Consumer', 'East', '2025-08-15', 'Office Supplies', 540.60, 6, 0.10, 130.50, 'William Clark'],\n",
    "    [1009, 'C009', 'Irene Lopez', 'Corporate', 'South', '2025-08-17', 'Technology', 720.00, 3, 0.15, 180.00, 'William Clark'],\n",
    "    [1010, 'C010', 'Jack Brown', 'Consumer', 'Central', '2025-08-19', 'Furniture', 1100.80, 4, 0.20, 250.00, 'Olivia Martinez']\n",
    "])\n",
    "sales_data_np"
   ]
  },
  {
   "cell_type": "markdown",
   "metadata": {
    "id": "bZuaFqhS-x7K"
   },
   "source": [
    "1 .Count total sales per product category."
   ]
  },
  {
   "cell_type": "code",
   "execution_count": 789,
   "metadata": {
    "colab": {
     "base_uri": "https://localhost:8080/"
    },
    "executionInfo": {
     "elapsed": 21,
     "status": "ok",
     "timestamp": 1758341212122,
     "user": {
      "displayName": "Tushar Raj",
      "userId": "04399146470560759060"
     },
     "user_tz": -330
    },
    "id": "-VvFSgpzt8jg",
    "outputId": "5792c149-e4af-4711-8494-fc37f685393b"
   },
   "outputs": [
    {
     "name": "stdout",
     "output_type": "stream",
     "text": [
      "total number of sales in \"Furniture\" 10\n",
      "total number of sales in \"Office Supplies\" 15\n",
      "total number of sales in \"Technology\" 6\n"
     ]
    }
   ],
   "source": [
    "category = np.unique(sales_data_np[:,-6])\n",
    "for i in category:\n",
    "  category = sales_data_np[:,6]==i\n",
    "  Furniture_data = sales_data_np[category]\n",
    "  quantity_furniture = Furniture_data[:,-4].astype(int)\n",
    "  total_quantity_furniture = np.sum(quantity_furniture)\n",
    "  print(f'total number of sales in \"{i}\"',total_quantity_furniture)"
   ]
  },
  {
   "cell_type": "markdown",
   "metadata": {
    "id": "KSkrCN3l-4bY"
   },
   "source": [
    "2. Calculate the total revenue generated by each sales representative."
   ]
  },
  {
   "cell_type": "code",
   "execution_count": 790,
   "metadata": {
    "colab": {
     "base_uri": "https://localhost:8080/"
    },
    "executionInfo": {
     "elapsed": 17,
     "status": "ok",
     "timestamp": 1758341212140,
     "user": {
      "displayName": "Tushar Raj",
      "userId": "04399146470560759060"
     },
     "user_tz": -330
    },
    "id": "ozZjX86b1kPd",
    "outputId": "7c5442a8-1393-4018-f54c-c71b132dd3ed"
   },
   "outputs": [
    {
     "name": "stdout",
     "output_type": "stream",
     "text": [
      "profites by James Wilson : 400.5\n",
      "profites by Olivia Martinez : 660.55\n",
      "profites by William Clark : 681.02\n"
     ]
    }
   ],
   "source": [
    "representative = np.unique(sales_data_np[:,-1])\n",
    "for i in representative:\n",
    "  profit = sales_data_np[:,-1]==i\n",
    "  profits = sales_data_np[profit][:,-2].astype(float)\n",
    "  total_profit = np.sum(profits)\n",
    "  print(f'profites by {i} :',total_profit)"
   ]
  },
  {
   "cell_type": "markdown",
   "metadata": {
    "id": "s_Sb4a54-8Oh"
   },
   "source": [
    "3. Find the product with the highest sales.\n"
   ]
  },
  {
   "cell_type": "code",
   "execution_count": 791,
   "metadata": {
    "colab": {
     "base_uri": "https://localhost:8080/"
    },
    "executionInfo": {
     "elapsed": 18,
     "status": "ok",
     "timestamp": 1758341212160,
     "user": {
      "displayName": "Tushar Raj",
      "userId": "04399146470560759060"
     },
     "user_tz": -330
    },
    "id": "1khIBRD_3xP8",
    "outputId": "e0cc8020-8ce4-452c-de14-020d58fa4f40"
   },
   "outputs": [
    {
     "name": "stdout",
     "output_type": "stream",
     "text": [
      "product details with highest sales [['1008' 'C008' 'Henry Patel' 'Consumer' 'East' '2025-08-15'\n",
      "  'Office Supplies' '540.6' '6' '0.1' '130.5' 'William Clark']]\n"
     ]
    }
   ],
   "source": [
    "index = sales_data_np[:,-4].astype(float) ==sales_data_np[:,-4].astype(float).max()\n",
    "print(f'product details with highest sales {sales_data_np[index]}')"
   ]
  },
  {
   "cell_type": "markdown",
   "metadata": {
    "id": "ISsxUuX8-_Rh"
   },
   "source": [
    "4. Group data by sales regions and calculate average sales."
   ]
  },
  {
   "cell_type": "code",
   "execution_count": 792,
   "metadata": {
    "colab": {
     "base_uri": "https://localhost:8080/"
    },
    "executionInfo": {
     "elapsed": 18,
     "status": "ok",
     "timestamp": 1758341212179,
     "user": {
      "displayName": "Tushar Raj",
      "userId": "04399146470560759060"
     },
     "user_tz": -330
    },
    "id": "eCAXprw59CTj",
    "outputId": "2c9f0189-fff8-4a97-a238-2f4d46e46f1f"
   },
   "outputs": [
    {
     "name": "stdout",
     "output_type": "stream",
     "text": [
      "average sales in Central : 1163.6000000000001\n",
      "average sales in East : 683.7833333333333\n",
      "average sales in South : 695.4\n",
      "average sales in West : 685.6\n"
     ]
    }
   ],
   "source": [
    "sales_regions = np.unique(sales_data_np[:,4])\n",
    "\n",
    "for i in sales_regions:\n",
    "  index = sales_data_np[:,4]==i\n",
    "  temp = sales_data_np[index]\n",
    "  print(f'average sales in {i} : {np.mean(temp[:,-5].astype(float))}')"
   ]
  },
  {
   "cell_type": "markdown",
   "metadata": {
    "id": "f5tuD4B3_PUX"
   },
   "source": [
    "----------------------------------"
   ]
  },
  {
   "cell_type": "markdown",
   "metadata": {
    "id": "N33-dCgP_RPR"
   },
   "source": [
    "**2. Employee Data Analysis**"
   ]
  },
  {
   "cell_type": "code",
   "execution_count": 793,
   "metadata": {
    "executionInfo": {
     "elapsed": 2,
     "status": "ok",
     "timestamp": 1758341212182,
     "user": {
      "displayName": "Tushar Raj",
      "userId": "04399146470560759060"
     },
     "user_tz": -330
    },
    "id": "bc48TMf8_elJ"
   },
   "outputs": [],
   "source": [
    "import numpy as np\n",
    "# EmployeeID\tName\tDepartment\tSalary\tPerformanceScore\n",
    "employee_data = np.array([\n",
    "    ['E001', 'Alice Brown', 'HR', 55000, 8.5],\n",
    "    ['E002', 'Bob Smith', 'IT', 72000, 7.2],\n",
    "    ['E003', 'Carol Lee', 'Finance', 68000, 9.0],\n",
    "    ['E004', 'David Kim', 'IT', 75000, 6.5],\n",
    "    ['E005', 'Emma Davis', 'Marketing', 50000, 8.0],\n",
    "    ['E006', 'Frank Wilson', 'HR', 53000, 7.8],\n",
    "    ['E007', 'Grace Chen', 'Finance', 67000, 8.9],\n",
    "    ['E008', 'Henry Patel', 'Marketing', 52000, 7.5],\n",
    "    ['E009', 'Irene Lopez', 'IT', 71000, 9.3],\n",
    "    ['E010', 'Jack Brown', 'HR', 56000, 6.8]\n",
    "])"
   ]
  },
  {
   "cell_type": "markdown",
   "metadata": {
    "id": "3CiiE9duBltu"
   },
   "source": [
    "Count the number of employees per department"
   ]
  },
  {
   "cell_type": "code",
   "execution_count": 794,
   "metadata": {
    "colab": {
     "base_uri": "https://localhost:8080/"
    },
    "executionInfo": {
     "elapsed": 16,
     "status": "ok",
     "timestamp": 1758341212199,
     "user": {
      "displayName": "Tushar Raj",
      "userId": "04399146470560759060"
     },
     "user_tz": -330
    },
    "id": "KRPd7iYnAC5A",
    "outputId": "fd552ceb-4a04-40aa-988d-743717d87f99"
   },
   "outputs": [
    {
     "name": "stdout",
     "output_type": "stream",
     "text": [
      "number of employees in Finance : 2\n",
      "number of employees in HR : 3\n",
      "number of employees in IT : 3\n",
      "number of employees in Marketing : 2\n"
     ]
    }
   ],
   "source": [
    "department = np.unique(employee_data[:,-3])\n",
    "for i in department:\n",
    "  print(f'number of employees in {i} : {len(employee_data[employee_data[:,-3]==i])}')"
   ]
  },
  {
   "cell_type": "markdown",
   "metadata": {
    "id": "q9i4GlvqBm6m"
   },
   "source": [
    "Find the employee with the highest salary."
   ]
  },
  {
   "cell_type": "code",
   "execution_count": 795,
   "metadata": {
    "colab": {
     "base_uri": "https://localhost:8080/"
    },
    "executionInfo": {
     "elapsed": 12,
     "status": "ok",
     "timestamp": 1758341212273,
     "user": {
      "displayName": "Tushar Raj",
      "userId": "04399146470560759060"
     },
     "user_tz": -330
    },
    "id": "tSJkUKTCBrRd",
    "outputId": "c1f54590-2472-4838-8055-26860625c483"
   },
   "outputs": [
    {
     "name": "stdout",
     "output_type": "stream",
     "text": [
      "employee with the highest salary.[['E004' 'David Kim' 'IT' '75000' '6.5']]\n"
     ]
    }
   ],
   "source": [
    "max_Salary = employee_data[:,-2]\n",
    "emp = employee_data[employee_data[:,-2] == max(max_Salary)]\n",
    "print(f'employee with the highest salary.{emp}')"
   ]
  },
  {
   "cell_type": "markdown",
   "metadata": {
    "id": "K8Y6y5tNCYAm"
   },
   "source": [
    "Calculate average salary per department."
   ]
  },
  {
   "cell_type": "code",
   "execution_count": 796,
   "metadata": {
    "colab": {
     "base_uri": "https://localhost:8080/"
    },
    "executionInfo": {
     "elapsed": 16,
     "status": "ok",
     "timestamp": 1758341212291,
     "user": {
      "displayName": "Tushar Raj",
      "userId": "04399146470560759060"
     },
     "user_tz": -330
    },
    "id": "-pp8AtZ1AmOI",
    "outputId": "a355d6bf-7aa9-47c5-86a3-0a22ec4ad210"
   },
   "outputs": [
    {
     "name": "stdout",
     "output_type": "stream",
     "text": [
      "average sales in Finance : 67500.0\n",
      "\n",
      "average sales in HR : 54666.666666666664\n",
      "\n",
      "average sales in IT : 72666.66666666667\n",
      "\n",
      "average sales in Marketing : 51000.0\n",
      "\n"
     ]
    }
   ],
   "source": [
    "department = np.unique(employee_data[:,2])\n",
    "# print(department)\n",
    "for i in department:\n",
    "  index = employee_data[:,2]==i\n",
    "  temp = employee_data[index]\n",
    "  print(f'average sales in {i} : {np.mean(temp[:,3].astype(float))}')\n",
    "  print()"
   ]
  },
  {
   "cell_type": "markdown",
   "metadata": {
    "id": "vO01_nroDrdu"
   },
   "source": [
    "Sort employees based on their performance score or salary.\n"
   ]
  },
  {
   "cell_type": "code",
   "execution_count": 797,
   "metadata": {
    "colab": {
     "base_uri": "https://localhost:8080/"
    },
    "executionInfo": {
     "elapsed": 15,
     "status": "ok",
     "timestamp": 1758341212307,
     "user": {
      "displayName": "Tushar Raj",
      "userId": "04399146470560759060"
     },
     "user_tz": -330
    },
    "id": "-LYdg8grDt_F",
    "outputId": "4810ec41-06c0-45d6-bc6e-e3bbc0706ec3"
   },
   "outputs": [
    {
     "name": "stdout",
     "output_type": "stream",
     "text": [
      "sorted data\n"
     ]
    },
    {
     "data": {
      "text/plain": [
       "array([['E004', 'David Kim', 'IT', '75000', '6.5'],\n",
       "       ['E010', 'Jack Brown', 'HR', '56000', '6.8'],\n",
       "       ['E002', 'Bob Smith', 'IT', '72000', '7.2'],\n",
       "       ['E008', 'Henry Patel', 'Marketing', '52000', '7.5'],\n",
       "       ['E006', 'Frank Wilson', 'HR', '53000', '7.8'],\n",
       "       ['E005', 'Emma Davis', 'Marketing', '50000', '8.0'],\n",
       "       ['E001', 'Alice Brown', 'HR', '55000', '8.5'],\n",
       "       ['E007', 'Grace Chen', 'Finance', '67000', '8.9'],\n",
       "       ['E003', 'Carol Lee', 'Finance', '68000', '9.0'],\n",
       "       ['E009', 'Irene Lopez', 'IT', '71000', '9.3']], dtype='<U32')"
      ]
     },
     "execution_count": 797,
     "metadata": {},
     "output_type": "execute_result"
    }
   ],
   "source": [
    "sorted_indices = np.argsort(employee_data[:, -1])\n",
    "sorted_employee_data = employee_data[sorted_indices]\n",
    "print('sorted data')\n",
    "sorted_employee_data"
   ]
  },
  {
   "cell_type": "markdown",
   "metadata": {
    "id": "0WMtjHkNFQhe"
   },
   "source": [
    "---------------------------\n",
    "**3. Student Grades Analysis**\n",
    "---------------------------"
   ]
  },
  {
   "cell_type": "code",
   "execution_count": 798,
   "metadata": {
    "executionInfo": {
     "elapsed": 1,
     "status": "ok",
     "timestamp": 1758341212310,
     "user": {
      "displayName": "Tushar Raj",
      "userId": "04399146470560759060"
     },
     "user_tz": -330
    },
    "id": "MNVMpWLTFZOv"
   },
   "outputs": [],
   "source": [
    "import numpy as np\n",
    "#StudentID\tName\tMath\tScience\tEnglish\tHistory\n",
    "student_data = np.array([\n",
    "    ['S001', 'Alice Brown', 85, 78, 92, 74],\n",
    "    ['S002', 'Bob Smith', 58, 64, 10, 66],\n",
    "    ['S003', 'Carol Lee', 95, 18, 82, 91],\n",
    "    ['S004', 'David Kim', 76, 85, 20, 79],\n",
    "    ['S005', 'Emma Davis', 66, 72, 68, 70],\n",
    "    ['S006', 'Frank Wilson', 90, 95, 88, 92],\n",
    "    ['S007', 'Grace Chen', 72, 10, 75, 65],\n",
    "    ['S008', 'Henry Patel', 81, 79, 85, 80],\n",
    "    ['S009', 'Irene Lopez', 69, 14, 17, 71],\n",
    "    ['S010', 'Jack Brown', 88, 10, 86, 19]\n",
    "])\n"
   ]
  },
  {
   "cell_type": "markdown",
   "metadata": {
    "id": "KBxWjMcbFwYt"
   },
   "source": [
    "1.Count the number of students who passed each subject."
   ]
  },
  {
   "cell_type": "code",
   "execution_count": null,
   "metadata": {
    "colab": {
     "base_uri": "https://localhost:8080/"
    },
    "executionInfo": {
     "elapsed": 14,
     "status": "ok",
     "timestamp": 1758341212325,
     "user": {
      "displayName": "Tushar Raj",
      "userId": "04399146470560759060"
     },
     "user_tz": -330
    },
    "id": "6lvblXQ_q1_s",
    "outputId": "05c3f234-f8bd-498e-c4e4-c886a04a88aa"
   },
   "outputs": [
    {
     "name": "stdout",
     "output_type": "stream",
     "text": [
      "the number of students who passed each subject : 4\n"
     ]
    }
   ],
   "source": [
    "count=0\n",
    "for i in student_data:\n",
    "  marks = i[2:].astype(int)\n",
    "  # print(marks)\n",
    "  total = sum(marks>20)\n",
    "  # print(total)\n",
    "  if total == 4:\n",
    "    count+=1\n",
    "print(f'the number of students who passed each subject : {count}')"
   ]
  },
  {
   "cell_type": "markdown",
   "metadata": {
    "id": "XXbkRZxXF44O"
   },
   "source": [
    "2.Calculate the average marks per subject.\n"
   ]
  },
  {
   "cell_type": "code",
   "execution_count": null,
   "metadata": {
    "colab": {
     "base_uri": "https://localhost:8080/"
    },
    "executionInfo": {
     "elapsed": 13,
     "status": "ok",
     "timestamp": 1758341212339,
     "user": {
      "displayName": "Tushar Raj",
      "userId": "04399146470560759060"
     },
     "user_tz": -330
    },
    "id": "_faykCT2s1Hh",
    "outputId": "0e677ea0-5f8e-4699-bc90-5e484f2cc77a"
   },
   "outputs": [
    {
     "name": "stdout",
     "output_type": "stream",
     "text": [
      "avg of Math : 780\n",
      "avg of Science : 525\n",
      "avg of English : 623\n",
      "avg of History : 707\n"
     ]
    }
   ],
   "source": [
    "sub=['Math'\t,'Science',\t'English'\t,\"History\"]\n",
    "avg = np.mean(student_data[:,2:].astype(int),axis=0)\n",
    "j=0\n",
    "for i in sub:\n",
    "    print(i,\" \",avg[j])\n",
    "    j+=1"
   ]
  },
  {
   "cell_type": "markdown",
   "metadata": {
    "id": "9_EMDvtRF8Fl"
   },
   "source": [
    "3.Find the student with the highest total marks"
   ]
  },
  {
   "cell_type": "code",
   "execution_count": null,
   "metadata": {
    "colab": {
     "base_uri": "https://localhost:8080/"
    },
    "executionInfo": {
     "elapsed": 17,
     "status": "ok",
     "timestamp": 1758341212357,
     "user": {
      "displayName": "Tushar Raj",
      "userId": "04399146470560759060"
     },
     "user_tz": -330
    },
    "id": "Pvw1LyuUK3Cc",
    "outputId": "cf254ee0-c58a-42f1-a514-c649dfd025ff"
   },
   "outputs": [
    {
     "name": "stdout",
     "output_type": "stream",
     "text": [
      "Frank Wilson : 365\n"
     ]
    }
   ],
   "source": [
    "\n",
    "print(student_data[np.argmax(np.sum(student_data[:,2:].astype(int),axis=1))])###\n",
    "\n",
    "\n",
    "\n",
    "max_marks = 0\n",
    "name = ''\n",
    "for i in student_data:\n",
    "  marks = i[2:].astype(int)\n",
    "  total = sum(marks)\n",
    "  if max_marks<total:\n",
    "    max_marks = total\n",
    "    name = i[1]\n",
    "print(f'{name} : {max_marks}')\n"
   ]
  },
  {
   "cell_type": "markdown",
   "metadata": {
    "id": "7xaUEh3EGAhc"
   },
   "source": [
    "4.Determine the top 3 students based on average marks."
   ]
  },
  {
   "cell_type": "code",
   "execution_count": null,
   "metadata": {
    "colab": {
     "base_uri": "https://localhost:8080/"
    },
    "executionInfo": {
     "elapsed": 50,
     "status": "ok",
     "timestamp": 1758341212408,
     "user": {
      "displayName": "Tushar Raj",
      "userId": "04399146470560759060"
     },
     "user_tz": -330
    },
    "id": "oidpyme2uIs6",
    "outputId": "9d83b5ef-512c-43aa-d4f8-ba41ad64e776"
   },
   "outputs": [
    {
     "name": "stdout",
     "output_type": "stream",
     "text": [
      "student 1 : Alice Brown , (Avg Marks) = 82.25\n",
      "student 2 : Henry Patel , (Avg Marks) = 81.25\n",
      "student 3 : Carol Lee , (Avg Marks) = 71.5\n"
     ]
    }
   ],
   "source": [
    "student_data[np.argsort(np.mean(student_data[:,2:].astype(int),axis=1))][::-1][0:3]#####\n",
    "\n",
    "\n",
    "marks = student_data[:,2:].astype(int)\n",
    "mean_marks = np.mean(marks,axis=1)\n",
    "sorted = np.sort(mean_marks)[::-1]\n",
    "for i in range(1,4):\n",
    "  for j in student_data:\n",
    "    marks = j[2:].astype(int)\n",
    "    if np.mean(marks)==sorted[i]:\n",
    "      print(f'student {i} : {j[1]} , (Avg Marks) = {sorted[i]}')"
   ]
  },
  {
   "cell_type": "markdown",
   "metadata": {
    "id": "VUpRGq0QwjDm"
   },
   "source": [
    "______________________________\n",
    "\n",
    "**4. Weather Data Analysis**"
   ]
  },
  {
   "cell_type": "code",
   "execution_count": 803,
   "metadata": {
    "executionInfo": {
     "elapsed": 2,
     "status": "ok",
     "timestamp": 1758341212411,
     "user": {
      "displayName": "Tushar Raj",
      "userId": "04399146470560759060"
     },
     "user_tz": -330
    },
    "id": "bCI0z-asxK2t"
   },
   "outputs": [],
   "source": [
    "import numpy as np\n",
    "\n",
    "# WeatherID   Month    Temp(°C)  Rainfall(mm)\n",
    "weather_data = np.array([\n",
    "    ['W001', 'January',   22,  10],\n",
    "    ['W002', 'January',   24,   5],\n",
    "    ['W003', 'January',   20,   8],\n",
    "\n",
    "    ['W004', 'February',  25,   7],\n",
    "    ['W005', 'February',  27,  12],\n",
    "    ['W006', 'February',  23,   9],\n",
    "\n",
    "    ['W007', 'March',     30,   4],\n",
    "    ['W008', 'March',     32,   6],\n",
    "    ['W009', 'March',     28,   5],\n",
    "\n",
    "    ['W010', 'April',     34,   2],\n",
    "    ['W011', 'April',     36,   3],\n",
    "    ['W012', 'April',     35,   1],\n",
    "\n",
    "    ['W013', 'May',       37,   0],\n",
    "    ['W014', 'May',       38,   2],\n",
    "    ['W015', 'May',       39,   1],\n",
    "\n",
    "    ['W016', 'June',      40,  30],\n",
    "    ['W017', 'June',      39,  25],\n",
    "    ['W018', 'June',      41,  28],\n",
    "\n",
    "    ['W019', 'July',      36,  45],\n",
    "    ['W020', 'July',      37,  42],\n",
    "    ['W021', 'July',      35,  50],\n",
    "\n",
    "    ['W022', 'August',    33,  40],\n",
    "    ['W023', 'August',    34,  38],\n",
    "    ['W024', 'August',    35,  35],\n",
    "\n",
    "    ['W025', 'September', 32,  25],\n",
    "    ['W026', 'September', 31,  28],\n",
    "    ['W027', 'September', 33,  22],\n",
    "\n",
    "    ['W028', 'October',   28,  15],\n",
    "    ['W029', 'October',   27,  18],\n",
    "    ['W030', 'October',   29,  12],\n",
    "\n",
    "    ['W031', 'November',  24,  20],\n",
    "    ['W032', 'November',  26,  22],\n",
    "    ['W033', 'November',  23,  18],\n",
    "\n",
    "    ['W034', 'December',  21,  30],\n",
    "    ['W035', 'December',  22,  25],\n",
    "    ['W036', 'December',  20,  28]\n",
    "])"
   ]
  },
  {
   "cell_type": "markdown",
   "metadata": {
    "id": "nVn5Qd8uwrST"
   },
   "source": [
    "1.Find the maximum and minimum temperature recorded each month."
   ]
  },
  {
   "cell_type": "code",
   "execution_count": null,
   "metadata": {
    "colab": {
     "base_uri": "https://localhost:8080/"
    },
    "executionInfo": {
     "elapsed": 11,
     "status": "ok",
     "timestamp": 1758341212423,
     "user": {
      "displayName": "Tushar Raj",
      "userId": "04399146470560759060"
     },
     "user_tz": -330
    },
    "id": "40QRcCnew4jf",
    "outputId": "17dd3df0-5c7f-475d-9bf1-f3cf0b9c6abb"
   },
   "outputs": [
    {
     "name": "stdout",
     "output_type": "stream",
     "text": [
      "max temp in the month April : 36 deg\n",
      "min temp in the month April : 34 deg\n",
      "\n",
      "max temp in the month August : 35 deg\n",
      "min temp in the month August : 33 deg\n",
      "\n",
      "max temp in the month December : 22 deg\n",
      "min temp in the month December : 20 deg\n",
      "\n",
      "max temp in the month February : 27 deg\n",
      "min temp in the month February : 23 deg\n",
      "\n",
      "max temp in the month January : 24 deg\n",
      "min temp in the month January : 20 deg\n",
      "\n",
      "max temp in the month July : 37 deg\n",
      "min temp in the month July : 35 deg\n",
      "\n",
      "max temp in the month June : 41 deg\n",
      "min temp in the month June : 39 deg\n",
      "\n",
      "max temp in the month March : 32 deg\n",
      "min temp in the month March : 28 deg\n",
      "\n",
      "max temp in the month May : 39 deg\n",
      "min temp in the month May : 37 deg\n",
      "\n",
      "max temp in the month November : 26 deg\n",
      "min temp in the month November : 23 deg\n",
      "\n",
      "max temp in the month October : 29 deg\n",
      "min temp in the month October : 27 deg\n",
      "\n",
      "max temp in the month September : 33 deg\n",
      "min temp in the month September : 31 deg\n",
      "\n"
     ]
    }
   ],
   "source": [
    "month = np.unique(weather_data[:,1])###\n",
    "for i in month:\n",
    "    monthdata = weather_data[weather_data[:,1]==i]\n",
    "    max = monthdata[np.argmax(monthdata[:,2].astype(float))][2]\n",
    "    min = monthdata[np.argmin(monthdata[:,2].astype(float))][2]\n",
    "    print(i,\" \",min,\" \",max)\n",
    "\n",
    "\n",
    "months = np.unique(weather_data[:,1])\n",
    "for i in months:\n",
    "  index = weather_data[:,1]==i\n",
    "  filtered = weather_data[index]\n",
    "  print(f'max temp in the month {i} : {np.max(filtered[:,2].astype(int))} deg')\n",
    "  print(f'min temp in the month {i} : {np.min(filtered[:,2].astype(int))} deg')\n",
    "  print()"
   ]
  },
  {
   "cell_type": "markdown",
   "metadata": {
    "id": "6HpKKHoSwuyV"
   },
   "source": [
    "2.Calculate average rainfall per season."
   ]
  },
  {
   "cell_type": "code",
   "execution_count": null,
   "metadata": {
    "colab": {
     "base_uri": "https://localhost:8080/"
    },
    "executionInfo": {
     "elapsed": 14,
     "status": "ok",
     "timestamp": 1758341212439,
     "user": {
      "displayName": "Tushar Raj",
      "userId": "04399146470560759060"
     },
     "user_tz": -330
    },
    "id": "SHkXwPSCw4_1",
    "outputId": "a17434e0-d379-402b-d281-fb45da39112c"
   },
   "outputs": [
    {
     "name": "stdout",
     "output_type": "stream",
     "text": [
      "avg rainfall in winter : 7.666666666666667\n",
      "avg rainfall in Monsoon : 9.333333333333334\n",
      "avg rainfall in autunmn : 5.0\n",
      "avg rainfall in summer : 2.0\n"
     ]
    }
   ],
   "source": [
    "# season = ['Spring','Summer',\"Autumn\",'Winter']\n",
    "season = ['winter','Monsoon',\"autunmn\",'summer']\n",
    "\n",
    "sea = np.unique(weather_data[:,0])###########\n",
    "for i in sea:\n",
    "    seadata = weather_data[weather_data[:,0]==i]\n",
    "    mean_rain = np.mean(seadata[:,-1].astype(float))\n",
    "    print(i,\" \",mean_rain)\n",
    "\n",
    "months = np.unique(weather_data[:,1])\n",
    "count = 0\n",
    "for i in season:\n",
    "  raing_data = weather_data[count:(count+3),-1].astype(int)\n",
    "  print(f'avg rainfall in {i} :',np.mean(raing_data))\n",
    "  count+=3\n"
   ]
  },
  {
   "cell_type": "markdown",
   "metadata": {
    "id": "D4bD3eh2ww81"
   },
   "source": [
    "3.Count how many days had temperature above a threshold (e.g., >35°C)"
   ]
  },
  {
   "cell_type": "code",
   "execution_count": 806,
   "metadata": {
    "colab": {
     "base_uri": "https://localhost:8080/"
    },
    "executionInfo": {
     "elapsed": 33,
     "status": "ok",
     "timestamp": 1758341212474,
     "user": {
      "displayName": "Tushar Raj",
      "userId": "04399146470560759060"
     },
     "user_tz": -330
    },
    "id": "bnb_PXxVw5T2",
    "outputId": "c3d26bc6-66bc-4431-c54b-76dd3156590d"
   },
   "outputs": [
    {
     "name": "stdout",
     "output_type": "stream",
     "text": [
      "days had temperature above a threshold (e.g., >35°C) : 9\n"
     ]
    }
   ],
   "source": [
    "temp = weather_data[:,-2].astype(int)>35\n",
    "print('days had temperature above a threshold (e.g., >35°C) :',sum(temp))"
   ]
  },
  {
   "cell_type": "markdown",
   "metadata": {
    "id": "E4xVxBXEw08G"
   },
   "source": [
    "4.Identify the month with the highest average temperature."
   ]
  },
  {
   "cell_type": "code",
   "execution_count": null,
   "metadata": {
    "colab": {
     "base_uri": "https://localhost:8080/"
    },
    "executionInfo": {
     "elapsed": 18,
     "status": "ok",
     "timestamp": 1758341212474,
     "user": {
      "displayName": "Tushar Raj",
      "userId": "04399146470560759060"
     },
     "user_tz": -330
    },
    "id": "VL3_PZHYw5y1",
    "outputId": "5b128d0b-f64c-47bf-8750-0fc76df913ac"
   },
   "outputs": [
    {
     "name": "stdout",
     "output_type": "stream",
     "text": [
      "highest average temperature \"September\" , avg_temp : 40.0 C\n"
     ]
    }
   ],
   "source": [
    "month = np.unique(weather_data[:,1])#####\n",
    "temp = []\n",
    "for i in month:\n",
    "    monthdata = weather_data[weather_data[:,1]==i]\n",
    "    monttemp = np.mean(monthdata[:,-2].astype(float))\n",
    "    temp.append(monttemp)\n",
    "print(month[np.argmax(temp)],\" \",temp[np.argmax(temp)])\n",
    "\n",
    "\n",
    "months = np.unique(weather_data[:,1])\n",
    "count = 0\n",
    "max_avg_temp=0\n",
    "monthName=''\n",
    "for i in months:\n",
    "  monthdata = weather_data[weather_data[:,1]==i]\n",
    "  if max_avg_temp < np.mean(monthdata[:,-2].astype(int)):\n",
    "    max_avg_temp = np.mean(monthdata[:,-2].astype(int))\n",
    "    monthName = i\n",
    "print(f'highest average temperature \"{i}\" , avg_temp : {max_avg_temp} C')\n"
   ]
  },
  {
   "cell_type": "markdown",
   "metadata": {
    "id": "PyVoDMq34aG9"
   },
   "source": [
    "________________________________\n",
    "**5. Stock Market Data Analysis**"
   ]
  },
  {
   "cell_type": "code",
   "execution_count": 808,
   "metadata": {
    "executionInfo": {
     "elapsed": 3,
     "status": "ok",
     "timestamp": 1758341212475,
     "user": {
      "displayName": "Tushar Raj",
      "userId": "04399146470560759060"
     },
     "user_tz": -330
    },
    "id": "UB6BREDY4gjW"
   },
   "outputs": [],
   "source": [
    "import numpy as np\n",
    "\n",
    "# StockID   Date        Company        Price\n",
    "stock_data = np.array([\n",
    "    ['ST001', '2025-01-01', 'AlphaTech',   150],\n",
    "    ['ST002', '2025-01-01', 'BetaCorp',    220],\n",
    "    ['ST003', '2025-01-01', 'GammaLtd',    310],\n",
    "\n",
    "    ['ST004', '2025-01-02', 'AlphaTech',   155],\n",
    "    ['ST005', '2025-01-02', 'BetaCorp',    215],\n",
    "    ['ST006', '2025-01-02', 'GammaLtd',    320],\n",
    "\n",
    "    ['ST007', '2025-01-03', 'AlphaTech',   160],\n",
    "    ['ST008', '2025-01-03', 'BetaCorp',    225],\n",
    "    ['ST009', '2025-01-03', 'GammaLtd',    315],\n",
    "\n",
    "    ['ST010', '2025-01-04', 'AlphaTech',   158],\n",
    "    ['ST011', '2025-01-04', 'BetaCorp',    230],\n",
    "    ['ST012', '2025-01-04', 'GammaLtd',    318],\n",
    "\n",
    "    ['ST013', '2025-01-05', 'AlphaTech',   162],\n",
    "    ['ST014', '2025-01-05', 'BetaCorp',    228],\n",
    "    ['ST015', '2025-01-05', 'GammaLtd',    325],\n",
    "\n",
    "    ['ST016', '2025-01-06', 'AlphaTech',   165],\n",
    "    ['ST017', '2025-01-06', 'BetaCorp',    235],\n",
    "    ['ST018', '2025-01-06', 'GammaLtd',    330]\n",
    "])\n"
   ]
  },
  {
   "cell_type": "markdown",
   "metadata": {
    "id": "xz65r33i4ilt"
   },
   "source": [
    "1 Calculate daily returns for each stock"
   ]
  },
  {
   "cell_type": "code",
   "execution_count": 809,
   "metadata": {
    "colab": {
     "base_uri": "https://localhost:8080/"
    },
    "executionInfo": {
     "elapsed": 15,
     "status": "ok",
     "timestamp": 1758341212491,
     "user": {
      "displayName": "Tushar Raj",
      "userId": "04399146470560759060"
     },
     "user_tz": -330
    },
    "id": "u_1spX-i4vXN",
    "outputId": "94b6aafa-f5e2-4c87-a134-506a391b7bb9"
   },
   "outputs": [
    {
     "name": "stdout",
     "output_type": "stream",
     "text": [
      "stock  AlphaTech\n",
      "day1 returns 0.03\n",
      "day2 returns 0.03\n",
      "day3 returns -0.01\n",
      "day4 returns 0.03\n",
      "day5 returns 0.02\n",
      "\n",
      "stock  BetaCorp\n",
      "day1 returns -0.02\n",
      "day2 returns 0.05\n",
      "day3 returns 0.02\n",
      "day4 returns -0.01\n",
      "day5 returns 0.03\n",
      "\n",
      "stock  GammaLtd\n",
      "day1 returns 0.03\n",
      "day2 returns -0.02\n",
      "day3 returns 0.01\n",
      "day4 returns 0.02\n",
      "day5 returns 0.02\n",
      "\n"
     ]
    }
   ],
   "source": [
    "stock = np.unique(stock_data[:,2])\n",
    "for i in stock:\n",
    "  temp = stock_data[stock_data[:,2]==i]\n",
    "  print('stock ',i)\n",
    "  for j in range(0,len(temp)-1):\n",
    "    returns = (temp[j+1,-1].astype(int)-temp[j,-1].astype(int))/temp[j,-1].astype(int)\n",
    "    print(f'day{j+1} returns',returns.round(2))\n",
    "  print()\n",
    "\n"
   ]
  },
  {
   "cell_type": "markdown",
   "metadata": {
    "id": "0_9plH4o4mvt"
   },
   "source": [
    "2 Find the stock with the highest average return."
   ]
  },
  {
   "cell_type": "code",
   "execution_count": 810,
   "metadata": {
    "colab": {
     "base_uri": "https://localhost:8080/"
    },
    "executionInfo": {
     "elapsed": 15,
     "status": "ok",
     "timestamp": 1758341212507,
     "user": {
      "displayName": "Tushar Raj",
      "userId": "04399146470560759060"
     },
     "user_tz": -330
    },
    "id": "UY-V8jcj4vv-",
    "outputId": "6dee0ee5-e896-4ea8-f51e-7ddef35b47b0"
   },
   "outputs": [
    {
     "name": "stdout",
     "output_type": "stream",
     "text": [
      "Average daily return of AlphaTech: 0.0194 (1.94%)\n",
      "Average daily return of BetaCorp: 0.0136 (1.36%)\n",
      "Average daily return of GammaLtd: 0.0127 (1.27%)\n"
     ]
    }
   ],
   "source": [
    "\n",
    "for stock in stock:\n",
    "    temp = stock_data[stock_data[:, 2] == stock]\n",
    "    temp = temp[temp[:, 1].argsort()]\n",
    "\n",
    "    prices = temp[:, -1].astype(float)\n",
    "    returns = (prices[1:] - prices[:-1]) / prices[:-1]\n",
    "\n",
    "    avg_return = np.mean(returns)\n",
    "    print(f'Average daily return of {stock}: {avg_return:.4f} ({avg_return*100:.2f}%)')\n"
   ]
  },
  {
   "cell_type": "markdown",
   "metadata": {
    "id": "FT3rqkgy4pAF"
   },
   "source": [
    "3 Count how many days each stock had a positive return."
   ]
  },
  {
   "cell_type": "code",
   "execution_count": 811,
   "metadata": {
    "colab": {
     "base_uri": "https://localhost:8080/"
    },
    "executionInfo": {
     "elapsed": 11,
     "status": "ok",
     "timestamp": 1758341212566,
     "user": {
      "displayName": "Tushar Raj",
      "userId": "04399146470560759060"
     },
     "user_tz": -330
    },
    "id": "s6BU5Ule4v_9",
    "outputId": "3e1a0adb-0b26-404f-d7d0-20ae0515c716"
   },
   "outputs": [
    {
     "name": "stdout",
     "output_type": "stream",
     "text": [
      "AlphaTech has positive return for 4 days\n",
      "\n",
      "BetaCorp has positive return for 3 days\n",
      "\n",
      "GammaLtd has positive return for 4 days\n",
      "\n"
     ]
    }
   ],
   "source": [
    "stock = np.unique(stock_data[:,2])\n",
    "for i in stock:\n",
    "  temp = stock_data[stock_data[:,2]==i]\n",
    "  count=0\n",
    "  for j in range(0,len(temp)-1):\n",
    "    returns = (temp[j+1,-1].astype(int)-temp[j,-1].astype(int))/temp[j,-1].astype(int)\n",
    "    if returns>0:\n",
    "      count+=1\n",
    "  print(f'{i} has positive return for {count} days',)\n",
    "  print()"
   ]
  },
  {
   "cell_type": "markdown",
   "metadata": {
    "id": "G_QfD7DJ4q1u"
   },
   "source": [
    "4 Determine the maximum drawdown (largest fall from peak price)."
   ]
  },
  {
   "cell_type": "code",
   "execution_count": 812,
   "metadata": {
    "colab": {
     "base_uri": "https://localhost:8080/"
    },
    "executionInfo": {
     "elapsed": 11,
     "status": "ok",
     "timestamp": 1758341212579,
     "user": {
      "displayName": "Tushar Raj",
      "userId": "04399146470560759060"
     },
     "user_tz": -330
    },
    "id": "VHnl_v-i4wP3",
    "outputId": "e3004369-a12f-4214-f24d-acb68084ca77"
   },
   "outputs": [
    {
     "name": "stdout",
     "output_type": "stream",
     "text": [
      "max downfall of AlphaTech is  -0.012\n",
      "max downfall of BetaCorp is  -0.023\n",
      "max downfall of GammaLtd is  -0.016\n"
     ]
    }
   ],
   "source": [
    "stock = np.unique(stock_data[:,2])\n",
    "for i in stock:\n",
    "  temp = stock_data[stock_data[:,2]==i]\n",
    "  temp_ret = (temp[0+1,-1].astype(int)-temp[0,-1].astype(int))/temp[0,-1].astype(int)\n",
    "  for j in range(1,len(temp)-1):\n",
    "    returns = (temp[j+1,-1].astype(int)-temp[j,-1].astype(int))/temp[j,-1].astype(int)\n",
    "    if returns<temp_ret:\n",
    "      temp_ret=returns\n",
    "  print(f'max downfall of {i} is ',temp_ret.round(3))\n"
   ]
  },
  {
   "cell_type": "markdown",
   "metadata": {
    "id": "I8U4c93CpjQN"
   },
   "source": [
    "**6. Hospital Patient Data Analysis**"
   ]
  },
  {
   "cell_type": "code",
   "execution_count": 813,
   "metadata": {
    "colab": {
     "base_uri": "https://localhost:8080/"
    },
    "executionInfo": {
     "elapsed": 12,
     "status": "ok",
     "timestamp": 1758341212592,
     "user": {
      "displayName": "Tushar Raj",
      "userId": "04399146470560759060"
     },
     "user_tz": -330
    },
    "id": "g_4H5hEzoHxe",
    "outputId": "d3363178-44de-436f-f332-9cdda757ad5a"
   },
   "outputs": [
    {
     "data": {
      "text/plain": [
       "(10, 5)"
      ]
     },
     "execution_count": 813,
     "metadata": {},
     "output_type": "execute_result"
    }
   ],
   "source": [
    "import numpy as np\n",
    "\n",
    "#patient_id age department disease_category days_stayed\n",
    "data = np.array([\n",
    "    ('P001', 45, 'Cardiology', 'Heart Disease', 7),\n",
    "    ('P002', 30, 'Neurology', 'Stroke', 10),\n",
    "    ('P003', 65, 'Orthopedics', 'Fracture', 5),\n",
    "    ('P004', 50, 'Cardiology', 'Heart Disease', 12),\n",
    "    ('P005', 40, 'Neurology', 'Migraine', 3),\n",
    "    ('P006', 70, 'Cardiology', 'Arrhythmia', 8),\n",
    "    ('P007', 60, 'Orthopedics', 'Arthritis', 15),\n",
    "    ('P008', 55, 'Neurology', 'Stroke', 6),\n",
    "    ('P009', 35, 'Cardiology', 'Heart Disease', 9),\n",
    "    ('P010', 28, 'Orthopedics', 'Fracture', 4)\n",
    "])\n",
    "data.shape"
   ]
  },
  {
   "cell_type": "markdown",
   "metadata": {
    "id": "AP_IbM2Npgg2"
   },
   "source": [
    "1 Count the number of patients per disease category."
   ]
  },
  {
   "cell_type": "code",
   "execution_count": 814,
   "metadata": {
    "colab": {
     "base_uri": "https://localhost:8080/"
    },
    "executionInfo": {
     "elapsed": 11,
     "status": "ok",
     "timestamp": 1758341212605,
     "user": {
      "displayName": "Tushar Raj",
      "userId": "04399146470560759060"
     },
     "user_tz": -330
    },
    "id": "4pL7xEXfoRx-",
    "outputId": "f230cfc9-557c-4c9b-ad1f-8c9fa12b958b"
   },
   "outputs": [
    {
     "name": "stdout",
     "output_type": "stream",
     "text": [
      "No of patients in Arrhythmia :1\n",
      "\n",
      "No of patients in Arthritis :1\n",
      "\n",
      "No of patients in Fracture :2\n",
      "\n",
      "No of patients in Heart Disease :3\n",
      "\n",
      "No of patients in Migraine :1\n",
      "\n",
      "No of patients in Stroke :2\n",
      "\n"
     ]
    }
   ],
   "source": [
    "category = np.unique(data[:,-2])\n",
    "for i in category :\n",
    "  patients = data[data[:,-2]==i]\n",
    "  # print(patients)\n",
    "  print(f'No of patients in {i} :{len(patients)}')\n",
    "  print()"
   ]
  },
  {
   "cell_type": "markdown",
   "metadata": {
    "id": "jG6hnp2EpoLV"
   },
   "source": [
    "2 Find the patient with the longest hospital stay."
   ]
  },
  {
   "cell_type": "code",
   "execution_count": 815,
   "metadata": {
    "colab": {
     "base_uri": "https://localhost:8080/"
    },
    "executionInfo": {
     "elapsed": 11,
     "status": "ok",
     "timestamp": 1758341212618,
     "user": {
      "displayName": "Tushar Raj",
      "userId": "04399146470560759060"
     },
     "user_tz": -330
    },
    "id": "ddoHaEIeouze",
    "outputId": "9f3e0816-e2ef-409f-f369-b7b40bab731c"
   },
   "outputs": [
    {
     "name": "stdout",
     "output_type": "stream",
     "text": [
      "patient with the longest hospital stay : ['P007' '60' 'Orthopedics' 'Arthritis' '15']\n"
     ]
    }
   ],
   "source": [
    "sortedData = np.argsort(data[:,-1].astype(int))\n",
    "sorted_patients = data[sortedData]\n",
    "print(f'patient with the longest hospital stay : {sorted_patients[-1]}')"
   ]
  },
  {
   "cell_type": "markdown",
   "metadata": {
    "id": "z_GKU5ea0m_D"
   },
   "source": [
    "3 Calculate average age of patients per department."
   ]
  },
  {
   "cell_type": "code",
   "execution_count": 816,
   "metadata": {
    "colab": {
     "base_uri": "https://localhost:8080/"
    },
    "executionInfo": {
     "elapsed": 10,
     "status": "ok",
     "timestamp": 1758341212630,
     "user": {
      "displayName": "Tushar Raj",
      "userId": "04399146470560759060"
     },
     "user_tz": -330
    },
    "id": "gQoVlTRXzeNi",
    "outputId": "fb6e1883-b3de-4ae5-9d29-a43c5b8d9913"
   },
   "outputs": [
    {
     "name": "stdout",
     "output_type": "stream",
     "text": [
      "average age of patients in department Cardiology :  50.0\n",
      "average age of patients in department Neurology :  41.666666666666664\n",
      "average age of patients in department Orthopedics :  51.0\n"
     ]
    }
   ],
   "source": [
    "department = np.unique(data[:,2])\n",
    "for i in department:\n",
    "  info = data[data[:,2]==i]\n",
    "  avg = np.mean(info[:,1].astype(int))\n",
    "  print(f'average age of patients in department {i} : ',avg)\n"
   ]
  },
  {
   "cell_type": "markdown",
   "metadata": {
    "id": "wwbHl07l0tjx"
   },
   "source": [
    "4 Identify the most common diagnosis."
   ]
  },
  {
   "cell_type": "code",
   "execution_count": 817,
   "metadata": {
    "colab": {
     "base_uri": "https://localhost:8080/"
    },
    "executionInfo": {
     "elapsed": 12,
     "status": "ok",
     "timestamp": 1758341212643,
     "user": {
      "displayName": "Tushar Raj",
      "userId": "04399146470560759060"
     },
     "user_tz": -330
    },
    "id": "2Qnl7mjzzu6b",
    "outputId": "f17b860c-0d51-45f5-85df-6483cc2d26c8"
   },
   "outputs": [
    {
     "name": "stdout",
     "output_type": "stream",
     "text": [
      " most common diagnosis \"Heart Disease\"\n"
     ]
    }
   ],
   "source": [
    "category = np.unique(data[:,-2])\n",
    "name = \"\"\n",
    "temp = 0\n",
    "for i in category :\n",
    "  patients = data[data[:,-2]==i]\n",
    "  if len(patients)>temp:\n",
    "    name=i\n",
    "    temp=len(patients)\n",
    "print(f' most common diagnosis \"{name}\"')"
   ]
  },
  {
   "cell_type": "markdown",
   "metadata": {
    "id": "F4Vu-q7Y17YJ"
   },
   "source": [
    "**7 E-commerce Website Traffic Analysis**"
   ]
  },
  {
   "cell_type": "code",
   "execution_count": 818,
   "metadata": {
    "executionInfo": {
     "elapsed": 1,
     "status": "ok",
     "timestamp": 1758341212645,
     "user": {
      "displayName": "Tushar Raj",
      "userId": "04399146470560759060"
     },
     "user_tz": -330
    },
    "id": "BZB6uTAi174q"
   },
   "outputs": [],
   "source": [
    "import numpy as np\n",
    "\n",
    "# 'visitor_id','date','pages_visited','time_spent',\n",
    "\n",
    "data = np.array([\n",
    "    ['V001', '2025-09-01', 5, 12.5],\n",
    "    ['V002', '2025-09-01', 1, 3.0],\n",
    "    ['V003', '2025-09-02', 3, 7.2],\n",
    "    ['V001', '2025-09-02', 2, 6.5],\n",
    "    ['V002', '2025-09-03', 1, 2.0],\n",
    "    ['V003', '2025-09-03', 4, 15.0],\n",
    "    ['V004', '2025-09-04', 3, 20.0],\n",
    "    ['V002', '2025-09-05', 1, 1.5],\n",
    "    ['V003', '2025-09-06', 2, 5.0],\n",
    "    ['V001', '2025-09-07', 3, 10.]\n",
    "])\n"
   ]
  },
  {
   "cell_type": "markdown",
   "metadata": {
    "id": "m-dIXfZzjHwY"
   },
   "source": [
    "1.Count the number of visitors per day/week."
   ]
  },
  {
   "cell_type": "code",
   "execution_count": 819,
   "metadata": {
    "colab": {
     "base_uri": "https://localhost:8080/"
    },
    "executionInfo": {
     "elapsed": 48,
     "status": "ok",
     "timestamp": 1758341212695,
     "user": {
      "displayName": "Tushar Raj",
      "userId": "04399146470560759060"
     },
     "user_tz": -330
    },
    "id": "h_jG2jCmjHeP",
    "outputId": "8036fa6e-d5ed-405c-9994-b7fd616701fd"
   },
   "outputs": [
    {
     "name": "stdout",
     "output_type": "stream",
     "text": [
      " visitors on date 2025-09-01 : 6\n",
      " visitors on date 2025-09-02 : 5\n",
      " visitors on date 2025-09-03 : 5\n",
      " visitors on date 2025-09-04 : 3\n",
      " visitors on date 2025-09-05 : 1\n",
      " visitors on date 2025-09-06 : 2\n",
      " visitors on date 2025-09-07 : 3\n"
     ]
    }
   ],
   "source": [
    "uniqure_dates = np.unique(data[:,1])\n",
    "for i in uniqure_dates:\n",
    "  date = data[data[:,1]==i]\n",
    "  visitors = np.sum(date[:,2].astype(int))\n",
    "  print(f' visitors on date {i} :',visitors)"
   ]
  },
  {
   "cell_type": "markdown",
   "metadata": {
    "id": "-hNSjmmVlqe-"
   },
   "source": [
    "2.Find the day with the highest number of visitors."
   ]
  },
  {
   "cell_type": "code",
   "execution_count": 820,
   "metadata": {
    "colab": {
     "base_uri": "https://localhost:8080/"
    },
    "executionInfo": {
     "elapsed": 70,
     "status": "ok",
     "timestamp": 1758341212766,
     "user": {
      "displayName": "Tushar Raj",
      "userId": "04399146470560759060"
     },
     "user_tz": -330
    },
    "id": "I2lz5Q1WlqOl",
    "outputId": "8bcb0b5c-54ea-4541-9783-43052ce4f429"
   },
   "outputs": [
    {
     "name": "stdout",
     "output_type": "stream",
     "text": [
      "day with the highest number of visitors : 2025-09-01 (6)\n"
     ]
    }
   ],
   "source": [
    "temp = 0\n",
    "day = ''\n",
    "uniqure_dates = np.unique(data[:,1])\n",
    "for i in uniqure_dates:\n",
    "  date = data[data[:,1]==i]\n",
    "  visitors = np.sum(date[:,2].astype(int))\n",
    "  if visitors>temp:\n",
    "    temp=visitors\n",
    "    day=i\n",
    "print('day with the highest number of visitors :',day,f'({temp})')"
   ]
  },
  {
   "cell_type": "markdown",
   "metadata": {
    "id": "lKavDH3PnQtR"
   },
   "source": [
    "3 Calculate average time spent by users on the website."
   ]
  },
  {
   "cell_type": "code",
   "execution_count": 821,
   "metadata": {
    "colab": {
     "base_uri": "https://localhost:8080/"
    },
    "executionInfo": {
     "elapsed": 10,
     "status": "ok",
     "timestamp": 1758341212777,
     "user": {
      "displayName": "Tushar Raj",
      "userId": "04399146470560759060"
     },
     "user_tz": -330
    },
    "id": "6RqhNRyfnUwq",
    "outputId": "90033d51-05c6-43d4-ac4c-2d6ae5b47da0"
   },
   "outputs": [
    {
     "name": "stdout",
     "output_type": "stream",
     "text": [
      "avg time spent by user (V001) : 3.3333333333333335\n",
      "avg time spent by user (V002) : 1.0\n",
      "avg time spent by user (V003) : 3.0\n",
      "avg time spent by user (V004) : 3.0\n"
     ]
    }
   ],
   "source": [
    "uniqure_users = np.unique(data[:,0])\n",
    "for i in uniqure_users:\n",
    "  user = data[data[:,0]==i]\n",
    "  avg_time = np.mean(user[:,-2].astype(int))\n",
    "  print(f'avg time spent by user ({i}) : {avg_time}')"
   ]
  },
  {
   "cell_type": "markdown",
   "metadata": {
    "id": "zSdB7ZivqKSu"
   },
   "source": [
    "4 Determine bounce rate (users who visited only 1 page).\n",
    "\n"
   ]
  },
  {
   "cell_type": "code",
   "execution_count": 822,
   "metadata": {
    "colab": {
     "base_uri": "https://localhost:8080/"
    },
    "executionInfo": {
     "elapsed": 55,
     "status": "ok",
     "timestamp": 1758341212833,
     "user": {
      "displayName": "Tushar Raj",
      "userId": "04399146470560759060"
     },
     "user_tz": -330
    },
    "id": "wca5rEmTqQUH",
    "outputId": "bbe36648-21ae-49b4-ec62-5e4636cc522f"
   },
   "outputs": [
    {
     "name": "stdout",
     "output_type": "stream",
     "text": [
      "bounce rate 30.0 %\n"
     ]
    }
   ],
   "source": [
    "page_Visits = data[:,2].astype(int)\n",
    "One_page_Visits = np.sum(page_Visits==1)\n",
    "bounceRate = (One_page_Visits/len(page_Visits))*100\n",
    "print('bounce rate',bounceRate,'%')"
   ]
  },
  {
   "cell_type": "markdown",
   "metadata": {
    "id": "TVuMrNdusy2O"
   },
   "source": [
    "**Transportation Data Analysis**"
   ]
  },
  {
   "cell_type": "code",
   "execution_count": 823,
   "metadata": {
    "executionInfo": {
     "elapsed": 2,
     "status": "ok",
     "timestamp": 1758341212836,
     "user": {
      "displayName": "Tushar Raj",
      "userId": "04399146470560759060"
     },
     "user_tz": -330
    },
    "id": "g_pCiBs1s4x7"
   },
   "outputs": [],
   "source": [
    "import numpy as np\n",
    "\n",
    "# Columns: [RouteID, VehicleID, Timestamp, PassengersOnBoard, Capacity]\n",
    "data = np.array([\n",
    "    ['R001', 'B001', '2025-09-01 07:15', 30, 50],\n",
    "    ['R001', 'B002', '2025-09-01 19:30', 45, 50],\n",
    "    ['R002', 'B003', '2025-09-01 07:45', 20, 40],\n",
    "    ['R002', 'B004', '2025-09-01 19:00', 35, 40],\n",
    "    ['R003', 'B005', '2025-09-01 08:00', 50, 60],\n",
    "    ['R003', 'B006', '2025-09-01 19:30', 55, 60],\n",
    "    ['R001', 'B007', '2025-09-01 19:00', 40, 50],\n",
    "    ['R002', 'B008', '2025-09-01 18:30', 38, 40],\n",
    "    ['R003', 'B009', '2025-09-01 19:00', 60, 60],\n",
    "    ['R001', 'B010', '2025-09-01 19:30', 35, 50]\n",
    "], dtype=object)\n"
   ]
  },
  {
   "cell_type": "markdown",
   "metadata": {
    "id": "y3mfNEXptnDm"
   },
   "source": [
    "1 Count the number of passengers per route."
   ]
  },
  {
   "cell_type": "code",
   "execution_count": 824,
   "metadata": {
    "colab": {
     "base_uri": "https://localhost:8080/"
    },
    "executionInfo": {
     "elapsed": 21,
     "status": "ok",
     "timestamp": 1758341212858,
     "user": {
      "displayName": "Tushar Raj",
      "userId": "04399146470560759060"
     },
     "user_tz": -330
    },
    "id": "B4L37rvjtoNC",
    "outputId": "52e7d081-0dd4-47aa-d626-f68c9218ab30"
   },
   "outputs": [
    {
     "name": "stdout",
     "output_type": "stream",
     "text": [
      "total number of passengers in route R001 :  150\n",
      "total number of passengers in route R002 :  93\n",
      "total number of passengers in route R003 :  165\n"
     ]
    }
   ],
   "source": [
    "routes = np.unique(data[:,0])\n",
    "for i in routes:\n",
    "  transportData = data[data[:,0]==i]\n",
    "  passengers = np.sum(transportData[:,-2].astype(int))\n",
    "  print(f'total number of passengers in route {i} : ',passengers)"
   ]
  },
  {
   "cell_type": "markdown",
   "metadata": {
    "id": "C6EvCtluuf-k"
   },
   "source": [
    "2 Calculate average occupancy per bus/train."
   ]
  },
  {
   "cell_type": "code",
   "execution_count": 825,
   "metadata": {
    "colab": {
     "base_uri": "https://localhost:8080/"
    },
    "executionInfo": {
     "elapsed": 22,
     "status": "ok",
     "timestamp": 1758341212882,
     "user": {
      "displayName": "Tushar Raj",
      "userId": "04399146470560759060"
     },
     "user_tz": -330
    },
    "id": "KHeriAJgt2Ip",
    "outputId": "47260bf3-d3ba-43ab-acfc-ccd797d5f2f3"
   },
   "outputs": [
    {
     "name": "stdout",
     "output_type": "stream",
     "text": [
      "avg occupancey per bus in rout R001 : 0.75\n",
      "avg occupancey per bus in rout R002 : 0.78\n",
      "avg occupancey per bus in rout R003 : 0.92\n"
     ]
    }
   ],
   "source": [
    "routes = np.unique(data[:,0])\n",
    "for i in routes:\n",
    "  transportData = data[data[:,0]==i]\n",
    "  passengers = np.sum(transportData[:,-2].astype(int))\n",
    "  capacity = np.sum(transportData[:,-1].astype(float))\n",
    "  print(f'avg occupancey per bus in rout {i} :',(np.round(passengers/capacity,2)))\n"
   ]
  },
  {
   "cell_type": "markdown",
   "metadata": {
    "id": "onQjad5fyTEX"
   },
   "source": [
    "3 Find the route with maximum passengers."
   ]
  },
  {
   "cell_type": "code",
   "execution_count": 826,
   "metadata": {
    "colab": {
     "base_uri": "https://localhost:8080/"
    },
    "executionInfo": {
     "elapsed": 36,
     "status": "ok",
     "timestamp": 1758341212920,
     "user": {
      "displayName": "Tushar Raj",
      "userId": "04399146470560759060"
     },
     "user_tz": -330
    },
    "id": "drFEbHWHyUtT",
    "outputId": "cb7ad163-253d-4203-d3be-bd9a5d55ded0"
   },
   "outputs": [
    {
     "name": "stdout",
     "output_type": "stream",
     "text": [
      "route R003 maximum passengers :  165\n"
     ]
    }
   ],
   "source": [
    "rount_name=''\n",
    "total_passengers = 0\n",
    "routes = np.unique(data[:,0])\n",
    "for i in routes:\n",
    "  transportData = data[data[:,0]==i]\n",
    "  passengers = np.sum(transportData[:,-2].astype(int))\n",
    "  if total_passengers<passengers:\n",
    "    total_passengers = passengers\n",
    "    rount_name = i\n",
    "print(f'route {rount_name} maximum passengers : ',total_passengers)"
   ]
  },
  {
   "cell_type": "markdown",
   "metadata": {
    "id": "14ZnwyHuZ9om"
   },
   "source": [
    "Identify peak hours of usage.\n"
   ]
  },
  {
   "cell_type": "code",
   "execution_count": 827,
   "metadata": {
    "colab": {
     "base_uri": "https://localhost:8080/"
    },
    "executionInfo": {
     "elapsed": 43,
     "status": "ok",
     "timestamp": 1758341212965,
     "user": {
      "displayName": "Tushar Raj",
      "userId": "04399146470560759060"
     },
     "user_tz": -330
    },
    "id": "bhQkijW3Z8rK",
    "outputId": "92abaec6-a83e-427d-bd92-77e2555f059c"
   },
   "outputs": [
    {
     "name": "stdout",
     "output_type": "stream",
     "text": [
      "peak hours of usage : 19:00\n"
     ]
    }
   ],
   "source": [
    "time = data[:,2]\n",
    "time = [int(i[10:13]) for i in time]\n",
    "value=0\n",
    "count=0\n",
    "for i in time :\n",
    "  if time.count(i)>count:\n",
    "    value = i\n",
    "    count=time.count(i)\n",
    "print(f'peak hours of usage : {value}:00')"
   ]
  },
  {
   "cell_type": "markdown",
   "metadata": {
    "id": "tDQS1QYIZ9Hw"
   },
   "source": [
    "**9. Retail Store Inventory Analysis**"
   ]
  },
  {
   "cell_type": "code",
   "execution_count": 828,
   "metadata": {
    "executionInfo": {
     "elapsed": 1,
     "status": "ok",
     "timestamp": 1758341212968,
     "user": {
      "displayName": "Tushar Raj",
      "userId": "04399146470560759060"
     },
     "user_tz": -330
    },
    "id": "7XddmVZEeYRH"
   },
   "outputs": [],
   "source": [
    "import numpy as np\n",
    "\n",
    "# Columns: [ProductID, Category, ProductName, StockLevel, ReorderThreshold]\n",
    "inventory_data = np.array([\n",
    "    ['P001', 'Beverages', 'Cola 500ml', 120, 50],\n",
    "    ['P002', 'Beverages', 'Orange Juice 1L', 45, 60],\n",
    "    ['P003', 'Snacks', 'Potato Chips 200g', 80, 40],\n",
    "    ['P004', 'Snacks', 'Chocolate Bar 50g', 25, 30],\n",
    "    ['P005', 'Dairy', 'Milk 1L', 60, 40],\n",
    "    ['P006', 'Dairy', 'Cheddar Cheese 200g', 15, 20],\n",
    "    ['P007', 'Bakery', 'Whole Wheat Bread', 35, 25],\n",
    "    ['P008', 'Bakery', 'Croissant Pack (4)', 10, 15],\n",
    "    ['P009', 'Household', 'Laundry Detergent 2kg', 90, 30],\n",
    "    ['P010', 'Household', 'Dish Soap 500ml', 50, 20]\n",
    "], dtype=object)\n"
   ]
  },
  {
   "cell_type": "markdown",
   "metadata": {
    "id": "zmR_A8D2eeyO"
   },
   "source": [
    "1.Count the total number of products in stock.\n"
   ]
  },
  {
   "cell_type": "code",
   "execution_count": 829,
   "metadata": {
    "colab": {
     "base_uri": "https://localhost:8080/"
    },
    "executionInfo": {
     "elapsed": 27,
     "status": "ok",
     "timestamp": 1758341212996,
     "user": {
      "displayName": "Tushar Raj",
      "userId": "04399146470560759060"
     },
     "user_tz": -330
    },
    "id": "ryKq2H_TehX4",
    "outputId": "83db5cd2-6991-4279-f035-0f3cb749cadb"
   },
   "outputs": [
    {
     "name": "stdout",
     "output_type": "stream",
     "text": [
      "total number of products in stock 10\n"
     ]
    }
   ],
   "source": [
    "stock = inventory_data[:,-1]\n",
    "print(f'total number of products in stock',sum(stock>0))"
   ]
  },
  {
   "cell_type": "markdown",
   "metadata": {
    "id": "Hh_hUfWJgNeU"
   },
   "source": [
    "2.Find the product with the lowest inventory.\n"
   ]
  },
  {
   "cell_type": "code",
   "execution_count": 830,
   "metadata": {
    "colab": {
     "base_uri": "https://localhost:8080/"
    },
    "executionInfo": {
     "elapsed": 15,
     "status": "ok",
     "timestamp": 1758341213029,
     "user": {
      "displayName": "Tushar Raj",
      "userId": "04399146470560759060"
     },
     "user_tz": -330
    },
    "id": "4e36QWtLgU6S",
    "outputId": "1ea53147-727d-4a31-f492-41aa0a4b5c39"
   },
   "outputs": [
    {
     "name": "stdout",
     "output_type": "stream",
     "text": [
      "product wiht lowest inventory Bakery\n"
     ]
    }
   ],
   "source": [
    "sorted_data = inventory_data[np.argsort(inventory_data[:,-2])]\n",
    "print(f'product wiht lowest inventory {sorted_data[0][1]}')"
   ]
  },
  {
   "cell_type": "markdown",
   "metadata": {
    "id": "pA0QdkPthlIz"
   },
   "source": [
    "3.Calculate average stock per product category.\n"
   ]
  },
  {
   "cell_type": "code",
   "execution_count": 831,
   "metadata": {
    "colab": {
     "base_uri": "https://localhost:8080/"
    },
    "executionInfo": {
     "elapsed": 19,
     "status": "ok",
     "timestamp": 1758341213049,
     "user": {
      "displayName": "Tushar Raj",
      "userId": "04399146470560759060"
     },
     "user_tz": -330
    },
    "id": "DWHtC767hoVQ",
    "outputId": "ea586150-8a0d-41e2-e7dc-1a59756e94a6"
   },
   "outputs": [
    {
     "name": "stdout",
     "output_type": "stream",
     "text": [
      "average stock in Bakery : 22.5\n",
      "average stock in Beverages : 82.5\n",
      "average stock in Dairy : 37.5\n",
      "average stock in Household : 70.0\n",
      "average stock in Snacks : 52.5\n"
     ]
    }
   ],
   "source": [
    "category = np.unique(inventory_data[:,1])\n",
    "for i in category:\n",
    "  temp = inventory_data[inventory_data[:,1]==i]\n",
    "  avg = np.mean(temp[:,-2])\n",
    "  print(f'average stock in {i} : {avg}')"
   ]
  },
  {
   "cell_type": "markdown",
   "metadata": {
    "id": "Zn4gzEAhjDHz"
   },
   "source": [
    "4 Identify products that need restocking (below threshold)."
   ]
  },
  {
   "cell_type": "code",
   "execution_count": 832,
   "metadata": {
    "colab": {
     "base_uri": "https://localhost:8080/"
    },
    "executionInfo": {
     "elapsed": 46,
     "status": "ok",
     "timestamp": 1758341213096,
     "user": {
      "displayName": "Tushar Raj",
      "userId": "04399146470560759060"
     },
     "user_tz": -330
    },
    "id": "M5nCiP8sjJf5",
    "outputId": "ec98350f-a582-4467-e2d6-9ac76f8d168b"
   },
   "outputs": [
    {
     "name": "stdout",
     "output_type": "stream",
     "text": [
      "product that need restocking :\n",
      "Croissant Pack (4)\n",
      "Cheddar Cheese 200g\n",
      "Chocolate Bar 50g\n"
     ]
    }
   ],
   "source": [
    "product = sorted_data[:3,:][:,2]\n",
    "print('product that need restocking :')\n",
    "for i in product:\n",
    "  print(i)"
   ]
  },
  {
   "cell_type": "markdown",
   "metadata": {
    "id": "uHEewkKlkM5n"
   },
   "source": [
    "**10 Sports Team Performance Analysis**"
   ]
  },
  {
   "cell_type": "markdown",
   "metadata": {
    "id": "NkJ0dSBBkRyU"
   },
   "source": [
    "1 Count the number of wins per team"
   ]
  },
  {
   "cell_type": "code",
   "execution_count": 833,
   "metadata": {
    "executionInfo": {
     "elapsed": 2,
     "status": "ok",
     "timestamp": 1758341213099,
     "user": {
      "displayName": "Tushar Raj",
      "userId": "04399146470560759060"
     },
     "user_tz": -330
    },
    "id": "ZhnX7jQdkU1l"
   },
   "outputs": [],
   "source": [
    "import numpy as np\n",
    "\n",
    "# Columns: [MatchID, Team, Player, PointsScored, Result]\n",
    "sports_data = np.array([\n",
    "    ['M001', 'Tigers', 'Alice', 20, 'Win'],\n",
    "    ['M001', 'Lions', 'Bob', 15, 'Loss'],\n",
    "    ['M002', 'Tigers', 'Charlie', 18, 'Loss'],\n",
    "    ['M002', 'Lions', 'David', 25, 'Win'],\n",
    "    ['M003', 'Eagles', 'Eve', 30, 'Win'],\n",
    "    ['M003', 'Tigers', 'Alice', 22, 'Loss'],\n",
    "    ['M004', 'Eagles', 'Frank', 28, 'Loss'],\n",
    "    ['M004', 'Lions', 'Bob', 32, 'Win'],\n",
    "    ['M005', 'Tigers', 'Charlie', 24, 'Win'],\n",
    "    ['M005', 'Eagles', 'Eve', 20, 'Loss'],\n",
    "    ['M006', 'Lions', 'David', 18, 'Loss'],\n",
    "    ['M006', 'Eagles', 'Frank', 26, 'Win'],\n",
    "    ['M007', 'Tigers', 'Alice', 30, 'Win'],\n",
    "    ['M007', 'Lions', 'Bob', 12, 'Loss'],\n",
    "    ['M008', 'Eagles', 'Eve', 27, 'Win'],\n",
    "    ['M008', 'Tigers', 'Charlie', 21, 'Loss']\n",
    "], dtype=object)\n"
   ]
  },
  {
   "cell_type": "markdown",
   "metadata": {
    "id": "2hBHc2eUkt50"
   },
   "source": [
    "1 Count the number of wins per team."
   ]
  },
  {
   "cell_type": "code",
   "execution_count": 834,
   "metadata": {
    "colab": {
     "base_uri": "https://localhost:8080/"
    },
    "executionInfo": {
     "elapsed": 51,
     "status": "ok",
     "timestamp": 1758341213152,
     "user": {
      "displayName": "Tushar Raj",
      "userId": "04399146470560759060"
     },
     "user_tz": -330
    },
    "id": "9ZgulY2Tktgk",
    "outputId": "d7975a6c-75cd-4058-bcdb-432c852e3fcc"
   },
   "outputs": [
    {
     "name": "stdout",
     "output_type": "stream",
     "text": [
      "Eagles wins  3\n",
      "Lions wins  2\n",
      "Tigers wins  3\n"
     ]
    }
   ],
   "source": [
    "teams = np.unique(sports_data[:,1])\n",
    "for i in teams:\n",
    "  wins = sports_data[(sports_data[:,1]==i) & (sports_data[:,-1]=='Win')]\n",
    "  print(f'{i} wins ',len(wins))"
   ]
  },
  {
   "cell_type": "markdown",
   "metadata": {
    "id": "ym7SiQtOmCrg"
   },
   "source": [
    "2 Find the player with the highest average score"
   ]
  },
  {
   "cell_type": "code",
   "execution_count": 835,
   "metadata": {
    "colab": {
     "base_uri": "https://localhost:8080/"
    },
    "executionInfo": {
     "elapsed": 28,
     "status": "ok",
     "timestamp": 1758341213182,
     "user": {
      "displayName": "Tushar Raj",
      "userId": "04399146470560759060"
     },
     "user_tz": -330
    },
    "id": "8tybJnBemHxV",
    "outputId": "3bc4ab03-f727-47d2-c566-c16652e3bd0d"
   },
   "outputs": [
    {
     "name": "stdout",
     "output_type": "stream",
     "text": [
      "player whith highest avg score : Frank (27.0)\n"
     ]
    }
   ],
   "source": [
    "player = np.unique(sports_data[:,2])\n",
    "temp = 0\n",
    "player_name = \"\"\n",
    "for i in player:\n",
    "  player_data = sports_data[sports_data[:,2]==i]\n",
    "  avg = np.mean(player_data[:,-2])\n",
    "  if avg>temp:\n",
    "    temp = avg\n",
    "    player_name = i\n",
    "print(f'player whith highest avg score : {player_name} ({temp})')"
   ]
  },
  {
   "cell_type": "markdown",
   "metadata": {
    "id": "AB_Z7RAanT4T"
   },
   "source": [
    "3 Calculate total goals/runs/points scored by each team."
   ]
  },
  {
   "cell_type": "code",
   "execution_count": 836,
   "metadata": {
    "colab": {
     "base_uri": "https://localhost:8080/"
    },
    "executionInfo": {
     "elapsed": 54,
     "status": "ok",
     "timestamp": 1758341213237,
     "user": {
      "displayName": "Tushar Raj",
      "userId": "04399146470560759060"
     },
     "user_tz": -330
    },
    "id": "Ye3V9kcjnW3b",
    "outputId": "ecdc4c61-d254-4235-c81c-e049b625deac"
   },
   "outputs": [
    {
     "name": "stdout",
     "output_type": "stream",
     "text": [
      "total points scored by Eagles : 131\n",
      "total points scored by Lions : 102\n",
      "total points scored by Tigers : 135\n"
     ]
    }
   ],
   "source": [
    "teams = np.unique(sports_data[:,1])\n",
    "for i in teams:\n",
    "  team_data = sports_data[(sports_data[:,1]==i)]\n",
    "  total = sum(team_data[:,-2])\n",
    "  print(f'total points scored by {i} : {total}')"
   ]
  },
  {
   "cell_type": "markdown",
   "metadata": {
    "id": "TMMeQhCQnznT"
   },
   "source": [
    "4 Determine the most consistent performer based on statistics"
   ]
  },
  {
   "cell_type": "code",
   "execution_count": 837,
   "metadata": {
    "colab": {
     "base_uri": "https://localhost:8080/"
    },
    "executionInfo": {
     "elapsed": 13,
     "status": "ok",
     "timestamp": 1758341213252,
     "user": {
      "displayName": "Tushar Raj",
      "userId": "04399146470560759060"
     },
     "user_tz": -330
    },
    "id": "tQf-W5P8n0qO",
    "outputId": "7f11c66c-23a8-405e-83a1-a65bbf0d2dac"
   },
   "outputs": [
    {
     "name": "stdout",
     "output_type": "stream",
     "text": [
      "most consistent team \"Eagles\" avg points 26.2\n"
     ]
    }
   ],
   "source": [
    "teams = np.unique(sports_data[:,1])\n",
    "name =\"\"\n",
    "temp =0\n",
    "for i in teams:\n",
    "  team_data = sports_data[(sports_data[:,1]==i)]\n",
    "  avg = np.mean(team_data[:,-2])\n",
    "  if avg>temp:\n",
    "    temp = avg\n",
    "    name = i\n",
    "\n",
    "print(f'most consistent team \"{name}\" avg points {temp}')"
   ]
  },
  {
   "cell_type": "markdown",
   "metadata": {
    "id": "xGJaC8fAO7lE"
   },
   "source": [
    "---\n",
    "**NumPy 3D Array Transpose – Easy Problems**"
   ]
  },
  {
   "cell_type": "markdown",
   "metadata": {
    "id": "HhMM22iKRqa8"
   },
   "source": [
    "Problem 1: Full Axis Permutation\n",
    "Create a 3D array of shape (2, 3, 4)."
   ]
  },
  {
   "cell_type": "code",
   "execution_count": 1,
   "metadata": {
    "colab": {
     "base_uri": "https://localhost:8080/"
    },
    "executionInfo": {
     "elapsed": 34,
     "status": "ok",
     "timestamp": 1758341213288,
     "user": {
      "displayName": "Tushar Raj",
      "userId": "04399146470560759060"
     },
     "user_tz": -330
    },
    "id": "X3Qgz9p4O7at",
    "outputId": "ff8025a5-023f-4ef3-8bfb-4df4834eb5a9"
   },
   "outputs": [
    {
     "name": "stdout",
     "output_type": "stream",
     "text": [
      "[[[ 1  2  3  4]\n",
      "  [ 5  6  7  8]\n",
      "  [ 9 10 11 12]]\n",
      "\n",
      " [[13 14 15 16]\n",
      "  [17 18 19 20]\n",
      "  [21 22 23 24]]]\n",
      "(2, 3, 4)\n"
     ]
    }
   ],
   "source": [
    "import numpy as np\n",
    "data = np.array([\n",
    "    [[1,2,3,4],[5,6,7,8],[9,10,11,12]],\n",
    "    [[13,14,15,16],[17,18,19,20],[21,22,23,24]],\n",
    "])\n",
    "print(data)\n",
    "print(data.shape)\n"
   ]
  },
  {
   "cell_type": "markdown",
   "metadata": {
    "id": "5noGw9o_Rw3L"
   },
   "source": [
    "Transpose it so that the shape becomes (4, 2, 3)."
   ]
  },
  {
   "cell_type": "code",
   "execution_count": 14,
   "metadata": {
    "colab": {
     "base_uri": "https://localhost:8080/"
    },
    "executionInfo": {
     "elapsed": 26,
     "status": "ok",
     "timestamp": 1758341213315,
     "user": {
      "displayName": "Tushar Raj",
      "userId": "04399146470560759060"
     },
     "user_tz": -330
    },
    "id": "AM9VPikcRweb",
    "outputId": "2c422c32-d254-4304-9f0a-13a6687af5ad"
   },
   "outputs": [
    {
     "name": "stdout",
     "output_type": "stream",
     "text": [
      "[[[ 1 13]\n",
      "  [ 5 17]\n",
      "  [ 9 21]]\n",
      "\n",
      " [[ 2 14]\n",
      "  [ 6 18]\n",
      "  [10 22]]\n",
      "\n",
      " [[ 3 15]\n",
      "  [ 7 19]\n",
      "  [11 23]]\n",
      "\n",
      " [[ 4 16]\n",
      "  [ 8 20]\n",
      "  [12 24]]]\n"
     ]
    },
    {
     "data": {
      "text/plain": [
       "(4, 3, 2)"
      ]
     },
     "execution_count": 14,
     "metadata": {},
     "output_type": "execute_result"
    }
   ],
   "source": [
    "temp = data.transpose(2,1,0)\n",
    "print(temp)\n",
    "temp.shape"
   ]
  },
  {
   "cell_type": "code",
   "execution_count": 840,
   "metadata": {
    "colab": {
     "base_uri": "https://localhost:8080/"
    },
    "executionInfo": {
     "elapsed": 51,
     "status": "ok",
     "timestamp": 1758341213368,
     "user": {
      "displayName": "Tushar Raj",
      "userId": "04399146470560759060"
     },
     "user_tz": -330
    },
    "id": "3TuvLGMdoRAU",
    "outputId": "599e06ae-69ff-4211-bda4-35ae4414c6ce"
   },
   "outputs": [
    {
     "name": "stdout",
     "output_type": "stream",
     "text": [
      "original\n",
      "[[[ 1  2  3  4]\n",
      "  [ 5  6  7  8]\n",
      "  [ 9 10 11 12]]\n",
      "\n",
      " [[13 14 15 16]\n",
      "  [17 18 19 20]\n",
      "  [21 22 23 24]]]\n",
      "-------\n",
      "transposed\n",
      "[[[ 1  5  9]\n",
      "  [13 17 21]]\n",
      "\n",
      " [[ 2  6 10]\n",
      "  [14 18 22]]\n",
      "\n",
      " [[ 3  7 11]\n",
      "  [15 19 23]]\n",
      "\n",
      " [[ 4  8 12]\n",
      "  [16 20 24]]]\n"
     ]
    }
   ],
   "source": [
    "print('original')\n",
    "print(data)\n",
    "print('-------')\n",
    "print('transposed')\n",
    "print(temp)"
   ]
  },
  {
   "cell_type": "code",
   "execution_count": 841,
   "metadata": {
    "colab": {
     "base_uri": "https://localhost:8080/"
    },
    "executionInfo": {
     "elapsed": 18,
     "status": "ok",
     "timestamp": 1758341213388,
     "user": {
      "displayName": "Tushar Raj",
      "userId": "04399146470560759060"
     },
     "user_tz": -330
    },
    "id": "Jt0avvkDnTls",
    "outputId": "4bb75bd3-342c-40eb-a6ae-de8c0c96de2d"
   },
   "outputs": [
    {
     "name": "stdout",
     "output_type": "stream",
     "text": [
      "21\n",
      "7\n"
     ]
    }
   ],
   "source": [
    "print(temp[0,1,2])\n",
    "print(temp[2,0,1])"
   ]
  },
  {
   "cell_type": "markdown",
   "metadata": {
    "id": "VKyGQHG5pEI0"
   },
   "source": [
    "---\n",
    "**Problem 2: From (Batch, Channels, Height, Width) → (Batch, Height,\n",
    "Width, Channels)**"
   ]
  },
  {
   "cell_type": "markdown",
   "metadata": {
    "id": "fpjniaklqshy"
   },
   "source": [
    "In deep learning, images are often stored as (2, 3, 28, 28) → 2 images, 3 channels, 28×28 pixels.\n"
   ]
  },
  {
   "cell_type": "code",
   "execution_count": 842,
   "metadata": {
    "colab": {
     "base_uri": "https://localhost:8080/"
    },
    "executionInfo": {
     "elapsed": 14,
     "status": "ok",
     "timestamp": 1758341213404,
     "user": {
      "displayName": "Tushar Raj",
      "userId": "04399146470560759060"
     },
     "user_tz": -330
    },
    "id": "3k0clZG9pLjT",
    "outputId": "60330d61-62c4-4673-b654-d0f0b3ba1ff4"
   },
   "outputs": [
    {
     "data": {
      "text/plain": [
       "(2, 3, 28, 28)"
      ]
     },
     "execution_count": 842,
     "metadata": {},
     "output_type": "execute_result"
    }
   ],
   "source": [
    "data = np.random.rand(2,3,28,28)\n",
    "data.shape"
   ]
  },
  {
   "cell_type": "markdown",
   "metadata": {
    "id": "nl_AstOFqwNy"
   },
   "source": [
    "• Transpose it to shape (2, 28, 28, 3)."
   ]
  },
  {
   "cell_type": "code",
   "execution_count": 843,
   "metadata": {
    "colab": {
     "base_uri": "https://localhost:8080/"
    },
    "executionInfo": {
     "elapsed": 14,
     "status": "ok",
     "timestamp": 1758341213420,
     "user": {
      "displayName": "Tushar Raj",
      "userId": "04399146470560759060"
     },
     "user_tz": -330
    },
    "id": "Dha_ZM13qXZD",
    "outputId": "193a3911-e111-4a6c-dfb3-14edee83b250"
   },
   "outputs": [
    {
     "data": {
      "text/plain": [
       "(2, 28, 28, 3)"
      ]
     },
     "execution_count": 843,
     "metadata": {},
     "output_type": "execute_result"
    }
   ],
   "source": [
    "temp = data.transpose(0,2,3,1)\n",
    "temp.shape"
   ]
  },
  {
   "cell_type": "markdown",
   "metadata": {
    "id": "cU7o0tjIvXfw"
   },
   "source": [
    "Confirm that element [1, 0, 10, 15] in original moves to [1, 10, 15, 0] in transposed."
   ]
  },
  {
   "cell_type": "code",
   "execution_count": 844,
   "metadata": {
    "colab": {
     "base_uri": "https://localhost:8080/"
    },
    "executionInfo": {
     "elapsed": 22,
     "status": "ok",
     "timestamp": 1758341213444,
     "user": {
      "displayName": "Tushar Raj",
      "userId": "04399146470560759060"
     },
     "user_tz": -330
    },
    "id": "KhfAI4CMvWaK",
    "outputId": "051baca7-1cac-46b2-a5f5-ed08963c38d2"
   },
   "outputs": [
    {
     "name": "stdout",
     "output_type": "stream",
     "text": [
      "0.5521125462103117\n",
      "0.5521125462103117\n",
      "True\n"
     ]
    }
   ],
   "source": [
    "print(data[1,0,10,15])\n",
    "print(temp[1,10,15,0])\n",
    "print(np.equal(data[1,0,10,15],temp[1,10,15,0]))"
   ]
  },
  {
   "cell_type": "markdown",
   "metadata": {
    "id": "uHBOK7gCqx0y"
   },
   "source": [
    "---\n",
    "**Problem 3: Transpose Twice**"
   ]
  },
  {
   "cell_type": "markdown",
   "metadata": {
    "id": "Z26bVP5grA37"
   },
   "source": [
    "Create a 3D array of shape (3, 4, 5)."
   ]
  },
  {
   "cell_type": "code",
   "execution_count": 845,
   "metadata": {
    "colab": {
     "base_uri": "https://localhost:8080/"
    },
    "executionInfo": {
     "elapsed": 59,
     "status": "ok",
     "timestamp": 1758341213505,
     "user": {
      "displayName": "Tushar Raj",
      "userId": "04399146470560759060"
     },
     "user_tz": -330
    },
    "id": "3EmHlL5xrAWa",
    "outputId": "547d8293-a5d2-4c41-9df9-9579c4e6526b"
   },
   "outputs": [
    {
     "data": {
      "text/plain": [
       "(3, 4, 5)"
      ]
     },
     "execution_count": 845,
     "metadata": {},
     "output_type": "execute_result"
    }
   ],
   "source": [
    "data = np.array([\n",
    "    [[1,2,3,4,10],[5,6,7,8,10],[9,10,11,12,10],[9,10,11,12,10]],\n",
    "    [[13,14,15,16,10],[17,18,19,20,10],[21,22,23,24,10],[9,10,11,12,10]],\n",
    "    [[25,26,27,28,10],[29,30,31,32,10],[33,34,35,36,10],[9,10,11,12,10]],\n",
    "])\n",
    "data.shape"
   ]
  },
  {
   "cell_type": "markdown",
   "metadata": {
    "id": "s8PLXwXorq3B"
   },
   "source": [
    "• First, transpose it to (5, 3, 4)."
   ]
  },
  {
   "cell_type": "code",
   "execution_count": 846,
   "metadata": {
    "colab": {
     "base_uri": "https://localhost:8080/"
    },
    "executionInfo": {
     "elapsed": 41,
     "status": "ok",
     "timestamp": 1758341213547,
     "user": {
      "displayName": "Tushar Raj",
      "userId": "04399146470560759060"
     },
     "user_tz": -330
    },
    "id": "jbZzAbsmrpWa",
    "outputId": "381dacf1-4fc5-4a0c-d743-69e08fa047c5"
   },
   "outputs": [
    {
     "data": {
      "text/plain": [
       "(5, 3, 4)"
      ]
     },
     "execution_count": 846,
     "metadata": {},
     "output_type": "execute_result"
    }
   ],
   "source": [
    "temp = data.transpose(2,0,1)\n",
    "temp.shape"
   ]
  },
  {
   "cell_type": "markdown",
   "metadata": {
    "id": "qJpe1SjGr5pa"
   },
   "source": [
    "Then transpose the result back to (3, 4, 5) using another transpose."
   ]
  },
  {
   "cell_type": "code",
   "execution_count": 847,
   "metadata": {
    "colab": {
     "base_uri": "https://localhost:8080/"
    },
    "executionInfo": {
     "elapsed": 14,
     "status": "ok",
     "timestamp": 1758341213563,
     "user": {
      "displayName": "Tushar Raj",
      "userId": "04399146470560759060"
     },
     "user_tz": -330
    },
    "id": "rmaRCy1Kr3ya",
    "outputId": "e7238552-ca6b-4f5b-8712-80ff791f2f8f"
   },
   "outputs": [
    {
     "data": {
      "text/plain": [
       "(3, 4, 5)"
      ]
     },
     "execution_count": 847,
     "metadata": {},
     "output_type": "execute_result"
    }
   ],
   "source": [
    "ans = temp.transpose(1,2,0)\n",
    "ans.shape"
   ]
  },
  {
   "cell_type": "code",
   "execution_count": 848,
   "metadata": {
    "colab": {
     "base_uri": "https://localhost:8080/"
    },
    "executionInfo": {
     "elapsed": 21,
     "status": "ok",
     "timestamp": 1758341213599,
     "user": {
      "displayName": "Tushar Raj",
      "userId": "04399146470560759060"
     },
     "user_tz": -330
    },
    "id": "jswABGG_t4CK",
    "outputId": "e8f5e8be-6ef7-4e04-e126-eae304839bef"
   },
   "outputs": [
    {
     "name": "stdout",
     "output_type": "stream",
     "text": [
      "original and transpsed array are equal -> True\n"
     ]
    }
   ],
   "source": [
    "print(f'original and transpsed array are equal -> {np.array_equal(ans,data)}')"
   ]
  },
  {
   "cell_type": "markdown",
   "metadata": {
    "id": "0B1CdNBWuMTS"
   },
   "source": [
    "---\n",
    "Problem 4: Multi-Step Swap"
   ]
  },
  {
   "cell_type": "code",
   "execution_count": 849,
   "metadata": {
    "colab": {
     "base_uri": "https://localhost:8080/"
    },
    "collapsed": true,
    "executionInfo": {
     "elapsed": 24,
     "status": "ok",
     "timestamp": 1758341213680,
     "user": {
      "displayName": "Tushar Raj",
      "userId": "04399146470560759060"
     },
     "user_tz": -330
    },
    "id": "as1R6uEduWK0",
    "outputId": "d207cf6f-e1ca-44bc-9a3f-6bf18bcab3dc"
   },
   "outputs": [
    {
     "data": {
      "text/plain": [
       "array([[[0.0725329 , 0.46807104, 0.87883842, 0.74636984, 0.57548315,\n",
       "         0.75478752, 0.21621925, 0.2247566 , 0.33426713, 0.82279658,\n",
       "         0.28569501, 0.16603983, 0.30991492, 0.68987165, 0.12885356,\n",
       "         0.10343799, 0.78723531, 0.2915485 , 0.14240768, 0.4150559 ,\n",
       "         0.87590454, 0.7666867 , 0.37140812, 0.65447526, 0.48040064,\n",
       "         0.65611865, 0.85608147, 0.72896308, 0.03824624, 0.55393888],\n",
       "        [0.45272139, 0.22090651, 0.26524971, 0.73108185, 0.00728268,\n",
       "         0.72035542, 0.15084847, 0.86247628, 0.01473651, 0.44082961,\n",
       "         0.88647107, 0.68113119, 0.41482967, 0.20278732, 0.20997013,\n",
       "         0.35071052, 0.4313052 , 0.03575274, 0.65628176, 0.45527916,\n",
       "         0.61392676, 0.52232074, 0.85385776, 0.68025816, 0.66584404,\n",
       "         0.41993533, 0.05529353, 0.8329849 , 0.05357048, 0.01567409],\n",
       "        [0.51324439, 0.82890592, 0.9827095 , 0.65020104, 0.17519872,\n",
       "         0.53942556, 0.04720827, 0.46953659, 0.5520069 , 0.76952849,\n",
       "         0.75415854, 0.95841222, 0.48072877, 0.92815997, 0.33729119,\n",
       "         0.80148429, 0.9315735 , 0.98261516, 0.90354026, 0.81270573,\n",
       "         0.76478088, 0.66549897, 0.52381737, 0.64916517, 0.45893891,\n",
       "         0.56635972, 0.06949882, 0.47070223, 0.0139342 , 0.4662717 ],\n",
       "        [0.35492248, 0.58096454, 0.97835581, 0.31898363, 0.24997522,\n",
       "         0.20940181, 0.620575  , 0.46254674, 0.36516721, 0.09779931,\n",
       "         0.20523668, 0.08518577, 0.53946108, 0.82253045, 0.83245579,\n",
       "         0.2409883 , 0.75976706, 0.63672039, 0.32456538, 0.14001931,\n",
       "         0.36574309, 0.30117308, 0.7747007 , 0.25434387, 0.34160403,\n",
       "         0.76225902, 0.15887101, 0.85427959, 0.65229544, 0.13673389],\n",
       "        [0.06950045, 0.33391188, 0.58686807, 0.02971895, 0.25842349,\n",
       "         0.3853048 , 0.94906274, 0.86864203, 0.14223878, 0.83862471,\n",
       "         0.20178399, 0.62748133, 0.56213111, 0.55030018, 0.70235753,\n",
       "         0.7541771 , 0.49057518, 0.95043238, 0.91166414, 0.5472196 ,\n",
       "         0.16730668, 0.14344058, 0.71678804, 0.52774655, 0.18703618,\n",
       "         0.73907341, 0.36739384, 0.99653061, 0.1075349 , 0.69251182],\n",
       "        [0.11752772, 0.27179314, 0.6767444 , 0.15267744, 0.25776052,\n",
       "         0.26558479, 0.50215104, 0.90753148, 0.74786664, 0.52078623,\n",
       "         0.99132753, 0.55549863, 0.62777054, 0.75893035, 0.57544496,\n",
       "         0.6416203 , 0.5119922 , 0.92025297, 0.77439979, 0.548143  ,\n",
       "         0.09686472, 0.69709859, 0.89553736, 0.99447481, 0.97678754,\n",
       "         0.34410303, 0.52925465, 0.34999542, 0.56181842, 0.64435581],\n",
       "        [0.0567538 , 0.90405633, 0.01431406, 0.57444392, 0.87189597,\n",
       "         0.19104042, 0.49506481, 0.36785916, 0.17108613, 0.95125358,\n",
       "         0.61950337, 0.90987363, 0.4067148 , 0.60751727, 0.82416417,\n",
       "         0.37951179, 0.93659026, 0.83093876, 0.50470453, 0.29726349,\n",
       "         0.2389591 , 0.4391788 , 0.90200873, 0.41966814, 0.75748966,\n",
       "         0.914713  , 0.1754532 , 0.10368841, 0.93945407, 0.19188784],\n",
       "        [0.38437451, 0.66755912, 0.94167293, 0.09767171, 0.36937229,\n",
       "         0.96940553, 0.7547116 , 0.75900147, 0.30854767, 0.09827494,\n",
       "         0.66042114, 0.09456447, 0.77687404, 0.12785821, 0.06794363,\n",
       "         0.92346339, 0.64228936, 0.87871761, 0.42734496, 0.99205577,\n",
       "         0.53465864, 0.75195156, 0.63294616, 0.9339274 , 0.93931397,\n",
       "         0.57607865, 0.32754987, 0.02957714, 0.12451493, 0.37449999],\n",
       "        [0.85224776, 0.9001534 , 0.35997376, 0.48979086, 0.32804842,\n",
       "         0.6348537 , 0.47955846, 0.33388925, 0.53118576, 0.21133962,\n",
       "         0.32258377, 0.94907777, 0.53942324, 0.77101253, 0.41227477,\n",
       "         0.52364563, 0.38594733, 0.8499098 , 0.91786665, 0.13212668,\n",
       "         0.22293243, 0.34888385, 0.2656659 , 0.84663627, 0.38432392,\n",
       "         0.35809049, 0.97783677, 0.96259321, 0.49704101, 0.21303072],\n",
       "        [0.39903104, 0.07935274, 0.79437922, 0.26283196, 0.98345545,\n",
       "         0.72388908, 0.89151753, 0.04177486, 0.22365452, 0.6500907 ,\n",
       "         0.51610442, 0.66928576, 0.73026508, 0.27942475, 0.63863952,\n",
       "         0.4707959 , 0.36111134, 0.22104407, 0.82135721, 0.06549197,\n",
       "         0.22574607, 0.49759902, 0.71179229, 0.73415095, 0.84953793,\n",
       "         0.13941597, 0.85856058, 0.00116483, 0.75997057, 0.16228299],\n",
       "        [0.20993136, 0.63602381, 0.02729679, 0.35835874, 0.09090393,\n",
       "         0.21128608, 0.58261961, 0.58072098, 0.41333472, 0.66079791,\n",
       "         0.76647434, 0.88575943, 0.76493457, 0.65867077, 0.06500134,\n",
       "         0.74993571, 0.02121598, 0.1547218 , 0.02607507, 0.48778866,\n",
       "         0.23875322, 0.20601114, 0.55851294, 0.63362782, 0.84695778,\n",
       "         0.46338494, 0.07045777, 0.14085667, 0.73665532, 0.73494662],\n",
       "        [0.92310701, 0.8757184 , 0.66501031, 0.24931861, 0.05096596,\n",
       "         0.38173767, 0.43483592, 0.41779468, 0.79251446, 0.08560482,\n",
       "         0.36496977, 0.37614911, 0.91290614, 0.08762266, 0.86095541,\n",
       "         0.79428429, 0.52535486, 0.37284554, 0.03793197, 0.56412162,\n",
       "         0.14529715, 0.34116665, 0.44464631, 0.31699198, 0.25589623,\n",
       "         0.69409717, 0.79937811, 0.82000125, 0.82902713, 0.09365564]],\n",
       "\n",
       "       [[0.54657606, 0.23400054, 0.80575828, 0.31813011, 0.98061674,\n",
       "         0.36181533, 0.24860347, 0.89070139, 0.08317338, 0.89423655,\n",
       "         0.51453161, 0.9077784 , 0.30584492, 0.65562746, 0.35450879,\n",
       "         0.84108368, 0.25997643, 0.87310623, 0.38415092, 0.93467934,\n",
       "         0.49978456, 0.98842253, 0.92792947, 0.60983225, 0.0760449 ,\n",
       "         0.01613707, 0.75168531, 0.05498255, 0.48529872, 0.32399829],\n",
       "        [0.58990471, 0.85882895, 0.37125138, 0.9421185 , 0.0891164 ,\n",
       "         0.37238983, 0.79324082, 0.05085174, 0.80133702, 0.52008184,\n",
       "         0.59084242, 0.37371501, 0.83235989, 0.33742237, 0.48629658,\n",
       "         0.98970667, 0.27527807, 0.06442213, 0.41160052, 0.46801831,\n",
       "         0.40703133, 0.04870503, 0.42912388, 0.03274303, 0.60235624,\n",
       "         0.84006285, 0.59338865, 0.16053833, 0.50576547, 0.34682684],\n",
       "        [0.93528317, 0.50369649, 0.97814391, 0.69261899, 0.19611667,\n",
       "         0.73150234, 0.93963641, 0.10602754, 0.14195538, 0.91897304,\n",
       "         0.60070788, 0.26377662, 0.64073132, 0.18900364, 0.02885749,\n",
       "         0.98368662, 0.41634148, 0.19279361, 0.61393192, 0.34476273,\n",
       "         0.66044031, 0.1583272 , 0.22842785, 0.72956201, 0.51560114,\n",
       "         0.00116563, 0.99983487, 0.24816648, 0.047996  , 0.94219291],\n",
       "        [0.64801931, 0.87057426, 0.95569792, 0.36399167, 0.48735123,\n",
       "         0.54464932, 0.75493026, 0.04194518, 0.86197484, 0.38681721,\n",
       "         0.87200475, 0.43317644, 0.50748671, 0.81073384, 0.07686064,\n",
       "         0.62555125, 0.70477889, 0.5144286 , 0.65501117, 0.37177593,\n",
       "         0.56150632, 0.66859647, 0.43092306, 0.37002709, 0.33135128,\n",
       "         0.38192711, 0.12757866, 0.31029126, 0.2175599 , 0.17234421],\n",
       "        [0.41529224, 0.34290579, 0.35029865, 0.97664196, 0.21059465,\n",
       "         0.07511198, 0.13932759, 0.18320984, 0.44873459, 0.54378214,\n",
       "         0.65431738, 0.96219284, 0.87413606, 0.05097801, 0.29493295,\n",
       "         0.76701471, 0.31227748, 0.3301502 , 0.82648415, 0.40820166,\n",
       "         0.59887831, 0.61347125, 0.08272813, 0.78388854, 0.8029186 ,\n",
       "         0.30554294, 0.94587861, 0.26183254, 0.83983669, 0.9256932 ],\n",
       "        [0.19365451, 0.07673318, 0.16079575, 0.26666037, 0.85064135,\n",
       "         0.61261612, 0.0236514 , 0.98227414, 0.62395722, 0.84856711,\n",
       "         0.93450351, 0.24063166, 0.67736622, 0.55335671, 0.58024582,\n",
       "         0.37724473, 0.43494727, 0.24308403, 0.20230019, 0.92133763,\n",
       "         0.68525191, 0.81259469, 0.15776741, 0.58560289, 0.25997374,\n",
       "         0.83736639, 0.062405  , 0.45114234, 0.17332095, 0.80494606],\n",
       "        [0.95037863, 0.26308678, 0.7736715 , 0.16419512, 0.13739119,\n",
       "         0.41180857, 0.49483064, 0.43476282, 0.64838947, 0.68054353,\n",
       "         0.38535197, 0.73473134, 0.11914376, 0.20286075, 0.94236093,\n",
       "         0.82254791, 0.31565758, 0.16217748, 0.21830716, 0.08323135,\n",
       "         0.99398648, 0.43323832, 0.48049057, 0.18236274, 0.1703603 ,\n",
       "         0.20803235, 0.58969574, 0.4879753 , 0.99911308, 0.96649467],\n",
       "        [0.68507886, 0.55914557, 0.76791088, 0.81643015, 0.10131547,\n",
       "         0.89230182, 0.16305897, 0.99854255, 0.91801904, 0.04537581,\n",
       "         0.30109529, 0.39281959, 0.80603843, 0.61719015, 0.17800955,\n",
       "         0.13391309, 0.86915872, 0.2109788 , 0.01750441, 0.30455807,\n",
       "         0.34268843, 0.27096719, 0.34878993, 0.71917171, 0.80971178,\n",
       "         0.23339784, 0.45783301, 0.06495157, 0.98217044, 0.80996336],\n",
       "        [0.14921881, 0.13053614, 0.85630882, 0.89800635, 0.08536228,\n",
       "         0.06654252, 0.84150836, 0.77532108, 0.22327756, 0.47952654,\n",
       "         0.93556942, 0.06469016, 0.37357549, 0.89405108, 0.23926483,\n",
       "         0.92639108, 0.4919889 , 0.3799591 , 0.28588539, 0.22260652,\n",
       "         0.08565137, 0.95432986, 0.94555605, 0.6224473 , 0.18648453,\n",
       "         0.88094368, 0.69995509, 0.58447338, 0.40727055, 0.1219089 ],\n",
       "        [0.35845096, 0.76186978, 0.87717486, 0.26542326, 0.8209447 ,\n",
       "         0.24846295, 0.68345621, 0.42306667, 0.59142287, 0.01337491,\n",
       "         0.46190453, 0.64978282, 0.24757699, 0.8133066 , 0.66989209,\n",
       "         0.52817469, 0.76906435, 0.90057482, 0.31402828, 0.02672652,\n",
       "         0.54595411, 0.45214203, 0.14591108, 0.24678199, 0.02005862,\n",
       "         0.39889442, 0.46681418, 0.92634799, 0.14199974, 0.42690725],\n",
       "        [0.38396634, 0.61748316, 0.74904525, 0.85311604, 0.20135216,\n",
       "         0.90403182, 0.49109225, 0.97186167, 0.98988037, 0.27470307,\n",
       "         0.46766919, 0.4949537 , 0.8294262 , 0.4424676 , 0.70588779,\n",
       "         0.36833155, 0.90147789, 0.67775238, 0.3058583 , 0.30850262,\n",
       "         0.38801242, 0.81627797, 0.15568963, 0.80659864, 0.9565931 ,\n",
       "         0.29382946, 0.48701636, 0.01446011, 0.27438873, 0.83311112],\n",
       "        [0.58260964, 0.3930849 , 0.21304937, 0.75496097, 0.51135953,\n",
       "         0.03477762, 0.54908582, 0.07584722, 0.51451815, 0.5858533 ,\n",
       "         0.50632916, 0.52502859, 0.53660305, 0.40712045, 0.24650003,\n",
       "         0.46873803, 0.96473118, 0.09621896, 0.3036999 , 0.23734077,\n",
       "         0.06943342, 0.99830581, 0.47399821, 0.28495776, 0.16614991,\n",
       "         0.96373862, 0.81230743, 0.20689228, 0.96634467, 0.28370677]]])"
      ]
     },
     "execution_count": 849,
     "metadata": {},
     "output_type": "execute_result"
    }
   ],
   "source": [
    "weather_data = np.random.rand(2, 12, 30)\n",
    "weather_data"
   ]
  },
  {
   "cell_type": "markdown",
   "metadata": {
    "id": "t8EKmd5PwaSZ"
   },
   "source": [
    "• Transpose it so that the shape becomes (30, 12, 2) → days first, years last."
   ]
  },
  {
   "cell_type": "code",
   "execution_count": 850,
   "metadata": {
    "colab": {
     "base_uri": "https://localhost:8080/"
    },
    "executionInfo": {
     "elapsed": 53,
     "status": "ok",
     "timestamp": 1758341213735,
     "user": {
      "displayName": "Tushar Raj",
      "userId": "04399146470560759060"
     },
     "user_tz": -330
    },
    "id": "OzEsmhf2vvHa",
    "outputId": "3eed2263-451a-4332-aab6-70b66a271e00"
   },
   "outputs": [
    {
     "name": "stdout",
     "output_type": "stream",
     "text": [
      "(30, 12, 2)\n"
     ]
    }
   ],
   "source": [
    "temp = weather_data.transpose(2,1,0)\n",
    "print(temp.shape)"
   ]
  },
  {
   "cell_type": "markdown",
   "metadata": {
    "id": "urNq9DdewWyD"
   },
   "source": [
    "Find the value at [year=1, month=5, day=10] in the original and confirm its new position in the\n",
    "transposed array."
   ]
  },
  {
   "cell_type": "code",
   "execution_count": 851,
   "metadata": {
    "colab": {
     "base_uri": "https://localhost:8080/"
    },
    "executionInfo": {
     "elapsed": 9,
     "status": "ok",
     "timestamp": 1758341213745,
     "user": {
      "displayName": "Tushar Raj",
      "userId": "04399146470560759060"
     },
     "user_tz": -330
    },
    "id": "XE2XdhXQv9OQ",
    "outputId": "8449c441-da10-486f-e20a-0816e1eb3640"
   },
   "outputs": [
    {
     "name": "stdout",
     "output_type": "stream",
     "text": [
      "0.9345035129223916\n",
      "0.9345035129223916\n",
      "True\n"
     ]
    }
   ],
   "source": [
    "print(weather_data[1,5,10])\n",
    "print(temp[10,5,1])\n",
    "print(np.equal(weather_data[1,5,10],temp[10,5,1]))"
   ]
  },
  {
   "cell_type": "markdown",
   "metadata": {
    "id": "JEijs13PwbUZ"
   },
   "source": [
    "---\n",
    "Problem 5: Combining Transpose with Reshape"
   ]
  },
  {
   "cell_type": "markdown",
   "metadata": {
    "id": "rsyacoG7woaY"
   },
   "source": [
    "Create a 3D array of shape (2, 3, 4)."
   ]
  },
  {
   "cell_type": "code",
   "execution_count": 852,
   "metadata": {
    "colab": {
     "base_uri": "https://localhost:8080/"
    },
    "executionInfo": {
     "elapsed": 22,
     "status": "ok",
     "timestamp": 1758341213809,
     "user": {
      "displayName": "Tushar Raj",
      "userId": "04399146470560759060"
     },
     "user_tz": -330
    },
    "id": "xQhf02TOwbGx",
    "outputId": "66a650c6-b702-4dc4-e453-7c4a758698a1"
   },
   "outputs": [
    {
     "data": {
      "text/plain": [
       "(2, 3, 4)"
      ]
     },
     "execution_count": 852,
     "metadata": {},
     "output_type": "execute_result"
    }
   ],
   "source": [
    "data = np.random.rand(2, 3, 4)\n",
    "data.shape"
   ]
  },
  {
   "cell_type": "markdown",
   "metadata": {
    "id": "mRASFE55wqtB"
   },
   "source": [
    "• First, transpose it to (3, 2, 4)."
   ]
  },
  {
   "cell_type": "code",
   "execution_count": 853,
   "metadata": {
    "colab": {
     "base_uri": "https://localhost:8080/"
    },
    "executionInfo": {
     "elapsed": 23,
     "status": "ok",
     "timestamp": 1758341213834,
     "user": {
      "displayName": "Tushar Raj",
      "userId": "04399146470560759060"
     },
     "user_tz": -330
    },
    "id": "BFQKoBGIwsai",
    "outputId": "2a46d0f9-9000-4ff6-bbc8-74d90495ac23"
   },
   "outputs": [
    {
     "data": {
      "text/plain": [
       "(3, 2, 4)"
      ]
     },
     "execution_count": 853,
     "metadata": {},
     "output_type": "execute_result"
    }
   ],
   "source": [
    "temp = data.transpose(1,0,2)\n",
    "temp.shape"
   ]
  },
  {
   "cell_type": "markdown",
   "metadata": {
    "id": "aylR2KwFypfH"
   },
   "source": [
    "Then reshape the result into a 2D array of shape (6, 4)."
   ]
  },
  {
   "cell_type": "code",
   "execution_count": 854,
   "metadata": {
    "executionInfo": {
     "elapsed": 2,
     "status": "ok",
     "timestamp": 1758341213838,
     "user": {
      "displayName": "Tushar Raj",
      "userId": "04399146470560759060"
     },
     "user_tz": -330
    },
    "id": "scuGkhGXykmP"
   },
   "outputs": [],
   "source": [
    "reshaped_data = temp.reshape(6,4)"
   ]
  },
  {
   "cell_type": "markdown",
   "metadata": {
    "id": "0rkZF9PTyqZh"
   },
   "source": [
    "Print both intermediate and final shapes."
   ]
  },
  {
   "cell_type": "code",
   "execution_count": 855,
   "metadata": {
    "colab": {
     "base_uri": "https://localhost:8080/"
    },
    "executionInfo": {
     "elapsed": 36,
     "status": "ok",
     "timestamp": 1758341213875,
     "user": {
      "displayName": "Tushar Raj",
      "userId": "04399146470560759060"
     },
     "user_tz": -330
    },
    "id": "1C1MkJ4jy0tf",
    "outputId": "307d868d-d461-4b65-90de-b367485a40b5"
   },
   "outputs": [
    {
     "name": "stdout",
     "output_type": "stream",
     "text": [
      "(2, 3, 4)\n",
      "(3, 2, 4)\n",
      "(6, 4)\n"
     ]
    }
   ],
   "source": [
    "print(data.shape)\n",
    "print(temp.shape)\n",
    "print(reshaped_data.shape)"
   ]
  },
  {
   "cell_type": "markdown",
   "metadata": {
    "id": "W_ujjnuPzA7Q"
   },
   "source": [
    "Verify that the reshaping preserves the total number of elements."
   ]
  },
  {
   "cell_type": "code",
   "execution_count": 856,
   "metadata": {
    "colab": {
     "base_uri": "https://localhost:8080/"
    },
    "executionInfo": {
     "elapsed": 63,
     "status": "ok",
     "timestamp": 1758341213940,
     "user": {
      "displayName": "Tushar Raj",
      "userId": "04399146470560759060"
     },
     "user_tz": -330
    },
    "id": "vg2omz2SzAkB",
    "outputId": "86587887-7117-4545-e068-46874ba2f697"
   },
   "outputs": [
    {
     "name": "stdout",
     "output_type": "stream",
     "text": [
      "total number of ele in original data 24\n",
      "total number of ele after reshape 24\n"
     ]
    }
   ],
   "source": [
    "print(f'total number of ele in original data {np.prod(data.shape)}')\n",
    "print(f'total number of ele after reshape {np.prod(reshaped_data.shape)}')"
   ]
  },
  {
   "cell_type": "markdown",
   "metadata": {
    "id": "n-11mP2n1tem"
   },
   "source": [
    "---\n",
    "**NumPy Transpose Problems with 3D Arrays (Use\n",
    "Case Based)**"
   ]
  },
  {
   "cell_type": "markdown",
   "metadata": {
    "id": "onIuk2Gt1xt_"
   },
   "source": [
    " **Problem 1: Medical Imaging**"
   ]
  },
  {
   "cell_type": "markdown",
   "metadata": {
    "id": "y93uxeHJ2cF3"
   },
   "source": [
    "A hospital stores MRI scans in the format(patients, slices, pixels).\n",
    "\n",
    "Create a NumPy array of shape (2, 4, 5) representing 2 patients, each with 4 slices of size 5\n",
    "pixels."
   ]
  },
  {
   "cell_type": "code",
   "execution_count": 857,
   "metadata": {
    "colab": {
     "base_uri": "https://localhost:8080/"
    },
    "executionInfo": {
     "elapsed": 12,
     "status": "ok",
     "timestamp": 1758341213954,
     "user": {
      "displayName": "Tushar Raj",
      "userId": "04399146470560759060"
     },
     "user_tz": -330
    },
    "id": "NXlZNFmx1wZf",
    "outputId": "fa14ad2a-7d92-4d71-f5e4-3c2fe62c85b0"
   },
   "outputs": [
    {
     "data": {
      "text/plain": [
       "(2, 4, 5)"
      ]
     },
     "execution_count": 857,
     "metadata": {},
     "output_type": "execute_result"
    }
   ],
   "source": [
    "patient_data = np.random.rand(2,4,5)\n",
    "patient_data.shape"
   ]
  },
  {
   "cell_type": "markdown",
   "metadata": {
    "id": "5tlL2WR422Ff"
   },
   "source": [
    "Transpose the data so that the shape becomes (4, 2, 5) → now each slice groups data from both\n",
    "patients."
   ]
  },
  {
   "cell_type": "code",
   "execution_count": 858,
   "metadata": {
    "colab": {
     "base_uri": "https://localhost:8080/"
    },
    "executionInfo": {
     "elapsed": 20,
     "status": "ok",
     "timestamp": 1758341213976,
     "user": {
      "displayName": "Tushar Raj",
      "userId": "04399146470560759060"
     },
     "user_tz": -330
    },
    "id": "Ehcp4nWG2222",
    "outputId": "681163a9-af29-4f38-be6c-088a575519e0"
   },
   "outputs": [
    {
     "data": {
      "text/plain": [
       "(4, 2, 5)"
      ]
     },
     "execution_count": 858,
     "metadata": {},
     "output_type": "execute_result"
    }
   ],
   "source": [
    "transpose_data = patient_data.transpose(1,0,2)\n",
    "transpose_data.shape"
   ]
  },
  {
   "cell_type": "markdown",
   "metadata": {
    "id": "e6ReLAp63EfO"
   },
   "source": [
    "Verify the new shape and check where element [patient=1, slice=2, pixel=3] is located in the\n",
    "new layout."
   ]
  },
  {
   "cell_type": "code",
   "execution_count": 859,
   "metadata": {
    "colab": {
     "base_uri": "https://localhost:8080/"
    },
    "executionInfo": {
     "elapsed": 32,
     "status": "ok",
     "timestamp": 1758341214009,
     "user": {
      "displayName": "Tushar Raj",
      "userId": "04399146470560759060"
     },
     "user_tz": -330
    },
    "id": "EujnpakR3DX2",
    "outputId": "d627c154-72da-4fd6-ae10-81bbfd938424"
   },
   "outputs": [
    {
     "name": "stdout",
     "output_type": "stream",
     "text": [
      "0.6296233628536457\n",
      "0.6296233628536457\n"
     ]
    }
   ],
   "source": [
    "print(patient_data[1,2,3])\n",
    "print(transpose_data[2,1,3])"
   ]
  },
  {
   "cell_type": "markdown",
   "metadata": {
    "id": "krLm0u7h4BCP"
   },
   "source": [
    "\n",
    "**Problem 2: Video Frame**"
   ]
  },
  {
   "cell_type": "markdown",
   "metadata": {
    "id": "hSOsupjM4sgP"
   },
   "source": [
    "A video dataset is stored in the format (frames, height, width).\n",
    "• Create a NumPy array of shape (6, 3, 4) → 6 frames, each with 3x4 pixels."
   ]
  },
  {
   "cell_type": "code",
   "execution_count": 860,
   "metadata": {
    "colab": {
     "base_uri": "https://localhost:8080/"
    },
    "executionInfo": {
     "elapsed": 41,
     "status": "ok",
     "timestamp": 1758341214051,
     "user": {
      "displayName": "Tushar Raj",
      "userId": "04399146470560759060"
     },
     "user_tz": -330
    },
    "id": "vSiXVzkv4tHX",
    "outputId": "579a7b85-f98d-4b95-ad16-858f1c226b09"
   },
   "outputs": [
    {
     "data": {
      "text/plain": [
       "(6, 3, 4)"
      ]
     },
     "execution_count": 860,
     "metadata": {},
     "output_type": "execute_result"
    }
   ],
   "source": [
    "viddata = np.random.rand(6,3,4)\n",
    "viddata.shape"
   ]
  },
  {
   "cell_type": "markdown",
   "metadata": {
    "id": "tKVB31jL41K_"
   },
   "source": [
    "• Transpose it to (3, 4, 6) → now each pixel position shows its value across all frames."
   ]
  },
  {
   "cell_type": "code",
   "execution_count": 861,
   "metadata": {
    "colab": {
     "base_uri": "https://localhost:8080/"
    },
    "executionInfo": {
     "elapsed": 48,
     "status": "ok",
     "timestamp": 1758341214101,
     "user": {
      "displayName": "Tushar Raj",
      "userId": "04399146470560759060"
     },
     "user_tz": -330
    },
    "id": "3wi5oYqA413W",
    "outputId": "c26d587c-490d-4392-b29d-98097bcbf493"
   },
   "outputs": [
    {
     "data": {
      "text/plain": [
       "(3, 4, 6)"
      ]
     },
     "execution_count": 861,
     "metadata": {},
     "output_type": "execute_result"
    }
   ],
   "source": [
    "temp = viddata.transpose(1,2,0)\n",
    "temp.shape"
   ]
  },
  {
   "cell_type": "markdown",
   "metadata": {
    "id": "po3XPRO_7mSV"
   },
   "source": [
    "Verify that frame-wise data is correctly rearranged by checking positions before and after transpose."
   ]
  },
  {
   "cell_type": "code",
   "execution_count": 862,
   "metadata": {
    "colab": {
     "base_uri": "https://localhost:8080/"
    },
    "executionInfo": {
     "elapsed": 48,
     "status": "ok",
     "timestamp": 1758341214150,
     "user": {
      "displayName": "Tushar Raj",
      "userId": "04399146470560759060"
     },
     "user_tz": -330
    },
    "id": "wHAXIw2_7nAU",
    "outputId": "9e557057-64ae-4a7d-fd9f-824d61b198d5"
   },
   "outputs": [
    {
     "name": "stdout",
     "output_type": "stream",
     "text": [
      "before transpose \n",
      "[[[0.91946478 0.64098286 0.37107076 0.48907233]\n",
      "  [0.37718177 0.63904563 0.17506008 0.79863094]\n",
      "  [0.60974734 0.32406199 0.43485858 0.71240575]]\n",
      "\n",
      " [[0.12015521 0.17997761 0.70116721 0.91465769]\n",
      "  [0.38285427 0.43832119 0.64628661 0.18596097]\n",
      "  [0.17131991 0.84058381 0.44347507 0.52023444]]\n",
      "\n",
      " [[0.80814644 0.97756557 0.13894333 0.9850332 ]\n",
      "  [0.44462943 0.60371811 0.18416484 0.60281011]\n",
      "  [0.96143966 0.04022949 0.88889374 0.07143542]]\n",
      "\n",
      " [[0.65434177 0.60911565 0.150603   0.16531017]\n",
      "  [0.7767151  0.28202685 0.62464207 0.73891051]\n",
      "  [0.52227135 0.03244792 0.55011364 0.49490862]]\n",
      "\n",
      " [[0.78285546 0.1931445  0.49993252 0.6387521 ]\n",
      "  [0.83836355 0.75914304 0.24094243 0.39342191]\n",
      "  [0.90547471 0.93274971 0.63567144 0.91663049]]\n",
      "\n",
      " [[0.54814952 0.97672135 0.41797099 0.97590572]\n",
      "  [0.1274074  0.08959977 0.25914638 0.50757381]\n",
      "  [0.45929151 0.25333371 0.09948821 0.06416121]]]\n",
      "----------------------\n",
      "after transpose \n",
      "[[[0.91946478 0.12015521 0.80814644 0.65434177 0.78285546 0.54814952]\n",
      "  [0.64098286 0.17997761 0.97756557 0.60911565 0.1931445  0.97672135]\n",
      "  [0.37107076 0.70116721 0.13894333 0.150603   0.49993252 0.41797099]\n",
      "  [0.48907233 0.91465769 0.9850332  0.16531017 0.6387521  0.97590572]]\n",
      "\n",
      " [[0.37718177 0.38285427 0.44462943 0.7767151  0.83836355 0.1274074 ]\n",
      "  [0.63904563 0.43832119 0.60371811 0.28202685 0.75914304 0.08959977]\n",
      "  [0.17506008 0.64628661 0.18416484 0.62464207 0.24094243 0.25914638]\n",
      "  [0.79863094 0.18596097 0.60281011 0.73891051 0.39342191 0.50757381]]\n",
      "\n",
      " [[0.60974734 0.17131991 0.96143966 0.52227135 0.90547471 0.45929151]\n",
      "  [0.32406199 0.84058381 0.04022949 0.03244792 0.93274971 0.25333371]\n",
      "  [0.43485858 0.44347507 0.88889374 0.55011364 0.63567144 0.09948821]\n",
      "  [0.71240575 0.52023444 0.07143542 0.49490862 0.91663049 0.06416121]]]\n"
     ]
    }
   ],
   "source": [
    "print('before transpose ')\n",
    "print(viddata)\n",
    "print('----------------------\\nafter transpose ')\n",
    "print(temp)"
   ]
  },
  {
   "cell_type": "markdown",
   "metadata": {
    "id": "m2siWRYB8H-u"
   },
   "source": [
    "----\n",
    "**Problem 3: IoT Sensor Data**\n",
    "\n",
    "A smart building records temperature with 3 sensors every hour for 2 days. Data is stored as (days, hours,sensors)"
   ]
  },
  {
   "cell_type": "code",
   "execution_count": 863,
   "metadata": {
    "colab": {
     "base_uri": "https://localhost:8080/"
    },
    "executionInfo": {
     "elapsed": 11,
     "status": "ok",
     "timestamp": 1758341214202,
     "user": {
      "displayName": "Tushar Raj",
      "userId": "04399146470560759060"
     },
     "user_tz": -330
    },
    "id": "s7kUsLyu8dDW",
    "outputId": "9fb8937a-c476-4ef9-fdfd-f24ca62f4c64"
   },
   "outputs": [
    {
     "data": {
      "text/plain": [
       "(2, 4, 3)"
      ]
     },
     "execution_count": 863,
     "metadata": {},
     "output_type": "execute_result"
    }
   ],
   "source": [
    "iot_data = np.random.rand(2,4,3)\n",
    "iot_data.shape"
   ]
  },
  {
   "cell_type": "markdown",
   "metadata": {
    "id": "FiXdoKJF-BGd"
   },
   "source": [
    "Transpose it to (3, 2, 4) so that the first axis corresponds to sensors, making analysis sensor-wise."
   ]
  },
  {
   "cell_type": "code",
   "execution_count": 864,
   "metadata": {
    "colab": {
     "base_uri": "https://localhost:8080/"
    },
    "executionInfo": {
     "elapsed": 18,
     "status": "ok",
     "timestamp": 1758341214235,
     "user": {
      "displayName": "Tushar Raj",
      "userId": "04399146470560759060"
     },
     "user_tz": -330
    },
    "id": "DM_TsmyG9Tz-",
    "outputId": "c1cc6276-d8a2-40d3-8a7c-e19f10a66a34"
   },
   "outputs": [
    {
     "data": {
      "text/plain": [
       "(3, 2, 4)"
      ]
     },
     "execution_count": 864,
     "metadata": {},
     "output_type": "execute_result"
    }
   ],
   "source": [
    "transpose_data = iot_data.transpose(2,0,1)\n",
    "transpose_data.shape"
   ]
  },
  {
   "cell_type": "markdown",
   "metadata": {
    "id": "W7DKlJXR-Bqd"
   },
   "source": [
    "Verify the mapping of element [day=1, hour=2, sensor=0]."
   ]
  },
  {
   "cell_type": "code",
   "execution_count": 865,
   "metadata": {
    "colab": {
     "base_uri": "https://localhost:8080/"
    },
    "executionInfo": {
     "elapsed": 27,
     "status": "ok",
     "timestamp": 1758341214264,
     "user": {
      "displayName": "Tushar Raj",
      "userId": "04399146470560759060"
     },
     "user_tz": -330
    },
    "id": "NZVSz1AM-C9V",
    "outputId": "c67c707c-399c-468a-f159-1a81e488d11e"
   },
   "outputs": [
    {
     "name": "stdout",
     "output_type": "stream",
     "text": [
      "0.19380585994404076\n",
      "0.19380585994404076\n"
     ]
    }
   ],
   "source": [
    "print(iot_data[1,2,0])\n",
    "print(transpose_data[0,1,2])"
   ]
  },
  {
   "cell_type": "markdown",
   "metadata": {
    "id": "u3lct6H1-7DU"
   },
   "source": [
    "---\n",
    "**Problem 4: Sports Team Performance**\n",
    "\n",
    "A league records match statistics for 2 teams across 3 matches, tracking 4 performance metrics per match.\n",
    "Data is stored as (teams, matches, metrics).\n",
    "\n",
    "Create a NumPy array of shape (2, 3, 4)."
   ]
  },
  {
   "cell_type": "code",
   "execution_count": 866,
   "metadata": {
    "colab": {
     "base_uri": "https://localhost:8080/"
    },
    "executionInfo": {
     "elapsed": 55,
     "status": "ok",
     "timestamp": 1758341214320,
     "user": {
      "displayName": "Tushar Raj",
      "userId": "04399146470560759060"
     },
     "user_tz": -330
    },
    "id": "mHF0t5md_Fz9",
    "outputId": "00a47320-9427-45dd-9baf-d5a0af4b9cec"
   },
   "outputs": [
    {
     "data": {
      "text/plain": [
       "(2, 3, 4)"
      ]
     },
     "execution_count": 866,
     "metadata": {},
     "output_type": "execute_result"
    }
   ],
   "source": [
    "sports_data = np.random.rand(2,3,4)\n",
    "sports_data.shape"
   ]
  },
  {
   "cell_type": "markdown",
   "metadata": {
    "id": "vfleKnVTABp1"
   },
   "source": [
    "Transpose it to (3, 2, 4) → now each match groups the performance of both teams."
   ]
  },
  {
   "cell_type": "code",
   "execution_count": 867,
   "metadata": {
    "colab": {
     "base_uri": "https://localhost:8080/"
    },
    "executionInfo": {
     "elapsed": 20,
     "status": "ok",
     "timestamp": 1758341214342,
     "user": {
      "displayName": "Tushar Raj",
      "userId": "04399146470560759060"
     },
     "user_tz": -330
    },
    "id": "7O-POEL8_tBN",
    "outputId": "0727ea54-398b-41ad-e6d5-1eaa39256704"
   },
   "outputs": [
    {
     "data": {
      "text/plain": [
       "(3, 2, 4)"
      ]
     },
     "execution_count": 867,
     "metadata": {},
     "output_type": "execute_result"
    }
   ],
   "source": [
    "temp = sports_data.transpose(1,0,2)\n",
    "temp.shape"
   ]
  },
  {
   "cell_type": "markdown",
   "metadata": {
    "id": "Rvui9eEVADLc"
   },
   "source": [
    "Confirm where the stats of Team 1, Match 2, Metric 3 go in the new layout."
   ]
  },
  {
   "cell_type": "code",
   "execution_count": 868,
   "metadata": {
    "colab": {
     "base_uri": "https://localhost:8080/"
    },
    "executionInfo": {
     "elapsed": 10,
     "status": "ok",
     "timestamp": 1758341214373,
     "user": {
      "displayName": "Tushar Raj",
      "userId": "04399146470560759060"
     },
     "user_tz": -330
    },
    "id": "IUgW94XCAAwd",
    "outputId": "c2a4572a-e180-47c3-848a-2700bc5c7591"
   },
   "outputs": [
    {
     "name": "stdout",
     "output_type": "stream",
     "text": [
      "0.9772951338545455\n",
      "0.9772951338545455\n"
     ]
    }
   ],
   "source": [
    "print(sports_data[1,2,3])\n",
    "print(temp[2,1,3])"
   ]
  },
  {
   "cell_type": "markdown",
   "metadata": {
    "id": "wTLuGMh_APd8"
   },
   "source": [
    "---\n",
    "**Problem 5: Climate Data**\n",
    "\n",
    "A research project stores temperature readings for 2 years, each with 3 months, and 5 cities. Format: (years,\n",
    "months, cities).\n",
    "\n",
    "• Create a NumPy array of shape (2, 3, 5)."
   ]
  },
  {
   "cell_type": "code",
   "execution_count": 869,
   "metadata": {
    "colab": {
     "base_uri": "https://localhost:8080/"
    },
    "executionInfo": {
     "elapsed": 26,
     "status": "ok",
     "timestamp": 1758341214401,
     "user": {
      "displayName": "Tushar Raj",
      "userId": "04399146470560759060"
     },
     "user_tz": -330
    },
    "id": "9vYp06kFAVOD",
    "outputId": "9918c4f8-9344-44cb-82b8-0ba069dc6a43"
   },
   "outputs": [
    {
     "data": {
      "text/plain": [
       "(2, 3, 5)"
      ]
     },
     "execution_count": 869,
     "metadata": {},
     "output_type": "execute_result"
    }
   ],
   "source": [
    "climate_data = np.random.rand(2,3,5)\n",
    "climate_data.shape"
   ]
  },
  {
   "cell_type": "markdown",
   "metadata": {
    "id": "zCA-vF7kAadd"
   },
   "source": [
    "Transpose it to (5, 2, 3) → so each city has its own block of data across years and months."
   ]
  },
  {
   "cell_type": "code",
   "execution_count": 870,
   "metadata": {
    "colab": {
     "base_uri": "https://localhost:8080/"
    },
    "executionInfo": {
     "elapsed": 88,
     "status": "ok",
     "timestamp": 1758341214491,
     "user": {
      "displayName": "Tushar Raj",
      "userId": "04399146470560759060"
     },
     "user_tz": -330
    },
    "id": "arx52dvPAb30",
    "outputId": "9c50dd3e-aae4-4a0b-b20e-676e8eb7ba6c"
   },
   "outputs": [
    {
     "data": {
      "text/plain": [
       "(5, 2, 3)"
      ]
     },
     "execution_count": 870,
     "metadata": {},
     "output_type": "execute_result"
    }
   ],
   "source": [
    "temp = climate_data.transpose(2,0,1)\n",
    "temp.shape"
   ]
  },
  {
   "cell_type": "markdown",
   "metadata": {
    "id": "kkIrknOJAiTd"
   },
   "source": [
    "Check that the total number of elements remains the same after transpose."
   ]
  },
  {
   "cell_type": "code",
   "execution_count": 871,
   "metadata": {
    "colab": {
     "base_uri": "https://localhost:8080/"
    },
    "executionInfo": {
     "elapsed": 16,
     "status": "ok",
     "timestamp": 1758341214508,
     "user": {
      "displayName": "Tushar Raj",
      "userId": "04399146470560759060"
     },
     "user_tz": -330
    },
    "id": "QeerMTb7AlAk",
    "outputId": "049beba9-1cd3-4050-b09e-6971bdbab396"
   },
   "outputs": [
    {
     "name": "stdout",
     "output_type": "stream",
     "text": [
      "ele in transpose data  30\n",
      "ele in original data  30\n"
     ]
    }
   ],
   "source": [
    "ele_temp = np.prod(temp.shape)\n",
    "ele_data = np.prod(climate_data.shape)\n",
    "print('ele in transpose data ',ele_temp)\n",
    "print('ele in original data ',ele_data)"
   ]
  },
  {
   "cell_type": "markdown",
   "metadata": {
    "id": "KGsU-rewB0sc"
   },
   "source": [
    "---\n",
    "**NumPy Fancy Indexing Problems (1D, 2D, 3D)\n",
    "1D Array Use Cases**\n",
    "\n",
    "Problem 1: Stock Prices\n",
    "\n",
    "Create a 1D NumPy array of 30 stock prices."
   ]
  },
  {
   "cell_type": "code",
   "execution_count": 872,
   "metadata": {
    "colab": {
     "base_uri": "https://localhost:8080/"
    },
    "executionInfo": {
     "elapsed": 19,
     "status": "ok",
     "timestamp": 1758341214529,
     "user": {
      "displayName": "Tushar Raj",
      "userId": "04399146470560759060"
     },
     "user_tz": -330
    },
    "id": "Ys2Kqh0BB88U",
    "outputId": "01ccb9d8-442a-403b-bd4d-2f46c45c427d"
   },
   "outputs": [
    {
     "data": {
      "text/plain": [
       "array([0.2696932 , 0.6462334 , 0.07088051, 0.17609876, 0.04934608,\n",
       "       0.31598251, 0.81532626, 0.49031276, 0.68956226, 0.63953172,\n",
       "       0.83402798, 0.10099486, 0.15489681, 0.664444  , 0.09752453,\n",
       "       0.7055356 , 0.96500871, 0.33050542, 0.93495457, 0.02665502,\n",
       "       0.80431212, 0.39633198, 0.33288801, 0.55655589, 0.29276186,\n",
       "       0.61207847, 0.46428858, 0.82634228, 0.44626418, 0.25299519])"
      ]
     },
     "execution_count": 872,
     "metadata": {},
     "output_type": "execute_result"
    }
   ],
   "source": [
    "stock_price = np.random.rand(30)\n",
    "stock_price"
   ]
  },
  {
   "cell_type": "markdown",
   "metadata": {
    "id": "fO_ODNCyCg6j"
   },
   "source": [
    "Extract the prices on prime-numbered days."
   ]
  },
  {
   "cell_type": "code",
   "execution_count": 873,
   "metadata": {
    "colab": {
     "base_uri": "https://localhost:8080/"
    },
    "executionInfo": {
     "elapsed": 51,
     "status": "ok",
     "timestamp": 1758341214592,
     "user": {
      "displayName": "Tushar Raj",
      "userId": "04399146470560759060"
     },
     "user_tz": -330
    },
    "id": "IdlaiN5uCj2M",
    "outputId": "8246209c-dd36-4991-f5ce-7ed1c27035f6"
   },
   "outputs": [
    {
     "name": "stdout",
     "output_type": "stream",
     "text": [
      "price on day 2 : 0.6462334001395631\n",
      "price on day 3 : 0.07088050748005781\n",
      "price on day 5 : 0.0493460752029965\n",
      "price on day 7 : 0.8153262560942532\n",
      "price on day 11 : 0.8340279788697377\n",
      "price on day 13 : 0.15489681387371268\n",
      "price on day 17 : 0.9650087111747531\n",
      "price on day 19 : 0.9349545653539063\n",
      "price on day 23 : 0.3328880120367115\n",
      "price on day 29 : 0.4462641811389828\n"
     ]
    }
   ],
   "source": [
    "def isPrime(num):\n",
    "  if num<=1:\n",
    "    return False\n",
    "  for i in range(2,int(num**0.5)+1):\n",
    "    if num%i==0:\n",
    "      return False\n",
    "  return True\n",
    "\n",
    "for i in range(0,len(stock_price)):\n",
    "  if isPrime(i+1):\n",
    "    print(f'price on day {i+1} : {stock_price[i]}')"
   ]
  },
  {
   "cell_type": "markdown",
   "metadata": {
    "id": "eOazY3RSFfBj"
   },
   "source": [
    "Find the top 5 highest prices using fancy indexing."
   ]
  },
  {
   "cell_type": "code",
   "execution_count": 874,
   "metadata": {
    "colab": {
     "base_uri": "https://localhost:8080/"
    },
    "executionInfo": {
     "elapsed": 26,
     "status": "ok",
     "timestamp": 1758341214619,
     "user": {
      "displayName": "Tushar Raj",
      "userId": "04399146470560759060"
     },
     "user_tz": -330
    },
    "id": "yYxGAZv9Ff27",
    "outputId": "6a2d3864-fade-4986-81a3-a9724995d12d"
   },
   "outputs": [
    {
     "name": "stdout",
     "output_type": "stream",
     "text": [
      "top 1->0.8043121186264164\n",
      "top 2->0.8153262560942532\n",
      "top 3->0.8263422766153841\n",
      "top 4->0.8340279788697377\n",
      "top 5->0.9349545653539063\n"
     ]
    }
   ],
   "source": [
    "sorted_stock = np.sort(stock_price)\n",
    "top_5 = sorted_stock[-6:-1]\n",
    "for i in range(0,len(top_5)):\n",
    "  print(f'top {i+1}->{top_5[i]}')"
   ]
  },
  {
   "cell_type": "markdown",
   "metadata": {
    "id": "sT08UZIhGg6q"
   },
   "source": [
    "---\n",
    "**Problem 2: Exam Scores**\n",
    "\n",
    "Generate a 1D array of 50 student scores (0–100).\n",
    "• Extract the scores of the top 10 students (highest scores)."
   ]
  },
  {
   "cell_type": "code",
   "execution_count": 875,
   "metadata": {
    "executionInfo": {
     "elapsed": 18,
     "status": "ok",
     "timestamp": 1758341214638,
     "user": {
      "displayName": "Tushar Raj",
      "userId": "04399146470560759060"
     },
     "user_tz": -330
    },
    "id": "UX0zg3rHGnCr"
   },
   "outputs": [],
   "source": [
    "student_marks = np.array([np.random.randint(0,100) for i in range(20,100)])\n"
   ]
  },
  {
   "cell_type": "markdown",
   "metadata": {
    "id": "cYgdvc-SHWjD"
   },
   "source": [
    "Extract the scores of the top 10 students (highest scores)."
   ]
  },
  {
   "cell_type": "code",
   "execution_count": 876,
   "metadata": {
    "colab": {
     "base_uri": "https://localhost:8080/"
    },
    "executionInfo": {
     "elapsed": 17,
     "status": "ok",
     "timestamp": 1758341214672,
     "user": {
      "displayName": "Tushar Raj",
      "userId": "04399146470560759060"
     },
     "user_tz": -330
    },
    "id": "wBaA2dybHlFj",
    "outputId": "76f185db-6a6a-4ea7-a977-4f3709b41b6b"
   },
   "outputs": [
    {
     "name": "stdout",
     "output_type": "stream",
     "text": [
      "top 1-> 82\n",
      "top 2-> 82\n",
      "top 3-> 82\n",
      "top 4-> 85\n",
      "top 5-> 85\n",
      "top 6-> 86\n",
      "top 7-> 87\n",
      "top 8-> 87\n",
      "top 9-> 88\n",
      "top 10-> 91\n"
     ]
    }
   ],
   "source": [
    "sorted_marks = np.sort(student_marks)\n",
    "top_10 = sorted_marks[-11:-1]\n",
    "for i in range(0,len(top_10)):\n",
    "  print(f'top {i+1}-> {top_10[i]}')"
   ]
  },
  {
   "cell_type": "code",
   "execution_count": 877,
   "metadata": {
    "colab": {
     "base_uri": "https://localhost:8080/"
    },
    "executionInfo": {
     "elapsed": 94,
     "status": "ok",
     "timestamp": 1758341214767,
     "user": {
      "displayName": "Tushar Raj",
      "userId": "04399146470560759060"
     },
     "user_tz": -330
    },
    "id": "W2NDBCbZIXDS",
    "outputId": "010d29c9-71d5-4fe9-d24d-b9d4f5f36575"
   },
   "outputs": [
    {
     "name": "stdout",
     "output_type": "stream",
     "text": [
      "[41 -1 -1 -1 87 -1 -1 88 51 64 40 -1 82 87 58 -1 76 72 -1 74 50 85 85 -1\n",
      " 50 -1 -1 -1 -1 -1 58 -1 82 41 -1 65 43 -1 -1 86 51 46 -1 -1 57 -1 65 78\n",
      " -1 -1 73 57 53 -1 41 43 62 -1 70 91 -1 -1 -1 53 53 40 47 -1 54 96 49 40\n",
      " -1 40 82 -1 55 46 67 45]\n"
     ]
    }
   ],
   "source": [
    "student_marks[student_marks<40]=-1\n",
    "print(student_marks)"
   ]
  },
  {
   "cell_type": "markdown",
   "metadata": {
    "id": "-K5MraQkI8VR"
   },
   "source": [
    "---\n",
    "**Problem 3: Sensor Fault Detection**\n",
    "\n",
    "Create a 1D array of 100 sensor readings (random floats).\n",
    "\n",
    "• Find all indices where values are above mean + 1 std deviation."
   ]
  },
  {
   "cell_type": "code",
   "execution_count": 878,
   "metadata": {
    "executionInfo": {
     "elapsed": 3,
     "status": "ok",
     "timestamp": 1758341214773,
     "user": {
      "displayName": "Tushar Raj",
      "userId": "04399146470560759060"
     },
     "user_tz": -330
    },
    "id": "IPeCn4EzJzeh"
   },
   "outputs": [],
   "source": [
    "sensor_data = np.random.rand(100)"
   ]
  },
  {
   "cell_type": "code",
   "execution_count": 879,
   "metadata": {
    "colab": {
     "base_uri": "https://localhost:8080/"
    },
    "executionInfo": {
     "elapsed": 28,
     "status": "ok",
     "timestamp": 1758341214803,
     "user": {
      "displayName": "Tushar Raj",
      "userId": "04399146470560759060"
     },
     "user_tz": -330
    },
    "id": "e4ZcAd1QJAAC",
    "outputId": "7b69394f-f639-4275-b915-ea27132083a8"
   },
   "outputs": [
    {
     "name": "stdout",
     "output_type": "stream",
     "text": [
      "standerd deviation  0.2756056656121361\n",
      "values above 1 std \n",
      " [0.68945559 0.         0.53355978 0.87955569 0.         0.\n",
      " 0.50922763 0.9079639  0.         0.52678758 0.68591695 0.64980792\n",
      " 0.         0.         0.38724642 0.2944842  0.95656828 0.84642431\n",
      " 0.55021354 0.88066449 0.61841425 0.52842909 0.32790322 0.\n",
      " 0.53620127 0.         0.         0.383119   0.71344998 0.31152583\n",
      " 0.40132408 0.43032846 0.82456453 0.42352952 0.58790114 0.59685937\n",
      " 0.         0.66642464 0.66316821 0.30323132 0.56155106 0.\n",
      " 0.95706732 0.         0.95778361 0.         0.73322543 0.\n",
      " 0.44154586 0.44696019 0.97681251 0.47733624 0.         0.59096021\n",
      " 0.48505963 0.74218053 0.         0.72644066 0.80742061 0.46964041\n",
      " 0.52416696 0.71589071 0.83632682 0.77902002 0.79896349 0.\n",
      " 0.         0.94488091 0.6381225  0.28147752 0.         0.39134023\n",
      " 0.84607837 0.68332617 0.         0.82116298 0.49594187 0.\n",
      " 0.44149325 0.55540378 0.         0.         0.29093814 0.28764474\n",
      " 0.80578013 0.         0.         0.77744529 0.86721934 0.27990627\n",
      " 0.         0.89108847 0.4219728  0.78036483 0.         0.\n",
      " 0.7991447  0.32818259 0.9689384  0.69583811]\n"
     ]
    }
   ],
   "source": [
    "sensor_std = np.std(sensor_data)\n",
    "print('standerd deviation ',sensor_std)\n",
    "sensor_data[sensor_data<sensor_std]=0\n",
    "print('values above 1 std \\n',sensor_data)"
   ]
  },
  {
   "cell_type": "code",
   "execution_count": 880,
   "metadata": {
    "colab": {
     "base_uri": "https://localhost:8080/"
    },
    "executionInfo": {
     "elapsed": 10,
     "status": "ok",
     "timestamp": 1758341214814,
     "user": {
      "displayName": "Tushar Raj",
      "userId": "04399146470560759060"
     },
     "user_tz": -330
    },
    "id": "iJsLM2yLKfJa",
    "outputId": "c46806c5-f312-40c0-fdea-c3a3a95e557c"
   },
   "outputs": [
    {
     "name": "stdout",
     "output_type": "stream",
     "text": [
      "sensor data that are above std \n",
      " [0.68945559 0.53355978 0.87955569 0.50922763 0.9079639  0.52678758\n",
      " 0.68591695 0.64980792 0.38724642 0.2944842  0.95656828 0.84642431\n",
      " 0.55021354 0.88066449 0.61841425 0.52842909 0.32790322 0.53620127\n",
      " 0.383119   0.71344998 0.31152583 0.40132408 0.43032846 0.82456453\n",
      " 0.42352952 0.58790114 0.59685937 0.66642464 0.66316821 0.30323132\n",
      " 0.56155106 0.95706732 0.95778361 0.73322543 0.44154586 0.44696019\n",
      " 0.97681251 0.47733624 0.59096021 0.48505963 0.74218053 0.72644066\n",
      " 0.80742061 0.46964041 0.52416696 0.71589071 0.83632682 0.77902002\n",
      " 0.79896349 0.94488091 0.6381225  0.28147752 0.39134023 0.84607837\n",
      " 0.68332617 0.82116298 0.49594187 0.44149325 0.55540378 0.29093814\n",
      " 0.28764474 0.80578013 0.77744529 0.86721934 0.27990627 0.89108847\n",
      " 0.4219728  0.78036483 0.7991447  0.32818259 0.9689384  0.69583811]\n"
     ]
    }
   ],
   "source": [
    "\n",
    "print('sensor data that are above std \\n',sensor_data[sensor_data!=0])"
   ]
  },
  {
   "cell_type": "markdown",
   "metadata": {
    "id": "KhUwSvYRKwj4"
   },
   "source": [
    "---\n",
    "**Problem 4: DNA Sequence Encoding**\n",
    "\n",
    "Represent a DNA sequence (A=0, C=1, G=2, T=3) as a 1D NumPy array of length 20.\n",
    "\n",
    "• Extract all occurrences of G and T."
   ]
  },
  {
   "cell_type": "code",
   "execution_count": 881,
   "metadata": {
    "colab": {
     "base_uri": "https://localhost:8080/"
    },
    "executionInfo": {
     "elapsed": 11,
     "status": "ok",
     "timestamp": 1758341214826,
     "user": {
      "displayName": "Tushar Raj",
      "userId": "04399146470560759060"
     },
     "user_tz": -330
    },
    "id": "f5FUxInkK1O6",
    "outputId": "467a4dbc-700c-4b02-b6cc-4c5a2f82eaba"
   },
   "outputs": [
    {
     "data": {
      "text/plain": [
       "array([1, 3, 3, 3, 3, 0, 1, 2, 3, 3, 2, 2, 3, 0, 3, 2, 0, 0, 3, 0])"
      ]
     },
     "execution_count": 881,
     "metadata": {},
     "output_type": "execute_result"
    }
   ],
   "source": [
    "dna_data = np.array([np.random.randint(0,4) for i in range(0,20)])\n",
    "dna_data"
   ]
  },
  {
   "cell_type": "markdown",
   "metadata": {
    "id": "fwZQimUnL895"
   },
   "source": [
    "• Extract all occurrences of G and T."
   ]
  },
  {
   "cell_type": "code",
   "execution_count": 882,
   "metadata": {
    "colab": {
     "base_uri": "https://localhost:8080/"
    },
    "executionInfo": {
     "elapsed": 10,
     "status": "ok",
     "timestamp": 1758341214838,
     "user": {
      "displayName": "Tushar Raj",
      "userId": "04399146470560759060"
     },
     "user_tz": -330
    },
    "id": "5I1OXH9mLboZ",
    "outputId": "faff46c1-ee06-4546-97e5-98a945336f87"
   },
   "outputs": [
    {
     "data": {
      "text/plain": [
       "array([3, 3, 3, 3, 2, 3, 3, 2, 2, 3, 3, 2, 3])"
      ]
     },
     "execution_count": 882,
     "metadata": {},
     "output_type": "execute_result"
    }
   ],
   "source": [
    "gt = dna_data[dna_data>1]\n",
    "gt"
   ]
  },
  {
   "cell_type": "markdown",
   "metadata": {
    "id": "DU9G21pXL_wC"
   },
   "source": [
    "• Replace all A with -1 using fancy indexing."
   ]
  },
  {
   "cell_type": "code",
   "execution_count": 883,
   "metadata": {
    "colab": {
     "base_uri": "https://localhost:8080/"
    },
    "executionInfo": {
     "elapsed": 51,
     "status": "ok",
     "timestamp": 1758341214890,
     "user": {
      "displayName": "Tushar Raj",
      "userId": "04399146470560759060"
     },
     "user_tz": -330
    },
    "id": "i_Fw_UheL9hk",
    "outputId": "e16913fb-483e-4afe-df8e-7d7a9014e9b1"
   },
   "outputs": [
    {
     "data": {
      "text/plain": [
       "array([ 1,  3,  3,  3,  3, -1,  1,  2,  3,  3,  2,  2,  3, -1,  3,  2, -1,\n",
       "       -1,  3, -1])"
      ]
     },
     "execution_count": 883,
     "metadata": {},
     "output_type": "execute_result"
    }
   ],
   "source": [
    "dna_data[dna_data==0]=-1\n",
    "dna_data"
   ]
  },
  {
   "cell_type": "markdown",
   "metadata": {
    "id": "BViJ7SVDMJ34"
   },
   "source": [
    "---\n",
    "**Problem 5: Employee Salaries**\n",
    "\n",
    "Create a 1D array of 20 salaries."
   ]
  },
  {
   "cell_type": "code",
   "execution_count": 884,
   "metadata": {
    "executionInfo": {
     "elapsed": 2,
     "status": "ok",
     "timestamp": 1758341214906,
     "user": {
      "displayName": "Tushar Raj",
      "userId": "04399146470560759060"
     },
     "user_tz": -330
    },
    "id": "38k_iwx5MMOQ"
   },
   "outputs": [],
   "source": [
    "salaries_data = np.array([np.random.randint(10000,100000) for i in range(0,20)])"
   ]
  },
  {
   "cell_type": "markdown",
   "metadata": {
    "id": "tHlVQduaAPVb"
   },
   "source": [
    "Extract salaries of employees whose index is in [2, 5, 7, 11, 15]."
   ]
  },
  {
   "cell_type": "code",
   "execution_count": 885,
   "metadata": {
    "colab": {
     "base_uri": "https://localhost:8080/"
    },
    "executionInfo": {
     "elapsed": 16,
     "status": "ok",
     "timestamp": 1758341214924,
     "user": {
      "displayName": "Tushar Raj",
      "userId": "04399146470560759060"
     },
     "user_tz": -330
    },
    "id": "XHtA-F1r2Ojb",
    "outputId": "1a223da3-3abf-4f0d-826e-d54bdba57804"
   },
   "outputs": [
    {
     "data": {
      "text/plain": [
       "array([38663, 89568, 98106, 64316, 78410])"
      ]
     },
     "execution_count": 885,
     "metadata": {},
     "output_type": "execute_result"
    }
   ],
   "source": [
    "salaries_data[[2, 5, 7, 11, 15]]"
   ]
  },
  {
   "cell_type": "markdown",
   "metadata": {
    "id": "dtcP7wW9ARhI"
   },
   "source": [
    "Give a 10% raise only to these extracted salaries using fancy indexing."
   ]
  },
  {
   "cell_type": "code",
   "execution_count": 886,
   "metadata": {
    "colab": {
     "base_uri": "https://localhost:8080/"
    },
    "executionInfo": {
     "elapsed": 31,
     "status": "ok",
     "timestamp": 1758341214973,
     "user": {
      "displayName": "Tushar Raj",
      "userId": "04399146470560759060"
     },
     "user_tz": -330
    },
    "id": "MbSdnwC44_Yg",
    "outputId": "642d5cde-861b-40b9-b2af-a0ac3d52eb00"
   },
   "outputs": [
    {
     "data": {
      "text/plain": [
       "array([ 42529,  98524, 107916,  70747,  86251])"
      ]
     },
     "execution_count": 886,
     "metadata": {},
     "output_type": "execute_result"
    }
   ],
   "source": [
    "salaries_data[[2, 5, 7, 11, 15]] = salaries_data[[2, 5, 7, 11, 15]]*1.1\n",
    "salaries_data[[2, 5, 7, 11, 15]]"
   ]
  },
  {
   "cell_type": "markdown",
   "metadata": {
    "id": "cDqAgLzI4_Qf"
   },
   "source": [
    "---\n",
    "**2D Array Use Cases\n",
    "Problem 6: Matrix Row/Column Extraction**"
   ]
  },
  {
   "cell_type": "markdown",
   "metadata": {
    "id": "akWwrBxdBgo5"
   },
   "source": [
    "Create a 6x6 matrix of integers from 1 to 36."
   ]
  },
  {
   "cell_type": "code",
   "execution_count": 887,
   "metadata": {
    "colab": {
     "base_uri": "https://localhost:8080/"
    },
    "executionInfo": {
     "elapsed": 10,
     "status": "ok",
     "timestamp": 1758341215022,
     "user": {
      "displayName": "Tushar Raj",
      "userId": "04399146470560759060"
     },
     "user_tz": -330
    },
    "id": "MVwokMg8BjFH",
    "outputId": "25f39ace-0286-4d3a-c31e-95fb32ed5366"
   },
   "outputs": [
    {
     "data": {
      "text/plain": [
       "array([[ 8,  6, 20, 16, 33, 17],\n",
       "       [ 3,  6,  1,  1,  4, 23],\n",
       "       [ 4, 20,  2, 22, 19,  2],\n",
       "       [25,  5, 11, 19, 10, 34],\n",
       "       [23, 11, 12, 23, 16, 28],\n",
       "       [30, 10,  3,  4,  2, 14]])"
      ]
     },
     "execution_count": 887,
     "metadata": {},
     "output_type": "execute_result"
    }
   ],
   "source": [
    "data = np.random.randint(1,36,size=(6,6))\n",
    "data"
   ]
  },
  {
   "cell_type": "markdown",
   "metadata": {
    "id": "p_txrNlfCBf2"
   },
   "source": [
    "Extract all elements from rows [1, 3, 5] and columns [0, 2, 4] using fancy indexing."
   ]
  },
  {
   "cell_type": "code",
   "execution_count": 888,
   "metadata": {
    "colab": {
     "base_uri": "https://localhost:8080/"
    },
    "executionInfo": {
     "elapsed": 14,
     "status": "ok",
     "timestamp": 1758341215037,
     "user": {
      "displayName": "Tushar Raj",
      "userId": "04399146470560759060"
     },
     "user_tz": -330
    },
    "id": "CZ4J87JdCAtd",
    "outputId": "0d836ed0-d5ca-4f06-abb7-922541700dea"
   },
   "outputs": [
    {
     "data": {
      "text/plain": [
       "array([ 3, 11,  2])"
      ]
     },
     "execution_count": 888,
     "metadata": {},
     "output_type": "execute_result"
    }
   ],
   "source": [
    "data[[1,3,5],[0,2,4]]"
   ]
  },
  {
   "cell_type": "markdown",
   "metadata": {
    "id": "b0mAPlBaCOaV"
   },
   "source": [
    "---\n",
    "**Problem 7: Student Marks Table**\n",
    "\n",
    "Generate a 10x5 array representing 10 students and 5 subjects."
   ]
  },
  {
   "cell_type": "code",
   "execution_count": 889,
   "metadata": {
    "colab": {
     "base_uri": "https://localhost:8080/"
    },
    "executionInfo": {
     "elapsed": 11,
     "status": "ok",
     "timestamp": 1758341215059,
     "user": {
      "displayName": "Tushar Raj",
      "userId": "04399146470560759060"
     },
     "user_tz": -330
    },
    "id": "k4RPngAKCTf3",
    "outputId": "efbfff64-3ce0-4ef5-c946-51fa535dedf6"
   },
   "outputs": [
    {
     "data": {
      "text/plain": [
       "(10, 5)"
      ]
     },
     "execution_count": 889,
     "metadata": {},
     "output_type": "execute_result"
    }
   ],
   "source": [
    "data = np.random.randint(0,100,size=(10,5))\n",
    "data.shape"
   ]
  },
  {
   "cell_type": "markdown",
   "metadata": {
    "id": "ydzQgUqmDQTl"
   },
   "source": [
    "• Extract marks of students [2, 4, 6, 8] in subjects [1, 3]."
   ]
  },
  {
   "cell_type": "code",
   "execution_count": 890,
   "metadata": {
    "colab": {
     "base_uri": "https://localhost:8080/"
    },
    "executionInfo": {
     "elapsed": 36,
     "status": "ok",
     "timestamp": 1758341215096,
     "user": {
      "displayName": "Tushar Raj",
      "userId": "04399146470560759060"
     },
     "user_tz": -330
    },
    "id": "JKefjG57DTIe",
    "outputId": "45abd66d-f349-4846-b152-ed8edebb31c5"
   },
   "outputs": [
    {
     "data": {
      "text/plain": [
       "array([[38,  0],\n",
       "       [ 3,  1],\n",
       "       [98, 33],\n",
       "       [33, 84]])"
      ]
     },
     "execution_count": 890,
     "metadata": {},
     "output_type": "execute_result"
    }
   ],
   "source": [
    "data[np.ix_([2,4,6,8],[1,3])]"
   ]
  },
  {
   "cell_type": "markdown",
   "metadata": {
    "id": "vLSIkf3MEblr"
   },
   "source": [
    "Replace all marks below 30 with 0 for these students."
   ]
  },
  {
   "cell_type": "code",
   "execution_count": 891,
   "metadata": {
    "colab": {
     "base_uri": "https://localhost:8080/"
    },
    "executionInfo": {
     "elapsed": 50,
     "status": "ok",
     "timestamp": 1758341215147,
     "user": {
      "displayName": "Tushar Raj",
      "userId": "04399146470560759060"
     },
     "user_tz": -330
    },
    "id": "B0kJMmkQEcKb",
    "outputId": "78281071-3f11-4bfc-b5e9-c800ba7f1a73"
   },
   "outputs": [
    {
     "data": {
      "text/plain": [
       "array([[ 0, 97,  0, 48, 89],\n",
       "       [30,  0, 46, 86, 54],\n",
       "       [40, 38, 41,  0,  0],\n",
       "       [ 0,  0, 53, 43, 57],\n",
       "       [ 0,  0,  0,  0, 62],\n",
       "       [ 0, 99, 83,  0, 68],\n",
       "       [ 0, 98, 46, 33, 55],\n",
       "       [ 0, 44,  0, 45,  0],\n",
       "       [60, 33, 89, 84, 92],\n",
       "       [66, 42, 88, 61, 39]])"
      ]
     },
     "execution_count": 891,
     "metadata": {},
     "output_type": "execute_result"
    }
   ],
   "source": [
    "data[data<30]=0\n",
    "data"
   ]
  },
  {
   "cell_type": "markdown",
   "metadata": {
    "id": "vmXqxj2SEiot"
   },
   "source": [
    "---\n",
    "**Problem 8: Airline Seat Booking**\n",
    "\n",
    "Create a 12x6 seating matrix (rows × columns)."
   ]
  },
  {
   "cell_type": "code",
   "execution_count": 892,
   "metadata": {
    "colab": {
     "base_uri": "https://localhost:8080/"
    },
    "executionInfo": {
     "elapsed": 18,
     "status": "ok",
     "timestamp": 1758341215166,
     "user": {
      "displayName": "Tushar Raj",
      "userId": "04399146470560759060"
     },
     "user_tz": -330
    },
    "id": "wkoqI7wjEosl",
    "outputId": "565de00d-f937-48b1-e068-393e4af8215d"
   },
   "outputs": [
    {
     "data": {
      "text/plain": [
       "(12, 6)"
      ]
     },
     "execution_count": 892,
     "metadata": {},
     "output_type": "execute_result"
    }
   ],
   "source": [
    "data = np.random.randint(0,2,size=(12,6))\n",
    "data.shape"
   ]
  },
  {
   "cell_type": "code",
   "execution_count": 893,
   "metadata": {
    "colab": {
     "base_uri": "https://localhost:8080/"
    },
    "executionInfo": {
     "elapsed": 20,
     "status": "ok",
     "timestamp": 1758341215187,
     "user": {
      "displayName": "Tushar Raj",
      "userId": "04399146470560759060"
     },
     "user_tz": -330
    },
    "id": "5rH0kdx6FHTb",
    "outputId": "3be208be-bc08-4547-e286-1e321cef2e73"
   },
   "outputs": [
    {
     "data": {
      "text/plain": [
       "array([[1, 1, 0, 1, 1, 0],\n",
       "       [1, 0, 0, 0, 1, 1],\n",
       "       [0, 0, 1, 1, 0, 0],\n",
       "       [0, 0, 1, 0, 0, 0],\n",
       "       [1, 0, 0, 0, 1, 0],\n",
       "       [1, 0, 0, 0, 0, 1],\n",
       "       [0, 0, 1, 0, 1, 0],\n",
       "       [0, 0, 0, 0, 1, 0],\n",
       "       [0, 0, 0, 1, 0, 0],\n",
       "       [1, 0, 0, 1, 1, 0],\n",
       "       [1, 0, 1, 1, 0, 0],\n",
       "       [1, 0, 1, 0, 1, 1]])"
      ]
     },
     "execution_count": 893,
     "metadata": {},
     "output_type": "execute_result"
    }
   ],
   "source": [
    "data"
   ]
  },
  {
   "cell_type": "markdown",
   "metadata": {
    "id": "o-DihSHkEoA7"
   },
   "source": [
    "• Extract all aisle seats (first and last column)."
   ]
  },
  {
   "cell_type": "code",
   "execution_count": 894,
   "metadata": {
    "colab": {
     "base_uri": "https://localhost:8080/"
    },
    "executionInfo": {
     "elapsed": 41,
     "status": "ok",
     "timestamp": 1758341215229,
     "user": {
      "displayName": "Tushar Raj",
      "userId": "04399146470560759060"
     },
     "user_tz": -330
    },
    "id": "cCzu92doE8VL",
    "outputId": "9fb337a5-0975-4fd1-d51b-aa16ad7cd766"
   },
   "outputs": [
    {
     "data": {
      "text/plain": [
       "array([[1, 0],\n",
       "       [1, 1],\n",
       "       [0, 0],\n",
       "       [0, 0],\n",
       "       [1, 0],\n",
       "       [1, 1],\n",
       "       [0, 0],\n",
       "       [0, 0],\n",
       "       [0, 0],\n",
       "       [1, 0],\n",
       "       [1, 0],\n",
       "       [1, 1]])"
      ]
     },
     "execution_count": 894,
     "metadata": {},
     "output_type": "execute_result"
    }
   ],
   "source": [
    "data[:,[0,-1]]"
   ]
  },
  {
   "cell_type": "markdown",
   "metadata": {
    "id": "DgVMAbG4FJMK"
   },
   "source": [
    "Mark seats [row=2, cols=[1,2,4]] as booked (-1) using fancy indexing."
   ]
  },
  {
   "cell_type": "code",
   "execution_count": 895,
   "metadata": {
    "colab": {
     "base_uri": "https://localhost:8080/"
    },
    "executionInfo": {
     "elapsed": 42,
     "status": "ok",
     "timestamp": 1758341215284,
     "user": {
      "displayName": "Tushar Raj",
      "userId": "04399146470560759060"
     },
     "user_tz": -330
    },
    "id": "tojqIorqFLIC",
    "outputId": "61c633ef-4530-4d67-c5ce-9d16bd4a8e46"
   },
   "outputs": [
    {
     "data": {
      "text/plain": [
       "array([0, 1, 0])"
      ]
     },
     "execution_count": 895,
     "metadata": {},
     "output_type": "execute_result"
    }
   ],
   "source": [
    "result = data[2,[1,2,4]]\n",
    "result"
   ]
  },
  {
   "cell_type": "markdown",
   "metadata": {
    "id": "rdWxU184GONi"
   },
   "source": [
    "---\n",
    "**Problem 9: Chessboard Pattern**\n",
    "\n",
    "Create an 8x8 matrix with values from 0–63."
   ]
  },
  {
   "cell_type": "code",
   "execution_count": 896,
   "metadata": {
    "colab": {
     "base_uri": "https://localhost:8080/"
    },
    "executionInfo": {
     "elapsed": 22,
     "status": "ok",
     "timestamp": 1758341215308,
     "user": {
      "displayName": "Tushar Raj",
      "userId": "04399146470560759060"
     },
     "user_tz": -330
    },
    "id": "iCZZRNQDGTKD",
    "outputId": "63706dbe-07a5-4f5d-8d0a-b042cf226352"
   },
   "outputs": [
    {
     "data": {
      "text/plain": [
       "array([[31,  6,  8, 17, 25, 13, 20,  8],\n",
       "       [13,  3, 30,  9,  7, 25,  8, 19],\n",
       "       [ 4,  8, 15, 29,  3, 24, 18, 14],\n",
       "       [28, 29, 18, 18, 16, 15, 31, 34],\n",
       "       [15,  2, 18, 31, 15, 20, 16,  7],\n",
       "       [28, 15, 28, 22, 17,  3, 21, 18],\n",
       "       [28,  1, 14, 31, 29, 17, 26, 30],\n",
       "       [ 4, 31,  1,  0, 12,  0, 22, 17]])"
      ]
     },
     "execution_count": 896,
     "metadata": {},
     "output_type": "execute_result"
    }
   ],
   "source": [
    "data = np.random.randint(0,36,size=(8,8))\n",
    "data"
   ]
  },
  {
   "cell_type": "markdown",
   "metadata": {
    "id": "12NtivedGcTK"
   },
   "source": [
    "Extract all black squares (even row + odd column, odd row + even column)."
   ]
  },
  {
   "cell_type": "code",
   "execution_count": 897,
   "metadata": {
    "colab": {
     "base_uri": "https://localhost:8080/"
    },
    "executionInfo": {
     "elapsed": 25,
     "status": "ok",
     "timestamp": 1758341215334,
     "user": {
      "displayName": "Tushar Raj",
      "userId": "04399146470560759060"
     },
     "user_tz": -330
    },
    "id": "QEuZKbJIGbv5",
    "outputId": "fded0eca-363c-4535-9bd2-b8bd2b6549fe"
   },
   "outputs": [
    {
     "data": {
      "text/plain": [
       "array([[13, 30,  7,  8],\n",
       "       [28, 18, 16, 31],\n",
       "       [28, 28, 17, 21],\n",
       "       [ 4,  1, 12, 22]])"
      ]
     },
     "execution_count": 897,
     "metadata": {},
     "output_type": "execute_result"
    }
   ],
   "source": [
    "temp = data[np.ix_([1,3,5,7],[0,2,4,6])]\n",
    "temp"
   ]
  },
  {
   "cell_type": "code",
   "execution_count": 898,
   "metadata": {
    "colab": {
     "base_uri": "https://localhost:8080/"
    },
    "executionInfo": {
     "elapsed": 13,
     "status": "ok",
     "timestamp": 1758341215349,
     "user": {
      "displayName": "Tushar Raj",
      "userId": "04399146470560759060"
     },
     "user_tz": -330
    },
    "id": "W08QQCRmHesj",
    "outputId": "af990a40-2b9f-4c18-97cd-59f62858bbc3"
   },
   "outputs": [
    {
     "data": {
      "text/plain": [
       "array([[31, -1,  8, -1, 25, -1, 20, -1],\n",
       "       [13,  3, 30,  9,  7, 25,  8, 19],\n",
       "       [ 4, -1, 15, -1,  3, -1, 18, -1],\n",
       "       [28, 29, 18, 18, 16, 15, 31, 34],\n",
       "       [15, -1, 18, -1, 15, -1, 16, -1],\n",
       "       [28, 15, 28, 22, 17,  3, 21, 18],\n",
       "       [28, -1, 14, -1, 29, -1, 26, -1],\n",
       "       [ 4, 31,  1,  0, 12,  0, 22, 17]])"
      ]
     },
     "execution_count": 898,
     "metadata": {},
     "output_type": "execute_result"
    }
   ],
   "source": [
    "data[np.ix_([0,2,4,6],[1,3,5,7])] = -1\n",
    "data"
   ]
  },
  {
   "cell_type": "markdown",
   "metadata": {
    "id": "6u4DD6RyH3O6"
   },
   "source": [
    "---\n",
    "**Problem 10: Product Sales Data**\n",
    "\n",
    "Create a 5x7 array representing sales of 5 products over 7 days."
   ]
  },
  {
   "cell_type": "code",
   "execution_count": 899,
   "metadata": {
    "colab": {
     "base_uri": "https://localhost:8080/"
    },
    "executionInfo": {
     "elapsed": 15,
     "status": "ok",
     "timestamp": 1758341215366,
     "user": {
      "displayName": "Tushar Raj",
      "userId": "04399146470560759060"
     },
     "user_tz": -330
    },
    "id": "Cpda-f4IH9th",
    "outputId": "eb4c7d40-61e5-45be-9191-ab07dd64a48d"
   },
   "outputs": [
    {
     "data": {
      "text/plain": [
       "array([[781, 306, 982, 420, 826, 247, 404],\n",
       "       [721, 260, 517, 144, 521, 782, 769],\n",
       "       [935, 985, 337, 278, 102, 738, 493],\n",
       "       [601, 800, 466, 287, 569, 723, 357],\n",
       "       [171, 724, 670, 746, 993, 693, 197]])"
      ]
     },
     "execution_count": 899,
     "metadata": {},
     "output_type": "execute_result"
    }
   ],
   "source": [
    "data = np.random.randint(100,1000,size=(5,7))\n",
    "data"
   ]
  },
  {
   "cell_type": "markdown",
   "metadata": {
    "id": "BBH3aWwhILrP"
   },
   "source": [
    "Extract sales of products [1, 3] on days [2, 4, 6]."
   ]
  },
  {
   "cell_type": "code",
   "execution_count": 900,
   "metadata": {
    "colab": {
     "base_uri": "https://localhost:8080/"
    },
    "executionInfo": {
     "elapsed": 53,
     "status": "ok",
     "timestamp": 1758341215421,
     "user": {
      "displayName": "Tushar Raj",
      "userId": "04399146470560759060"
     },
     "user_tz": -330
    },
    "id": "NVSNrh7XILD3",
    "outputId": "c2f6cebd-ef77-4735-cf28-12b72d292f54"
   },
   "outputs": [
    {
     "data": {
      "text/plain": [
       "array([[517, 521, 769],\n",
       "       [337, 102, 493]])"
      ]
     },
     "execution_count": 900,
     "metadata": {},
     "output_type": "execute_result"
    }
   ],
   "source": [
    "data[np.ix_([1,2],[2,4,6])]"
   ]
  },
  {
   "cell_type": "markdown",
   "metadata": {
    "id": "V6UuCqCtIN0R"
   },
   "source": [
    "Increase those extracted values by 20%."
   ]
  },
  {
   "cell_type": "code",
   "execution_count": 901,
   "metadata": {
    "colab": {
     "base_uri": "https://localhost:8080/"
    },
    "executionInfo": {
     "elapsed": 12,
     "status": "ok",
     "timestamp": 1758341215435,
     "user": {
      "displayName": "Tushar Raj",
      "userId": "04399146470560759060"
     },
     "user_tz": -330
    },
    "id": "H_xeLQlaIPgA",
    "outputId": "40c2a037-9452-4174-cbd8-fe3ec1a19a4b"
   },
   "outputs": [
    {
     "data": {
      "text/plain": [
       "array([[ 781,  306,  982,  420,  826,  247,  404],\n",
       "       [ 721,  260, 1137,  144, 1146,  782, 1691],\n",
       "       [ 935,  985,  741,  278,  224,  738, 1084],\n",
       "       [ 601,  800,  466,  287,  569,  723,  357],\n",
       "       [ 171,  724,  670,  746,  993,  693,  197]])"
      ]
     },
     "execution_count": 901,
     "metadata": {},
     "output_type": "execute_result"
    }
   ],
   "source": [
    "data[np.ix_([1,2],[2,4,6])] = (data[np.ix_([1,2],[2,4,6])] *2.2).astype(int)\n",
    "data"
   ]
  },
  {
   "cell_type": "markdown",
   "metadata": {
    "id": "AGJ3KNh9JA6H"
   },
   "source": [
    "---\n",
    "**3D Array Use Cases**\n",
    "\n",
    "**Problem 11:\n",
    "Video Frames (RGB)**\n",
    "\n",
    "Create a 4x3x3 array representing 4 frames, each 3x3 pixel."
   ]
  },
  {
   "cell_type": "code",
   "execution_count": 902,
   "metadata": {
    "colab": {
     "base_uri": "https://localhost:8080/"
    },
    "executionInfo": {
     "elapsed": 17,
     "status": "ok",
     "timestamp": 1758341215453,
     "user": {
      "displayName": "Tushar Raj",
      "userId": "04399146470560759060"
     },
     "user_tz": -330
    },
    "id": "GBuNroB8JSuu",
    "outputId": "e6c33f75-1c36-4537-9a0c-9ffcf34070a5"
   },
   "outputs": [
    {
     "data": {
      "text/plain": [
       "array([[[8, 4, 8],\n",
       "        [0, 9, 6],\n",
       "        [4, 2, 7]],\n",
       "\n",
       "       [[3, 9, 9],\n",
       "        [4, 3, 4],\n",
       "        [5, 3, 4]],\n",
       "\n",
       "       [[9, 9, 9],\n",
       "        [1, 3, 1],\n",
       "        [7, 0, 0]],\n",
       "\n",
       "       [[5, 7, 1],\n",
       "        [2, 8, 2],\n",
       "        [1, 7, 0]]])"
      ]
     },
     "execution_count": 902,
     "metadata": {},
     "output_type": "execute_result"
    }
   ],
   "source": [
    "data = np.random.randint(0,10,size=(4,3,3))\n",
    "data"
   ]
  },
  {
   "cell_type": "markdown",
   "metadata": {
    "id": "337zZKFyJRr-"
   },
   "source": [
    "Extract the center pixel from each frame using fancy indexing."
   ]
  },
  {
   "cell_type": "code",
   "execution_count": 903,
   "metadata": {
    "colab": {
     "base_uri": "https://localhost:8080/"
    },
    "executionInfo": {
     "elapsed": 15,
     "status": "ok",
     "timestamp": 1758341215479,
     "user": {
      "displayName": "Tushar Raj",
      "userId": "04399146470560759060"
     },
     "user_tz": -330
    },
    "id": "4EaMDPgnJROI",
    "outputId": "86042ad7-e0aa-42fb-8da0-861f6deec7ca"
   },
   "outputs": [
    {
     "data": {
      "text/plain": [
       "array([9, 3, 3, 8])"
      ]
     },
     "execution_count": 903,
     "metadata": {},
     "output_type": "execute_result"
    }
   ],
   "source": [
    "data[:,1,1]"
   ]
  },
  {
   "cell_type": "markdown",
   "metadata": {
    "id": "kzSHW_oQJyLP"
   },
   "source": [
    "---\n",
    "**Problem 12: Weather Data**\n",
    "\n",
    "Create a (2, 12, 30) array → 2 years, 12 months, 30 days."
   ]
  },
  {
   "cell_type": "code",
   "execution_count": 904,
   "metadata": {
    "colab": {
     "base_uri": "https://localhost:8080/"
    },
    "executionInfo": {
     "elapsed": 64,
     "status": "ok",
     "timestamp": 1758341215544,
     "user": {
      "displayName": "Tushar Raj",
      "userId": "04399146470560759060"
     },
     "user_tz": -330
    },
    "id": "-3cXRwygJz5W",
    "outputId": "3eb5b378-0935-4ee7-8ff0-694ea426eaf6"
   },
   "outputs": [
    {
     "data": {
      "text/plain": [
       "(2, 12, 30)"
      ]
     },
     "execution_count": 904,
     "metadata": {},
     "output_type": "execute_result"
    }
   ],
   "source": [
    "data = np.random.randint(0,10,size=(2,12,30))\n",
    "data.shape\n"
   ]
  },
  {
   "cell_type": "markdown",
   "metadata": {
    "id": "3X0VNUjWJ3I4"
   },
   "source": [
    "Extract temperatures of months [0, 5, 11] for year 1 on days [10, 20]."
   ]
  },
  {
   "cell_type": "code",
   "execution_count": 905,
   "metadata": {
    "colab": {
     "base_uri": "https://localhost:8080/"
    },
    "executionInfo": {
     "elapsed": 40,
     "status": "ok",
     "timestamp": 1758341215585,
     "user": {
      "displayName": "Tushar Raj",
      "userId": "04399146470560759060"
     },
     "user_tz": -330
    },
    "id": "yuDE9XjUJ4T_",
    "outputId": "d607d928-7883-44af-d2d1-397f34dfc37b"
   },
   "outputs": [
    {
     "data": {
      "text/plain": [
       "array([[[7, 3],\n",
       "        [3, 1],\n",
       "        [7, 2]]])"
      ]
     },
     "execution_count": 905,
     "metadata": {},
     "output_type": "execute_result"
    }
   ],
   "source": [
    "data[np.ix_([0],[0,5,11],[10,20])]"
   ]
  },
  {
   "cell_type": "markdown",
   "metadata": {
    "id": "wcTJVXIa5DIW"
   },
   "source": [
    "---\n",
    "**Problem 13: Hospital Patient Records**\n",
    "\n",
    "Create a (3, 4, 5) array → 3 patients, 4 days, 5 test results/day.\n"
   ]
  },
  {
   "cell_type": "code",
   "execution_count": 906,
   "metadata": {
    "colab": {
     "base_uri": "https://localhost:8080/"
    },
    "executionInfo": {
     "elapsed": 20,
     "status": "ok",
     "timestamp": 1758341215606,
     "user": {
      "displayName": "Tushar Raj",
      "userId": "04399146470560759060"
     },
     "user_tz": -330
    },
    "id": "f7SWSAf85bfm",
    "outputId": "58561628-4088-4052-df49-7d57f6bffa16"
   },
   "outputs": [
    {
     "data": {
      "text/plain": [
       "array([[[20,  5, 16, 26, 17],\n",
       "        [23, 29, 19, 20, 21],\n",
       "        [28, 13, 21, 22, 10],\n",
       "        [22, 26, 21,  3, 19]],\n",
       "\n",
       "       [[20, 14, 27,  9, 11],\n",
       "        [ 9, 28,  4, 12,  5],\n",
       "        [ 4, 17, 19, 12, 11],\n",
       "        [21,  3, 12, 20, 28]],\n",
       "\n",
       "       [[26,  8, 19,  1, 14],\n",
       "        [14,  1,  5, 11, 18],\n",
       "        [25,  4, 25, 19,  4],\n",
       "        [ 6, 26,  7, 19, 13]]])"
      ]
     },
     "execution_count": 906,
     "metadata": {},
     "output_type": "execute_result"
    }
   ],
   "source": [
    "data = np.random.randint(1,30,size=(3,4,5))\n",
    "data"
   ]
  },
  {
   "cell_type": "markdown",
   "metadata": {
    "id": "TloPWldm5b8u"
   },
   "source": [
    "\n",
    "• Extract test results of patients [0, 2] on day 3 for tests [1, 3]."
   ]
  },
  {
   "cell_type": "code",
   "execution_count": 907,
   "metadata": {
    "colab": {
     "base_uri": "https://localhost:8080/"
    },
    "executionInfo": {
     "elapsed": 9,
     "status": "ok",
     "timestamp": 1758341215623,
     "user": {
      "displayName": "Tushar Raj",
      "userId": "04399146470560759060"
     },
     "user_tz": -330
    },
    "id": "HhfbpQdv5vrW",
    "outputId": "a9fcba1f-48fc-46e3-a68a-b3c9e8e77893"
   },
   "outputs": [
    {
     "data": {
      "text/plain": [
       "array([[[28, 21]],\n",
       "\n",
       "       [[25, 25]]])"
      ]
     },
     "execution_count": 907,
     "metadata": {},
     "output_type": "execute_result"
    }
   ],
   "source": [
    "ans = data[np.ix_([0,2],[2],[0,2])]\n",
    "ans"
   ]
  },
  {
   "cell_type": "markdown",
   "metadata": {
    "id": "cGbG_4ZABJN0"
   },
   "source": [
    "---\n",
    "**Problem 14: Sports Team Analytics**\n",
    "\n",
    "Create a (5, 6, 4) array → 5 teams, 6 matches, 4 stats each."
   ]
  },
  {
   "cell_type": "code",
   "execution_count": 908,
   "metadata": {
    "colab": {
     "base_uri": "https://localhost:8080/"
    },
    "executionInfo": {
     "elapsed": 20,
     "status": "ok",
     "timestamp": 1758341215682,
     "user": {
      "displayName": "Tushar Raj",
      "userId": "04399146470560759060"
     },
     "user_tz": -330
    },
    "id": "GViO_x2bBS2D",
    "outputId": "eb818518-4e69-4bb1-8ef2-21e1a8319709"
   },
   "outputs": [
    {
     "data": {
      "text/plain": [
       "array([[[28, 13, 26, 19],\n",
       "        [18, 13, 22, 24],\n",
       "        [27, 22, 12, 11],\n",
       "        [14, 20, 10, 27],\n",
       "        [11, 12, 29, 28],\n",
       "        [16, 13, 15, 16]],\n",
       "\n",
       "       [[18, 11, 23, 22],\n",
       "        [25, 10, 17, 21],\n",
       "        [13, 24, 28, 19],\n",
       "        [15, 22, 23, 27],\n",
       "        [19, 10, 17, 19],\n",
       "        [19, 19, 10, 29]],\n",
       "\n",
       "       [[29, 26, 22, 13],\n",
       "        [27, 29, 13, 22],\n",
       "        [21, 23, 28, 22],\n",
       "        [10, 23, 22, 18],\n",
       "        [15, 22, 20, 23],\n",
       "        [25, 20, 22, 28]],\n",
       "\n",
       "       [[23, 15, 15, 11],\n",
       "        [21, 15, 26, 25],\n",
       "        [16, 20, 17, 26],\n",
       "        [26, 24, 26, 20],\n",
       "        [12, 11, 27, 28],\n",
       "        [17, 25, 15, 13]],\n",
       "\n",
       "       [[21, 19, 26, 11],\n",
       "        [24, 25, 24, 16],\n",
       "        [19, 16, 29, 12],\n",
       "        [24, 24, 22, 25],\n",
       "        [24, 27, 15, 13],\n",
       "        [28, 12, 20, 27]]])"
      ]
     },
     "execution_count": 908,
     "metadata": {},
     "output_type": "execute_result"
    }
   ],
   "source": [
    "data = np.random.randint(10,30,size=(5,6,4))\n",
    "data"
   ]
  },
  {
   "cell_type": "markdown",
   "metadata": {
    "id": "gziVLXENBkIz"
   },
   "source": [
    "• Extract stats of teams [1, 3, 4] for matches [2, 5]."
   ]
  },
  {
   "cell_type": "code",
   "execution_count": 909,
   "metadata": {
    "colab": {
     "base_uri": "https://localhost:8080/"
    },
    "executionInfo": {
     "elapsed": 21,
     "status": "ok",
     "timestamp": 1758341215704,
     "user": {
      "displayName": "Tushar Raj",
      "userId": "04399146470560759060"
     },
     "user_tz": -330
    },
    "id": "a9DMeXXzBmlz",
    "outputId": "7ab1c2b8-9816-4b65-bd4e-6b6f461213a1"
   },
   "outputs": [
    {
     "data": {
      "text/plain": [
       "array([[[18, 13, 22, 24],\n",
       "        [11, 12, 29, 28]],\n",
       "\n",
       "       [[27, 29, 13, 22],\n",
       "        [15, 22, 20, 23]],\n",
       "\n",
       "       [[21, 15, 26, 25],\n",
       "        [12, 11, 27, 28]]])"
      ]
     },
     "execution_count": 909,
     "metadata": {},
     "output_type": "execute_result"
    }
   ],
   "source": [
    "data[np.ix_([0,2,3],[1,4])]"
   ]
  },
  {
   "cell_type": "markdown",
   "metadata": {
    "id": "cmx5hHwrCMzs"
   },
   "source": [
    "---\n",
    "**Problem 15: Movie Ratings**\n",
    "\n",
    "Create a (10, 5, 4) array → 10 movies, 5 critics, 4 rating categories."
   ]
  },
  {
   "cell_type": "code",
   "execution_count": 910,
   "metadata": {
    "colab": {
     "base_uri": "https://localhost:8080/"
    },
    "executionInfo": {
     "elapsed": 17,
     "status": "ok",
     "timestamp": 1758341215732,
     "user": {
      "displayName": "Tushar Raj",
      "userId": "04399146470560759060"
     },
     "user_tz": -330
    },
    "id": "ExbtpnuMCSkD",
    "outputId": "fead411b-6c5e-48e1-ef4a-d0b7c9d73f9d"
   },
   "outputs": [
    {
     "data": {
      "text/plain": [
       "array([[[17, 18, 12, 18],\n",
       "        [13, 20, 17, 25],\n",
       "        [12, 27, 10, 19],\n",
       "        [12, 10, 11, 12],\n",
       "        [29, 15, 23, 11]],\n",
       "\n",
       "       [[12, 13, 16, 22],\n",
       "        [23, 13, 20, 19],\n",
       "        [29, 23, 10, 17],\n",
       "        [24, 24, 18, 11],\n",
       "        [12, 26, 12, 24]],\n",
       "\n",
       "       [[14, 26, 23, 15],\n",
       "        [11, 11, 29, 18],\n",
       "        [16, 11, 14, 11],\n",
       "        [27, 21, 19, 12],\n",
       "        [17, 19, 23, 16]],\n",
       "\n",
       "       [[22, 29, 11, 17],\n",
       "        [27, 11, 19, 10],\n",
       "        [19, 11, 22, 22],\n",
       "        [15, 12, 29, 19],\n",
       "        [29, 26, 11, 13]],\n",
       "\n",
       "       [[21, 17, 15, 25],\n",
       "        [29, 27, 18, 19],\n",
       "        [18, 18, 13, 29],\n",
       "        [12, 14, 22, 15],\n",
       "        [19, 29, 26, 17]],\n",
       "\n",
       "       [[11, 27, 28, 18],\n",
       "        [12, 28, 23, 13],\n",
       "        [16, 26, 18, 24],\n",
       "        [10, 21, 15, 12],\n",
       "        [11, 18, 13, 19]],\n",
       "\n",
       "       [[22, 13, 22, 24],\n",
       "        [23, 25, 17, 14],\n",
       "        [11, 19, 13, 22],\n",
       "        [26, 17, 24, 26],\n",
       "        [19, 29, 12, 21]],\n",
       "\n",
       "       [[24, 27, 16, 19],\n",
       "        [20, 12, 19, 17],\n",
       "        [28, 17, 14, 10],\n",
       "        [22, 15, 25, 16],\n",
       "        [22, 29, 27, 17]],\n",
       "\n",
       "       [[28, 19, 16, 27],\n",
       "        [21, 19, 17, 23],\n",
       "        [21, 12, 12, 17],\n",
       "        [23, 24, 10, 12],\n",
       "        [23, 28, 10, 21]],\n",
       "\n",
       "       [[27, 14, 27, 21],\n",
       "        [23, 22, 17, 12],\n",
       "        [12, 27, 20, 15],\n",
       "        [25, 29, 14, 22],\n",
       "        [17, 22, 21, 12]]])"
      ]
     },
     "execution_count": 910,
     "metadata": {},
     "output_type": "execute_result"
    }
   ],
   "source": [
    "data = np.random.randint(10,30,size=(10,5,4))\n",
    "data"
   ]
  },
  {
   "cell_type": "markdown",
   "metadata": {
    "id": "n4avejOJCSzD"
   },
   "source": [
    "Extract ratings of movies [2, 4, 7] by critics [1, 3] in categories [0, 2]."
   ]
  },
  {
   "cell_type": "code",
   "execution_count": 911,
   "metadata": {
    "colab": {
     "base_uri": "https://localhost:8080/"
    },
    "executionInfo": {
     "elapsed": 22,
     "status": "ok",
     "timestamp": 1758341215755,
     "user": {
      "displayName": "Tushar Raj",
      "userId": "04399146470560759060"
     },
     "user_tz": -330
    },
    "id": "dYGK503GCTPD",
    "outputId": "59340078-fb12-4243-e598-bd59d4586eb0"
   },
   "outputs": [
    {
     "data": {
      "text/plain": [
       "array([[[11, 29],\n",
       "        [27, 19]],\n",
       "\n",
       "       [[29, 18],\n",
       "        [12, 22]],\n",
       "\n",
       "       [[20, 19],\n",
       "        [22, 25]]])"
      ]
     },
     "execution_count": 911,
     "metadata": {},
     "output_type": "execute_result"
    }
   ],
   "source": [
    "data[np.ix_([2,4,7],[1,3],[0,2])]"
   ]
  },
  {
   "cell_type": "markdown",
   "metadata": {
    "id": "Uzi2nkXuDDj8"
   },
   "source": [
    "---\n",
    "**Problem 16: IoT Device Monitoring**\n",
    "\n",
    "Create a (3, 24, 7) array → 3 devices, 24 hours, 7 days."
   ]
  },
  {
   "cell_type": "code",
   "execution_count": 912,
   "metadata": {
    "colab": {
     "base_uri": "https://localhost:8080/"
    },
    "executionInfo": {
     "elapsed": 44,
     "status": "ok",
     "timestamp": 1758341215801,
     "user": {
      "displayName": "Tushar Raj",
      "userId": "04399146470560759060"
     },
     "user_tz": -330
    },
    "id": "ufdASXPyDMwa",
    "outputId": "35374762-5588-416a-f051-bde83ad13da1"
   },
   "outputs": [
    {
     "data": {
      "text/plain": [
       "array([[[10, 25, 28, 14, 28, 25, 16],\n",
       "        [17, 21, 26, 11, 16, 16, 11],\n",
       "        [15, 15, 14, 25, 26, 24, 29],\n",
       "        [18, 28, 26, 28, 25, 16, 16],\n",
       "        [13, 27, 29, 26, 24, 25, 27],\n",
       "        [21, 23, 13, 19, 10, 10, 24],\n",
       "        [25, 26, 22, 12, 27, 26, 20],\n",
       "        [24, 12, 26, 22, 28, 21, 24],\n",
       "        [12, 13, 13, 24, 21, 13, 28],\n",
       "        [21, 12, 13, 16, 19, 14, 19],\n",
       "        [15, 25, 19, 12, 26, 25, 24],\n",
       "        [19, 10, 14, 18, 28, 23, 23],\n",
       "        [19, 27, 10, 20, 21, 11, 12],\n",
       "        [29, 29, 27, 23, 13, 28, 23],\n",
       "        [20, 23, 13, 15, 15, 27, 15],\n",
       "        [26, 24, 24, 13, 13, 18, 27],\n",
       "        [16, 13, 12, 10, 25, 17, 18],\n",
       "        [26, 27, 22, 11, 18, 29, 16],\n",
       "        [21, 11, 27, 12, 11, 25, 26],\n",
       "        [25, 20, 23, 20, 29, 10, 17],\n",
       "        [18, 22, 28, 27, 22, 21, 16],\n",
       "        [19, 17, 28, 29, 22, 26, 26],\n",
       "        [16, 10, 18, 28, 26, 18, 27],\n",
       "        [23, 28, 10, 29, 12, 18, 22]],\n",
       "\n",
       "       [[19, 25, 26, 20, 22, 12, 12],\n",
       "        [28, 15, 24, 20, 11, 28, 24],\n",
       "        [13, 20, 11, 11, 20, 24, 17],\n",
       "        [23, 13, 29, 20, 10, 25, 19],\n",
       "        [24, 17, 14, 14, 14, 15, 15],\n",
       "        [15, 16, 24, 20, 20, 19, 13],\n",
       "        [29, 23, 19, 25, 28, 14, 22],\n",
       "        [18, 28, 27, 14, 29, 16, 21],\n",
       "        [27, 22, 27, 29, 10, 23, 21],\n",
       "        [12, 13, 29, 19, 20, 21, 22],\n",
       "        [28, 19, 17, 24, 15, 21, 28],\n",
       "        [29, 27, 17, 12, 25, 16, 17],\n",
       "        [11, 28, 10, 25, 20, 15, 18],\n",
       "        [11, 25, 21, 25, 15, 21, 27],\n",
       "        [28, 29, 12, 10, 18, 17, 20],\n",
       "        [20, 27, 29, 21, 21, 26, 13],\n",
       "        [25, 12, 14, 21, 23, 28, 21],\n",
       "        [21, 18, 26, 12, 26, 28, 17],\n",
       "        [25, 17, 29, 11, 18, 13, 28],\n",
       "        [11, 12, 29, 11, 27, 11, 15],\n",
       "        [16, 29, 26, 18, 29, 28, 17],\n",
       "        [13, 16, 10, 17, 12, 14, 10],\n",
       "        [24, 18, 29, 17, 25, 26, 25],\n",
       "        [11, 29, 12, 16, 22, 16, 29]],\n",
       "\n",
       "       [[20, 26, 15, 14, 17, 28, 10],\n",
       "        [23, 12, 24, 29, 22, 13, 19],\n",
       "        [18, 22, 27, 11, 10, 10, 28],\n",
       "        [24, 19, 26, 21, 25, 13, 29],\n",
       "        [14, 12, 26, 29, 20, 13, 29],\n",
       "        [12, 27, 16, 17, 23, 15, 27],\n",
       "        [24, 14, 23, 16, 25, 16, 29],\n",
       "        [16, 10, 20, 25, 13, 26, 27],\n",
       "        [13, 10, 18, 22, 26, 12, 25],\n",
       "        [26, 26, 23, 26, 13, 22, 11],\n",
       "        [21, 20, 20, 16, 20, 24, 23],\n",
       "        [24, 28, 12, 18, 26, 26, 24],\n",
       "        [13, 12, 29, 25, 18, 27, 22],\n",
       "        [12, 29, 11, 25, 19, 27, 23],\n",
       "        [17, 13, 20, 28, 14, 10, 15],\n",
       "        [10, 19, 22, 19, 29, 19, 22],\n",
       "        [19, 25, 12, 10, 15, 28, 15],\n",
       "        [29, 26, 19, 24, 18, 27, 25],\n",
       "        [22, 12, 27, 22, 29, 19, 16],\n",
       "        [26, 15, 21, 12, 28, 20, 27],\n",
       "        [14, 21, 14, 24, 27, 24, 20],\n",
       "        [13, 10, 10, 15, 21, 20, 16],\n",
       "        [14, 13, 20, 10, 27, 24, 11],\n",
       "        [22, 12, 25, 23, 22, 25, 24]]])"
      ]
     },
     "execution_count": 912,
     "metadata": {},
     "output_type": "execute_result"
    }
   ],
   "source": [
    "data = np.random.randint(10,30,size=(3,24,7))\n",
    "data"
   ]
  },
  {
   "cell_type": "markdown",
   "metadata": {
    "id": "PUr1jcMjDW4a"
   },
   "source": [
    "• Extract hourly readings for devices [0, 2] on days [1, 3, 5]."
   ]
  },
  {
   "cell_type": "code",
   "execution_count": 913,
   "metadata": {
    "colab": {
     "base_uri": "https://localhost:8080/"
    },
    "executionInfo": {
     "elapsed": 24,
     "status": "ok",
     "timestamp": 1758341215839,
     "user": {
      "displayName": "Tushar Raj",
      "userId": "04399146470560759060"
     },
     "user_tz": -330
    },
    "id": "0QgFGrsyDWVy",
    "outputId": "2b71a7ff-616b-4ec9-bb4d-5971eb0c960c"
   },
   "outputs": [
    {
     "data": {
      "text/plain": [
       "array([[[25, 14, 25],\n",
       "        [21, 11, 16],\n",
       "        [15, 25, 24],\n",
       "        [28, 28, 16],\n",
       "        [27, 26, 25],\n",
       "        [23, 19, 10],\n",
       "        [26, 12, 26],\n",
       "        [12, 22, 21],\n",
       "        [13, 24, 13],\n",
       "        [12, 16, 14],\n",
       "        [25, 12, 25],\n",
       "        [10, 18, 23],\n",
       "        [27, 20, 11],\n",
       "        [29, 23, 28],\n",
       "        [23, 15, 27],\n",
       "        [24, 13, 18],\n",
       "        [13, 10, 17],\n",
       "        [27, 11, 29],\n",
       "        [11, 12, 25],\n",
       "        [20, 20, 10],\n",
       "        [22, 27, 21],\n",
       "        [17, 29, 26],\n",
       "        [10, 28, 18],\n",
       "        [28, 29, 18]],\n",
       "\n",
       "       [[26, 14, 28],\n",
       "        [12, 29, 13],\n",
       "        [22, 11, 10],\n",
       "        [19, 21, 13],\n",
       "        [12, 29, 13],\n",
       "        [27, 17, 15],\n",
       "        [14, 16, 16],\n",
       "        [10, 25, 26],\n",
       "        [10, 22, 12],\n",
       "        [26, 26, 22],\n",
       "        [20, 16, 24],\n",
       "        [28, 18, 26],\n",
       "        [12, 25, 27],\n",
       "        [29, 25, 27],\n",
       "        [13, 28, 10],\n",
       "        [19, 19, 19],\n",
       "        [25, 10, 28],\n",
       "        [26, 24, 27],\n",
       "        [12, 22, 19],\n",
       "        [15, 12, 20],\n",
       "        [21, 24, 24],\n",
       "        [10, 15, 20],\n",
       "        [13, 10, 24],\n",
       "        [12, 23, 25]]])"
      ]
     },
     "execution_count": 913,
     "metadata": {},
     "output_type": "execute_result"
    }
   ],
   "source": [
    "data[np.ix_([0,2],np.arange(data.shape[1]),[1,3,5])]"
   ]
  },
  {
   "cell_type": "markdown",
   "metadata": {
    "id": "VC7vLNy2IU7S"
   },
   "source": [
    "---\n",
    "**Problem 17: Retail Store Inventory**\n",
    "\n",
    "Create a (4, 10, 6) array → 4 stores, 10 products, 6 months.\n"
   ]
  },
  {
   "cell_type": "code",
   "execution_count": 914,
   "metadata": {
    "colab": {
     "base_uri": "https://localhost:8080/"
    },
    "executionInfo": {
     "elapsed": 20,
     "status": "ok",
     "timestamp": 1758341215861,
     "user": {
      "displayName": "Tushar Raj",
      "userId": "04399146470560759060"
     },
     "user_tz": -330
    },
    "id": "JpnbQiOPIanK",
    "outputId": "4ae33035-61ad-400b-c131-6ed41b203c73"
   },
   "outputs": [
    {
     "data": {
      "text/plain": [
       "array([[[20, 16, 24, 20, 16, 24],\n",
       "        [16, 12, 24, 21, 19, 22],\n",
       "        [13, 27, 26, 27, 18, 22],\n",
       "        [21, 20, 19, 13, 23, 13],\n",
       "        [23, 26, 22, 14, 13, 25],\n",
       "        [28, 15, 29, 14, 25, 15],\n",
       "        [16, 29, 28, 29, 28, 23],\n",
       "        [10, 29, 15, 20, 12, 11],\n",
       "        [17, 24, 28, 14, 14, 20],\n",
       "        [29, 14, 16, 13, 10, 13]],\n",
       "\n",
       "       [[23, 28, 19, 22, 29, 14],\n",
       "        [21, 11, 23, 26, 10, 11],\n",
       "        [15, 18, 15, 16, 19, 23],\n",
       "        [17, 23, 17, 21, 25, 19],\n",
       "        [28, 19, 18, 23, 23, 10],\n",
       "        [26, 23, 12, 15, 14, 15],\n",
       "        [11, 25, 11, 29, 11, 19],\n",
       "        [21, 17, 18, 15, 15, 23],\n",
       "        [18, 29, 14, 24, 22, 19],\n",
       "        [27, 11, 17, 13, 14, 26]],\n",
       "\n",
       "       [[22, 16, 11, 10, 23, 20],\n",
       "        [23, 15, 23, 28, 14, 28],\n",
       "        [11, 19, 19, 21, 27, 14],\n",
       "        [12, 15, 22, 12, 16, 18],\n",
       "        [19, 25, 21, 12, 11, 20],\n",
       "        [26, 28, 28, 27, 22, 13],\n",
       "        [22, 10, 28, 29, 15, 27],\n",
       "        [21, 17, 25, 10, 23, 13],\n",
       "        [13, 18, 17, 21, 18, 26],\n",
       "        [26, 23, 28, 22, 17, 28]],\n",
       "\n",
       "       [[12, 10, 11, 28, 26, 22],\n",
       "        [25, 15, 13, 15, 13, 13],\n",
       "        [12, 10, 18, 27, 14, 11],\n",
       "        [26, 18, 19, 15, 16, 26],\n",
       "        [18, 21, 25, 10, 20, 18],\n",
       "        [17, 28, 29, 22, 19, 15],\n",
       "        [19, 12, 17, 21, 17, 29],\n",
       "        [23, 12, 16, 18, 17, 29],\n",
       "        [14, 22, 25, 19, 26, 29],\n",
       "        [26, 29, 15, 29, 22, 15]]])"
      ]
     },
     "execution_count": 914,
     "metadata": {},
     "output_type": "execute_result"
    }
   ],
   "source": [
    "data = np.random.randint(10,30,size=(4,10,6))\n",
    "data"
   ]
  },
  {
   "cell_type": "markdown",
   "metadata": {
    "id": "1BMiL5ztIl-6"
   },
   "source": [
    "Extract data for stores [1, 3], products [2, 5, 7], and months [0, 2, 4]."
   ]
  },
  {
   "cell_type": "code",
   "execution_count": 915,
   "metadata": {
    "colab": {
     "base_uri": "https://localhost:8080/"
    },
    "executionInfo": {
     "elapsed": 56,
     "status": "ok",
     "timestamp": 1758341215918,
     "user": {
      "displayName": "Tushar Raj",
      "userId": "04399146470560759060"
     },
     "user_tz": -330
    },
    "id": "1uG5GxrzIocB",
    "outputId": "5081b7ad-396a-47aa-ec8d-bda8d9fe3d40"
   },
   "outputs": [
    {
     "data": {
      "text/plain": [
       "array([[[15, 15, 19],\n",
       "        [26, 12, 14],\n",
       "        [21, 18, 15]],\n",
       "\n",
       "       [[12, 18, 14],\n",
       "        [17, 29, 19],\n",
       "        [23, 16, 17]]])"
      ]
     },
     "execution_count": 915,
     "metadata": {},
     "output_type": "execute_result"
    }
   ],
   "source": [
    "data[np.ix_([1,3],[2,5,7],[0,2,4])]"
   ]
  },
  {
   "cell_type": "markdown",
   "metadata": {
    "id": "41s2d23iJL_i"
   },
   "source": [
    "---\n",
    "**Problem 18: Scientific Experiment**\n",
    "\n",
    "Create a (2, 5, 8) array → 2 trials, 5 experiments, 8 observations each.\n"
   ]
  },
  {
   "cell_type": "code",
   "execution_count": 916,
   "metadata": {
    "colab": {
     "base_uri": "https://localhost:8080/"
    },
    "executionInfo": {
     "elapsed": 19,
     "status": "ok",
     "timestamp": 1758341215938,
     "user": {
      "displayName": "Tushar Raj",
      "userId": "04399146470560759060"
     },
     "user_tz": -330
    },
    "id": "HpH6FD8TJTl5",
    "outputId": "319d25e1-ff47-423a-885d-c7241b7a604c"
   },
   "outputs": [
    {
     "data": {
      "text/plain": [
       "array([[[23, 13, 27, 11, 14, 12, 15, 18],\n",
       "        [10, 11, 15, 28, 22, 21, 21, 18],\n",
       "        [11, 19, 14, 13, 14, 18, 27, 11],\n",
       "        [12, 14, 21, 11, 18, 20, 16, 13],\n",
       "        [20, 10, 13, 21, 18, 22, 15, 13]],\n",
       "\n",
       "       [[14, 11, 21, 28, 27, 14, 17, 25],\n",
       "        [18, 11, 16, 19, 25, 28, 13, 13],\n",
       "        [15, 11, 10, 28, 15, 21, 18, 18],\n",
       "        [21, 10, 25, 11, 17, 25, 15, 26],\n",
       "        [28, 12, 19, 12, 13, 22, 29, 22]]])"
      ]
     },
     "execution_count": 916,
     "metadata": {},
     "output_type": "execute_result"
    }
   ],
   "source": [
    "data = np.random.randint(10,30,size=(2,5,8))\n",
    "data"
   ]
  },
  {
   "cell_type": "markdown",
   "metadata": {
    "id": "I0csF_VnJYHy"
   },
   "source": [
    "Extract trial 1 results for experiments [1, 4] at observations [2, 5, 7]."
   ]
  },
  {
   "cell_type": "code",
   "execution_count": 917,
   "metadata": {
    "colab": {
     "base_uri": "https://localhost:8080/"
    },
    "executionInfo": {
     "elapsed": 44,
     "status": "ok",
     "timestamp": 1758341215984,
     "user": {
      "displayName": "Tushar Raj",
      "userId": "04399146470560759060"
     },
     "user_tz": -330
    },
    "id": "xtbv3twRJZ0p",
    "outputId": "e9576f3c-2aa3-43df-8fc9-14fe64e176e0"
   },
   "outputs": [
    {
     "data": {
      "text/plain": [
       "array([[[15, 21, 18],\n",
       "        [13, 22, 13]],\n",
       "\n",
       "       [[16, 28, 13],\n",
       "        [19, 22, 22]]])"
      ]
     },
     "execution_count": 917,
     "metadata": {},
     "output_type": "execute_result"
    }
   ],
   "source": [
    "data[np.ix_(np.arange(data.shape[0]),[1,4],[2,5,7])]"
   ]
  },
  {
   "cell_type": "markdown",
   "metadata": {
    "id": "BHn6oaWWJ4lr"
   },
   "source": [
    "---\n",
    "**Problem 19: E-commerce Orders**\n",
    "\n",
    "Create a (6, 4, 3) array → 6 customers, 4 orders each, 3 features/order."
   ]
  },
  {
   "cell_type": "code",
   "execution_count": 918,
   "metadata": {
    "colab": {
     "base_uri": "https://localhost:8080/"
    },
    "executionInfo": {
     "elapsed": 19,
     "status": "ok",
     "timestamp": 1758341216010,
     "user": {
      "displayName": "Tushar Raj",
      "userId": "04399146470560759060"
     },
     "user_tz": -330
    },
    "id": "zd7bQnInKn9Z",
    "outputId": "7a9137ee-8212-483e-94a5-226510f220aa"
   },
   "outputs": [
    {
     "data": {
      "text/plain": [
       "array([[[26, 24, 12],\n",
       "        [19, 23, 27],\n",
       "        [25, 19, 25],\n",
       "        [23, 15, 12]],\n",
       "\n",
       "       [[29, 11, 16],\n",
       "        [25, 20, 25],\n",
       "        [28, 20, 27],\n",
       "        [26, 12, 23]],\n",
       "\n",
       "       [[16, 17, 23],\n",
       "        [15, 22, 10],\n",
       "        [15, 25, 18],\n",
       "        [21, 10, 19]],\n",
       "\n",
       "       [[11, 14, 27],\n",
       "        [29, 24, 11],\n",
       "        [12, 16, 19],\n",
       "        [19, 13, 13]],\n",
       "\n",
       "       [[17, 10, 28],\n",
       "        [18, 21, 10],\n",
       "        [13, 27, 26],\n",
       "        [29, 29, 25]],\n",
       "\n",
       "       [[12, 12, 19],\n",
       "        [22, 13, 27],\n",
       "        [28, 28, 12],\n",
       "        [16, 22, 17]]])"
      ]
     },
     "execution_count": 918,
     "metadata": {},
     "output_type": "execute_result"
    }
   ],
   "source": [
    "data = np.random.randint(10,30,size=(6,4,3))\n",
    "data"
   ]
  },
  {
   "cell_type": "markdown",
   "metadata": {
    "id": "qQXtSZwEKqTy"
   },
   "source": [
    "Extract features of customers [0, 2, 5] for orders [1, 3]."
   ]
  },
  {
   "cell_type": "code",
   "execution_count": 919,
   "metadata": {
    "colab": {
     "base_uri": "https://localhost:8080/"
    },
    "executionInfo": {
     "elapsed": 46,
     "status": "ok",
     "timestamp": 1758341216057,
     "user": {
      "displayName": "Tushar Raj",
      "userId": "04399146470560759060"
     },
     "user_tz": -330
    },
    "id": "MnBoF1ZfKrxp",
    "outputId": "8fd4a8da-e4bc-4580-e51e-dc6ba359b3bd"
   },
   "outputs": [
    {
     "data": {
      "text/plain": [
       "array([[[26, 12],\n",
       "        [19, 27],\n",
       "        [25, 25],\n",
       "        [23, 12]],\n",
       "\n",
       "       [[16, 23],\n",
       "        [15, 10],\n",
       "        [15, 18],\n",
       "        [21, 19]],\n",
       "\n",
       "       [[12, 19],\n",
       "        [22, 27],\n",
       "        [28, 12],\n",
       "        [16, 17]]])"
      ]
     },
     "execution_count": 919,
     "metadata": {},
     "output_type": "execute_result"
    }
   ],
   "source": [
    "data[np.ix_([0,2,5],np.arange(data.shape[1]),[0,2])]"
   ]
  },
  {
   "cell_type": "markdown",
   "metadata": {
    "id": "vgYibGmuLJSo"
   },
   "source": [
    "---\n",
    "**Problem 20: Image Dataset**\n",
    "\n",
    "Create a (5, 28, 28) array → 5 grayscale images of 28×28 pixels."
   ]
  },
  {
   "cell_type": "code",
   "execution_count": 920,
   "metadata": {
    "colab": {
     "base_uri": "https://localhost:8080/"
    },
    "executionInfo": {
     "elapsed": 9,
     "status": "ok",
     "timestamp": 1758341216079,
     "user": {
      "displayName": "Tushar Raj",
      "userId": "04399146470560759060"
     },
     "user_tz": -330
    },
    "id": "wYCwuxp6LOHZ",
    "outputId": "5607a02d-9e51-432b-e7d9-f3b5353d3c58"
   },
   "outputs": [
    {
     "data": {
      "text/plain": [
       "array([[[10, 19, 13, ..., 14, 20, 19],\n",
       "        [15, 18, 11, ..., 27, 26, 18],\n",
       "        [14, 19, 10, ..., 28, 19, 16],\n",
       "        ...,\n",
       "        [11, 23, 10, ..., 14, 13, 28],\n",
       "        [10, 26, 27, ..., 10, 25, 26],\n",
       "        [19, 10, 20, ..., 12, 23, 29]],\n",
       "\n",
       "       [[12, 14, 25, ..., 17, 19, 17],\n",
       "        [17, 12, 21, ..., 15, 23, 23],\n",
       "        [26, 17, 13, ..., 14, 26, 12],\n",
       "        ...,\n",
       "        [10, 20, 12, ..., 15, 26, 22],\n",
       "        [21, 12, 29, ..., 23, 22, 19],\n",
       "        [20, 29, 15, ..., 10, 10, 28]]])"
      ]
     },
     "execution_count": 920,
     "metadata": {},
     "output_type": "execute_result"
    }
   ],
   "source": [
    "data = np.random.randint(10,30,size=(2,28,28))\n",
    "data"
   ]
  },
  {
   "cell_type": "markdown",
   "metadata": {
    "id": "hKz4_vrALOSh"
   },
   "source": [
    "Extract the corner pixels (top-left, top-right, bottom-left, bottom-right) from each image using fancy\n",
    "indexing."
   ]
  },
  {
   "cell_type": "code",
   "execution_count": 921,
   "metadata": {
    "colab": {
     "base_uri": "https://localhost:8080/"
    },
    "executionInfo": {
     "elapsed": 21,
     "status": "ok",
     "timestamp": 1758341216102,
     "user": {
      "displayName": "Tushar Raj",
      "userId": "04399146470560759060"
     },
     "user_tz": -330
    },
    "id": "K-aTtCEmMm6J",
    "outputId": "31703207-4bc9-4441-e059-e0907dab5888"
   },
   "outputs": [
    {
     "data": {
      "text/plain": [
       "2"
      ]
     },
     "execution_count": 921,
     "metadata": {},
     "output_type": "execute_result"
    }
   ],
   "source": [
    "data.shape[0]"
   ]
  },
  {
   "cell_type": "code",
   "execution_count": 922,
   "metadata": {
    "colab": {
     "base_uri": "https://localhost:8080/"
    },
    "executionInfo": {
     "elapsed": 19,
     "status": "ok",
     "timestamp": 1758341216122,
     "user": {
      "displayName": "Tushar Raj",
      "userId": "04399146470560759060"
     },
     "user_tz": -330
    },
    "id": "LE36HqgnLdKZ",
    "outputId": "32146bd0-19d7-468b-ed8b-c5e1c63499df"
   },
   "outputs": [
    {
     "data": {
      "text/plain": [
       "array([[[10, 19],\n",
       "        [19, 29]],\n",
       "\n",
       "       [[12, 17],\n",
       "        [20, 28]]])"
      ]
     },
     "execution_count": 922,
     "metadata": {},
     "output_type": "execute_result"
    }
   ],
   "source": [
    "data[np.ix_(\n",
    "    np.arange(data.shape[0]),\n",
    "     [0,data.shape[1]-1],\n",
    "      [0,data.shape[2]-1])]"
   ]
  },
  {
   "cell_type": "markdown",
   "metadata": {
    "id": "y_vtOEDyQ_2P"
   },
   "source": [
    "---\n",
    "**Detective Case Study: The Mystery of the Stolen\n",
    "Diamonds**\n",
    "\n",
    "**Scene 1: The Crime Scene**"
   ]
  },
  {
   "cell_type": "markdown",
   "metadata": {
    "id": "7oaVqLzkRLlg"
   },
   "source": [
    "Detective Arjun Mehta arrives at a jewelry store in Mumbai where diamonds have been stolen.\n",
    "The store CCTV captured 100 frames of data, each containing sensor readings.\n",
    "\n",
    "• Create a 1D NumPy array of 100 integers (0–9) representing sensor triggers."
   ]
  },
  {
   "cell_type": "code",
   "execution_count": 923,
   "metadata": {
    "colab": {
     "base_uri": "https://localhost:8080/"
    },
    "executionInfo": {
     "elapsed": 18,
     "status": "ok",
     "timestamp": 1758341216141,
     "user": {
      "displayName": "Tushar Raj",
      "userId": "04399146470560759060"
     },
     "user_tz": -330
    },
    "id": "ucH34nNgRkxn",
    "outputId": "d859bc81-cd33-4bfa-d3e9-3e5409545b97"
   },
   "outputs": [
    {
     "data": {
      "text/plain": [
       "array([6, 3, 2, 5, 8, 1, 7, 7, 2, 7, 2, 2, 0, 0, 7, 3, 7, 8, 8, 1, 0, 2,\n",
       "       5, 1, 2, 4, 4, 4, 1, 0, 0, 2, 4, 0, 0, 6, 5, 6, 5, 7, 2, 1, 2, 6,\n",
       "       4, 4, 2, 2, 2, 3, 2, 2, 6, 4, 6, 5, 5, 8, 8, 7, 0, 0, 3, 6, 1, 6,\n",
       "       3, 4, 0, 0, 7, 8, 4, 2, 3, 2, 0, 7, 3, 8, 4, 3, 3, 4, 2, 0, 8, 6,\n",
       "       4, 7, 4, 5, 0, 1, 0, 2, 0, 3, 1, 0])"
      ]
     },
     "execution_count": 923,
     "metadata": {},
     "output_type": "execute_result"
    }
   ],
   "source": [
    "data = np.random.randint(0,9,size=(100))\n",
    "data"
   ]
  },
  {
   "cell_type": "markdown",
   "metadata": {
    "id": "AwN-qCV4Rim3"
   },
   "source": [
    "• Find out how many times the sensor detected activity (value > 5)."
   ]
  },
  {
   "cell_type": "code",
   "execution_count": 924,
   "metadata": {
    "colab": {
     "base_uri": "https://localhost:8080/"
    },
    "executionInfo": {
     "elapsed": 25,
     "status": "ok",
     "timestamp": 1758341216203,
     "user": {
      "displayName": "Tushar Raj",
      "userId": "04399146470560759060"
     },
     "user_tz": -330
    },
    "id": "XxgdAS6mRHdn",
    "outputId": "980e164c-c3c5-4d17-8200-a53052777179"
   },
   "outputs": [
    {
     "data": {
      "text/plain": [
       "27"
      ]
     },
     "execution_count": 924,
     "metadata": {},
     "output_type": "execute_result"
    }
   ],
   "source": [
    "len(data[data>5])"
   ]
  },
  {
   "cell_type": "markdown",
   "metadata": {
    "id": "3zyA5WXoR1O3"
   },
   "source": [
    "---\n",
    "**Scene 2: Suspect List**\n",
    "\n",
    "Inspector Rani Sharma provides a list of 20 suspects with their ages.\n",
    "Ages are randomly assigned.\n",
    "\n",
    "Task:\n",
    "• Create a 1D array of 20 ages."
   ]
  },
  {
   "cell_type": "code",
   "execution_count": 925,
   "metadata": {
    "colab": {
     "base_uri": "https://localhost:8080/"
    },
    "executionInfo": {
     "elapsed": 10,
     "status": "ok",
     "timestamp": 1758341216214,
     "user": {
      "displayName": "Tushar Raj",
      "userId": "04399146470560759060"
     },
     "user_tz": -330
    },
    "id": "MdlzkPiwR6H5",
    "outputId": "797ee3ce-1bd9-4491-fb7e-b898dc09609c"
   },
   "outputs": [
    {
     "data": {
      "text/plain": [
       "array([24, 22, 60, 53, 16, 33,  8, 14, 69, 56, 64, 19, 12, 42, 78, 51,  4,\n",
       "       47, 28, 35])"
      ]
     },
     "execution_count": 925,
     "metadata": {},
     "output_type": "execute_result"
    }
   ],
   "source": [
    "data = np.random.randint(0,85,size=(20))\n",
    "data"
   ]
  },
  {
   "cell_type": "markdown",
   "metadata": {
    "id": "nDSXpv3sSHZH"
   },
   "source": [
    "Use fancy indexing to extract the ages of suspects with even indices."
   ]
  },
  {
   "cell_type": "code",
   "execution_count": 926,
   "metadata": {
    "colab": {
     "base_uri": "https://localhost:8080/"
    },
    "executionInfo": {
     "elapsed": 19,
     "status": "ok",
     "timestamp": 1758341216234,
     "user": {
      "displayName": "Tushar Raj",
      "userId": "04399146470560759060"
     },
     "user_tz": -330
    },
    "id": "UiT6p5ZHSEsn",
    "outputId": "b72e023a-8d44-42fb-dddb-5c5cb5bc9b20"
   },
   "outputs": [
    {
     "data": {
      "text/plain": [
       "array([22, 53, 33, 14, 56, 19, 42, 51, 47, 35])"
      ]
     },
     "execution_count": 926,
     "metadata": {},
     "output_type": "execute_result"
    }
   ],
   "source": [
    "evenIndex = [i+1 for i in range(0,len(data)) if i%2==0]\n",
    "data[evenIndex]"
   ]
  },
  {
   "cell_type": "markdown",
   "metadata": {
    "id": "1wz-soY1Sh2w"
   },
   "source": [
    "Find the youngest and oldest suspects."
   ]
  },
  {
   "cell_type": "code",
   "execution_count": 927,
   "metadata": {
    "colab": {
     "base_uri": "https://localhost:8080/"
    },
    "executionInfo": {
     "elapsed": 16,
     "status": "ok",
     "timestamp": 1758341216261,
     "user": {
      "displayName": "Tushar Raj",
      "userId": "04399146470560759060"
     },
     "user_tz": -330
    },
    "id": "bIkuXKz7Sj7_",
    "outputId": "ef70b6ce-b6bd-4cba-b413-b7542f920117"
   },
   "outputs": [
    {
     "name": "stdout",
     "output_type": "stream",
     "text": [
      "highest age  78\n",
      "youngest age  4\n"
     ]
    }
   ],
   "source": [
    "print('highest age ',data.max())\n",
    "print('youngest age ',data.min())"
   ]
  },
  {
   "cell_type": "markdown",
   "metadata": {
    "id": "i4SgVFkwSwOn"
   },
   "source": [
    "---\n",
    "**Scene 3: Witness Statement**\n",
    "\n",
    "A witness says: “I saw 5 people entering the store in pairs.”\n",
    "\n",
    "CCTV logs show movements stored as a 10x2 matrix (10 rows, 2 values each: entry time and exit time).\n",
    "\n",
    "Task:\n",
    "• Create a 2D NumPy array of shape (10, 2) representing entry and exit times."
   ]
  },
  {
   "cell_type": "code",
   "execution_count": 928,
   "metadata": {
    "colab": {
     "base_uri": "https://localhost:8080/"
    },
    "executionInfo": {
     "elapsed": 41,
     "status": "ok",
     "timestamp": 1758341216313,
     "user": {
      "displayName": "Tushar Raj",
      "userId": "04399146470560759060"
     },
     "user_tz": -330
    },
    "id": "4OS3P5QpS21H",
    "outputId": "b57dde0a-f0d3-4aa7-f407-21b8c9d970f4"
   },
   "outputs": [
    {
     "data": {
      "text/plain": [
       "array([[20, 36],\n",
       "       [26, 33],\n",
       "       [13, 19],\n",
       "       [27, 28],\n",
       "       [37, 19],\n",
       "       [38, 39],\n",
       "       [39, 38],\n",
       "       [30, 38],\n",
       "       [30, 19],\n",
       "       [36, 26]])"
      ]
     },
     "execution_count": 928,
     "metadata": {},
     "output_type": "execute_result"
    }
   ],
   "source": [
    "data = np.random.randint(10,40,size=(10,2))\n",
    "data"
   ]
  },
  {
   "cell_type": "markdown",
   "metadata": {
    "id": "p0-jcQO2Tm3-"
   },
   "source": [
    "• Find the average entry time."
   ]
  },
  {
   "cell_type": "code",
   "execution_count": 929,
   "metadata": {
    "colab": {
     "base_uri": "https://localhost:8080/"
    },
    "executionInfo": {
     "elapsed": 24,
     "status": "ok",
     "timestamp": 1758341216339,
     "user": {
      "displayName": "Tushar Raj",
      "userId": "04399146470560759060"
     },
     "user_tz": -330
    },
    "id": "zntwthoXTl3-",
    "outputId": "1c2b0e4a-ba49-43d1-cad3-2f91082040ed"
   },
   "outputs": [
    {
     "data": {
      "text/plain": [
       "np.float64(29.6)"
      ]
     },
     "execution_count": 929,
     "metadata": {},
     "output_type": "execute_result"
    }
   ],
   "source": [
    "np.mean(data[:,0])"
   ]
  },
  {
   "cell_type": "markdown",
   "metadata": {
    "id": "sJehUsT_TsIX"
   },
   "source": [
    "Extract all rows where exit time < entry time + 5 minutes (suspicious quick visits)."
   ]
  },
  {
   "cell_type": "code",
   "execution_count": 930,
   "metadata": {
    "colab": {
     "base_uri": "https://localhost:8080/"
    },
    "executionInfo": {
     "elapsed": 38,
     "status": "ok",
     "timestamp": 1758341216379,
     "user": {
      "displayName": "Tushar Raj",
      "userId": "04399146470560759060"
     },
     "user_tz": -330
    },
    "id": "RqbOBliuTtk_",
    "outputId": "47341c15-a688-45da-a5f8-5083ef15173e"
   },
   "outputs": [
    {
     "data": {
      "text/plain": [
       "array([[20, 36],\n",
       "       [26, 33],\n",
       "       [13, 19],\n",
       "       [27, 28],\n",
       "       [38, 39],\n",
       "       [39, 38],\n",
       "       [30, 38]])"
      ]
     },
     "execution_count": 930,
     "metadata": {},
     "output_type": "execute_result"
    }
   ],
   "source": [
    "data[data[:,0]<data[:,1]+5]"
   ]
  },
  {
   "cell_type": "markdown",
   "metadata": {
    "id": "MKCXpe7lT8xP"
   },
   "source": [
    "---\n",
    "**Scene 4: Car Parking Data**\n",
    "\n",
    "Outside the store, parking lot cameras recorded cars over 7 days and 5 time slots per day.\n",
    "\n",
    "Task:\n",
    "• Create a 2D array of shape (7, 5) representing number of cars."
   ]
  },
  {
   "cell_type": "code",
   "execution_count": 931,
   "metadata": {
    "colab": {
     "base_uri": "https://localhost:8080/"
    },
    "executionInfo": {
     "elapsed": 29,
     "status": "ok",
     "timestamp": 1758341216409,
     "user": {
      "displayName": "Tushar Raj",
      "userId": "04399146470560759060"
     },
     "user_tz": -330
    },
    "id": "GYfW9s3bUBOu",
    "outputId": "d55874da-b3b4-4f18-b316-21c9dfcccd55"
   },
   "outputs": [
    {
     "data": {
      "text/plain": [
       "array([[20, 44, 27, 11, 31],\n",
       "       [45, 47, 26, 29, 37],\n",
       "       [14, 13, 22, 44, 44],\n",
       "       [36, 25, 26, 16, 14],\n",
       "       [17, 18, 11, 42, 36],\n",
       "       [45, 25, 34, 18, 43],\n",
       "       [40, 15, 46, 47, 41]])"
      ]
     },
     "execution_count": 931,
     "metadata": {},
     "output_type": "execute_result"
    }
   ],
   "source": [
    "data = np.random.randint(10,50,size=(7,5))\n",
    "data"
   ]
  },
  {
   "cell_type": "markdown",
   "metadata": {
    "id": "KmsPxrv2ULg-"
   },
   "source": [
    "Find the day with maximum car traffic."
   ]
  },
  {
   "cell_type": "code",
   "execution_count": 932,
   "metadata": {
    "colab": {
     "base_uri": "https://localhost:8080/"
    },
    "executionInfo": {
     "elapsed": 41,
     "status": "ok",
     "timestamp": 1758341216451,
     "user": {
      "displayName": "Tushar Raj",
      "userId": "04399146470560759060"
     },
     "user_tz": -330
    },
    "id": "1X39diQyUQXv",
    "outputId": "8812dc53-64b5-4701-d467-7af1e092f8a7"
   },
   "outputs": [
    {
     "name": "stdout",
     "output_type": "stream",
     "text": [
      "day whith max traffic : 6\n"
     ]
    }
   ],
   "source": [
    "sumarray = np.sum(data,axis=1)\n",
    "print('day whith max traffic :',sumarray.argmax())"
   ]
  },
  {
   "cell_type": "markdown",
   "metadata": {
    "id": "1fylmeoVU-zP"
   },
   "source": [
    "Extract car counts for days [2, 4, 6] and time slots [1, 3] using fancy indexing."
   ]
  },
  {
   "cell_type": "code",
   "execution_count": 933,
   "metadata": {
    "colab": {
     "base_uri": "https://localhost:8080/"
    },
    "executionInfo": {
     "elapsed": 19,
     "status": "ok",
     "timestamp": 1758341216472,
     "user": {
      "displayName": "Tushar Raj",
      "userId": "04399146470560759060"
     },
     "user_tz": -330
    },
    "id": "gkgn5-KkU_d-",
    "outputId": "92ef7abf-efac-4052-e00b-16a3c03c1e89"
   },
   "outputs": [
    {
     "data": {
      "text/plain": [
       "array([[13, 44],\n",
       "       [18, 42],\n",
       "       [15, 47]])"
      ]
     },
     "execution_count": 933,
     "metadata": {},
     "output_type": "execute_result"
    }
   ],
   "source": [
    "data[np.ix_([2,4,6],[1,3])]"
   ]
  },
  {
   "cell_type": "markdown",
   "metadata": {
    "id": "9cKIwjL0VGWm"
   },
   "source": [
    "---\n",
    "**Scene 5: Suspect Movements**\n",
    "\n",
    "Detective Arjun obtains GPS coordinates of 3 suspects over 4 days, with 2 readings/day.\n",
    "Task:\n",
    "\n",
    "• Create a 3D array of shape (3, 4, 2) → (suspects, days, coordinates).\n"
   ]
  },
  {
   "cell_type": "code",
   "execution_count": 934,
   "metadata": {
    "colab": {
     "base_uri": "https://localhost:8080/"
    },
    "collapsed": true,
    "executionInfo": {
     "elapsed": 32,
     "status": "ok",
     "timestamp": 1758341216505,
     "user": {
      "displayName": "Tushar Raj",
      "userId": "04399146470560759060"
     },
     "user_tz": -330
    },
    "id": "MMD8Tjv9VMmm",
    "outputId": "342a2f38-e571-4427-b14e-ef1e715a0b8c"
   },
   "outputs": [
    {
     "data": {
      "text/plain": [
       "array([[[41, 16, 11, 20, 47],\n",
       "        [39, 41, 37, 17, 19],\n",
       "        [38, 38, 14, 38, 48],\n",
       "        [17, 14, 38, 21, 47]],\n",
       "\n",
       "       [[15, 18, 43, 49, 34],\n",
       "        [25, 14, 14, 25, 22],\n",
       "        [39, 32, 29, 16, 10],\n",
       "        [40, 24, 41, 45, 17]],\n",
       "\n",
       "       [[41, 12, 44, 33, 25],\n",
       "        [30, 33, 27, 38, 45],\n",
       "        [44, 42, 13, 25, 23],\n",
       "        [23, 38, 49, 34, 44]]])"
      ]
     },
     "execution_count": 934,
     "metadata": {},
     "output_type": "execute_result"
    }
   ],
   "source": [
    "data = np.random.randint(10,50,size=(3,4,5))\n",
    "data"
   ]
  },
  {
   "cell_type": "markdown",
   "metadata": {
    "id": "aXDu60ntWo1U"
   },
   "source": [
    "Transpose it to (4, 3, 2) to compare suspects day-wise."
   ]
  },
  {
   "cell_type": "code",
   "execution_count": 935,
   "metadata": {
    "colab": {
     "base_uri": "https://localhost:8080/"
    },
    "executionInfo": {
     "elapsed": 23,
     "status": "ok",
     "timestamp": 1758341216530,
     "user": {
      "displayName": "Tushar Raj",
      "userId": "04399146470560759060"
     },
     "user_tz": -330
    },
    "id": "APwBGUEwWpeu",
    "outputId": "5729fb1e-272a-4e0c-fcb5-051cc4985ad6"
   },
   "outputs": [
    {
     "data": {
      "text/plain": [
       "array([[[41, 16, 11, 20, 47],\n",
       "        [15, 18, 43, 49, 34],\n",
       "        [41, 12, 44, 33, 25]],\n",
       "\n",
       "       [[39, 41, 37, 17, 19],\n",
       "        [25, 14, 14, 25, 22],\n",
       "        [30, 33, 27, 38, 45]],\n",
       "\n",
       "       [[38, 38, 14, 38, 48],\n",
       "        [39, 32, 29, 16, 10],\n",
       "        [44, 42, 13, 25, 23]],\n",
       "\n",
       "       [[17, 14, 38, 21, 47],\n",
       "        [40, 24, 41, 45, 17],\n",
       "        [23, 38, 49, 34, 44]]])"
      ]
     },
     "execution_count": 935,
     "metadata": {},
     "output_type": "execute_result"
    }
   ],
   "source": [
    "transpose_data = data.transpose(1,0,2)\n",
    "transpose_data"
   ]
  },
  {
   "cell_type": "markdown",
   "metadata": {
    "id": "VGQKCrI8Wso2"
   },
   "source": [
    "Extract locations of suspect 2 on days [1, 3]."
   ]
  },
  {
   "cell_type": "code",
   "execution_count": 936,
   "metadata": {
    "colab": {
     "base_uri": "https://localhost:8080/"
    },
    "executionInfo": {
     "elapsed": 11,
     "status": "ok",
     "timestamp": 1758341216543,
     "user": {
      "displayName": "Tushar Raj",
      "userId": "04399146470560759060"
     },
     "user_tz": -330
    },
    "id": "BxVCSTlPWtHm",
    "outputId": "0ecfc2d9-f4a2-4d80-ada6-2be7407c78db"
   },
   "outputs": [
    {
     "data": {
      "text/plain": [
       "array([[[30, 33, 27, 38, 45]],\n",
       "\n",
       "       [[23, 38, 49, 34, 44]]])"
      ]
     },
     "execution_count": 936,
     "metadata": {},
     "output_type": "execute_result"
    }
   ],
   "source": [
    "transpose_data[np.ix_([1,3],[2],np.arange(transpose_data.shape[2]))]"
   ]
  },
  {
   "cell_type": "markdown",
   "metadata": {
    "id": "2BsoPYFrHZtC"
   },
   "source": [
    "----\n",
    "**Scene 6: Hidden Transactions**\n",
    "\n",
    "Rani uncovers financial records of 5 suspects, each with 6 months of transactions.\n",
    "\n",
    "Task:\n",
    "\n",
    "Create a 2D array of shape (5, 6)."
   ]
  },
  {
   "cell_type": "code",
   "execution_count": 937,
   "metadata": {
    "colab": {
     "base_uri": "https://localhost:8080/"
    },
    "executionInfo": {
     "elapsed": 32,
     "status": "ok",
     "timestamp": 1758341216606,
     "user": {
      "displayName": "Tushar Raj",
      "userId": "04399146470560759060"
     },
     "user_tz": -330
    },
    "id": "v9rF6W-OHn-G",
    "outputId": "c0402e91-1d75-4be8-8320-c612e490b530"
   },
   "outputs": [
    {
     "data": {
      "text/plain": [
       "array([[67593, 56445, 16868, 33191, 21548, 73447],\n",
       "       [69924, 21438, 57265, 64890, 44025, 61875],\n",
       "       [54656, 23022, 35063, 46693, 42799, 55322],\n",
       "       [61375, 50706, 45642, 68216, 74163, 44559],\n",
       "       [35061, 56291, 72545, 12413, 37654, 17978]])"
      ]
     },
     "execution_count": 937,
     "metadata": {},
     "output_type": "execute_result"
    }
   ],
   "source": [
    "data = np.random.randint(10000,80000,size=(5,6))\n",
    "data"
   ]
  },
  {
   "cell_type": "markdown",
   "metadata": {
    "id": "Lmj6y74gHp1n"
   },
   "source": [
    "Find suspects whose average monthly spending > 50,000."
   ]
  },
  {
   "cell_type": "code",
   "execution_count": 938,
   "metadata": {
    "colab": {
     "base_uri": "https://localhost:8080/"
    },
    "executionInfo": {
     "elapsed": 11,
     "status": "ok",
     "timestamp": 1758341216619,
     "user": {
      "displayName": "Tushar Raj",
      "userId": "04399146470560759060"
     },
     "user_tz": -330
    },
    "id": "uN4dgfjcHskF",
    "outputId": "5dc34041-3cc0-4ede-ebfd-d6efa012c43e"
   },
   "outputs": [
    {
     "name": "stdout",
     "output_type": "stream",
     "text": [
      "suspects :  [1 3]\n"
     ]
    }
   ],
   "source": [
    "indecis = np.where(np.mean(data,axis=1)>50000)[0]\n",
    "print(\"suspects : \",indecis)"
   ]
  },
  {
   "cell_type": "markdown",
   "metadata": {
    "id": "pvMkWHasHs_Z"
   },
   "source": [
    "Extract transactions of suspects [1, 3] in months [2, 4]."
   ]
  },
  {
   "cell_type": "code",
   "execution_count": 939,
   "metadata": {
    "colab": {
     "base_uri": "https://localhost:8080/"
    },
    "executionInfo": {
     "elapsed": 24,
     "status": "ok",
     "timestamp": 1758341216644,
     "user": {
      "displayName": "Tushar Raj",
      "userId": "04399146470560759060"
     },
     "user_tz": -330
    },
    "id": "CQT8zI5VHtys",
    "outputId": "301bde54-9aec-4674-a614-e1ab2005fe52"
   },
   "outputs": [
    {
     "data": {
      "text/plain": [
       "array([[57265, 44025],\n",
       "       [45642, 74163]])"
      ]
     },
     "execution_count": 939,
     "metadata": {},
     "output_type": "execute_result"
    }
   ],
   "source": [
    "data[np.ix_([1,3],[2,4])]"
   ]
  },
  {
   "cell_type": "markdown",
   "metadata": {
    "id": "BIWDhzN-JcEq"
   },
   "source": [
    "---\n",
    "**Scene 7: Fingerprint Evidence**\n",
    "\n",
    "At the scene, police collected 3 fingerprint scans, each stored as a 4x4 pixel grayscale image.\n",
    "\n",
    "Task:\n",
    "\n",
    "• Create a 3D array of shape (3, 4, 4)."
   ]
  },
  {
   "cell_type": "code",
   "execution_count": 940,
   "metadata": {
    "colab": {
     "base_uri": "https://localhost:8080/"
    },
    "executionInfo": {
     "elapsed": 16,
     "status": "ok",
     "timestamp": 1758341216670,
     "user": {
      "displayName": "Tushar Raj",
      "userId": "04399146470560759060"
     },
     "user_tz": -330
    },
    "id": "6TQfI-FKJj3V",
    "outputId": "e8442ff3-82d0-44af-dede-cf13fd1ba5e2"
   },
   "outputs": [
    {
     "data": {
      "text/plain": [
       "array([[[  2, 193, 163, 136],\n",
       "        [499, 472, 327, 428],\n",
       "        [185, 168, 232, 478],\n",
       "        [420, 125, 487, 456]],\n",
       "\n",
       "       [[190, 243,  91, 438],\n",
       "        [349, 464,  46,  75],\n",
       "        [139, 492, 403,  39],\n",
       "        [ 27, 388, 416, 184]],\n",
       "\n",
       "       [[453, 456, 157,  63],\n",
       "        [478, 429, 477, 446],\n",
       "        [ 93, 354, 462, 492],\n",
       "        [230,  99, 205, 290]]])"
      ]
     },
     "execution_count": 940,
     "metadata": {},
     "output_type": "execute_result"
    }
   ],
   "source": [
    "data = np.random.randint(0,500,size=(3,4,4))\n",
    "data\n"
   ]
  },
  {
   "cell_type": "markdown",
   "metadata": {
    "id": "ZIeo-fWxJxqp"
   },
   "source": [
    "• Extract the center 2x2 region of each image."
   ]
  },
  {
   "cell_type": "code",
   "execution_count": 941,
   "metadata": {
    "colab": {
     "base_uri": "https://localhost:8080/"
    },
    "executionInfo": {
     "elapsed": 34,
     "status": "ok",
     "timestamp": 1758341216705,
     "user": {
      "displayName": "Tushar Raj",
      "userId": "04399146470560759060"
     },
     "user_tz": -330
    },
    "id": "uEYIwtJeJuI1",
    "outputId": "a35a02ae-9ed3-45a9-e5d6-40c897e7fe9c"
   },
   "outputs": [
    {
     "data": {
      "text/plain": [
       "array([[[472, 327],\n",
       "        [168, 232]],\n",
       "\n",
       "       [[464,  46],\n",
       "        [492, 403]],\n",
       "\n",
       "       [[429, 477],\n",
       "        [354, 462]]])"
      ]
     },
     "execution_count": 941,
     "metadata": {},
     "output_type": "execute_result"
    }
   ],
   "source": [
    "data[np.ix_(np.arange(data.shape[0]),[1,2],[1,2])]"
   ]
  },
  {
   "cell_type": "markdown",
   "metadata": {
    "id": "NFc6qCbkJtcp"
   },
   "source": [
    "Replace all pixel values < 100 with 0 (noise removal)."
   ]
  },
  {
   "cell_type": "code",
   "execution_count": 942,
   "metadata": {
    "colab": {
     "base_uri": "https://localhost:8080/"
    },
    "executionInfo": {
     "elapsed": 20,
     "status": "ok",
     "timestamp": 1758341216726,
     "user": {
      "displayName": "Tushar Raj",
      "userId": "04399146470560759060"
     },
     "user_tz": -330
    },
    "id": "mGnFKK08J8yV",
    "outputId": "119a37fa-156a-4133-afe6-8ced67451549"
   },
   "outputs": [
    {
     "data": {
      "text/plain": [
       "array([[[ -1, 193, 163, 136],\n",
       "        [499, 472, 327, 428],\n",
       "        [185, 168, 232, 478],\n",
       "        [420, 125, 487, 456]],\n",
       "\n",
       "       [[190, 243,  -1, 438],\n",
       "        [349, 464,  -1,  -1],\n",
       "        [139, 492, 403,  -1],\n",
       "        [ -1, 388, 416, 184]],\n",
       "\n",
       "       [[453, 456, 157,  -1],\n",
       "        [478, 429, 477, 446],\n",
       "        [ -1, 354, 462, 492],\n",
       "        [230,  -1, 205, 290]]])"
      ]
     },
     "execution_count": 942,
     "metadata": {},
     "output_type": "execute_result"
    }
   ],
   "source": [
    "data[data<100]=-1\n",
    "data"
   ]
  },
  {
   "cell_type": "markdown",
   "metadata": {
    "id": "FvvN4AqMKf8X"
   },
   "source": [
    "---\n",
    "**Scene 8: Decoding the Cipher**\n",
    "\n",
    "The thieves left a coded message as numbers [65, 66, 67, 68, 69].\n",
    "It maps to ASCII letters.\n",
    "\n",
    "Task:\n",
    "• Create a 1D array of ASCII values.\n"
   ]
  },
  {
   "cell_type": "code",
   "execution_count": 943,
   "metadata": {
    "colab": {
     "base_uri": "https://localhost:8080/"
    },
    "executionInfo": {
     "elapsed": 17,
     "status": "ok",
     "timestamp": 1758341216745,
     "user": {
      "displayName": "Tushar Raj",
      "userId": "04399146470560759060"
     },
     "user_tz": -330
    },
    "id": "LjHPbs-4KnCe",
    "outputId": "94904f40-c977-415e-adf6-73a956ebec41"
   },
   "outputs": [
    {
     "data": {
      "text/plain": [
       "array([65, 66, 67, 68, 69, 70, 71, 72, 73, 74, 75, 76, 77, 78, 79, 80, 81,\n",
       "       82, 83, 84, 85, 86, 87, 88, 89, 90])"
      ]
     },
     "execution_count": 943,
     "metadata": {},
     "output_type": "execute_result"
    }
   ],
   "source": [
    "code = np.array([65,66,67,68,69])\n",
    "data = np.arange(65,91)\n",
    "data"
   ]
  },
  {
   "cell_type": "code",
   "execution_count": 944,
   "metadata": {
    "colab": {
     "base_uri": "https://localhost:8080/"
    },
    "executionInfo": {
     "elapsed": 35,
     "status": "ok",
     "timestamp": 1758341216781,
     "user": {
      "displayName": "Tushar Raj",
      "userId": "04399146470560759060"
     },
     "user_tz": -330
    },
    "id": "o3SXRJhDLOYq",
    "outputId": "c88ae5e7-d9d1-44f9-dafb-2bcc2f046c33"
   },
   "outputs": [
    {
     "data": {
      "text/plain": [
       "array(['A', 'B', 'C', 'D', 'E', 'F', 'G', 'H', 'I', 'J', 'K', 'L', 'M',\n",
       "       'N', 'O', 'P', 'Q', 'R', 'S', 'T', 'U', 'V', 'W', 'X', 'Y', 'Z'],\n",
       "      dtype='<U1')"
      ]
     },
     "execution_count": 944,
     "metadata": {},
     "output_type": "execute_result"
    }
   ],
   "source": [
    "data = np.vectorize(chr)(data)\n",
    "data"
   ]
  },
  {
   "cell_type": "code",
   "execution_count": 945,
   "metadata": {
    "colab": {
     "base_uri": "https://localhost:8080/"
    },
    "executionInfo": {
     "elapsed": 12,
     "status": "ok",
     "timestamp": 1758341216795,
     "user": {
      "displayName": "Tushar Raj",
      "userId": "04399146470560759060"
     },
     "user_tz": -330
    },
    "id": "BL6ReiXq3skc",
    "outputId": "a85489c4-f4dc-4659-e723-ade047e5e034"
   },
   "outputs": [
    {
     "data": {
      "text/plain": [
       "array(['A', 'B', 'C', 'D', 'E'], dtype='<U1')"
      ]
     },
     "execution_count": 945,
     "metadata": {},
     "output_type": "execute_result"
    }
   ],
   "source": [
    "code = np.vectorize(chr)(code)\n",
    "code"
   ]
  },
  {
   "cell_type": "markdown",
   "metadata": {
    "id": "b2X3JyWE4Ub0"
   },
   "source": [
    "---\n",
    "\n",
    "**Scene 9: Narrowing the Suspects**\n",
    "\n",
    "Based on data, only 4 suspects remain.\n",
    "Their data includes height, weight, and age, stored in a 4x3 matrix.\n",
    "\n",
    "Task:\n",
    "• Create the array and label columns as [Height, Weight, Age]"
   ]
  },
  {
   "cell_type": "code",
   "execution_count": 946,
   "metadata": {
    "executionInfo": {
     "elapsed": 1,
     "status": "ok",
     "timestamp": 1758341216798,
     "user": {
      "displayName": "Tushar Raj",
      "userId": "04399146470560759060"
     },
     "user_tz": -330
    },
    "id": "CRkGBVTJ4iOU"
   },
   "outputs": [],
   "source": [
    "data = np.array(\n",
    "      [[65, 76, 24],\n",
    "       [53, 26, 47],\n",
    "       [30, 24, 25],\n",
    "       [77, 83, 38]])"
   ]
  },
  {
   "cell_type": "code",
   "execution_count": 947,
   "metadata": {
    "colab": {
     "base_uri": "https://localhost:8080/",
     "height": 175
    },
    "executionInfo": {
     "elapsed": 81,
     "status": "ok",
     "timestamp": 1758341216880,
     "user": {
      "displayName": "Tushar Raj",
      "userId": "04399146470560759060"
     },
     "user_tz": -330
    },
    "id": "yAWbCJWL6vKC",
    "outputId": "db55c90c-4649-43da-f958-961520dca603"
   },
   "outputs": [
    {
     "data": {
      "application/vnd.google.colaboratory.intrinsic+json": {
       "summary": "{\n  \"name\": \"df\",\n  \"rows\": 4,\n  \"fields\": [\n    {\n      \"column\": \"Height\",\n      \"properties\": {\n        \"dtype\": \"number\",\n        \"std\": 20,\n        \"min\": 30,\n        \"max\": 77,\n        \"num_unique_values\": 4,\n        \"samples\": [\n          53,\n          77,\n          65\n        ],\n        \"semantic_type\": \"\",\n        \"description\": \"\"\n      }\n    },\n    {\n      \"column\": \"Weight\",\n      \"properties\": {\n        \"dtype\": \"number\",\n        \"std\": 31,\n        \"min\": 24,\n        \"max\": 83,\n        \"num_unique_values\": 4,\n        \"samples\": [\n          26,\n          83,\n          76\n        ],\n        \"semantic_type\": \"\",\n        \"description\": \"\"\n      }\n    },\n    {\n      \"column\": \"Age\",\n      \"properties\": {\n        \"dtype\": \"number\",\n        \"std\": 11,\n        \"min\": 24,\n        \"max\": 47,\n        \"num_unique_values\": 4,\n        \"samples\": [\n          47,\n          38,\n          24\n        ],\n        \"semantic_type\": \"\",\n        \"description\": \"\"\n      }\n    }\n  ]\n}",
       "type": "dataframe",
       "variable_name": "df"
      },
      "text/html": [
       "\n",
       "  <div id=\"df-cfb6f3ad-2b91-4b1e-ab75-4e4cb89a1f5b\" class=\"colab-df-container\">\n",
       "    <div>\n",
       "<style scoped>\n",
       "    .dataframe tbody tr th:only-of-type {\n",
       "        vertical-align: middle;\n",
       "    }\n",
       "\n",
       "    .dataframe tbody tr th {\n",
       "        vertical-align: top;\n",
       "    }\n",
       "\n",
       "    .dataframe thead th {\n",
       "        text-align: right;\n",
       "    }\n",
       "</style>\n",
       "<table border=\"1\" class=\"dataframe\">\n",
       "  <thead>\n",
       "    <tr style=\"text-align: right;\">\n",
       "      <th></th>\n",
       "      <th>Height</th>\n",
       "      <th>Weight</th>\n",
       "      <th>Age</th>\n",
       "    </tr>\n",
       "  </thead>\n",
       "  <tbody>\n",
       "    <tr>\n",
       "      <th>0</th>\n",
       "      <td>65</td>\n",
       "      <td>76</td>\n",
       "      <td>24</td>\n",
       "    </tr>\n",
       "    <tr>\n",
       "      <th>1</th>\n",
       "      <td>53</td>\n",
       "      <td>26</td>\n",
       "      <td>47</td>\n",
       "    </tr>\n",
       "    <tr>\n",
       "      <th>2</th>\n",
       "      <td>30</td>\n",
       "      <td>24</td>\n",
       "      <td>25</td>\n",
       "    </tr>\n",
       "    <tr>\n",
       "      <th>3</th>\n",
       "      <td>77</td>\n",
       "      <td>83</td>\n",
       "      <td>38</td>\n",
       "    </tr>\n",
       "  </tbody>\n",
       "</table>\n",
       "</div>\n",
       "    <div class=\"colab-df-buttons\">\n",
       "\n",
       "  <div class=\"colab-df-container\">\n",
       "    <button class=\"colab-df-convert\" onclick=\"convertToInteractive('df-cfb6f3ad-2b91-4b1e-ab75-4e4cb89a1f5b')\"\n",
       "            title=\"Convert this dataframe to an interactive table.\"\n",
       "            style=\"display:none;\">\n",
       "\n",
       "  <svg xmlns=\"http://www.w3.org/2000/svg\" height=\"24px\" viewBox=\"0 -960 960 960\">\n",
       "    <path d=\"M120-120v-720h720v720H120Zm60-500h600v-160H180v160Zm220 220h160v-160H400v160Zm0 220h160v-160H400v160ZM180-400h160v-160H180v160Zm440 0h160v-160H620v160ZM180-180h160v-160H180v160Zm440 0h160v-160H620v160Z\"/>\n",
       "  </svg>\n",
       "    </button>\n",
       "\n",
       "  <style>\n",
       "    .colab-df-container {\n",
       "      display:flex;\n",
       "      gap: 12px;\n",
       "    }\n",
       "\n",
       "    .colab-df-convert {\n",
       "      background-color: #E8F0FE;\n",
       "      border: none;\n",
       "      border-radius: 50%;\n",
       "      cursor: pointer;\n",
       "      display: none;\n",
       "      fill: #1967D2;\n",
       "      height: 32px;\n",
       "      padding: 0 0 0 0;\n",
       "      width: 32px;\n",
       "    }\n",
       "\n",
       "    .colab-df-convert:hover {\n",
       "      background-color: #E2EBFA;\n",
       "      box-shadow: 0px 1px 2px rgba(60, 64, 67, 0.3), 0px 1px 3px 1px rgba(60, 64, 67, 0.15);\n",
       "      fill: #174EA6;\n",
       "    }\n",
       "\n",
       "    .colab-df-buttons div {\n",
       "      margin-bottom: 4px;\n",
       "    }\n",
       "\n",
       "    [theme=dark] .colab-df-convert {\n",
       "      background-color: #3B4455;\n",
       "      fill: #D2E3FC;\n",
       "    }\n",
       "\n",
       "    [theme=dark] .colab-df-convert:hover {\n",
       "      background-color: #434B5C;\n",
       "      box-shadow: 0px 1px 3px 1px rgba(0, 0, 0, 0.15);\n",
       "      filter: drop-shadow(0px 1px 2px rgba(0, 0, 0, 0.3));\n",
       "      fill: #FFFFFF;\n",
       "    }\n",
       "  </style>\n",
       "\n",
       "    <script>\n",
       "      const buttonEl =\n",
       "        document.querySelector('#df-cfb6f3ad-2b91-4b1e-ab75-4e4cb89a1f5b button.colab-df-convert');\n",
       "      buttonEl.style.display =\n",
       "        google.colab.kernel.accessAllowed ? 'block' : 'none';\n",
       "\n",
       "      async function convertToInteractive(key) {\n",
       "        const element = document.querySelector('#df-cfb6f3ad-2b91-4b1e-ab75-4e4cb89a1f5b');\n",
       "        const dataTable =\n",
       "          await google.colab.kernel.invokeFunction('convertToInteractive',\n",
       "                                                    [key], {});\n",
       "        if (!dataTable) return;\n",
       "\n",
       "        const docLinkHtml = 'Like what you see? Visit the ' +\n",
       "          '<a target=\"_blank\" href=https://colab.research.google.com/notebooks/data_table.ipynb>data table notebook</a>'\n",
       "          + ' to learn more about interactive tables.';\n",
       "        element.innerHTML = '';\n",
       "        dataTable['output_type'] = 'display_data';\n",
       "        await google.colab.output.renderOutput(dataTable, element);\n",
       "        const docLink = document.createElement('div');\n",
       "        docLink.innerHTML = docLinkHtml;\n",
       "        element.appendChild(docLink);\n",
       "      }\n",
       "    </script>\n",
       "  </div>\n",
       "\n",
       "\n",
       "    <div id=\"df-282b84f0-cceb-4aaf-ad63-4399ae051a81\">\n",
       "      <button class=\"colab-df-quickchart\" onclick=\"quickchart('df-282b84f0-cceb-4aaf-ad63-4399ae051a81')\"\n",
       "                title=\"Suggest charts\"\n",
       "                style=\"display:none;\">\n",
       "\n",
       "<svg xmlns=\"http://www.w3.org/2000/svg\" height=\"24px\"viewBox=\"0 0 24 24\"\n",
       "     width=\"24px\">\n",
       "    <g>\n",
       "        <path d=\"M19 3H5c-1.1 0-2 .9-2 2v14c0 1.1.9 2 2 2h14c1.1 0 2-.9 2-2V5c0-1.1-.9-2-2-2zM9 17H7v-7h2v7zm4 0h-2V7h2v10zm4 0h-2v-4h2v4z\"/>\n",
       "    </g>\n",
       "</svg>\n",
       "      </button>\n",
       "\n",
       "<style>\n",
       "  .colab-df-quickchart {\n",
       "      --bg-color: #E8F0FE;\n",
       "      --fill-color: #1967D2;\n",
       "      --hover-bg-color: #E2EBFA;\n",
       "      --hover-fill-color: #174EA6;\n",
       "      --disabled-fill-color: #AAA;\n",
       "      --disabled-bg-color: #DDD;\n",
       "  }\n",
       "\n",
       "  [theme=dark] .colab-df-quickchart {\n",
       "      --bg-color: #3B4455;\n",
       "      --fill-color: #D2E3FC;\n",
       "      --hover-bg-color: #434B5C;\n",
       "      --hover-fill-color: #FFFFFF;\n",
       "      --disabled-bg-color: #3B4455;\n",
       "      --disabled-fill-color: #666;\n",
       "  }\n",
       "\n",
       "  .colab-df-quickchart {\n",
       "    background-color: var(--bg-color);\n",
       "    border: none;\n",
       "    border-radius: 50%;\n",
       "    cursor: pointer;\n",
       "    display: none;\n",
       "    fill: var(--fill-color);\n",
       "    height: 32px;\n",
       "    padding: 0;\n",
       "    width: 32px;\n",
       "  }\n",
       "\n",
       "  .colab-df-quickchart:hover {\n",
       "    background-color: var(--hover-bg-color);\n",
       "    box-shadow: 0 1px 2px rgba(60, 64, 67, 0.3), 0 1px 3px 1px rgba(60, 64, 67, 0.15);\n",
       "    fill: var(--button-hover-fill-color);\n",
       "  }\n",
       "\n",
       "  .colab-df-quickchart-complete:disabled,\n",
       "  .colab-df-quickchart-complete:disabled:hover {\n",
       "    background-color: var(--disabled-bg-color);\n",
       "    fill: var(--disabled-fill-color);\n",
       "    box-shadow: none;\n",
       "  }\n",
       "\n",
       "  .colab-df-spinner {\n",
       "    border: 2px solid var(--fill-color);\n",
       "    border-color: transparent;\n",
       "    border-bottom-color: var(--fill-color);\n",
       "    animation:\n",
       "      spin 1s steps(1) infinite;\n",
       "  }\n",
       "\n",
       "  @keyframes spin {\n",
       "    0% {\n",
       "      border-color: transparent;\n",
       "      border-bottom-color: var(--fill-color);\n",
       "      border-left-color: var(--fill-color);\n",
       "    }\n",
       "    20% {\n",
       "      border-color: transparent;\n",
       "      border-left-color: var(--fill-color);\n",
       "      border-top-color: var(--fill-color);\n",
       "    }\n",
       "    30% {\n",
       "      border-color: transparent;\n",
       "      border-left-color: var(--fill-color);\n",
       "      border-top-color: var(--fill-color);\n",
       "      border-right-color: var(--fill-color);\n",
       "    }\n",
       "    40% {\n",
       "      border-color: transparent;\n",
       "      border-right-color: var(--fill-color);\n",
       "      border-top-color: var(--fill-color);\n",
       "    }\n",
       "    60% {\n",
       "      border-color: transparent;\n",
       "      border-right-color: var(--fill-color);\n",
       "    }\n",
       "    80% {\n",
       "      border-color: transparent;\n",
       "      border-right-color: var(--fill-color);\n",
       "      border-bottom-color: var(--fill-color);\n",
       "    }\n",
       "    90% {\n",
       "      border-color: transparent;\n",
       "      border-bottom-color: var(--fill-color);\n",
       "    }\n",
       "  }\n",
       "</style>\n",
       "\n",
       "      <script>\n",
       "        async function quickchart(key) {\n",
       "          const quickchartButtonEl =\n",
       "            document.querySelector('#' + key + ' button');\n",
       "          quickchartButtonEl.disabled = true;  // To prevent multiple clicks.\n",
       "          quickchartButtonEl.classList.add('colab-df-spinner');\n",
       "          try {\n",
       "            const charts = await google.colab.kernel.invokeFunction(\n",
       "                'suggestCharts', [key], {});\n",
       "          } catch (error) {\n",
       "            console.error('Error during call to suggestCharts:', error);\n",
       "          }\n",
       "          quickchartButtonEl.classList.remove('colab-df-spinner');\n",
       "          quickchartButtonEl.classList.add('colab-df-quickchart-complete');\n",
       "        }\n",
       "        (() => {\n",
       "          let quickchartButtonEl =\n",
       "            document.querySelector('#df-282b84f0-cceb-4aaf-ad63-4399ae051a81 button');\n",
       "          quickchartButtonEl.style.display =\n",
       "            google.colab.kernel.accessAllowed ? 'block' : 'none';\n",
       "        })();\n",
       "      </script>\n",
       "    </div>\n",
       "\n",
       "  <div id=\"id_0b5fb465-64ff-4c8e-9471-fe65feaf688a\">\n",
       "    <style>\n",
       "      .colab-df-generate {\n",
       "        background-color: #E8F0FE;\n",
       "        border: none;\n",
       "        border-radius: 50%;\n",
       "        cursor: pointer;\n",
       "        display: none;\n",
       "        fill: #1967D2;\n",
       "        height: 32px;\n",
       "        padding: 0 0 0 0;\n",
       "        width: 32px;\n",
       "      }\n",
       "\n",
       "      .colab-df-generate:hover {\n",
       "        background-color: #E2EBFA;\n",
       "        box-shadow: 0px 1px 2px rgba(60, 64, 67, 0.3), 0px 1px 3px 1px rgba(60, 64, 67, 0.15);\n",
       "        fill: #174EA6;\n",
       "      }\n",
       "\n",
       "      [theme=dark] .colab-df-generate {\n",
       "        background-color: #3B4455;\n",
       "        fill: #D2E3FC;\n",
       "      }\n",
       "\n",
       "      [theme=dark] .colab-df-generate:hover {\n",
       "        background-color: #434B5C;\n",
       "        box-shadow: 0px 1px 3px 1px rgba(0, 0, 0, 0.15);\n",
       "        filter: drop-shadow(0px 1px 2px rgba(0, 0, 0, 0.3));\n",
       "        fill: #FFFFFF;\n",
       "      }\n",
       "    </style>\n",
       "    <button class=\"colab-df-generate\" onclick=\"generateWithVariable('df')\"\n",
       "            title=\"Generate code using this dataframe.\"\n",
       "            style=\"display:none;\">\n",
       "\n",
       "  <svg xmlns=\"http://www.w3.org/2000/svg\" height=\"24px\"viewBox=\"0 0 24 24\"\n",
       "       width=\"24px\">\n",
       "    <path d=\"M7,19H8.4L18.45,9,17,7.55,7,17.6ZM5,21V16.75L18.45,3.32a2,2,0,0,1,2.83,0l1.4,1.43a1.91,1.91,0,0,1,.58,1.4,1.91,1.91,0,0,1-.58,1.4L9.25,21ZM18.45,9,17,7.55Zm-12,3A5.31,5.31,0,0,0,4.9,8.1,5.31,5.31,0,0,0,1,6.5,5.31,5.31,0,0,0,4.9,4.9,5.31,5.31,0,0,0,6.5,1,5.31,5.31,0,0,0,8.1,4.9,5.31,5.31,0,0,0,12,6.5,5.46,5.46,0,0,0,6.5,12Z\"/>\n",
       "  </svg>\n",
       "    </button>\n",
       "    <script>\n",
       "      (() => {\n",
       "      const buttonEl =\n",
       "        document.querySelector('#id_0b5fb465-64ff-4c8e-9471-fe65feaf688a button.colab-df-generate');\n",
       "      buttonEl.style.display =\n",
       "        google.colab.kernel.accessAllowed ? 'block' : 'none';\n",
       "\n",
       "      buttonEl.onclick = () => {\n",
       "        google.colab.notebook.generateWithVariable('df');\n",
       "      }\n",
       "      })();\n",
       "    </script>\n",
       "  </div>\n",
       "\n",
       "    </div>\n",
       "  </div>\n"
      ],
      "text/plain": [
       "   Height  Weight  Age\n",
       "0      65      76   24\n",
       "1      53      26   47\n",
       "2      30      24   25\n",
       "3      77      83   38"
      ]
     },
     "execution_count": 947,
     "metadata": {},
     "output_type": "execute_result"
    }
   ],
   "source": [
    "import pandas as pd\n",
    "\n",
    "df = pd.DataFrame(data,columns=['Height','Weight','Age'])\n",
    "df"
   ]
  },
  {
   "cell_type": "markdown",
   "metadata": {
    "id": "ho9SBPB07Q_x"
   },
   "source": [
    "• Extract suspects with weight > 70 and age < 30."
   ]
  },
  {
   "cell_type": "code",
   "execution_count": 948,
   "metadata": {
    "colab": {
     "base_uri": "https://localhost:8080/"
    },
    "executionInfo": {
     "elapsed": 18,
     "status": "ok",
     "timestamp": 1758341216900,
     "user": {
      "displayName": "Tushar Raj",
      "userId": "04399146470560759060"
     },
     "user_tz": -330
    },
    "id": "fbL1w9aW5NnC",
    "outputId": "403a10be-6a8f-4815-fa48-ead6341443e5"
   },
   "outputs": [
    {
     "data": {
      "text/plain": [
       "array([[65, 76, 24]])"
      ]
     },
     "execution_count": 948,
     "metadata": {},
     "output_type": "execute_result"
    }
   ],
   "source": [
    "data[(data[:,1]>70) & (data[:,-1]<30)]"
   ]
  },
  {
   "cell_type": "markdown",
   "metadata": {
    "id": "7nFsOxh67SM_"
   },
   "source": [
    "---\n",
    "**Scene 10: The Final Chase**\n",
    "\n",
    "CCTV confirms that 2 cars were used in the escape, tracked every 3 hours for 2 days.\n",
    "\n",
    "Task:\n",
    "• Create a 3D array of shape (2, 2, 8) → (cars, days, 8 time slots)."
   ]
  },
  {
   "cell_type": "code",
   "execution_count": 949,
   "metadata": {
    "colab": {
     "base_uri": "https://localhost:8080/"
    },
    "executionInfo": {
     "elapsed": 15,
     "status": "ok",
     "timestamp": 1758341216927,
     "user": {
      "displayName": "Tushar Raj",
      "userId": "04399146470560759060"
     },
     "user_tz": -330
    },
    "id": "MQ5NPBJ37YJ4",
    "outputId": "8ad103e7-bccb-494e-81e9-5bba18312302"
   },
   "outputs": [
    {
     "data": {
      "text/plain": [
       "[array([1, 4]), array([7, 4])]"
      ]
     },
     "execution_count": 949,
     "metadata": {},
     "output_type": "execute_result"
    }
   ],
   "source": [
    "data = np.array(\n",
    "    [[[7, 1, 7, 2, 5, 7, 5, 7],\n",
    "        [3, 4, 4, 4, 3, 4, 1, 9]],\n",
    "\n",
    "       [[6, 1, 2, 1, 8, 7, 7, 6],\n",
    "        [1, 4, 2, 3, 6, 4, 6, 3]]])\n",
    "temp = data.transpose(0,2,1)\n",
    "temp.shape\n",
    "ans = []\n",
    "for i in range(temp.shape[1]):\n",
    "  if np.array_equal(temp[0,i],temp[1,i]):\n",
    "    ans.append(temp[0,i])\n",
    "ans"
   ]
  },
  {
   "cell_type": "markdown",
   "metadata": {
    "id": "xx8qx72m70z-"
   },
   "source": [
    " Transpose it to (2, 8, 2) → (cars, time slots, days)."
   ]
  },
  {
   "cell_type": "code",
   "execution_count": 950,
   "metadata": {
    "colab": {
     "base_uri": "https://localhost:8080/"
    },
    "executionInfo": {
     "elapsed": 11,
     "status": "ok",
     "timestamp": 1758341216977,
     "user": {
      "displayName": "Tushar Raj",
      "userId": "04399146470560759060"
     },
     "user_tz": -330
    },
    "id": "NuR40lor717g",
    "outputId": "235a4d9b-25d0-4958-ed91-07edd1a8fb29"
   },
   "outputs": [
    {
     "data": {
      "text/plain": [
       "(2, 8, 2)"
      ]
     },
     "execution_count": 950,
     "metadata": {},
     "output_type": "execute_result"
    }
   ],
   "source": [
    "temp = data.transpose(0,2,1)\n",
    "temp.shape"
   ]
  },
  {
   "cell_type": "markdown",
   "metadata": {
    "id": "o_C8ZoPy8DlO"
   },
   "source": [
    "Find at which time slot both cars were parked at the same location"
   ]
  },
  {
   "cell_type": "code",
   "execution_count": 951,
   "metadata": {
    "colab": {
     "base_uri": "https://localhost:8080/"
    },
    "executionInfo": {
     "elapsed": 32,
     "status": "ok",
     "timestamp": 1758341217011,
     "user": {
      "displayName": "Tushar Raj",
      "userId": "04399146470560759060"
     },
     "user_tz": -330
    },
    "id": "s283WERj9Pet",
    "outputId": "fb0ed06e-40f6-4f66-a543-6130f05715ea"
   },
   "outputs": [
    {
     "data": {
      "text/plain": [
       "[array([1, 4]), array([7, 4])]"
      ]
     },
     "execution_count": 951,
     "metadata": {},
     "output_type": "execute_result"
    }
   ],
   "source": [
    "ans = []\n",
    "for i in range(temp.shape[1]):\n",
    "  if np.array_equal(temp[0,i],temp[1,i]):\n",
    "    ans.append(temp[0,i])\n",
    "ans"
   ]
  },
  {
   "cell_type": "markdown",
   "metadata": {
    "id": "wBgcmGV3DhQ-"
   },
   "source": [
    "**Detective Story:** **The Mystery of the Stolen Diamonds**\n",
    "\n",
    "**Author: Detective Training Exercise**\n",
    "\n",
    "**Goal: Practice all major NumPy operations through a fun mystery case**.\n"
   ]
  },
  {
   "cell_type": "code",
   "execution_count": 952,
   "metadata": {
    "colab": {
     "base_uri": "https://localhost:8080/"
    },
    "executionInfo": {
     "elapsed": 23,
     "status": "ok",
     "timestamp": 1758341217035,
     "user": {
      "displayName": "Tushar Raj",
      "userId": "04399146470560759060"
     },
     "user_tz": -330
    },
    "id": "rA1hucN2Bhew",
    "outputId": "21f165c0-649d-4d0c-a086-e1487c91b29a"
   },
   "outputs": [
    {
     "name": "stdout",
     "output_type": "stream",
     "text": [
      "️ Scene 1: The Crime Scene\n",
      "Detective Arjun Mehta arrives at a jewelry store in Mumbai. Diamonds have been stolen!\n",
      "The CCTV captured 100 sensor readings (values 0–9).\n",
      "\n",
      "Scene 1 Result → High activity count: 24\n"
     ]
    }
   ],
   "source": [
    "import numpy as np\n",
    "print(\"️ Scene 1: The Crime Scene\")\n",
    "print(\"Detective Arjun Mehta arrives at a jewelry store in Mumbai. Diamonds have been stolen!\")\n",
    "print(\"The CCTV captured 100 sensor readings (values 0–9).\")\n",
    "sensor_data = np.random.randint(0, 10, size=100)\n",
    "high_activity_count = sum(sensor_data>7)\n",
    "print(\"\\nScene 1 Result → High activity count:\",high_activity_count)"
   ]
  },
  {
   "cell_type": "code",
   "execution_count": 953,
   "metadata": {
    "colab": {
     "base_uri": "https://localhost:8080/"
    },
    "executionInfo": {
     "elapsed": 16,
     "status": "ok",
     "timestamp": 1758341217052,
     "user": {
      "displayName": "Tushar Raj",
      "userId": "04399146470560759060"
     },
     "user_tz": -330
    },
    "id": "mh_va3YdCEZ3",
    "outputId": "2857578e-9f6a-4fec-d5ae-7f4bd787fa28"
   },
   "outputs": [
    {
     "name": "stdout",
     "output_type": "stream",
     "text": [
      "\n",
      " Scene 2: Suspect List\n",
      "\n",
      "Inspector Rani Sharma provides a list of 20 suspects with their ages.\n",
      "age in even index  [2, 4, 6, 8, 10, 12, 14, 16, 18, 20]\n",
      "\n",
      "Scene 2 Result → Youngest: 19 Oldest: 59\n"
     ]
    }
   ],
   "source": [
    "print(\"\\n Scene 2: Suspect List\\n\")\n",
    "print(\"Inspector Rani Sharma provides a list of 20 suspects with their ages.\")\n",
    "ages = np.random.randint(18, 60, size=20)\n",
    "even_index_ages = [i for i in range(1,len(ages)+1) if i%2==0]\n",
    "print('age in even index ',even_index_ages)\n",
    "oldest = ages.max()\n",
    "youngest = ages.min()\n",
    "print(\"\\nScene 2 Result → Youngest:\", youngest, \"Oldest:\",oldest)"
   ]
  },
  {
   "cell_type": "markdown",
   "metadata": {
    "id": "unTFnejxDzpD"
   },
   "source": [
    "---"
   ]
  },
  {
   "cell_type": "code",
   "execution_count": 954,
   "metadata": {
    "colab": {
     "base_uri": "https://localhost:8080/"
    },
    "executionInfo": {
     "elapsed": 43,
     "status": "ok",
     "timestamp": 1758341217097,
     "user": {
      "displayName": "Tushar Raj",
      "userId": "04399146470560759060"
     },
     "user_tz": -330
    },
    "id": "3pFgmguKDwoA",
    "outputId": "12c28685-4a28-47ac-dd6e-ba5126e8039e"
   },
   "outputs": [
    {
     "name": "stdout",
     "output_type": "stream",
     "text": [
      "\n",
      " Scene 3: Witness Statement\n",
      "Witness says: 'I saw 5 people entering the store in pairs.'\n",
      "CCTV logs are stored as a 10x2 matrix (entry, exit times).\n"
     ]
    }
   ],
   "source": [
    "print(\"\\n Scene 3: Witness Statement\")\n",
    "print(\"Witness says: 'I saw 5 people entering the store in pairs.'\")\n",
    "print(\"CCTV logs are stored as a 10x2 matrix (entry, exit times).\")\n",
    "cctv_logs = np.random.randint(0, 24, size=(10, 2))\n",
    "\n"
   ]
  },
  {
   "cell_type": "code",
   "execution_count": 955,
   "metadata": {
    "colab": {
     "base_uri": "https://localhost:8080/"
    },
    "executionInfo": {
     "elapsed": 10,
     "status": "ok",
     "timestamp": 1758341217108,
     "user": {
      "displayName": "Tushar Raj",
      "userId": "04399146470560759060"
     },
     "user_tz": -330
    },
    "id": "UhFV7QeTE6Tc",
    "outputId": "8bbb2fbb-876f-4368-f836-c3462a35c9ad"
   },
   "outputs": [
    {
     "name": "stdout",
     "output_type": "stream",
     "text": [
      "avg_entry = 10.6\n",
      "\n",
      "Scene 3 Result → Suspicious visits:\n",
      " [[13 12]\n",
      " [14  3]\n",
      " [10 10]\n",
      " [14  8]\n",
      " [10 14]]\n"
     ]
    }
   ],
   "source": [
    "avg_entry = np.mean(cctv_logs[:,0])\n",
    "print('avg_entry =',avg_entry)\n",
    "quick_visits = cctv_logs[cctv_logs[:,1]< (cctv_logs[:,0]+5)]\n",
    "print(\"\\nScene 3 Result → Suspicious visits:\\n\",quick_visits)"
   ]
  },
  {
   "cell_type": "markdown",
   "metadata": {
    "id": "jcNWUG08DvXg"
   },
   "source": [
    "---"
   ]
  },
  {
   "cell_type": "code",
   "execution_count": 956,
   "metadata": {
    "colab": {
     "base_uri": "https://localhost:8080/"
    },
    "executionInfo": {
     "elapsed": 21,
     "status": "ok",
     "timestamp": 1758341217131,
     "user": {
      "displayName": "Tushar Raj",
      "userId": "04399146470560759060"
     },
     "user_tz": -330
    },
    "id": "lSFFIt4_FXBs",
    "outputId": "247f28df-2d46-4313-ccb6-769af35880cf"
   },
   "outputs": [
    {
     "name": "stdout",
     "output_type": "stream",
     "text": [
      "\n",
      " Scene 4: Car Parking Data\n",
      "Parking lot cameras recorded cars for 7 days, 5 time slots each.\n"
     ]
    }
   ],
   "source": [
    "print(\"\\n Scene 4: Car Parking Data\")\n",
    "print(\"Parking lot cameras recorded cars for 7 days, 5 time slots each.\")\n",
    "cars = np.random.randint(0, 20, size=(7, 5))"
   ]
  },
  {
   "cell_type": "code",
   "execution_count": 957,
   "metadata": {
    "executionInfo": {
     "elapsed": 2,
     "status": "ok",
     "timestamp": 1758341217135,
     "user": {
      "displayName": "Tushar Raj",
      "userId": "04399146470560759060"
     },
     "user_tz": -330
    },
    "id": "zp8Lh5dsFbHb"
   },
   "outputs": [],
   "source": [
    "day_sum=cars.sum(axis=1)\n",
    "max_day = day_sum.max()"
   ]
  },
  {
   "cell_type": "markdown",
   "metadata": {
    "id": "hV0mQW6CF3kD"
   },
   "source": [
    "**TODO: Extract traffic for days [2,4,6] and time slots [1,3]**\n"
   ]
  },
  {
   "cell_type": "code",
   "execution_count": 958,
   "metadata": {
    "colab": {
     "base_uri": "https://localhost:8080/"
    },
    "executionInfo": {
     "elapsed": 27,
     "status": "ok",
     "timestamp": 1758341217164,
     "user": {
      "displayName": "Tushar Raj",
      "userId": "04399146470560759060"
     },
     "user_tz": -330
    },
    "id": "GForSxHLFzcc",
    "outputId": "d68208dd-43d6-4e4a-e8b6-54c5f0e12497"
   },
   "outputs": [
    {
     "name": "stdout",
     "output_type": "stream",
     "text": [
      "\n",
      "Scene 4 Result → Max traffic day: [[ 4 13]\n",
      " [15 12]\n",
      " [13  9]]\n"
     ]
    }
   ],
   "source": [
    "subset_traffic = cars[np.ix_([2,4,6],[1,3])]\n",
    "print(\"\\nScene 4 Result → Max traffic day:\",subset_traffic)\n"
   ]
  },
  {
   "cell_type": "markdown",
   "metadata": {
    "id": "HshmNGsHGV_D"
   },
   "source": [
    "---"
   ]
  },
  {
   "cell_type": "code",
   "execution_count": 959,
   "metadata": {
    "colab": {
     "base_uri": "https://localhost:8080/"
    },
    "executionInfo": {
     "elapsed": 16,
     "status": "ok",
     "timestamp": 1758341217187,
     "user": {
      "displayName": "Tushar Raj",
      "userId": "04399146470560759060"
     },
     "user_tz": -330
    },
    "id": "9tkt6cg7GXti",
    "outputId": "6e5d3baf-96c4-489c-dd84-c273838173ad"
   },
   "outputs": [
    {
     "name": "stdout",
     "output_type": "stream",
     "text": [
      "\n",
      " Scene 5: Suspect Movements\n",
      "GPS coordinates of 3 suspects, 4 days, 2 coords/day.\n"
     ]
    }
   ],
   "source": [
    "print(\"\\n Scene 5: Suspect Movements\")\n",
    "print(\"GPS coordinates of 3 suspects, 4 days, 2 coords/day.\")\n",
    "gps = np.random.randint(0, 100, size=(3, 4, 2))"
   ]
  },
  {
   "cell_type": "markdown",
   "metadata": {
    "id": "LLJnHFuCGpiM"
   },
   "source": [
    "TODO: Transpose to (4,3,2)"
   ]
  },
  {
   "cell_type": "code",
   "execution_count": 960,
   "metadata": {
    "colab": {
     "base_uri": "https://localhost:8080/"
    },
    "executionInfo": {
     "elapsed": 41,
     "status": "ok",
     "timestamp": 1758341217229,
     "user": {
      "displayName": "Tushar Raj",
      "userId": "04399146470560759060"
     },
     "user_tz": -330
    },
    "id": "i7yeDC3bGqLK",
    "outputId": "66f4ac7a-5cd4-4f63-bd0c-c59d4a674f28"
   },
   "outputs": [
    {
     "data": {
      "text/plain": [
       "array([[[23, 91],\n",
       "        [24, 27],\n",
       "        [95, 29]],\n",
       "\n",
       "       [[92,  3],\n",
       "        [10, 19],\n",
       "        [83, 71]],\n",
       "\n",
       "       [[79, 26],\n",
       "        [52,  5],\n",
       "        [51,  5]],\n",
       "\n",
       "       [[16, 53],\n",
       "        [38,  6],\n",
       "        [ 2, 71]]])"
      ]
     },
     "execution_count": 960,
     "metadata": {},
     "output_type": "execute_result"
    }
   ],
   "source": [
    "gps_transposed = gps.transpose(1,0,2)\n",
    "gps_transposed"
   ]
  },
  {
   "cell_type": "markdown",
   "metadata": {
    "id": "ig-PHhkOGxos"
   },
   "source": [
    "TODO: Extract suspect 2 on days [1,3]"
   ]
  },
  {
   "cell_type": "code",
   "execution_count": 961,
   "metadata": {
    "colab": {
     "base_uri": "https://localhost:8080/"
    },
    "executionInfo": {
     "elapsed": 24,
     "status": "ok",
     "timestamp": 1758341217255,
     "user": {
      "displayName": "Tushar Raj",
      "userId": "04399146470560759060"
     },
     "user_tz": -330
    },
    "id": "aVphW_vxGyPj",
    "outputId": "32167615-8d40-462d-f8e0-2eac1c482508"
   },
   "outputs": [
    {
     "name": "stdout",
     "output_type": "stream",
     "text": [
      "\n",
      "Scene 5 Result → Movements of suspect 2:\n",
      " [[[83 71]]\n",
      "\n",
      " [[ 2 71]]]\n"
     ]
    }
   ],
   "source": [
    "suspect2_movements = gps_transposed[np.ix_(\n",
    "    [1,3],\n",
    "     [2],\n",
    "    np.arange(gps_transposed.shape[2])\n",
    "    )]\n",
    "print(\"\\nScene 5 Result → Movements of suspect 2:\\n\",suspect2_movements)"
   ]
  },
  {
   "cell_type": "markdown",
   "metadata": {
    "id": "qIxIvq8QJqm6"
   },
   "source": [
    "---"
   ]
  },
  {
   "cell_type": "code",
   "execution_count": 962,
   "metadata": {
    "colab": {
     "base_uri": "https://localhost:8080/"
    },
    "executionInfo": {
     "elapsed": 17,
     "status": "ok",
     "timestamp": 1758341217283,
     "user": {
      "displayName": "Tushar Raj",
      "userId": "04399146470560759060"
     },
     "user_tz": -330
    },
    "id": "ETrrrhn_Jrkz",
    "outputId": "027fea35-34e7-4f3a-d6e8-d215cc2c002d"
   },
   "outputs": [
    {
     "name": "stdout",
     "output_type": "stream",
     "text": [
      "\n",
      "️ Scene 6: Hidden Transactions\n",
      "Financial records of 5 suspects, 6 months.\n"
     ]
    },
    {
     "data": {
      "text/plain": [
       "array([[77733, 46699, 45316, 81050, 75325, 71103],\n",
       "       [86019, 57136, 22473, 64685, 94362, 97955],\n",
       "       [84537, 28935, 27585, 65548, 31333, 88100],\n",
       "       [21352, 71161, 96196, 63327, 33530, 76241],\n",
       "       [77090, 60611, 74223, 60225, 21509, 72106]])"
      ]
     },
     "execution_count": 962,
     "metadata": {},
     "output_type": "execute_result"
    }
   ],
   "source": [
    "print(\"\\n️ Scene 6: Hidden Transactions\")\n",
    "print(\"Financial records of 5 suspects, 6 months.\")\n",
    "transactions = np.random.randint(20000, 100000, size=(5, 6))\n",
    "transactions"
   ]
  },
  {
   "cell_type": "markdown",
   "metadata": {
    "id": "GDWXJ686JwGH"
   },
   "source": [
    "TODO: Find suspects with avg spending > 50,000"
   ]
  },
  {
   "cell_type": "code",
   "execution_count": 963,
   "metadata": {
    "colab": {
     "base_uri": "https://localhost:8080/"
    },
    "executionInfo": {
     "elapsed": 27,
     "status": "ok",
     "timestamp": 1758341217311,
     "user": {
      "displayName": "Tushar Raj",
      "userId": "04399146470560759060"
     },
     "user_tz": -330
    },
    "id": "DB5Zi4NHJyRp",
    "outputId": "c74581e8-1ee3-4c6f-f11c-843cbfbb717b"
   },
   "outputs": [
    {
     "name": "stdout",
     "output_type": "stream",
     "text": [
      "\n",
      "Scene 6 Result → Big spenders:\n",
      " [[77733 46699 45316 81050 75325 71103]\n",
      " [86019 57136 22473 64685 94362 97955]\n",
      " [84537 28935 27585 65548 31333 88100]\n",
      " [21352 71161 96196 63327 33530 76241]\n",
      " [77090 60611 74223 60225 21509 72106]]\n"
     ]
    }
   ],
   "source": [
    "big_spenders = transactions[transactions.mean(axis=1)>50000,:]\n",
    "print(\"\\nScene 6 Result → Big spenders:\\n\", big_spenders)"
   ]
  },
  {
   "cell_type": "markdown",
   "metadata": {
    "id": "oYsYR-q3NJZ8"
   },
   "source": [
    "TODO: Extract suspects [1,3] months [2,4]"
   ]
  },
  {
   "cell_type": "code",
   "execution_count": 964,
   "metadata": {
    "executionInfo": {
     "elapsed": 1,
     "status": "ok",
     "timestamp": 1758341217368,
     "user": {
      "displayName": "Tushar Raj",
      "userId": "04399146470560759060"
     },
     "user_tz": -330
    },
    "id": "fOq-trEANJ_5"
   },
   "outputs": [],
   "source": [
    "special_tx = transactions[np.ix_([1,3],[2,4])]"
   ]
  },
  {
   "cell_type": "markdown",
   "metadata": {
    "id": "lIE-iLRTLF26"
   },
   "source": [
    "---"
   ]
  },
  {
   "cell_type": "code",
   "execution_count": 965,
   "metadata": {
    "colab": {
     "base_uri": "https://localhost:8080/"
    },
    "executionInfo": {
     "elapsed": 19,
     "status": "ok",
     "timestamp": 1758341217389,
     "user": {
      "displayName": "Tushar Raj",
      "userId": "04399146470560759060"
     },
     "user_tz": -330
    },
    "id": "2g4SUXRaJyPd",
    "outputId": "98486091-cd9e-49cd-b2f4-e5e13cb77e1c"
   },
   "outputs": [
    {
     "name": "stdout",
     "output_type": "stream",
     "text": [
      "\n",
      " Scene 7: Fingerprint Evidence\n"
     ]
    },
    {
     "data": {
      "text/plain": [
       "array([[[230, 239, 183, 206],\n",
       "        [ 31,  99,  73, 179],\n",
       "        [177, 235,  26, 130],\n",
       "        [212, 176, 254, 131]],\n",
       "\n",
       "       [[ 52, 183, 248, 136],\n",
       "        [239,  77,  44, 223],\n",
       "        [231, 168, 163, 213],\n",
       "        [ 13, 122,  65, 195]],\n",
       "\n",
       "       [[231, 243, 157,  49],\n",
       "        [146, 208, 206, 184],\n",
       "        [173, 119,  43, 156],\n",
       "        [144, 201,  62, 105]]])"
      ]
     },
     "execution_count": 965,
     "metadata": {},
     "output_type": "execute_result"
    }
   ],
   "source": [
    "print(\"\\n Scene 7: Fingerprint Evidence\")\n",
    "(\"3 fingerprint scans as 4x4 images.\")\n",
    "fingerprints = np.random.randint(0, 255, size=(3, 4, 4))\n",
    "fingerprints"
   ]
  },
  {
   "cell_type": "markdown",
   "metadata": {
    "id": "KNAWuu1jNgBd"
   },
   "source": [
    "TODO: Extract center 2x2 region of each image"
   ]
  },
  {
   "cell_type": "code",
   "execution_count": 966,
   "metadata": {
    "colab": {
     "base_uri": "https://localhost:8080/"
    },
    "executionInfo": {
     "elapsed": 19,
     "status": "ok",
     "timestamp": 1758341217409,
     "user": {
      "displayName": "Tushar Raj",
      "userId": "04399146470560759060"
     },
     "user_tz": -330
    },
    "id": "fM8GUjoZOezY",
    "outputId": "3ec311a2-0f16-4bec-8ff3-44d33dc943d5"
   },
   "outputs": [
    {
     "data": {
      "text/plain": [
       "array([[[ 99,  73],\n",
       "        [235,  26]],\n",
       "\n",
       "       [[ 77,  44],\n",
       "        [168, 163]],\n",
       "\n",
       "       [[208, 206],\n",
       "        [119,  43]]])"
      ]
     },
     "execution_count": 966,
     "metadata": {},
     "output_type": "execute_result"
    }
   ],
   "source": [
    "centers = fingerprints[np.ix_(np.arange(fingerprints.shape[0]),[1,2],[1,2])]\n",
    "centers"
   ]
  },
  {
   "cell_type": "code",
   "execution_count": 967,
   "metadata": {
    "colab": {
     "base_uri": "https://localhost:8080/"
    },
    "executionInfo": {
     "elapsed": 19,
     "status": "ok",
     "timestamp": 1758341217429,
     "user": {
      "displayName": "Tushar Raj",
      "userId": "04399146470560759060"
     },
     "user_tz": -330
    },
    "id": "TFLY5TpcNgkq",
    "outputId": "d74eb63b-4f83-473c-ae19-5bd43f267867"
   },
   "outputs": [
    {
     "data": {
      "text/plain": [
       "array([[[230, 239, 183, 206],\n",
       "        [  0,   0,   0, 179],\n",
       "        [177, 235,   0, 130],\n",
       "        [212, 176, 254, 131]],\n",
       "\n",
       "       [[  0, 183, 248, 136],\n",
       "        [239,   0,   0, 223],\n",
       "        [231, 168, 163, 213],\n",
       "        [  0, 122,   0, 195]],\n",
       "\n",
       "       [[231, 243, 157,   0],\n",
       "        [146, 208, 206, 184],\n",
       "        [173, 119,   0, 156],\n",
       "        [144, 201,   0, 105]]])"
      ]
     },
     "execution_count": 967,
     "metadata": {},
     "output_type": "execute_result"
    }
   ],
   "source": [
    "centers = fingerprints[np.ix_(np.arange(fingerprints.shape[0]),[1,2],[1,2])]\n",
    "fingerprints[fingerprints<100] = 0\n",
    "cleaned_fingerprints = fingerprints\n",
    "cleaned_fingerprints"
   ]
  },
  {
   "cell_type": "markdown",
   "metadata": {
    "id": "qiijjq07Om3A"
   },
   "source": [
    "---\n"
   ]
  },
  {
   "cell_type": "code",
   "execution_count": 968,
   "metadata": {
    "colab": {
     "base_uri": "https://localhost:8080/"
    },
    "executionInfo": {
     "elapsed": 15,
     "status": "ok",
     "timestamp": 1758341217445,
     "user": {
      "displayName": "Tushar Raj",
      "userId": "04399146470560759060"
     },
     "user_tz": -330
    },
    "id": "BVon9QOvOoYq",
    "outputId": "bdfe8e90-3a46-40f7-9b2f-1ee503c6962a"
   },
   "outputs": [
    {
     "name": "stdout",
     "output_type": "stream",
     "text": [
      "\n",
      " Scene 8: Decoding the Cipher\n",
      "A coded message: [65, 66, 67, 68, 69]\n"
     ]
    }
   ],
   "source": [
    "print(\"\\n Scene 8: Decoding the Cipher\")\n",
    "print(\"A coded message: [65, 66, 67, 68, 69]\")\n",
    "cipher = np.array([65, 66, 67, 68, 69])\n"
   ]
  },
  {
   "cell_type": "markdown",
   "metadata": {
    "id": "pTrgs0boOs_i"
   },
   "source": [
    "TODO: Convert to characters\n"
   ]
  },
  {
   "cell_type": "code",
   "execution_count": 969,
   "metadata": {
    "colab": {
     "base_uri": "https://localhost:8080/"
    },
    "executionInfo": {
     "elapsed": 11,
     "status": "ok",
     "timestamp": 1758341217458,
     "user": {
      "displayName": "Tushar Raj",
      "userId": "04399146470560759060"
     },
     "user_tz": -330
    },
    "id": "-Nh0DsH3Or6h",
    "outputId": "2cceb97d-0ddd-48b9-b8b0-25c957b91e58"
   },
   "outputs": [
    {
     "name": "stdout",
     "output_type": "stream",
     "text": [
      "\n",
      "Scene 8 Result → Secret message: ['A' 'B' 'C' 'D' 'E']\n"
     ]
    }
   ],
   "source": [
    "message = np.vectorize(chr)(cipher)\n",
    "print(\"\\nScene 8 Result → Secret message:\",message)"
   ]
  },
  {
   "cell_type": "markdown",
   "metadata": {
    "id": "sDW-kTCiO2aC"
   },
   "source": [
    "---\n"
   ]
  },
  {
   "cell_type": "code",
   "execution_count": 970,
   "metadata": {
    "colab": {
     "base_uri": "https://localhost:8080/"
    },
    "executionInfo": {
     "elapsed": 57,
     "status": "ok",
     "timestamp": 1758341217517,
     "user": {
      "displayName": "Tushar Raj",
      "userId": "04399146470560759060"
     },
     "user_tz": -330
    },
    "id": "0i-rqk9dO4Qi",
    "outputId": "5d3cac14-6118-4aae-e596-e2443a9d8709"
   },
   "outputs": [
    {
     "name": "stdout",
     "output_type": "stream",
     "text": [
      "\n",
      " Scene 9: Narrowing the Suspects\n",
      "Remaining 4 suspects: Height, Weight, Age\n"
     ]
    },
    {
     "data": {
      "text/plain": [
       "array([[81, 39, 87],\n",
       "       [45, 66, 43],\n",
       "       [72, 36, 47],\n",
       "       [61, 71, 58]])"
      ]
     },
     "execution_count": 970,
     "metadata": {},
     "output_type": "execute_result"
    }
   ],
   "source": [
    "print(\"\\n Scene 9: Narrowing the Suspects\")\n",
    "print(\"Remaining 4 suspects: Height, Weight, Age\")\n",
    "suspects_data = np.random.randint(20, 100, size=(4, 3))\n",
    "suspects_data"
   ]
  },
  {
   "cell_type": "markdown",
   "metadata": {
    "id": "nYVeLkgFO8Od"
   },
   "source": [
    "TODO: Extract suspects with weight > 70 and age < 30\n"
   ]
  },
  {
   "cell_type": "code",
   "execution_count": 971,
   "metadata": {
    "colab": {
     "base_uri": "https://localhost:8080/"
    },
    "executionInfo": {
     "elapsed": 26,
     "status": "ok",
     "timestamp": 1758341217544,
     "user": {
      "displayName": "Tushar Raj",
      "userId": "04399146470560759060"
     },
     "user_tz": -330
    },
    "id": "jZxL6AIpPTnB",
    "outputId": "ef4b0eaf-4fb9-448d-bb5d-b5b45c3a55c8"
   },
   "outputs": [
    {
     "name": "stdout",
     "output_type": "stream",
     "text": [
      "\n",
      "Scene 9 Result → Filtered suspects:\n",
      " []\n"
     ]
    }
   ],
   "source": [
    "filtered_suspects = suspects_data[(suspects_data[:,1]>70)&(suspects_data[:,2]<30)]\n",
    "print(\"\\nScene 9 Result → Filtered suspects:\\n\", filtered_suspects)"
   ]
  },
  {
   "cell_type": "markdown",
   "metadata": {
    "id": "eSFQmiY9Pu4g"
   },
   "source": [
    "---"
   ]
  },
  {
   "cell_type": "code",
   "execution_count": 972,
   "metadata": {
    "colab": {
     "base_uri": "https://localhost:8080/"
    },
    "executionInfo": {
     "elapsed": 28,
     "status": "ok",
     "timestamp": 1758341217574,
     "user": {
      "displayName": "Tushar Raj",
      "userId": "04399146470560759060"
     },
     "user_tz": -330
    },
    "id": "JOm7bgMhO7La",
    "outputId": "f6a83917-c7c9-4846-bd73-73bd0413ba42"
   },
   "outputs": [
    {
     "name": "stdout",
     "output_type": "stream",
     "text": [
      "\n",
      "️ Scene 10: The Final Chase\n",
      "2 cars tracked every 3 hours for 2 days → shape (2,2,8)\n"
     ]
    }
   ],
   "source": [
    "print(\"\\n️ Scene 10: The Final Chase\")\n",
    "print(\"2 cars tracked every 3 hours for 2 days → shape (2,2,8)\")\n",
    "cars_tracking = np.random.randint(0, 50, size=(2, 2, 8))\n"
   ]
  },
  {
   "cell_type": "markdown",
   "metadata": {
    "id": "iS4g3q9CP1vE"
   },
   "source": [
    "TODO: Transpose to (2,8,2)\n"
   ]
  },
  {
   "cell_type": "code",
   "execution_count": 973,
   "metadata": {
    "colab": {
     "base_uri": "https://localhost:8080/"
    },
    "executionInfo": {
     "elapsed": 45,
     "status": "ok",
     "timestamp": 1758341217620,
     "user": {
      "displayName": "Tushar Raj",
      "userId": "04399146470560759060"
     },
     "user_tz": -330
    },
    "id": "vLobTYs5P2Uf",
    "outputId": "184ab0ba-003d-4ae4-9b88-0ff3f3b3fa1f"
   },
   "outputs": [
    {
     "data": {
      "text/plain": [
       "(2, 2, 8)"
      ]
     },
     "execution_count": 973,
     "metadata": {},
     "output_type": "execute_result"
    }
   ],
   "source": [
    "cars_transposed = cars_tracking.transpose(0,2,1)\n",
    "cars_tracking.shape\n"
   ]
  },
  {
   "cell_type": "code",
   "execution_count": 974,
   "metadata": {
    "colab": {
     "base_uri": "https://localhost:8080/"
    },
    "executionInfo": {
     "elapsed": 10,
     "status": "ok",
     "timestamp": 1758341217631,
     "user": {
      "displayName": "Tushar Raj",
      "userId": "04399146470560759060"
     },
     "user_tz": -330
    },
    "id": "x9-9rGBWQVew",
    "outputId": "5eae3fab-f319-4ccc-df13-6cc75d16893b"
   },
   "outputs": [
    {
     "name": "stdout",
     "output_type": "stream",
     "text": [
      "\n",
      "Scene 10 Result → Same location times: [np.int64(4), np.int64(4)]\n"
     ]
    }
   ],
   "source": [
    "same_location_times = []\n",
    "for i in range(temp.shape[1]):\n",
    "  if np.array_equal(temp[0,i],temp[1,i]):\n",
    "    same_location_times.append(temp[0,i][1])\n",
    "\n",
    "print(\"\\nScene 10 Result → Same location times:\", same_location_times)"
   ]
  },
  {
   "cell_type": "markdown",
   "metadata": {
    "id": "rz9id1KcQ7lH"
   },
   "source": [
    "---\n"
   ]
  },
  {
   "cell_type": "code",
   "execution_count": 975,
   "metadata": {
    "colab": {
     "base_uri": "https://localhost:8080/"
    },
    "executionInfo": {
     "elapsed": 30,
     "status": "ok",
     "timestamp": 1758341217662,
     "user": {
      "displayName": "Tushar Raj",
      "userId": "04399146470560759060"
     },
     "user_tz": -330
    },
    "id": "IwrGwYNFQ-Ha",
    "outputId": "769b4b0a-253c-4586-86fe-f59a270d6b8c"
   },
   "outputs": [
    {
     "name": "stdout",
     "output_type": "stream",
     "text": [
      "\n",
      "️ Final Verdict\n",
      "Combine results to reveal the PRIME SUSPECT!\n"
     ]
    }
   ],
   "source": [
    "print(\"\\n️ Final Verdict\")\n",
    "print(\"Combine results to reveal the PRIME SUSPECT!\")"
   ]
  },
  {
   "cell_type": "markdown",
   "metadata": {
    "id": "dPzfYmYTQ9gr"
   },
   "source": [
    "TODO: Combine logic → pick suspect ID based on patterns"
   ]
  },
  {
   "cell_type": "code",
   "execution_count": 976,
   "metadata": {
    "colab": {
     "base_uri": "https://localhost:8080/"
    },
    "executionInfo": {
     "elapsed": 22,
     "status": "ok",
     "timestamp": 1758341217685,
     "user": {
      "displayName": "Tushar Raj",
      "userId": "04399146470560759060"
     },
     "user_tz": -330
    },
    "id": "k1-H5FTmRMDv",
    "outputId": "7efef115-0322-4569-eee0-f711e23a66a0"
   },
   "outputs": [
    {
     "name": "stdout",
     "output_type": "stream",
     "text": [
      "\n",
      " The Prime Suspect is: ???\n"
     ]
    }
   ],
   "source": [
    "print(\"\\n The Prime Suspect is:\", \"???\")"
   ]
  },
  {
   "cell_type": "code",
   "execution_count": 977,
   "metadata": {
    "executionInfo": {
     "elapsed": 2,
     "status": "ok",
     "timestamp": 1758341217699,
     "user": {
      "displayName": "Tushar Raj",
      "userId": "04399146470560759060"
     },
     "user_tz": -330
    },
    "id": "Pd0Ww4grRXkS"
   },
   "outputs": [],
   "source": [
    "# high_activity_count\n",
    "# even_index_ages\n",
    "# youngest\n",
    "# oldest\n",
    "# avg_entry\n",
    "# quick_visits\n",
    "# max_day\n",
    "# subset_traffic\n",
    "# gps_transposed\n",
    "# suspect2_movements\n",
    "# big_spenders\n",
    "# special_tx\n",
    "# centers\n",
    "# fingerprints_clean\n",
    "# message\n",
    "# filtered_suspects\n",
    "# cars_transposed\n",
    "# same_location_times\n",
    "# prime_suspect"
   ]
  }
 ],
 "metadata": {
  "colab": {
   "authorship_tag": "ABX9TyM+ZwDQAFztAZpz71bb1I3B",
   "provenance": []
  },
  "kernelspec": {
   "display_name": "PDV",
   "language": "python",
   "name": "python3"
  },
  "language_info": {
   "codemirror_mode": {
    "name": "ipython",
    "version": 3
   },
   "file_extension": ".py",
   "mimetype": "text/x-python",
   "name": "python",
   "nbconvert_exporter": "python",
   "pygments_lexer": "ipython3",
   "version": "3.13.7"
  }
 },
 "nbformat": 4,
 "nbformat_minor": 0
}
